{
 "cells": [
  {
   "cell_type": "markdown",
   "id": "6ad317f0-4f58-4e02-92d8-89ab5ee8e34b",
   "metadata": {},
   "source": [
    "# Strategies 102: Pair Trading"
   ]
  },
  {
   "cell_type": "code",
   "execution_count": null,
   "id": "66a982ab-74e1-417a-89b8-7ef922410ace",
   "metadata": {},
   "outputs": [],
   "source": []
  }
 ],
 "metadata": {
  "kernelspec": {
   "display_name": "Python 3 (ipykernel)",
   "language": "python",
   "name": "python3"
  },
  "language_info": {
   "codemirror_mode": {
    "name": "ipython",
    "version": 3
   },
   "file_extension": ".py",
   "mimetype": "text/x-python",
   "name": "python",
   "nbconvert_exporter": "python",
   "pygments_lexer": "ipython3",
   "version": "3.11.5"
  }
 },
 "nbformat": 4,
 "nbformat_minor": 5
}
