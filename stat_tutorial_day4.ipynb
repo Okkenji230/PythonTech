{
 "cells": [
  {
   "cell_type": "markdown",
   "metadata": {},
   "source": [
    "# データ解析基礎講座　四日目　テーマ：回帰分析"
   ]
  },
  {
   "cell_type": "markdown",
   "metadata": {},
   "source": [
    "## 散布図に回帰直線を重ねる"
   ]
  },
  {
   "cell_type": "markdown",
   "metadata": {},
   "source": [
    "ある２つの変量の散布図を描いた時、そこに近似線を加えることはよくあります。この近似線は通常「最小二乗法」で求められたもので、この計算を統計学では「回帰分析」といいます。まず、例題のデータを読み込みます。"
   ]
  },
  {
   "cell_type": "code",
   "execution_count": 1,
   "metadata": {},
   "outputs": [
    {
     "data": {
      "text/html": [
       "<div>\n",
       "<style scoped>\n",
       "    .dataframe tbody tr th:only-of-type {\n",
       "        vertical-align: middle;\n",
       "    }\n",
       "\n",
       "    .dataframe tbody tr th {\n",
       "        vertical-align: top;\n",
       "    }\n",
       "\n",
       "    .dataframe thead th {\n",
       "        text-align: right;\n",
       "    }\n",
       "</style>\n",
       "<table border=\"1\" class=\"dataframe\">\n",
       "  <thead>\n",
       "    <tr style=\"text-align: right;\">\n",
       "      <th></th>\n",
       "      <th>県名</th>\n",
       "      <th>実収入</th>\n",
       "      <th>世帯主収入</th>\n",
       "      <th>消費支出</th>\n",
       "      <th>食料費割合</th>\n",
       "      <th>住居費割合</th>\n",
       "      <th>光熱・水道費割合</th>\n",
       "      <th>家具・家事用品費割合</th>\n",
       "      <th>被服及び履物費割合</th>\n",
       "      <th>保健医療費割合</th>\n",
       "    </tr>\n",
       "    <tr>\n",
       "      <th>コード</th>\n",
       "      <th></th>\n",
       "      <th></th>\n",
       "      <th></th>\n",
       "      <th></th>\n",
       "      <th></th>\n",
       "      <th></th>\n",
       "      <th></th>\n",
       "      <th></th>\n",
       "      <th></th>\n",
       "      <th></th>\n",
       "    </tr>\n",
       "  </thead>\n",
       "  <tbody>\n",
       "    <tr>\n",
       "      <th>1</th>\n",
       "      <td>北 海 道</td>\n",
       "      <td>529.9</td>\n",
       "      <td>422.7</td>\n",
       "      <td>287.3</td>\n",
       "      <td>24.2</td>\n",
       "      <td>5.9</td>\n",
       "      <td>8.5</td>\n",
       "      <td>3.3</td>\n",
       "      <td>3.9</td>\n",
       "      <td>4.3</td>\n",
       "    </tr>\n",
       "    <tr>\n",
       "      <th>2</th>\n",
       "      <td>青 森 県</td>\n",
       "      <td>442.9</td>\n",
       "      <td>333.4</td>\n",
       "      <td>236.8</td>\n",
       "      <td>29.2</td>\n",
       "      <td>4.0</td>\n",
       "      <td>11.3</td>\n",
       "      <td>4.1</td>\n",
       "      <td>3.3</td>\n",
       "      <td>4.2</td>\n",
       "    </tr>\n",
       "    <tr>\n",
       "      <th>3</th>\n",
       "      <td>岩 手 県</td>\n",
       "      <td>522.9</td>\n",
       "      <td>403.5</td>\n",
       "      <td>289.0</td>\n",
       "      <td>24.6</td>\n",
       "      <td>5.2</td>\n",
       "      <td>8.7</td>\n",
       "      <td>3.7</td>\n",
       "      <td>3.8</td>\n",
       "      <td>5.1</td>\n",
       "    </tr>\n",
       "    <tr>\n",
       "      <th>4</th>\n",
       "      <td>宮 城 県</td>\n",
       "      <td>419.9</td>\n",
       "      <td>341.5</td>\n",
       "      <td>281.0</td>\n",
       "      <td>26.4</td>\n",
       "      <td>6.5</td>\n",
       "      <td>7.8</td>\n",
       "      <td>4.0</td>\n",
       "      <td>4.1</td>\n",
       "      <td>5.1</td>\n",
       "    </tr>\n",
       "    <tr>\n",
       "      <th>5</th>\n",
       "      <td>秋 田 県</td>\n",
       "      <td>459.0</td>\n",
       "      <td>343.4</td>\n",
       "      <td>255.2</td>\n",
       "      <td>25.6</td>\n",
       "      <td>5.4</td>\n",
       "      <td>9.6</td>\n",
       "      <td>3.7</td>\n",
       "      <td>3.1</td>\n",
       "      <td>5.4</td>\n",
       "    </tr>\n",
       "  </tbody>\n",
       "</table>\n",
       "</div>"
      ],
      "text/plain": [
       "        県名    実収入  世帯主収入   消費支出  食料費割合  住居費割合  光熱・水道費割合  家具・家事用品費割合  \\\n",
       "コード                                                                   \n",
       "1    北 海 道  529.9  422.7  287.3   24.2    5.9       8.5         3.3   \n",
       "2    青 森 県  442.9  333.4  236.8   29.2    4.0      11.3         4.1   \n",
       "3    岩 手 県  522.9  403.5  289.0   24.6    5.2       8.7         3.7   \n",
       "4    宮 城 県  419.9  341.5  281.0   26.4    6.5       7.8         4.0   \n",
       "5    秋 田 県  459.0  343.4  255.2   25.6    5.4       9.6         3.7   \n",
       "\n",
       "     被服及び履物費割合  保健医療費割合  \n",
       "コード                      \n",
       "1          3.9      4.3  \n",
       "2          3.3      4.2  \n",
       "3          3.8      5.1  \n",
       "4          4.1      5.1  \n",
       "5          3.1      5.4  "
      ]
     },
     "execution_count": 1,
     "metadata": {},
     "output_type": "execute_result"
    }
   ],
   "source": [
    "import pandas as pd\n",
    "df1 = pd.read_excel('データ解析講座四日目演習.xlsx', sheet_name='家計指標', index_col=0)\n",
    "df1.head()"
   ]
  },
  {
   "cell_type": "markdown",
   "metadata": {},
   "source": [
    "次に、「実収入」と「消費支出」をそれぞれリストx,yに格納します。"
   ]
  },
  {
   "cell_type": "code",
   "execution_count": 2,
   "metadata": {},
   "outputs": [],
   "source": [
    "# リストx,yに値を格納する\n",
    "x = df1['実収入'].values\n",
    "y = df1['消費支出'].values"
   ]
  },
  {
   "cell_type": "markdown",
   "metadata": {},
   "source": [
    "多項式の近似式は、np.polyfit()で求めます。この場合は直線なので多項式の次数は1です。ここでは、切片（定数項）をa, 傾きをbとします。そして、ベクトルxの線形変換でベクトルzを求めます。"
   ]
  },
  {
   "cell_type": "code",
   "execution_count": 3,
   "metadata": {},
   "outputs": [],
   "source": [
    "import numpy as np\n",
    "# 多項式近似関数polyfit()で近似直線を求める\n",
    "b, a = np.polyfit(x, y, 1)\n",
    "z = a + b * x"
   ]
  },
  {
   "cell_type": "markdown",
   "metadata": {},
   "source": [
    "そして、matplotlibのscatterで散布図を描き、plotで近似直線を描きます。近似式は近似直線のラベルとして指定します。"
   ]
  },
  {
   "cell_type": "code",
   "execution_count": 4,
   "metadata": {},
   "outputs": [
    {
     "data": {
      "text/plain": [
       "<matplotlib.legend.Legend at 0x243216a3eb0>"
      ]
     },
     "execution_count": 4,
     "metadata": {},
     "output_type": "execute_result"
    },
    {
     "data": {
      "image/png": "[encoded data removed]",
      "text/plain": [
       "<Figure size 432x288 with 1 Axes>"
      ]
     },
     "metadata": {
      "needs_background": "light"
     },
     "output_type": "display_data"
    }
   ],
   "source": [
    "import matplotlib.pyplot as plt\n",
    "# matplotlibで日本語表示を可能にする\n",
    "from matplotlib import rcParams\n",
    "rcParams['font.family']='MS Gothic'\n",
    "# グラフオブジェクトを定義する\n",
    "fig = plt.figure()\n",
    "ax = fig.add_subplot(111)\n",
    "# 散布図を描く\n",
    "ax.scatter(x,y)\n",
    "# 回帰線を描く\n",
    "ax.plot(x,z,color='black',label='y={:.2f}+{:.2f}*x'.format(a,b))\n",
    "# タイトル類を設定する\n",
    "ax.set_title('都道府県別の実収入と消費支出')\n",
    "ax.set_xlabel('実収入（千円）')\n",
    "ax.set_ylabel('消費支出（千円）')\n",
    "ax.legend()"
   ]
  },
  {
   "cell_type": "markdown",
   "metadata": {},
   "source": [
    "（マクロ的に）実収入が1円上がると消費支出が0.33円高くなる傾向にあることを示しています。"
   ]
  },
  {
   "cell_type": "markdown",
   "metadata": {},
   "source": [
    "## 重回帰分析"
   ]
  },
  {
   "cell_type": "markdown",
   "metadata": {},
   "source": [
    "説明変数が2つ以上ある回帰分析を「重回帰分析」といいます。ここでは、都道府県別の経済基盤指標のデータを用いて、一人あたり県民所得に影響する要因を探ります。まずデータを読み込みます。"
   ]
  },
  {
   "cell_type": "code",
   "execution_count": 5,
   "metadata": {},
   "outputs": [
    {
     "data": {
      "text/html": [
       "<div>\n",
       "<style scoped>\n",
       "    .dataframe tbody tr th:only-of-type {\n",
       "        vertical-align: middle;\n",
       "    }\n",
       "\n",
       "    .dataframe tbody tr th {\n",
       "        vertical-align: top;\n",
       "    }\n",
       "\n",
       "    .dataframe thead th {\n",
       "        text-align: right;\n",
       "    }\n",
       "</style>\n",
       "<table border=\"1\" class=\"dataframe\">\n",
       "  <thead>\n",
       "    <tr style=\"text-align: right;\">\n",
       "      <th></th>\n",
       "      <th>県名</th>\n",
       "      <th>一人当たり県民所得</th>\n",
       "      <th>第二次産業事業所数構成比</th>\n",
       "      <th>第三次産業事業所数構成比</th>\n",
       "      <th>小規模事業所数割合</th>\n",
       "      <th>中規模事業所数割合</th>\n",
       "      <th>大規模事業所数割合</th>\n",
       "      <th>小規模事業所従業員割合</th>\n",
       "      <th>中規模事業所従業員割合</th>\n",
       "      <th>大規模事業所従業員割合</th>\n",
       "      <th>就業者一人当たり農業産出額</th>\n",
       "      <th>耕地面積比率</th>\n",
       "      <th>土地生産性</th>\n",
       "      <th>耕地面積</th>\n",
       "    </tr>\n",
       "    <tr>\n",
       "      <th>コード</th>\n",
       "      <th></th>\n",
       "      <th></th>\n",
       "      <th></th>\n",
       "      <th></th>\n",
       "      <th></th>\n",
       "      <th></th>\n",
       "      <th></th>\n",
       "      <th></th>\n",
       "      <th></th>\n",
       "      <th></th>\n",
       "      <th></th>\n",
       "      <th></th>\n",
       "      <th></th>\n",
       "      <th></th>\n",
       "    </tr>\n",
       "  </thead>\n",
       "  <tbody>\n",
       "    <tr>\n",
       "      <th>1</th>\n",
       "      <td>北海道</td>\n",
       "      <td>2589</td>\n",
       "      <td>14.03</td>\n",
       "      <td>84.07</td>\n",
       "      <td>57.10</td>\n",
       "      <td>0.82</td>\n",
       "      <td>0.15</td>\n",
       "      <td>12.51</td>\n",
       "      <td>13.26</td>\n",
       "      <td>8.95</td>\n",
       "      <td>1254.7</td>\n",
       "      <td>14.6</td>\n",
       "      <td>105.7</td>\n",
       "      <td>257691.4</td>\n",
       "    </tr>\n",
       "    <tr>\n",
       "      <th>2</th>\n",
       "      <td>青森県</td>\n",
       "      <td>2462</td>\n",
       "      <td>14.73</td>\n",
       "      <td>84.06</td>\n",
       "      <td>59.90</td>\n",
       "      <td>0.69</td>\n",
       "      <td>0.09</td>\n",
       "      <td>14.27</td>\n",
       "      <td>12.34</td>\n",
       "      <td>5.43</td>\n",
       "      <td>497.5</td>\n",
       "      <td>15.7</td>\n",
       "      <td>211.5</td>\n",
       "      <td>33831.3</td>\n",
       "    </tr>\n",
       "    <tr>\n",
       "      <th>3</th>\n",
       "      <td>岩手県</td>\n",
       "      <td>2760</td>\n",
       "      <td>15.87</td>\n",
       "      <td>82.62</td>\n",
       "      <td>58.32</td>\n",
       "      <td>0.69</td>\n",
       "      <td>0.12</td>\n",
       "      <td>13.35</td>\n",
       "      <td>11.75</td>\n",
       "      <td>7.19</td>\n",
       "      <td>370.8</td>\n",
       "      <td>9.9</td>\n",
       "      <td>173.0</td>\n",
       "      <td>22768.9</td>\n",
       "    </tr>\n",
       "    <tr>\n",
       "      <th>4</th>\n",
       "      <td>宮城県</td>\n",
       "      <td>2987</td>\n",
       "      <td>15.94</td>\n",
       "      <td>83.41</td>\n",
       "      <td>54.34</td>\n",
       "      <td>0.84</td>\n",
       "      <td>0.19</td>\n",
       "      <td>11.50</td>\n",
       "      <td>12.67</td>\n",
       "      <td>10.31</td>\n",
       "      <td>339.3</td>\n",
       "      <td>17.5</td>\n",
       "      <td>143.4</td>\n",
       "      <td>24412.6</td>\n",
       "    </tr>\n",
       "    <tr>\n",
       "      <th>5</th>\n",
       "      <td>秋田県</td>\n",
       "      <td>2420</td>\n",
       "      <td>17.76</td>\n",
       "      <td>80.73</td>\n",
       "      <td>61.25</td>\n",
       "      <td>0.59</td>\n",
       "      <td>0.10</td>\n",
       "      <td>14.65</td>\n",
       "      <td>10.94</td>\n",
       "      <td>7.44</td>\n",
       "      <td>318.3</td>\n",
       "      <td>12.7</td>\n",
       "      <td>117.1</td>\n",
       "      <td>30215.3</td>\n",
       "    </tr>\n",
       "  </tbody>\n",
       "</table>\n",
       "</div>"
      ],
      "text/plain": [
       "      県名  一人当たり県民所得  第二次産業事業所数構成比  第三次産業事業所数構成比  小規模事業所数割合  中規模事業所数割合  \\\n",
       "コード                                                                     \n",
       "1    北海道       2589         14.03         84.07      57.10       0.82   \n",
       "2    青森県       2462         14.73         84.06      59.90       0.69   \n",
       "3    岩手県       2760         15.87         82.62      58.32       0.69   \n",
       "4    宮城県       2987         15.94         83.41      54.34       0.84   \n",
       "5    秋田県       2420         17.76         80.73      61.25       0.59   \n",
       "\n",
       "     大規模事業所数割合  小規模事業所従業員割合  中規模事業所従業員割合  大規模事業所従業員割合  就業者一人当たり農業産出額  耕地面積比率  \\\n",
       "コード                                                                            \n",
       "1         0.15        12.51        13.26         8.95         1254.7    14.6   \n",
       "2         0.09        14.27        12.34         5.43          497.5    15.7   \n",
       "3         0.12        13.35        11.75         7.19          370.8     9.9   \n",
       "4         0.19        11.50        12.67        10.31          339.3    17.5   \n",
       "5         0.10        14.65        10.94         7.44          318.3    12.7   \n",
       "\n",
       "     土地生産性      耕地面積  \n",
       "コード                   \n",
       "1    105.7  257691.4  \n",
       "2    211.5   33831.3  \n",
       "3    173.0   22768.9  \n",
       "4    143.4   24412.6  \n",
       "5    117.1   30215.3  "
      ]
     },
     "execution_count": 5,
     "metadata": {},
     "output_type": "execute_result"
    }
   ],
   "source": [
    "df2 = pd.read_excel('データ解析講座四日目演習.xlsx', sheet_name='経済基盤指標', index_col=0)\n",
    "df2.head()"
   ]
  },
  {
   "cell_type": "markdown",
   "metadata": {},
   "source": [
    "ここでは、「一人当たり県民所得」を「第二次産業事業所数構成比」「大規模事業所数割合」「耕地面積比率」で説明する回帰分析を実施します。回帰分析をpythonで実施する方法はいくつかありますが、ここではstatsmodels.formula.apiを用います。回帰モデルの式は、'被説明変数~説明変数1+説明変数2+...+説明変数k'という形で文字列として与えます。変数名は日本語でもよいですが、ここでは全角の数字でエラーが出たため、あらかじめ漢数字に変えてあります。"
   ]
  },
  {
   "cell_type": "code",
   "execution_count": 6,
   "metadata": {},
   "outputs": [
    {
     "data": {
      "text/html": [
       "<table class=\"simpletable\">\n",
       "<caption>OLS Regression Results</caption>\n",
       "<tr>\n",
       "  <th>Dep. Variable:</th>        <td>一人当たり県民所得</td>    <th>  R-squared:         </th> <td>   0.730</td>\n",
       "</tr>\n",
       "<tr>\n",
       "  <th>Model:</th>                   <td>OLS</td>       <th>  Adj. R-squared:    </th> <td>   0.711</td>\n",
       "</tr>\n",
       "<tr>\n",
       "  <th>Method:</th>             <td>Least Squares</td>  <th>  F-statistic:       </th> <td>   38.74</td>\n",
       "</tr>\n",
       "<tr>\n",
       "  <th>Date:</th>             <td>Fri, 09 Sep 2022</td> <th>  Prob (F-statistic):</th> <td>2.74e-12</td>\n",
       "</tr>\n",
       "<tr>\n",
       "  <th>Time:</th>                 <td>14:51:56</td>     <th>  Log-Likelihood:    </th> <td> -328.13</td>\n",
       "</tr>\n",
       "<tr>\n",
       "  <th>No. Observations:</th>      <td>    47</td>      <th>  AIC:               </th> <td>   664.3</td>\n",
       "</tr>\n",
       "<tr>\n",
       "  <th>Df Residuals:</th>          <td>    43</td>      <th>  BIC:               </th> <td>   671.7</td>\n",
       "</tr>\n",
       "<tr>\n",
       "  <th>Df Model:</th>              <td>     3</td>      <th>                     </th>     <td> </td>   \n",
       "</tr>\n",
       "<tr>\n",
       "  <th>Covariance Type:</th>      <td>nonrobust</td>    <th>                     </th>     <td> </td>   \n",
       "</tr>\n",
       "</table>\n",
       "<table class=\"simpletable\">\n",
       "<tr>\n",
       "        <td></td>          <th>coef</th>     <th>std err</th>      <th>t</th>      <th>P>|t|</th>  <th>[0.025</th>    <th>0.975]</th>  \n",
       "</tr>\n",
       "<tr>\n",
       "  <th>Intercept</th>    <td> 1303.0481</td> <td>  266.289</td> <td>    4.893</td> <td> 0.000</td> <td>  766.025</td> <td> 1840.072</td>\n",
       "</tr>\n",
       "<tr>\n",
       "  <th>第二次産業事業所数構成比</th> <td>   40.0421</td> <td>   13.249</td> <td>    3.022</td> <td> 0.004</td> <td>   13.323</td> <td>   66.761</td>\n",
       "</tr>\n",
       "<tr>\n",
       "  <th>大規模事業所数割合</th>    <td> 5913.8876</td> <td>  587.254</td> <td>   10.070</td> <td> 0.000</td> <td> 4729.577</td> <td> 7098.198</td>\n",
       "</tr>\n",
       "<tr>\n",
       "  <th>耕地面積比率</th>       <td>  -14.4503</td> <td>    7.530</td> <td>   -1.919</td> <td> 0.062</td> <td>  -29.636</td> <td>    0.735</td>\n",
       "</tr>\n",
       "</table>\n",
       "<table class=\"simpletable\">\n",
       "<tr>\n",
       "  <th>Omnibus:</th>       <td> 0.797</td> <th>  Durbin-Watson:     </th> <td>   2.176</td>\n",
       "</tr>\n",
       "<tr>\n",
       "  <th>Prob(Omnibus):</th> <td> 0.671</td> <th>  Jarque-Bera (JB):  </th> <td>   0.727</td>\n",
       "</tr>\n",
       "<tr>\n",
       "  <th>Skew:</th>          <td> 0.287</td> <th>  Prob(JB):          </th> <td>   0.695</td>\n",
       "</tr>\n",
       "<tr>\n",
       "  <th>Kurtosis:</th>      <td> 2.797</td> <th>  Cond. No.          </th> <td>    325.</td>\n",
       "</tr>\n",
       "</table><br/><br/>Notes:<br/>[1] Standard Errors assume that the covariance matrix of the errors is correctly specified."
      ],
      "text/plain": [
       "<class 'statsmodels.iolib.summary.Summary'>\n",
       "\"\"\"\n",
       "                            OLS Regression Results                            \n",
       "==============================================================================\n",
       "Dep. Variable:              一人当たり県民所得   R-squared:                       0.730\n",
       "Model:                            OLS   Adj. R-squared:                  0.711\n",
       "Method:                 Least Squares   F-statistic:                     38.74\n",
       "Date:                Fri, 09 Sep 2022   Prob (F-statistic):           2.74e-12\n",
       "Time:                        14:51:56   Log-Likelihood:                -328.13\n",
       "No. Observations:                  47   AIC:                             664.3\n",
       "Df Residuals:                      43   BIC:                             671.7\n",
       "Df Model:                           3                                         \n",
       "Covariance Type:            nonrobust                                         \n",
       "================================================================================\n",
       "                   coef    std err          t      P>|t|      [0.025      0.975]\n",
       "--------------------------------------------------------------------------------\n",
       "Intercept     1303.0481    266.289      4.893      0.000     766.025    1840.072\n",
       "第二次産業事業所数構成比    40.0421     13.249      3.022      0.004      13.323      66.761\n",
       "大規模事業所数割合     5913.8876    587.254     10.070      0.000    4729.577    7098.198\n",
       "耕地面積比率         -14.4503      7.530     -1.919      0.062     -29.636       0.735\n",
       "==============================================================================\n",
       "Omnibus:                        0.797   Durbin-Watson:                   2.176\n",
       "Prob(Omnibus):                  0.671   Jarque-Bera (JB):                0.727\n",
       "Skew:                           0.287   Prob(JB):                        0.695\n",
       "Kurtosis:                       2.797   Cond. No.                         325.\n",
       "==============================================================================\n",
       "\n",
       "Notes:\n",
       "[1] Standard Errors assume that the covariance matrix of the errors is correctly specified.\n",
       "\"\"\""
      ]
     },
     "execution_count": 6,
     "metadata": {},
     "output_type": "execute_result"
    }
   ],
   "source": [
    "# ライブラリをインポートする\n",
    "import statsmodels.formula.api as smf\n",
    "# 回帰式を定義する\n",
    "expr = '一人当たり県民所得 ~ 第二次産業事業所数構成比 + 大規模事業所数割合 + 耕地面積比率'\n",
    "# 回帰分析を実行し、結果を表示する\n",
    "results = smf.ols(expr, data=df2).fit()\n",
    "results.summary()"
   ]
  },
  {
   "cell_type": "markdown",
   "metadata": {},
   "source": [
    "上から二番目の表の'coef'欄の数字が回帰係数です。回帰係数は「他の説明変数が全て一定であるとして、その説明変数を1単位大きくしたら、被説明変数がどのくらい変化するか」を表したものです。ただし回帰係数は説明変数の分布のスケールに依存します。例えば上記の説明変数はいずれもパーセントですが、これを単なる比率（最大値1）で表したデータを用いると、回帰係数は100倍になります。つまり回帰係数の大きさでその説明変数の影響の度合いを評価することはできません。回帰係数の影響の大きさは、二番目の表の't'欄にあるt-統計量で評価します。t-統計量は回帰係数がゼロであるという帰無仮説に対する検定統計量で、't'欄の右隣の'P>|t|'欄の値は、回帰係数がゼロであるという帰無仮説のもとでt統計量の絶対値がその値より大きくなる確率を示します。通常の判定基準では、'P>|t|'欄の値が0.05以下であれば、回帰係数は有意にゼロから離れている、つまりその説明変数の影響は有意に大きい、ということが言えます。"
   ]
  },
  {
   "cell_type": "markdown",
   "metadata": {},
   "source": [
    "上記の分析結果では、「第二次産業事業所数構成比」「大規模事業所数割合」ともに'P>|t|'欄の値が0.05以下なので、一人当たり県民所得に有意に影響しているといえます。「耕地面積比率」のP値は0.062で、ぎりぎりで有意とは言えない程度の影響の大きさになっています。また「耕地面積比率」の回帰係数は負なので、（「第二次産業事業所数構成比」「大規模事業所数割合」が同じだとして）耕地面積比率が大きい県ほど一人当たり県民所得は低い傾向があります。"
   ]
  },
  {
   "cell_type": "markdown",
   "metadata": {},
   "source": [
    "## ロジスティック回帰分析"
   ]
  },
  {
   "cell_type": "markdown",
   "metadata": {},
   "source": [
    "ロジスティック回帰分析は、被説明変数が二値データの場合の回帰分析です。まず、例題として用いるデータ（広告効果の分析）を読み込みます。データの出典は、https://www.kaggle.com/dragonheir/logistic-regression です。"
   ]
  },
  {
   "cell_type": "code",
   "execution_count": 7,
   "metadata": {},
   "outputs": [
    {
     "data": {
      "text/html": [
       "<div>\n",
       "<style scoped>\n",
       "    .dataframe tbody tr th:only-of-type {\n",
       "        vertical-align: middle;\n",
       "    }\n",
       "\n",
       "    .dataframe tbody tr th {\n",
       "        vertical-align: top;\n",
       "    }\n",
       "\n",
       "    .dataframe thead th {\n",
       "        text-align: right;\n",
       "    }\n",
       "</style>\n",
       "<table border=\"1\" class=\"dataframe\">\n",
       "  <thead>\n",
       "    <tr style=\"text-align: right;\">\n",
       "      <th></th>\n",
       "      <th>Gender</th>\n",
       "      <th>Age</th>\n",
       "      <th>EstimatedSalary</th>\n",
       "      <th>Purchased</th>\n",
       "    </tr>\n",
       "    <tr>\n",
       "      <th>User ID</th>\n",
       "      <th></th>\n",
       "      <th></th>\n",
       "      <th></th>\n",
       "      <th></th>\n",
       "    </tr>\n",
       "  </thead>\n",
       "  <tbody>\n",
       "    <tr>\n",
       "      <th>15624510</th>\n",
       "      <td>Male</td>\n",
       "      <td>19</td>\n",
       "      <td>19000</td>\n",
       "      <td>0</td>\n",
       "    </tr>\n",
       "    <tr>\n",
       "      <th>15810944</th>\n",
       "      <td>Male</td>\n",
       "      <td>35</td>\n",
       "      <td>20000</td>\n",
       "      <td>0</td>\n",
       "    </tr>\n",
       "    <tr>\n",
       "      <th>15668575</th>\n",
       "      <td>Female</td>\n",
       "      <td>26</td>\n",
       "      <td>43000</td>\n",
       "      <td>0</td>\n",
       "    </tr>\n",
       "    <tr>\n",
       "      <th>15603246</th>\n",
       "      <td>Female</td>\n",
       "      <td>27</td>\n",
       "      <td>57000</td>\n",
       "      <td>0</td>\n",
       "    </tr>\n",
       "    <tr>\n",
       "      <th>15804002</th>\n",
       "      <td>Male</td>\n",
       "      <td>19</td>\n",
       "      <td>76000</td>\n",
       "      <td>0</td>\n",
       "    </tr>\n",
       "  </tbody>\n",
       "</table>\n",
       "</div>"
      ],
      "text/plain": [
       "          Gender  Age  EstimatedSalary  Purchased\n",
       "User ID                                          \n",
       "15624510    Male   19            19000          0\n",
       "15810944    Male   35            20000          0\n",
       "15668575  Female   26            43000          0\n",
       "15603246  Female   27            57000          0\n",
       "15804002    Male   19            76000          0"
      ]
     },
     "execution_count": 7,
     "metadata": {},
     "output_type": "execute_result"
    }
   ],
   "source": [
    "df3 = pd.read_excel('データ解析講座四日目演習.xlsx', sheet_name='Social_Network_Ads', index_col=0)\n",
    "df3.head()"
   ]
  },
  {
   "cell_type": "markdown",
   "metadata": {},
   "source": [
    "'Purchased'（購入した=1,購入しない=0）が被説明変数で、'Gender','Age','EstimatedSalary'を説明変数とします。Gender（性別）は二値のカテゴリカル変数なので、「女性」をベースとして男性のダミー変数を設けます。"
   ]
  },
  {
   "cell_type": "code",
   "execution_count": 8,
   "metadata": {
    "scrolled": true
   },
   "outputs": [
    {
     "data": {
      "text/html": [
       "<div>\n",
       "<style scoped>\n",
       "    .dataframe tbody tr th:only-of-type {\n",
       "        vertical-align: middle;\n",
       "    }\n",
       "\n",
       "    .dataframe tbody tr th {\n",
       "        vertical-align: top;\n",
       "    }\n",
       "\n",
       "    .dataframe thead th {\n",
       "        text-align: right;\n",
       "    }\n",
       "</style>\n",
       "<table border=\"1\" class=\"dataframe\">\n",
       "  <thead>\n",
       "    <tr style=\"text-align: right;\">\n",
       "      <th></th>\n",
       "      <th>Age</th>\n",
       "      <th>EstimatedSalary</th>\n",
       "      <th>Purchased</th>\n",
       "      <th>Gender_Male</th>\n",
       "    </tr>\n",
       "    <tr>\n",
       "      <th>User ID</th>\n",
       "      <th></th>\n",
       "      <th></th>\n",
       "      <th></th>\n",
       "      <th></th>\n",
       "    </tr>\n",
       "  </thead>\n",
       "  <tbody>\n",
       "    <tr>\n",
       "      <th>15624510</th>\n",
       "      <td>19</td>\n",
       "      <td>19000</td>\n",
       "      <td>0</td>\n",
       "      <td>1</td>\n",
       "    </tr>\n",
       "    <tr>\n",
       "      <th>15810944</th>\n",
       "      <td>35</td>\n",
       "      <td>20000</td>\n",
       "      <td>0</td>\n",
       "      <td>1</td>\n",
       "    </tr>\n",
       "    <tr>\n",
       "      <th>15668575</th>\n",
       "      <td>26</td>\n",
       "      <td>43000</td>\n",
       "      <td>0</td>\n",
       "      <td>0</td>\n",
       "    </tr>\n",
       "    <tr>\n",
       "      <th>15603246</th>\n",
       "      <td>27</td>\n",
       "      <td>57000</td>\n",
       "      <td>0</td>\n",
       "      <td>0</td>\n",
       "    </tr>\n",
       "    <tr>\n",
       "      <th>15804002</th>\n",
       "      <td>19</td>\n",
       "      <td>76000</td>\n",
       "      <td>0</td>\n",
       "      <td>1</td>\n",
       "    </tr>\n",
       "  </tbody>\n",
       "</table>\n",
       "</div>"
      ],
      "text/plain": [
       "          Age  EstimatedSalary  Purchased  Gender_Male\n",
       "User ID                                               \n",
       "15624510   19            19000          0            1\n",
       "15810944   35            20000          0            1\n",
       "15668575   26            43000          0            0\n",
       "15603246   27            57000          0            0\n",
       "15804002   19            76000          0            1"
      ]
     },
     "execution_count": 8,
     "metadata": {},
     "output_type": "execute_result"
    }
   ],
   "source": [
    "df4 = pd.get_dummies(df3, drop_first=True, columns=['Gender'])\n",
    "df4.head()"
   ]
  },
  {
   "cell_type": "markdown",
   "metadata": {},
   "source": [
    "準備が整いましたのでロジスティック回帰分析を実施します。上の回帰分析と同様にstatsmodels.formula.apiを用います。基本的には'smf.ols'の部分を'smf.logit'に変えるだけです。"
   ]
  },
  {
   "cell_type": "code",
   "execution_count": 9,
   "metadata": {},
   "outputs": [
    {
     "name": "stdout",
     "output_type": "stream",
     "text": [
      "Optimization terminated successfully.\n",
      "         Current function value: 0.344804\n",
      "         Iterations 8\n"
     ]
    },
    {
     "data": {
      "text/html": [
       "<table class=\"simpletable\">\n",
       "<caption>Logit Regression Results</caption>\n",
       "<tr>\n",
       "  <th>Dep. Variable:</th>       <td>Purchased</td>    <th>  No. Observations:  </th>  <td>   400</td>  \n",
       "</tr>\n",
       "<tr>\n",
       "  <th>Model:</th>                 <td>Logit</td>      <th>  Df Residuals:      </th>  <td>   396</td>  \n",
       "</tr>\n",
       "<tr>\n",
       "  <th>Method:</th>                 <td>MLE</td>       <th>  Df Model:          </th>  <td>     3</td>  \n",
       "</tr>\n",
       "<tr>\n",
       "  <th>Date:</th>            <td>Fri, 09 Sep 2022</td> <th>  Pseudo R-squ.:     </th>  <td>0.4711</td>  \n",
       "</tr>\n",
       "<tr>\n",
       "  <th>Time:</th>                <td>14:55:43</td>     <th>  Log-Likelihood:    </th> <td> -137.92</td> \n",
       "</tr>\n",
       "<tr>\n",
       "  <th>converged:</th>             <td>True</td>       <th>  LL-Null:           </th> <td> -260.79</td> \n",
       "</tr>\n",
       "<tr>\n",
       "  <th>Covariance Type:</th>     <td>nonrobust</td>    <th>  LLR p-value:       </th> <td>5.488e-53</td>\n",
       "</tr>\n",
       "</table>\n",
       "<table class=\"simpletable\">\n",
       "<tr>\n",
       "         <td></td>            <th>coef</th>     <th>std err</th>      <th>z</th>      <th>P>|z|</th>  <th>[0.025</th>    <th>0.975]</th>  \n",
       "</tr>\n",
       "<tr>\n",
       "  <th>Intercept</th>       <td>  -12.7836</td> <td>    1.359</td> <td>   -9.405</td> <td> 0.000</td> <td>  -15.448</td> <td>  -10.120</td>\n",
       "</tr>\n",
       "<tr>\n",
       "  <th>EstimatedSalary</th> <td> 3.644e-05</td> <td> 5.47e-06</td> <td>    6.659</td> <td> 0.000</td> <td> 2.57e-05</td> <td> 4.72e-05</td>\n",
       "</tr>\n",
       "<tr>\n",
       "  <th>Gender_Male</th>     <td>    0.3338</td> <td>    0.305</td> <td>    1.094</td> <td> 0.274</td> <td>   -0.264</td> <td>    0.932</td>\n",
       "</tr>\n",
       "<tr>\n",
       "  <th>Age</th>             <td>    0.2370</td> <td>    0.026</td> <td>    8.984</td> <td> 0.000</td> <td>    0.185</td> <td>    0.289</td>\n",
       "</tr>\n",
       "</table>"
      ],
      "text/plain": [
       "<class 'statsmodels.iolib.summary.Summary'>\n",
       "\"\"\"\n",
       "                           Logit Regression Results                           \n",
       "==============================================================================\n",
       "Dep. Variable:              Purchased   No. Observations:                  400\n",
       "Model:                          Logit   Df Residuals:                      396\n",
       "Method:                           MLE   Df Model:                            3\n",
       "Date:                Fri, 09 Sep 2022   Pseudo R-squ.:                  0.4711\n",
       "Time:                        14:55:43   Log-Likelihood:                -137.92\n",
       "converged:                       True   LL-Null:                       -260.79\n",
       "Covariance Type:            nonrobust   LLR p-value:                 5.488e-53\n",
       "===================================================================================\n",
       "                      coef    std err          z      P>|z|      [0.025      0.975]\n",
       "-----------------------------------------------------------------------------------\n",
       "Intercept         -12.7836      1.359     -9.405      0.000     -15.448     -10.120\n",
       "EstimatedSalary  3.644e-05   5.47e-06      6.659      0.000    2.57e-05    4.72e-05\n",
       "Gender_Male         0.3338      0.305      1.094      0.274      -0.264       0.932\n",
       "Age                 0.2370      0.026      8.984      0.000       0.185       0.289\n",
       "===================================================================================\n",
       "\"\"\""
      ]
     },
     "execution_count": 9,
     "metadata": {},
     "output_type": "execute_result"
    }
   ],
   "source": [
    "# 回帰式を定義する\n",
    "expr = 'Purchased ~ EstimatedSalary + Gender_Male + Age'\n",
    "# ロジスティック回帰分析を実行し、結果を表示する\n",
    "results2 = smf.logit(expr, data=df4).fit()\n",
    "results2.summary()"
   ]
  },
  {
   "cell_type": "markdown",
   "metadata": {},
   "source": [
    "'EstimatedSalary'（給与所得）が高いほど購買が有意に増えています。性別による差はあまりないようです。年齢が高くなるほど購買は有意に多くなっています。"
   ]
  }
 ],
 "metadata": {
  "kernelspec": {
   "display_name": "Python 3 (ipykernel)",
   "language": "python",
   "name": "python3"
  },
  "language_info": {
   "codemirror_mode": {
    "name": "ipython",
    "version": 3
   },
   "file_extension": ".py",
   "mimetype": "text/x-python",
   "name": "python",
   "nbconvert_exporter": "python",
   "pygments_lexer": "ipython3",
   "version": "3.9.12"
  },
  "toc": {
   "base_numbering": 1,
   "nav_menu": {},
   "number_sections": true,
   "sideBar": true,
   "skip_h1_title": false,
   "title_cell": "Table of Contents",
   "title_sidebar": "Contents",
   "toc_cell": false,
   "toc_position": {},
   "toc_section_display": true,
   "toc_window_display": false
  },
  "varInspector": {
   "cols": {
    "lenName": 16,
    "lenType": 16,
    "lenVar": 40
   },
   "kernels_config": {
    "python": {
     "delete_cmd_postfix": "",
     "delete_cmd_prefix": "del ",
     "library": "var_list.py",
     "varRefreshCmd": "print(var_dic_list())"
    },
    "r": {
     "delete_cmd_postfix": ") ",
     "delete_cmd_prefix": "rm(",
     "library": "var_list.r",
     "varRefreshCmd": "cat(var_dic_list()) "
    }
   },
   "types_to_exclude": [
    "module",
    "function",
    "builtin_function_or_method",
    "instance",
    "_Feature"
   ],
   "window_display": false
  }
 },
 "nbformat": 4,
 "nbformat_minor": 4
}
