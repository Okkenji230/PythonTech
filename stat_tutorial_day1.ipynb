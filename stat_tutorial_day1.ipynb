{
 "cells": [
  {
   "cell_type": "markdown",
   "metadata": {},
   "source": [
    "# データ解析基礎講座　一日目　テーマ：データの分布の様子をみる"
   ]
  },
  {
   "cell_type": "markdown",
   "metadata": {},
   "source": [
    "## ヒストグラム"
   ]
  },
  {
   "cell_type": "markdown",
   "metadata": {},
   "source": [
    "定量データの分布の様子を見る最も一般的な方法はヒストグラムを描くことです。\n",
    "まず今回例題として用いる「都道府県別家計指標データ」を読み込み、データの先頭部分を表示させます。"
   ]
  },
  {
   "cell_type": "code",
   "execution_count": 1,
   "metadata": {},
   "outputs": [
    {
     "data": {
      "text/html": [
       "<div>\n",
       "<style scoped>\n",
       "    .dataframe tbody tr th:only-of-type {\n",
       "        vertical-align: middle;\n",
       "    }\n",
       "\n",
       "    .dataframe tbody tr th {\n",
       "        vertical-align: top;\n",
       "    }\n",
       "\n",
       "    .dataframe thead th {\n",
       "        text-align: right;\n",
       "    }\n",
       "</style>\n",
       "<table border=\"1\" class=\"dataframe\">\n",
       "  <thead>\n",
       "    <tr style=\"text-align: right;\">\n",
       "      <th></th>\n",
       "      <th>県名</th>\n",
       "      <th>実収入</th>\n",
       "      <th>世帯主収入</th>\n",
       "      <th>消費支出</th>\n",
       "      <th>食料費割合</th>\n",
       "      <th>住居費割合</th>\n",
       "      <th>光熱・水道費割合</th>\n",
       "      <th>家具・家事用品費割合</th>\n",
       "      <th>被服及び履物費割合</th>\n",
       "      <th>保健医療費割合</th>\n",
       "    </tr>\n",
       "    <tr>\n",
       "      <th>コード</th>\n",
       "      <th></th>\n",
       "      <th></th>\n",
       "      <th></th>\n",
       "      <th></th>\n",
       "      <th></th>\n",
       "      <th></th>\n",
       "      <th></th>\n",
       "      <th></th>\n",
       "      <th></th>\n",
       "      <th></th>\n",
       "    </tr>\n",
       "  </thead>\n",
       "  <tbody>\n",
       "    <tr>\n",
       "      <th>1</th>\n",
       "      <td>北 海 道</td>\n",
       "      <td>529.9</td>\n",
       "      <td>422.7</td>\n",
       "      <td>287.3</td>\n",
       "      <td>24.2</td>\n",
       "      <td>5.9</td>\n",
       "      <td>8.5</td>\n",
       "      <td>3.3</td>\n",
       "      <td>3.9</td>\n",
       "      <td>4.3</td>\n",
       "    </tr>\n",
       "    <tr>\n",
       "      <th>2</th>\n",
       "      <td>青 森 県</td>\n",
       "      <td>442.9</td>\n",
       "      <td>333.4</td>\n",
       "      <td>236.8</td>\n",
       "      <td>29.2</td>\n",
       "      <td>4.0</td>\n",
       "      <td>11.3</td>\n",
       "      <td>4.1</td>\n",
       "      <td>3.3</td>\n",
       "      <td>4.2</td>\n",
       "    </tr>\n",
       "    <tr>\n",
       "      <th>3</th>\n",
       "      <td>岩 手 県</td>\n",
       "      <td>522.9</td>\n",
       "      <td>403.5</td>\n",
       "      <td>289.0</td>\n",
       "      <td>24.6</td>\n",
       "      <td>5.2</td>\n",
       "      <td>8.7</td>\n",
       "      <td>3.7</td>\n",
       "      <td>3.8</td>\n",
       "      <td>5.1</td>\n",
       "    </tr>\n",
       "    <tr>\n",
       "      <th>4</th>\n",
       "      <td>宮 城 県</td>\n",
       "      <td>419.9</td>\n",
       "      <td>341.5</td>\n",
       "      <td>281.0</td>\n",
       "      <td>26.4</td>\n",
       "      <td>6.5</td>\n",
       "      <td>7.8</td>\n",
       "      <td>4.0</td>\n",
       "      <td>4.1</td>\n",
       "      <td>5.1</td>\n",
       "    </tr>\n",
       "    <tr>\n",
       "      <th>5</th>\n",
       "      <td>秋 田 県</td>\n",
       "      <td>459.0</td>\n",
       "      <td>343.4</td>\n",
       "      <td>255.2</td>\n",
       "      <td>25.6</td>\n",
       "      <td>5.4</td>\n",
       "      <td>9.6</td>\n",
       "      <td>3.7</td>\n",
       "      <td>3.1</td>\n",
       "      <td>5.4</td>\n",
       "    </tr>\n",
       "  </tbody>\n",
       "</table>\n",
       "</div>"
      ],
      "text/plain": [
       "        県名    実収入  世帯主収入   消費支出  食料費割合  住居費割合  光熱・水道費割合  家具・家事用品費割合  \\\n",
       "コード                                                                   \n",
       "1    北 海 道  529.9  422.7  287.3   24.2    5.9       8.5         3.3   \n",
       "2    青 森 県  442.9  333.4  236.8   29.2    4.0      11.3         4.1   \n",
       "3    岩 手 県  522.9  403.5  289.0   24.6    5.2       8.7         3.7   \n",
       "4    宮 城 県  419.9  341.5  281.0   26.4    6.5       7.8         4.0   \n",
       "5    秋 田 県  459.0  343.4  255.2   25.6    5.4       9.6         3.7   \n",
       "\n",
       "     被服及び履物費割合  保健医療費割合  \n",
       "コード                      \n",
       "1          3.9      4.3  \n",
       "2          3.3      4.2  \n",
       "3          3.8      5.1  \n",
       "4          4.1      5.1  \n",
       "5          3.1      5.4  "
      ]
     },
     "execution_count": 1,
     "metadata": {},
     "output_type": "execute_result"
    }
   ],
   "source": [
    "import pandas as pd\n",
    "df1 = pd.read_excel('データ解析講座一日目演習.xlsx',sheet_name='家計指標',index_col=0)\n",
    "df1.head()"
   ]
  },
  {
   "cell_type": "markdown",
   "metadata": {},
   "source": [
    "そして、列「消費支出」についてヒストグラムを描きます。"
   ]
  },
  {
   "cell_type": "code",
   "execution_count": 2,
   "metadata": {},
   "outputs": [
    {
     "data": {
      "text/plain": [
       "Text(0, 0.5, '度数')"
      ]
     },
     "execution_count": 2,
     "metadata": {},
     "output_type": "execute_result"
    },
    {
     "data": {
      "image/png": "[encoded data removed]",
      "text/plain": [
       "<Figure size 640x480 with 1 Axes>"
      ]
     },
     "metadata": {},
     "output_type": "display_data"
    }
   ],
   "source": [
    "import matplotlib.pyplot as plt\n",
    "# matplotlibで日本語表示を可能にする\n",
    "from matplotlib import rcParams\n",
    "rcParams['font.family']='MS Gothic'\n",
    "# グラフインスタンスを定義し、グラフ本体、各種ラベルを加えていく\n",
    "fig = plt.figure()\n",
    "ax = fig.add_subplot(111)\n",
    "ax.hist(df1['消費支出'])\n",
    "ax.set_title('都道府県別家計消費支出')\n",
    "ax.set_xlabel('月間消費支出（千円）')\n",
    "ax.set_ylabel('度数')"
   ]
  },
  {
   "cell_type": "markdown",
   "metadata": {},
   "source": [
    "データの行数は47です。分布の形は凸凹はありますが中央部の度数が高い「釣鐘型」に近いともいえます。"
   ]
  },
  {
   "cell_type": "markdown",
   "metadata": {},
   "source": [
    "## 散布図"
   ]
  },
  {
   "cell_type": "markdown",
   "metadata": {},
   "source": [
    "二つの量的変数の間の関連の様子を見たい場合は、散布図を描きます。\n",
    "ここでは、自然指標の中の「年平均気温」と医療健康指標の中の「平均余命」の関連をみるために、まずデータを読み込んで横に結合します。"
   ]
  },
  {
   "cell_type": "code",
   "execution_count": 3,
   "metadata": {},
   "outputs": [
    {
     "data": {
      "text/html": [
       "<div>\n",
       "<style scoped>\n",
       "    .dataframe tbody tr th:only-of-type {\n",
       "        vertical-align: middle;\n",
       "    }\n",
       "\n",
       "    .dataframe tbody tr th {\n",
       "        vertical-align: top;\n",
       "    }\n",
       "\n",
       "    .dataframe thead th {\n",
       "        text-align: right;\n",
       "    }\n",
       "</style>\n",
       "<table border=\"1\" class=\"dataframe\">\n",
       "  <thead>\n",
       "    <tr style=\"text-align: right;\">\n",
       "      <th></th>\n",
       "      <th>県名_x</th>\n",
       "      <th>総面積</th>\n",
       "      <th>面積割合</th>\n",
       "      <th>森林面積割合</th>\n",
       "      <th>自然公園面積割合</th>\n",
       "      <th>可住地面積割合</th>\n",
       "      <th>年平均気温</th>\n",
       "      <th>最高気温</th>\n",
       "      <th>最低気温</th>\n",
       "      <th>年平均相対湿度</th>\n",
       "      <th>県名_y</th>\n",
       "      <th>有訴者率</th>\n",
       "      <th>通院者率</th>\n",
       "      <th>一般病院年間新入院患者数</th>\n",
       "      <th>一般病院の１日平均</th>\n",
       "      <th>一般病院の１日平均.1</th>\n",
       "      <th>標準化死亡率</th>\n",
       "      <th>平均余命1</th>\n",
       "      <th>平均余命2</th>\n",
       "      <th>平均余命3</th>\n",
       "    </tr>\n",
       "    <tr>\n",
       "      <th>コード</th>\n",
       "      <th></th>\n",
       "      <th></th>\n",
       "      <th></th>\n",
       "      <th></th>\n",
       "      <th></th>\n",
       "      <th></th>\n",
       "      <th></th>\n",
       "      <th></th>\n",
       "      <th></th>\n",
       "      <th></th>\n",
       "      <th></th>\n",
       "      <th></th>\n",
       "      <th></th>\n",
       "      <th></th>\n",
       "      <th></th>\n",
       "      <th></th>\n",
       "      <th></th>\n",
       "      <th></th>\n",
       "      <th></th>\n",
       "      <th></th>\n",
       "    </tr>\n",
       "  </thead>\n",
       "  <tbody>\n",
       "    <tr>\n",
       "      <th>1</th>\n",
       "      <td>北 海 道</td>\n",
       "      <td>834.24</td>\n",
       "      <td>21.03</td>\n",
       "      <td>67.9</td>\n",
       "      <td>11.1</td>\n",
       "      <td>28.5</td>\n",
       "      <td>9.3</td>\n",
       "      <td>28.3</td>\n",
       "      <td>-5.9</td>\n",
       "      <td>66</td>\n",
       "      <td>北 海 道</td>\n",
       "      <td>289.3</td>\n",
       "      <td>397.6</td>\n",
       "      <td>15481.5</td>\n",
       "      <td>1373.0</td>\n",
       "      <td>1190.7</td>\n",
       "      <td>1.78</td>\n",
       "      <td>79.17</td>\n",
       "      <td>86.30</td>\n",
       "      <td>18.75</td>\n",
       "    </tr>\n",
       "    <tr>\n",
       "      <th>2</th>\n",
       "      <td>青 森 県</td>\n",
       "      <td>96.46</td>\n",
       "      <td>2.59</td>\n",
       "      <td>63.8</td>\n",
       "      <td>11.8</td>\n",
       "      <td>33.5</td>\n",
       "      <td>11.0</td>\n",
       "      <td>28.7</td>\n",
       "      <td>-3.0</td>\n",
       "      <td>76</td>\n",
       "      <td>青 森 県</td>\n",
       "      <td>282.2</td>\n",
       "      <td>372.7</td>\n",
       "      <td>11805.6</td>\n",
       "      <td>1011.3</td>\n",
       "      <td>843.5</td>\n",
       "      <td>2.01</td>\n",
       "      <td>77.28</td>\n",
       "      <td>85.34</td>\n",
       "      <td>17.59</td>\n",
       "    </tr>\n",
       "    <tr>\n",
       "      <th>3</th>\n",
       "      <td>岩 手 県</td>\n",
       "      <td>152.75</td>\n",
       "      <td>4.10</td>\n",
       "      <td>74.9</td>\n",
       "      <td>4.7</td>\n",
       "      <td>24.3</td>\n",
       "      <td>11.2</td>\n",
       "      <td>30.5</td>\n",
       "      <td>-3.6</td>\n",
       "      <td>74</td>\n",
       "      <td>岩 手 県</td>\n",
       "      <td>304.7</td>\n",
       "      <td>421.4</td>\n",
       "      <td>11824.0</td>\n",
       "      <td>949.0</td>\n",
       "      <td>793.1</td>\n",
       "      <td>1.85</td>\n",
       "      <td>78.53</td>\n",
       "      <td>85.86</td>\n",
       "      <td>18.46</td>\n",
       "    </tr>\n",
       "    <tr>\n",
       "      <th>4</th>\n",
       "      <td>宮 城 県</td>\n",
       "      <td>72.82</td>\n",
       "      <td>1.95</td>\n",
       "      <td>55.9</td>\n",
       "      <td>23.5</td>\n",
       "      <td>43.3</td>\n",
       "      <td>13.5</td>\n",
       "      <td>29.9</td>\n",
       "      <td>-0.8</td>\n",
       "      <td>68</td>\n",
       "      <td>宮 城 県</td>\n",
       "      <td>307.3</td>\n",
       "      <td>386.9</td>\n",
       "      <td>11529.9</td>\n",
       "      <td>849.0</td>\n",
       "      <td>642.6</td>\n",
       "      <td>1.61</td>\n",
       "      <td>79.65</td>\n",
       "      <td>86.39</td>\n",
       "      <td>18.81</td>\n",
       "    </tr>\n",
       "    <tr>\n",
       "      <th>5</th>\n",
       "      <td>秋 田 県</td>\n",
       "      <td>116.38</td>\n",
       "      <td>3.12</td>\n",
       "      <td>70.5</td>\n",
       "      <td>10.6</td>\n",
       "      <td>27.5</td>\n",
       "      <td>12.5</td>\n",
       "      <td>31.4</td>\n",
       "      <td>-1.7</td>\n",
       "      <td>74</td>\n",
       "      <td>秋 田 県</td>\n",
       "      <td>290.8</td>\n",
       "      <td>405.2</td>\n",
       "      <td>13553.3</td>\n",
       "      <td>1218.6</td>\n",
       "      <td>915.6</td>\n",
       "      <td>1.85</td>\n",
       "      <td>78.22</td>\n",
       "      <td>85.93</td>\n",
       "      <td>18.10</td>\n",
       "    </tr>\n",
       "  </tbody>\n",
       "</table>\n",
       "</div>"
      ],
      "text/plain": [
       "      県名_x     総面積   面積割合  森林面積割合  自然公園面積割合  可住地面積割合  年平均気温  最高気温  最低気温  \\\n",
       "コード                                                                       \n",
       "1    北 海 道  834.24  21.03    67.9      11.1     28.5    9.3  28.3  -5.9   \n",
       "2    青 森 県   96.46   2.59    63.8      11.8     33.5   11.0  28.7  -3.0   \n",
       "3    岩 手 県  152.75   4.10    74.9       4.7     24.3   11.2  30.5  -3.6   \n",
       "4    宮 城 県   72.82   1.95    55.9      23.5     43.3   13.5  29.9  -0.8   \n",
       "5    秋 田 県  116.38   3.12    70.5      10.6     27.5   12.5  31.4  -1.7   \n",
       "\n",
       "     年平均相対湿度   県名_y   有訴者率   通院者率  一般病院年間新入院患者数  一般病院の１日平均  一般病院の１日平均.1  \\\n",
       "コード                                                                       \n",
       "1         66  北 海 道  289.3  397.6       15481.5     1373.0       1190.7   \n",
       "2         76  青 森 県  282.2  372.7       11805.6     1011.3        843.5   \n",
       "3         74  岩 手 県  304.7  421.4       11824.0      949.0        793.1   \n",
       "4         68  宮 城 県  307.3  386.9       11529.9      849.0        642.6   \n",
       "5         74  秋 田 県  290.8  405.2       13553.3     1218.6        915.6   \n",
       "\n",
       "     標準化死亡率  平均余命1  平均余命2  平均余命3  \n",
       "コード                               \n",
       "1      1.78  79.17  86.30  18.75  \n",
       "2      2.01  77.28  85.34  17.59  \n",
       "3      1.85  78.53  85.86  18.46  \n",
       "4      1.61  79.65  86.39  18.81  \n",
       "5      1.85  78.22  85.93  18.10  "
      ]
     },
     "execution_count": 3,
     "metadata": {},
     "output_type": "execute_result"
    }
   ],
   "source": [
    "df2 = pd.read_excel('データ解析講座一日目演習.xlsx', sheet_name='自然指標', index_col=0)\n",
    "df3 = pd.read_excel('データ解析講座一日目演習.xlsx', sheet_name='医療健康指標', index_col=0)\n",
    "df4 = pd.merge(df2,df3,on='コード')\n",
    "df4.head()"
   ]
  },
  {
   "cell_type": "markdown",
   "metadata": {},
   "source": [
    "そして、「年平均気温」と「平均余命2（0歳の女性の平均余命）」の間の散布図を描きます。"
   ]
  },
  {
   "cell_type": "code",
   "execution_count": 4,
   "metadata": {},
   "outputs": [
    {
     "data": {
      "text/plain": [
       "Text(0, 0.5, '平均余命（女性0歳）')"
      ]
     },
     "execution_count": 4,
     "metadata": {},
     "output_type": "execute_result"
    },
    {
     "data": {
      "image/png": "[encoded data removed]",
      "text/plain": [
       "<Figure size 640x480 with 1 Axes>"
      ]
     },
     "metadata": {},
     "output_type": "display_data"
    }
   ],
   "source": [
    "fig = plt.figure()\n",
    "ax = fig.add_subplot(111)\n",
    "ax.scatter(df4['年平均気温'], df4['平均余命2'])\n",
    "ax.set_title('都道府県別の年平均気温と平均余命')\n",
    "ax.set_xlabel('年平均気温')\n",
    "ax.set_ylabel('平均余命（女性0歳）')"
   ]
  },
  {
   "cell_type": "markdown",
   "metadata": {},
   "source": [
    "若干正の相関があるようにも見えますがあまり関連はないようです。"
   ]
  },
  {
   "cell_type": "markdown",
   "metadata": {},
   "source": [
    "## クロス集計表"
   ]
  },
  {
   "cell_type": "markdown",
   "metadata": {},
   "source": [
    "数量でなくカテゴリカル変数同士の関連をみるためには「クロス集計表」を作成します。\n",
    "ここでは、日本の地域とドラッグストア店舗数一位の企業との関連を見てみましょう。まずデータを読み込みます。"
   ]
  },
  {
   "cell_type": "code",
   "execution_count": 5,
   "metadata": {},
   "outputs": [
    {
     "data": {
      "text/html": [
       "<div>\n",
       "<style scoped>\n",
       "    .dataframe tbody tr th:only-of-type {\n",
       "        vertical-align: middle;\n",
       "    }\n",
       "\n",
       "    .dataframe tbody tr th {\n",
       "        vertical-align: top;\n",
       "    }\n",
       "\n",
       "    .dataframe thead th {\n",
       "        text-align: right;\n",
       "    }\n",
       "</style>\n",
       "<table border=\"1\" class=\"dataframe\">\n",
       "  <thead>\n",
       "    <tr style=\"text-align: right;\">\n",
       "      <th></th>\n",
       "      <th>県名</th>\n",
       "      <th>地域</th>\n",
       "      <th>ドラッグストアトップ</th>\n",
       "    </tr>\n",
       "    <tr>\n",
       "      <th>コード</th>\n",
       "      <th></th>\n",
       "      <th></th>\n",
       "      <th></th>\n",
       "    </tr>\n",
       "  </thead>\n",
       "  <tbody>\n",
       "    <tr>\n",
       "      <th>1</th>\n",
       "      <td>北 海 道</td>\n",
       "      <td>北海道東北</td>\n",
       "      <td>ツルハHD</td>\n",
       "    </tr>\n",
       "    <tr>\n",
       "      <th>2</th>\n",
       "      <td>青 森 県</td>\n",
       "      <td>北海道東北</td>\n",
       "      <td>ウエルシアHD</td>\n",
       "    </tr>\n",
       "    <tr>\n",
       "      <th>3</th>\n",
       "      <td>岩 手 県</td>\n",
       "      <td>北海道東北</td>\n",
       "      <td>薬王堂</td>\n",
       "    </tr>\n",
       "    <tr>\n",
       "      <th>4</th>\n",
       "      <td>宮 城 県</td>\n",
       "      <td>北海道東北</td>\n",
       "      <td>ツルハHD</td>\n",
       "    </tr>\n",
       "    <tr>\n",
       "      <th>5</th>\n",
       "      <td>秋 田 県</td>\n",
       "      <td>北海道東北</td>\n",
       "      <td>ツルハHD</td>\n",
       "    </tr>\n",
       "  </tbody>\n",
       "</table>\n",
       "</div>"
      ],
      "text/plain": [
       "        県名     地域 ドラッグストアトップ\n",
       "コード                         \n",
       "1    北 海 道  北海道東北      ツルハHD\n",
       "2    青 森 県  北海道東北    ウエルシアHD\n",
       "3    岩 手 県  北海道東北        薬王堂\n",
       "4    宮 城 県  北海道東北      ツルハHD\n",
       "5    秋 田 県  北海道東北      ツルハHD"
      ]
     },
     "execution_count": 5,
     "metadata": {},
     "output_type": "execute_result"
    }
   ],
   "source": [
    "df5 = pd.read_excel('データ解析講座一日目演習.xlsx', sheet_name='カテゴリカル', index_col=0)\n",
    "df5.head()"
   ]
  },
  {
   "cell_type": "markdown",
   "metadata": {},
   "source": [
    "クロス集計表を出力するためには、まずpd.crosstab()でクロス集計表をデータフレームとして出力し、それをmatplotlibのtable()で表として描きます。"
   ]
  },
  {
   "cell_type": "code",
   "execution_count": 6,
   "metadata": {},
   "outputs": [
    {
     "data": {
      "image/png": "[encoded data removed]",
      "text/plain": [
       "<Figure size 576x432 with 1 Axes>"
      ]
     },
     "metadata": {
      "needs_background": "light"
     },
     "output_type": "display_data"
    }
   ],
   "source": [
    "# クロス集計表をデータフレームに出力\n",
    "df6 = pd.crosstab(df5['ドラッグストアトップ'], df5['地域'])\n",
    "# データフレームの表を図として描画する\n",
    "fig = plt.figure(figsize=(8,6))\n",
    "ax = fig.add_subplot(111)\n",
    "ax.axis('off')\n",
    "tbl = ax.table(cellText = df6.values,bbox=[0,0,1,1], colLabels = df6.columns,\\\n",
    "               rowLabels=df6.index)"
   ]
  },
  {
   "cell_type": "markdown",
   "metadata": {},
   "source": [
    "## 箱ひげ図"
   ]
  },
  {
   "cell_type": "markdown",
   "metadata": {},
   "source": [
    "１つの量的変数の分布の様子をみるには、ヒストグラムの他に「箱ひげ図」という方法もあります。箱ひげ図は、分布の位置や広がり具合、歪み方、外れ値の様子などがひと目でわかります。ここでは都道府県の面積の分布を箱ひげ図で描きます。"
   ]
  },
  {
   "cell_type": "code",
   "execution_count": 7,
   "metadata": {},
   "outputs": [
    {
     "data": {
      "text/plain": [
       "Text(0, 0.5, '総面積(100km2)')"
      ]
     },
     "execution_count": 7,
     "metadata": {},
     "output_type": "execute_result"
    },
    {
     "data": {
      "image/png": "[encoded data removed]",
      "text/plain": [
       "<Figure size 432x288 with 1 Axes>"
      ]
     },
     "metadata": {
      "needs_background": "light"
     },
     "output_type": "display_data"
    }
   ],
   "source": [
    "fig = plt.figure()\n",
    "ax = fig.add_subplot(111)\n",
    "ax.boxplot(df2['総面積'])\n",
    "ax.set_title('都道府県別総面積')\n",
    "ax.set_xlabel('都道府県')\n",
    "ax.set_ylabel('総面積(100km2)')"
   ]
  },
  {
   "cell_type": "markdown",
   "metadata": {},
   "source": [
    "一つだけ飛び抜けているのが北海道で、他県に比べて圧倒的に面積が大きいことがわかります。その次に大きい丸印は第二位の岩手県で、ここまでが外れ値とみなされます。"
   ]
  },
  {
   "cell_type": "markdown",
   "metadata": {},
   "source": [
    "## 多変量連関図"
   ]
  },
  {
   "cell_type": "markdown",
   "metadata": {},
   "source": [
    "これまでの応用として「多変量連関図」を描きます。変数が二つ以上ある場合に、各変数を縦横に並べて対比させ、同じ変数同士ならヒストグラム、違う変数同士なら散布図を描いたものを「多変量連関図」といいます。\n",
    "ここでは都道府県別の家計指標について多変量連関図を描いてみます。seabornライブラリのpairplot()を用います。"
   ]
  },
  {
   "cell_type": "code",
   "execution_count": 8,
   "metadata": {},
   "outputs": [
    {
     "data": {
      "image/png": "[encoded data removed]",
      "text/plain": [
       "<Figure size 540x540 with 12 Axes>"
      ]
     },
     "metadata": {},
     "output_type": "display_data"
    }
   ],
   "source": [
    "import seaborn as sns\n",
    "# 描画する列に絞り込む\n",
    "df12 = df1.loc[:,['実収入','消費支出','食料費割合']]\n",
    "# seabornで日本語を表示させるための設定\n",
    "sns.set(font=['MS Gothic'])\n",
    "g = sns.pairplot(df12)"
   ]
  },
  {
   "cell_type": "raw",
   "metadata": {},
   "source": [
    "実収入と消費支出の間に正の相関、消費支出と食料費割合の間にやや負の相関があることがひと目でわかります。"
   ]
  }
 ],
 "metadata": {
  "kernelspec": {
   "display_name": "Python 3 (ipykernel)",
   "language": "python",
   "name": "python3"
  },
  "language_info": {
   "codemirror_mode": {
    "name": "ipython",
    "version": 3
   },
   "file_extension": ".py",
   "mimetype": "text/x-python",
   "name": "python",
   "nbconvert_exporter": "python",
   "pygments_lexer": "ipython3",
   "version": "3.9.13"
  },
  "toc": {
   "base_numbering": 1,
   "nav_menu": {},
   "number_sections": true,
   "sideBar": true,
   "skip_h1_title": false,
   "title_cell": "Table of Contents",
   "title_sidebar": "Contents",
   "toc_cell": false,
   "toc_position": {},
   "toc_section_display": true,
   "toc_window_display": false
  },
  "varInspector": {
   "cols": {
    "lenName": 16,
    "lenType": 16,
    "lenVar": 40
   },
   "kernels_config": {
    "python": {
     "delete_cmd_postfix": "",
     "delete_cmd_prefix": "del ",
     "library": "var_list.py",
     "varRefreshCmd": "print(var_dic_list())"
    },
    "r": {
     "delete_cmd_postfix": ") ",
     "delete_cmd_prefix": "rm(",
     "library": "var_list.r",
     "varRefreshCmd": "cat(var_dic_list()) "
    }
   },
   "types_to_exclude": [
    "module",
    "function",
    "builtin_function_or_method",
    "instance",
    "_Feature"
   ],
   "window_display": false
  }
 },
 "nbformat": 4,
 "nbformat_minor": 4
}
