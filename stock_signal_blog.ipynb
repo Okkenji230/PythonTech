{
 "cells": [
  {
   "cell_type": "markdown",
   "id": "05c24c9f-78bd-464c-9482-e2234c65d00a",
   "metadata": {},
   "source": [
    "# 戦略・銘柄毎のシグナル判定（株価日足・ブログ用）"
   ]
  },
  {
   "cell_type": "code",
   "execution_count": 1,
   "id": "9b0a1c22-cd45-4725-8b8b-b1f3b49d5e04",
   "metadata": {},
   "outputs": [],
   "source": [
    "import pandas as pd\n",
    "import numpy as np\n",
    "from datetime import date, datetime, timedelta\n",
    "import matplotlib.pyplot as plt\n",
    "import yfinance as yf\n",
    "import pandas_ta as ta\n",
    "import pickle\n",
    "import warnings\n",
    "warnings.simplefilter(action=\"ignore\", category=FutureWarning)"
   ]
  },
  {
   "cell_type": "markdown",
   "id": "315db5c6-ffd5-44c5-84af-f0d2cdbe1d44",
   "metadata": {},
   "source": [
    "## シグナル判定で用いる関数の定義"
   ]
  },
  {
   "cell_type": "code",
   "execution_count": 2,
   "id": "33f8b8ad-ebd4-40fa-9165-0ef693b584e6",
   "metadata": {},
   "outputs": [],
   "source": [
    "# クロスオーバーとクロスアンダー関数\n",
    "def crossover(series1, series2):\n",
    "    # Ensure the inputs are numpy arrays for element-wise operations\n",
    "    series1 = np.array(series1)\n",
    "    series2 = np.array(series2)\n",
    "    # Calculate the crossover: (previous series1 < previous series2) and (current series1 > current series2)\n",
    "    cross = (series1[:-1] < series2[:-1]) & (series1[1:] > series2[1:])\n",
    "    # Append a False at the start since there is no crossover detection at the first element\n",
    "    return np.append(False, cross)\n",
    "\n",
    "def overthreshold(series1, x):\n",
    "    series1 = np.array(series1)\n",
    "    series2 = np.full(series1.shape[0], x)\n",
    "    # Calculate the crossover: (previous series1 < previous series2) and (current series1 > current series2)\n",
    "    cross = (series1[:-1] < series2[:-1]) & (series1[1:] > series2[1:])\n",
    "    # Append a False at the start since there is no crossover detection at the first element\n",
    "    return np.append(False, cross)\n",
    "\n",
    "def crossunder(series1, series2):\n",
    "    # Ensure the inputs are numpy arrays for element-wise operations\n",
    "    series1 = np.array(series1)\n",
    "    series2 = np.array(series2)\n",
    "    # Calculate the crossunder: (previous series1 > previous series2) and (current series1 < current series2)\n",
    "    cross = (series1[:-1] > series2[:-1]) & (series1[1:] < series2[1:])\n",
    "    # Append a False at the start since there is no crossunder detection at the first element\n",
    "    return np.append(False, cross)\n",
    "\n",
    "def underthreshold(series1, x):\n",
    "    series1 = np.array(series1)\n",
    "    series2 = np.full(series1.shape[0], x)\n",
    "    # Calculate the crossunder: (previous series1 > previous series2) and (current series1 < current series2)\n",
    "    cross = (series1[:-1] > series2[:-1]) & (series1[1:] < series2[1:])\n",
    "    # Append a False at the start since there is no crossunder detection at the first element\n",
    "    return np.append(False, cross)"
   ]
  },
  {
   "cell_type": "markdown",
   "id": "0ff9ea27-b411-439a-a6fa-410b4dd13c5f",
   "metadata": {},
   "source": [
    "## シグナル判定をする戦略の定義"
   ]
  },
  {
   "cell_type": "code",
   "execution_count": 3,
   "id": "324655ab-3265-4827-8a79-bbdd48844b54",
   "metadata": {},
   "outputs": [],
   "source": [
    "# 戦略の生成\n",
    "def generate_strategy(df, ma_fast=9, ma_slow=21,\n",
    "                      macd_fast=12, macd_slow=26, macd_signal=9, efi_period=2):\n",
    "    df1 = df.copy()\n",
    "    # pandas_taライブラリによる各種指標の計算\n",
    "    df1['MA_Fast'] = df.ta.sma(close='Close', length=ma_fast)\n",
    "    df1['MA_Slow'] = df.ta.sma(close='Close', length=ma_slow)\n",
    "    df1.ta.macd(close='Close', fast=macd_fast, slow=macd_slow, signal=macd_signal, append=True)\n",
    "    df1['EFI'] = ta.efi(df['Close'], df['Volume'], length=efi_period)\n",
    "    # シグナルの判定\n",
    "    # (1) 長短移動平均の位置関係\n",
    "    df1['MA_buySignal'] = crossover(df1['MA_Fast'], df1['MA_Slow'])\n",
    "    df1['MA_sellSignal'] = crossunder(df1['MA_Fast'], df1['MA_Slow'])\n",
    "    # (2) MACDとMACDsignalの位置関係\n",
    "    macd_name = f'{macd_fast}_{macd_slow}_{macd_signal}'\n",
    "    df1['MACD_buySignal'] = crossover(df1[f'MACD_{macd_name}'], df1[f'MACDs_{macd_name}'])\n",
    "    df1['MACD_sellSignal'] = crossunder(df1[f'MACD_{macd_name}'], df1[f'MACDs_{macd_name}'])\n",
    "    # (3) EFIとゼロの位置関係\n",
    "    df1['EFI_buySignal'] = overthreshold(df1['EFI'], 0)\n",
    "    df1['EFI_sellSignal'] = underthreshold(df1['EFI'], 0)\n",
    "    # 関数の戻り\n",
    "    return df1.loc[:, ['timestamp','ticker','MA_buySignal','MA_sellSignal','MACD_buySignal',\\\n",
    "                       'MACD_sellSignal','EFI_buySignal','EFI_sellSignal']]"
   ]
  },
  {
   "cell_type": "code",
   "execution_count": 4,
   "id": "cd7555c7-52ec-4f78-a7eb-b20368c049e3",
   "metadata": {},
   "outputs": [],
   "source": [
    "# コード辞書と銘柄リスト\n",
    "jpx = {'1306.T':\"TOPIX連動\", '1321.T':'日経平均連動', '1545.T':'NASDAQ連動','1546.T':'ダウ工業株30種連動',\\\n",
    "       '1557.T':'SP500連動', '1678.T':'Nifty50連動'}\n",
    "list_ticker = jpx.keys()"
   ]
  },
  {
   "cell_type": "markdown",
   "id": "6b498b18-600c-4532-a793-d4fd18ec31e3",
   "metadata": {},
   "source": [
    "## データの読み込みとシグナル判定"
   ]
  },
  {
   "cell_type": "code",
   "execution_count": 5,
   "id": "8d7fe201-7470-4b02-893f-e75063c70970",
   "metadata": {},
   "outputs": [],
   "source": [
    "# 期間の指定\n",
    "end_date = datetime.today()\n",
    "start_date = end_date - timedelta(days=730)"
   ]
  },
  {
   "cell_type": "code",
   "execution_count": 6,
   "id": "a5e7cd86-b5ae-4ae0-8608-32bd032a7c8b",
   "metadata": {},
   "outputs": [
    {
     "name": "stdout",
     "output_type": "stream",
     "text": [
      "YF.download() has changed argument auto_adjust default to True\n"
     ]
    },
    {
     "name": "stderr",
     "output_type": "stream",
     "text": [
      "[*********************100%***********************]  1 of 1 completed\n",
      "[*********************100%***********************]  1 of 1 completed\n",
      "[*********************100%***********************]  1 of 1 completed\n",
      "[*********************100%***********************]  1 of 1 completed\n",
      "[*********************100%***********************]  1 of 1 completed\n",
      "[*********************100%***********************]  1 of 1 completed\n"
     ]
    }
   ],
   "source": [
    "# 各銘柄についてシグナル判定を行い結果を縦連結する\n",
    "df_recent = pd.DataFrame()\n",
    "for symbol in list_ticker:\n",
    "    # yahooサイトからデータをダウンロード\n",
    "    data = yf.download(symbol, start_date, end_date)\n",
    "    if len(data) > 0:\n",
    "        data.columns = [col[0] if isinstance(col, tuple) else col for col in data.columns]\n",
    "        data['ticker'] = symbol\n",
    "        df = data.reset_index().rename(columns={'Date':'timestamp'})\n",
    "        # シグナル判定の実施\n",
    "        df_strategy = generate_strategy(df)\n",
    "        # シグナル判定結果を元データに横連結する\n",
    "        df = df.merge(df_strategy, how=\"inner\", on=['timestamp','ticker'])\n",
    "        # 一銘柄のシグナル判定結果の最終行のみを元のデータに縦連結する\n",
    "        df_recent = pd.concat([df_recent,df.tail(1)],axis=0)"
   ]
  },
  {
   "cell_type": "markdown",
   "id": "ec236776-73d4-4d08-a836-a776b342faf5",
   "metadata": {},
   "source": [
    "## 結果の整理と表示"
   ]
  },
  {
   "cell_type": "code",
   "execution_count": 7,
   "id": "2af6bbb1-909a-442f-8d5c-14a3d1a26b7b",
   "metadata": {},
   "outputs": [],
   "source": [
    "# コードから銘柄名を返す関数\n",
    "def ticker_dict(df):\n",
    "    return jpx.get(df)\n",
    "# 銘柄名の付与\n",
    "df_signal = df_recent.loc[:,['timestamp','ticker','Close',\\\n",
    "                'MA_buySignal','MA_sellSignal','MACD_buySignal','MACD_sellSignal',\\\n",
    "                'EFI_buySignal','EFI_sellSignal']].reset_index()\n",
    "df_signal['cname'] = df_signal['ticker'].map(ticker_dict)"
   ]
  },
  {
   "cell_type": "code",
   "execution_count": 8,
   "id": "a0266d93-9cc0-4bbe-9fb5-93ba49490e24",
   "metadata": {},
   "outputs": [],
   "source": [
    "# シグナルメッセージの付与\n",
    "df_signal[\"signal_str\"] = np.nan\n",
    "df_signal[\"signal_total\"] = np.nan\n",
    "for irow in range(len(df_signal)):\n",
    "    str_signal = ''\n",
    "    total_signal = 0\n",
    "    if df_signal.MA_buySignal[irow]:\n",
    "        str_signal += 'MA買い,'\n",
    "        total_signal += 100\n",
    "    if df_signal.MACD_buySignal[irow]:\n",
    "        str_signal += 'MACD買い,'\n",
    "        total_signal += 100\n",
    "    if df_signal.EFI_buySignal[irow]:\n",
    "        str_signal += 'EFI買い,'\n",
    "        total_signal += 100\n",
    "    df_signal.loc[irow,\"signal_str\"] = str_signal\n",
    "    df_signal.loc[irow,\"signal_total\"] = total_signal"
   ]
  },
  {
   "cell_type": "code",
   "execution_count": 9,
   "id": "8706776a-d148-43f1-8990-250300618d52",
   "metadata": {},
   "outputs": [],
   "source": [
    "# シグナル一覧の表示\n",
    "pd.set_option('display.max_rows', None)\n",
    "df_signal['s_total'] = df_signal['signal_total'].astype('int')\n",
    "df_tmp = df_signal[['timestamp', 'ticker', 'cname', 'signal_str', 's_total']]\n",
    "df_table = df_tmp[df_tmp['s_total'] > 0].sort_values(by='s_total',ascending=False)"
   ]
  },
  {
   "cell_type": "code",
   "execution_count": 10,
   "id": "05739c71-c607-49bb-8f80-69e63ca3a487",
   "metadata": {},
   "outputs": [],
   "source": [
    "# バックテスト結果の読み込み\n",
    "df_backtest = pd.read_parquet('osc_backtest.parquet').reset_index()"
   ]
  },
  {
   "cell_type": "code",
   "execution_count": 11,
   "id": "e11b705d-51ad-49fe-9d6d-a10e25673768",
   "metadata": {},
   "outputs": [
    {
     "data": {
      "text/html": [
       "<div>\n",
       "<style scoped>\n",
       "    .dataframe tbody tr th:only-of-type {\n",
       "        vertical-align: middle;\n",
       "    }\n",
       "\n",
       "    .dataframe tbody tr th {\n",
       "        vertical-align: top;\n",
       "    }\n",
       "\n",
       "    .dataframe thead th {\n",
       "        text-align: right;\n",
       "    }\n",
       "</style>\n",
       "<table border=\"1\" class=\"dataframe\">\n",
       "  <thead>\n",
       "    <tr style=\"text-align: right;\">\n",
       "      <th></th>\n",
       "      <th>timestamp</th>\n",
       "      <th>ticker</th>\n",
       "      <th>cname</th>\n",
       "      <th>signal_str</th>\n",
       "      <th>s_total</th>\n",
       "      <th>EFI_buy</th>\n",
       "      <th>MACD_buy</th>\n",
       "      <th>MA_buy</th>\n",
       "      <th>median_sharpe</th>\n",
       "    </tr>\n",
       "  </thead>\n",
       "  <tbody>\n",
       "    <tr>\n",
       "      <th>2</th>\n",
       "      <td>2025-04-15</td>\n",
       "      <td>1557.T</td>\n",
       "      <td>SP500連動</td>\n",
       "      <td>EFI買い,</td>\n",
       "      <td>100</td>\n",
       "      <td>1.505403</td>\n",
       "      <td>1.211504</td>\n",
       "      <td>1.027208</td>\n",
       "      <td>1.211504</td>\n",
       "    </tr>\n",
       "    <tr>\n",
       "      <th>1</th>\n",
       "      <td>2025-04-15</td>\n",
       "      <td>1546.T</td>\n",
       "      <td>ダウ工業株30種連動</td>\n",
       "      <td>EFI買い,</td>\n",
       "      <td>100</td>\n",
       "      <td>1.358137</td>\n",
       "      <td>1.133177</td>\n",
       "      <td>0.930172</td>\n",
       "      <td>1.133177</td>\n",
       "    </tr>\n",
       "    <tr>\n",
       "      <th>0</th>\n",
       "      <td>2025-04-15</td>\n",
       "      <td>1545.T</td>\n",
       "      <td>NASDAQ連動</td>\n",
       "      <td>MACD買い,</td>\n",
       "      <td>100</td>\n",
       "      <td>0.912084</td>\n",
       "      <td>0.996333</td>\n",
       "      <td>0.287659</td>\n",
       "      <td>0.912084</td>\n",
       "    </tr>\n",
       "    <tr>\n",
       "      <th>3</th>\n",
       "      <td>2025-04-15</td>\n",
       "      <td>1678.T</td>\n",
       "      <td>Nifty50連動</td>\n",
       "      <td>EFI買い,</td>\n",
       "      <td>100</td>\n",
       "      <td>0.723914</td>\n",
       "      <td>0.670928</td>\n",
       "      <td>0.988381</td>\n",
       "      <td>0.723914</td>\n",
       "    </tr>\n",
       "  </tbody>\n",
       "</table>\n",
       "</div>"
      ],
      "text/plain": [
       "   timestamp  ticker       cname signal_str  s_total   EFI_buy  MACD_buy  \\\n",
       "2 2025-04-15  1557.T     SP500連動     EFI買い,      100  1.505403  1.211504   \n",
       "1 2025-04-15  1546.T  ダウ工業株30種連動     EFI買い,      100  1.358137  1.133177   \n",
       "0 2025-04-15  1545.T    NASDAQ連動    MACD買い,      100  0.912084  0.996333   \n",
       "3 2025-04-15  1678.T   Nifty50連動     EFI買い,      100  0.723914  0.670928   \n",
       "\n",
       "     MA_buy  median_sharpe  \n",
       "2  1.027208       1.211504  \n",
       "1  0.930172       1.133177  \n",
       "0  0.287659       0.912084  \n",
       "3  0.988381       0.723914  "
      ]
     },
     "execution_count": 11,
     "metadata": {},
     "output_type": "execute_result"
    }
   ],
   "source": [
    "# バックテストのパフォーマンスの最小値が高い順に表示する\n",
    "join_data = pd.merge(df_table, df_backtest, on='ticker', how='left')\n",
    "join_data['median_sharpe'] = join_data[['MA_buy','MACD_buy','EFI_buy']].median(axis=1)\n",
    "join_data.sort_values(by='median_sharpe',ascending=False)"
   ]
  }
 ],
 "metadata": {
  "kernelspec": {
   "display_name": "Python 3 (ipykernel)",
   "language": "python",
   "name": "python3"
  },
  "language_info": {
   "codemirror_mode": {
    "name": "ipython",
    "version": 3
   },
   "file_extension": ".py",
   "mimetype": "text/x-python",
   "name": "python",
   "nbconvert_exporter": "python",
   "pygments_lexer": "ipython3",
   "version": "3.12.3"
  }
 },
 "nbformat": 4,
 "nbformat_minor": 5
}
