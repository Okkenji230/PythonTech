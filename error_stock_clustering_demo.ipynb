{
 "cells": [
  {
   "cell_type": "markdown",
   "id": "998d8104-ccd5-4694-a236-ffeeab6b8b5c",
   "metadata": {},
   "source": [
    "# 株価データのクラスタリングのデモ"
   ]
  },
  {
   "cell_type": "code",
   "execution_count": 1,
   "id": "60ee919d-3ff8-43e0-a771-a9bdfc52fcac",
   "metadata": {},
   "outputs": [
    {
     "name": "stdout",
     "output_type": "stream",
     "text": [
      "Error: 401\n",
      "Unauthenticated\n"
     ]
    }
   ],
   "source": [
    "import requests\n",
    "import pandas as pd\n",
    "import requests_cache\n",
    "import os\n",
    "from matplotlib import pyplot as plt\n",
    "from tqdm import tqdm\n",
    "import warnings\n",
    "\n",
    "api_token = os.environ.get('EODHD_API_TOKEN')\n",
    "\n",
    "def get_sp500_tickers():\n",
    "\n",
    "    INDEX_NAME = 'GSPC.INDX'\n",
    "    url = f'https://eodhd.com/api/mp/unicornbay/spglobal/comp/{INDEX_NAME}'\n",
    "    query = {'api_token': api_token, \"fmt\": \"json\"}\n",
    "\n",
    "    data = requests.get(url, params=query)\n",
    "\n",
    "    if data.status_code != 200:\n",
    "        tqdm.write(f\"Error: {data.status_code}\")\n",
    "        tqdm.write(data.text)\n",
    "        return []\n",
    "\n",
    "    data = data.json()\n",
    "    df_stocks = pd.DataFrame(data['Components']).T.reset_index()\n",
    "\n",
    "    df_stocks.to_csv('csv/stocks_universe.csv', index=False)\n",
    "    tickers = df_stocks['Code'].tolist()\n",
    "    return tickers\n",
    "\n",
    "\n",
    "# Get S&P 500 tickers\n",
    "sp500_tickers = get_sp500_tickers()"
   ]
  }
 ],
 "metadata": {
  "kernelspec": {
   "display_name": "Python 3 (ipykernel)",
   "language": "python",
   "name": "python3"
  },
  "language_info": {
   "codemirror_mode": {
    "name": "ipython",
    "version": 3
   },
   "file_extension": ".py",
   "mimetype": "text/x-python",
   "name": "python",
   "nbconvert_exporter": "python",
   "pygments_lexer": "ipython3",
   "version": "3.12.3"
  }
 },
 "nbformat": 4,
 "nbformat_minor": 5
}
