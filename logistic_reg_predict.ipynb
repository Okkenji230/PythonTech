{
 "cells": [
  {
   "cell_type": "markdown",
   "id": "a19dd9f0-d3f5-4897-8bdf-e9c245419ee3",
   "metadata": {
    "id": "a19dd9f0-d3f5-4897-8bdf-e9c245419ee3"
   },
   "source": [
    "# ロジスティック回帰モデルによる値動きの予測"
   ]
  },
  {
   "cell_type": "raw",
   "id": "556c1571-fa29-4318-8d8d-1a3ca5c6d15c",
   "metadata": {},
   "source": [
    "The Secret Weapon Traders Use: Logistic Regression & Python \n",
    "https://wire.insiderfinance.io/the-secret-weapon-traders-use-logistic-regression-python-e98001ac8183"
   ]
  },
  {
   "cell_type": "code",
   "execution_count": 1,
   "id": "YrjfmK4KXNKc",
   "metadata": {
    "executionInfo": {
     "elapsed": 14,
     "status": "ok",
     "timestamp": 1737716114752,
     "user": {
      "displayName": "Kenji Ono",
      "userId": "14327041206082834894"
     },
     "user_tz": -540
    },
    "id": "YrjfmK4KXNKc"
   },
   "outputs": [],
   "source": [
    "# ライブラリのインポート\n",
    "import yfinance as yf\n",
    "import pandas as pd\n",
    "import numpy as np\n",
    "import matplotlib.pyplot as plt\n",
    "import pandas_ta as ta\n",
    "from datetime import date, datetime, timedelta\n",
    "import talib\n",
    "import matplotlib.pyplot as plt\n",
    "from sklearn.model_selection import train_test_split  \n",
    "from sklearn.linear_model import LogisticRegression  \n",
    "from sklearn.metrics import accuracy_score, confusion_matrix\n",
    "import warnings\n",
    "#warnings.simplefilter(action=\"ignore\", category=FutureWarning)"
   ]
  },
  {
   "cell_type": "markdown",
   "id": "5009ddc3-c776-44c1-8233-3d60adcc4228",
   "metadata": {},
   "source": [
    "## オシレーター指標関数の定義"
   ]
  },
  {
   "cell_type": "code",
   "execution_count": 2,
   "id": "c5c2e488-a321-42d8-86f2-ee9c9d0b117d",
   "metadata": {},
   "outputs": [],
   "source": [
    "# function Klinger Volume Oscillator (KVO)\n",
    "def klinger_volume_oscillator(df, short_period=34, long_period=55, signal_period=13):\n",
    "    df['High-Low'] = df['High'] - df['Low']\n",
    "    df['High-Close'] = np.abs(df['High'] - df['Close'].shift(1))\n",
    "    df['Low-Close'] = np.abs(df['Low'] - df['Close'].shift(1))\n",
    "    df['TrueRange'] = df[['High-Low', 'High-Close', 'Low-Close']].max(axis=1)\n",
    "    df['VolumeForce'] = np.where(df['Close'] > df['Close'].shift(1), df['Volume'], -df['Volume'])\n",
    "    df['KVO'] = (df['VolumeForce'].rolling(window=short_period).sum() -\n",
    "                 df['VolumeForce'].rolling(window=long_period).sum())\n",
    "    df['KVO_Signal'] = df['KVO'].rolling(window=signal_period).mean()\n",
    "    return df['KVO'], df['KVO_Signal']\n",
    "\n",
    "# function Elder's Force Index (EFI)\n",
    "def elder_force_index(df, period=2):\n",
    "    df['EFI'] = (df['Close'] - df['Close'].shift(1)) * df['Volume']\n",
    "    df['EFI_Smoothed'] = df['EFI'].rolling(window=period).mean()\n",
    "    return df['EFI_Smoothed']\n",
    "\n",
    "# function true_strength_index (TSI)\n",
    "def true_strength_index(df, short_period=13, long_period=25):\n",
    "    df['Change'] = df['Close'] - df['Close'].shift(1)\n",
    "    df['Smoothed1'] = df['Change'].ewm(span=short_period, adjust=False).mean()\n",
    "    df['Smoothed2'] = df['Smoothed1'].ewm(span=long_period, adjust=False).mean()\n",
    "    df['AbsChange'] = abs(df['Change'])\n",
    "    df['AbsSmoothed1'] = df['AbsChange'].ewm(span=short_period, adjust=False).mean()\n",
    "    df['AbsSmoothed2'] = df['AbsSmoothed1'].ewm(span=long_period, adjust=False).mean()\n",
    "    df['TSI'] = (df['Smoothed2'] / df['AbsSmoothed2']) * 100\n",
    "    return df['TSI']\n",
    "\n",
    "# オーサムオシレーター\n",
    "def awesome_oscillator(df, wshort=5, wlong=34):\n",
    "  # 中値\n",
    "  df['med'] = (df['High']+df['Low']) / 2\n",
    "  # オーサムオシレーター\n",
    "  df['ao'] = df['med'].rolling(wshort).mean() - df['med'].rolling(wlong).mean()\n",
    "  # 加速減速オシレーター\n",
    "  df['ado'] = df['ao'] - df['ao'].rolling(wshort).mean()\n",
    "  return df['ao'], df['ado']\n",
    "\n",
    "# Choppiness index\n",
    "def choppiness_index(data, period=14):\n",
    "    # Calculate the True Range\n",
    "    high_low = data['High'] - data['Low']\n",
    "    high_close = np.abs(data['High'] - data['Close'].shift(1))\n",
    "    low_close = np.abs(data['Low'] - data['Close'].shift(1))\n",
    "    true_range = pd.concat([high_low, high_close, low_close], axis=1).max(axis=1)\n",
    "    # Sum of the True Range over the given period\n",
    "    atr = true_range.rolling(window=period).sum()\n",
    "    # Calculate the difference between the highest high and lowest low over the period\n",
    "    max_high = data['High'].rolling(window=period).max()\n",
    "    min_low = data['Low'].rolling(window=period).min()\n",
    "    # Calculate the Choppiness Index\n",
    "    chop = 100 * np.log10(atr / (max_high - min_low)) / np.log10(period)\n",
    "    return chop"
   ]
  },
  {
   "cell_type": "markdown",
   "id": "d5ea186d-daca-4ffc-b8f5-d994a8e5c090",
   "metadata": {},
   "source": [
    "## パフォーマンス評価関数の定義"
   ]
  },
  {
   "cell_type": "code",
   "execution_count": 3,
   "id": "cxVeQ7WN3FbF",
   "metadata": {
    "executionInfo": {
     "elapsed": 11,
     "status": "ok",
     "timestamp": 1737716114752,
     "user": {
      "displayName": "Kenji Ono",
      "userId": "14327041206082834894"
     },
     "user_tz": -540
    },
    "id": "cxVeQ7WN3FbF"
   },
   "outputs": [],
   "source": [
    "def evaluate_performance(data):\n",
    "    cumulative_return = data['Portfolio_Value'].iloc[-1] / data['Portfolio_Value'].iloc[0] - 1\n",
    "    volatility = data['Strategy_Returns'].std() * (252**0.5)\n",
    "    sharpe_ratio = (data['Strategy_Returns'].mean() / data['Strategy_Returns'].std()) * (252**0.5)\n",
    "    return {\n",
    "        \"Cumulative Return\": cumulative_return,\n",
    "        \"Volatility\": volatility,\n",
    "        \"Sharpe Ratio\": sharpe_ratio\n",
    "    }"
   ]
  },
  {
   "cell_type": "markdown",
   "id": "fd37b0ac-fdb5-4949-ac2e-fcdb30e96c05",
   "metadata": {},
   "source": [
    "## 株価データの読み込み"
   ]
  },
  {
   "cell_type": "code",
   "execution_count": 4,
   "id": "44ce328d-d05f-4dda-96f2-2dca10c75484",
   "metadata": {},
   "outputs": [
    {
     "name": "stderr",
     "output_type": "stream",
     "text": [
      "[*********************100%***********************]  1 of 1 completed\n"
     ]
    }
   ],
   "source": [
    "# Download data\n",
    "ticker = '9432.T'\n",
    "end_date = datetime.today()\n",
    "start_date = end_date - timedelta(days=730)\n",
    "data = yf.download(ticker, start_date, end_date)\n",
    "data.columns = [col[0] if isinstance(col, tuple) else col for col in data.columns]\n",
    "data.index = pd.to_datetime(data.index)"
   ]
  },
  {
   "cell_type": "code",
   "execution_count": 5,
   "id": "8ba818a8-0337-4725-a72f-4fdc3daa5cb1",
   "metadata": {},
   "outputs": [
    {
     "data": {
      "text/html": [
       "<div>\n",
       "<style scoped>\n",
       "    .dataframe tbody tr th:only-of-type {\n",
       "        vertical-align: middle;\n",
       "    }\n",
       "\n",
       "    .dataframe tbody tr th {\n",
       "        vertical-align: top;\n",
       "    }\n",
       "\n",
       "    .dataframe thead th {\n",
       "        text-align: right;\n",
       "    }\n",
       "</style>\n",
       "<table border=\"1\" class=\"dataframe\">\n",
       "  <thead>\n",
       "    <tr style=\"text-align: right;\">\n",
       "      <th></th>\n",
       "      <th>Close</th>\n",
       "      <th>High</th>\n",
       "      <th>Low</th>\n",
       "      <th>Open</th>\n",
       "      <th>Volume</th>\n",
       "    </tr>\n",
       "    <tr>\n",
       "      <th>Date</th>\n",
       "      <th></th>\n",
       "      <th></th>\n",
       "      <th></th>\n",
       "      <th></th>\n",
       "      <th></th>\n",
       "    </tr>\n",
       "  </thead>\n",
       "  <tbody>\n",
       "    <tr>\n",
       "      <th>2025-02-03</th>\n",
       "      <td>151.800003</td>\n",
       "      <td>152.699997</td>\n",
       "      <td>150.800003</td>\n",
       "      <td>152.000000</td>\n",
       "      <td>203459800</td>\n",
       "    </tr>\n",
       "    <tr>\n",
       "      <th>2025-02-04</th>\n",
       "      <td>151.399994</td>\n",
       "      <td>153.100006</td>\n",
       "      <td>150.800003</td>\n",
       "      <td>152.399994</td>\n",
       "      <td>173699600</td>\n",
       "    </tr>\n",
       "    <tr>\n",
       "      <th>2025-02-05</th>\n",
       "      <td>151.899994</td>\n",
       "      <td>152.600006</td>\n",
       "      <td>151.300003</td>\n",
       "      <td>151.500000</td>\n",
       "      <td>130690700</td>\n",
       "    </tr>\n",
       "    <tr>\n",
       "      <th>2025-02-06</th>\n",
       "      <td>150.000000</td>\n",
       "      <td>152.000000</td>\n",
       "      <td>149.800003</td>\n",
       "      <td>151.899994</td>\n",
       "      <td>241169900</td>\n",
       "    </tr>\n",
       "    <tr>\n",
       "      <th>2025-02-07</th>\n",
       "      <td>146.899994</td>\n",
       "      <td>150.100006</td>\n",
       "      <td>146.199997</td>\n",
       "      <td>150.000000</td>\n",
       "      <td>283094800</td>\n",
       "    </tr>\n",
       "  </tbody>\n",
       "</table>\n",
       "</div>"
      ],
      "text/plain": [
       "                 Close        High         Low        Open     Volume\n",
       "Date                                                                 \n",
       "2025-02-03  151.800003  152.699997  150.800003  152.000000  203459800\n",
       "2025-02-04  151.399994  153.100006  150.800003  152.399994  173699600\n",
       "2025-02-05  151.899994  152.600006  151.300003  151.500000  130690700\n",
       "2025-02-06  150.000000  152.000000  149.800003  151.899994  241169900\n",
       "2025-02-07  146.899994  150.100006  146.199997  150.000000  283094800"
      ]
     },
     "execution_count": 5,
     "metadata": {},
     "output_type": "execute_result"
    }
   ],
   "source": [
    "data.tail()"
   ]
  },
  {
   "cell_type": "markdown",
   "id": "bcc099cd-fa45-4920-bded-4de0e3419c7d",
   "metadata": {},
   "source": [
    "## 特徴量（説明変数）の生成"
   ]
  },
  {
   "cell_type": "code",
   "execution_count": 6,
   "id": "74c6a839-9df9-4aeb-ad62-f0ad9ffc4933",
   "metadata": {},
   "outputs": [],
   "source": [
    "# Create features based on prices \n",
    "data['SMA50'] = data['Close'].rolling(window=50).mean() \n",
    "data['SMA200'] = data['Close'].rolling(window=200).mean() \n",
    "data['Volatility'] = data['Close'].rolling(window=20).std() \n",
    "data['Daily Return'] = data['Close'].pct_change() \n",
    "# 各種指標値の計算\n",
    "data['SMA_short'] = talib.SMA(data['Close'], timeperiod=5)\n",
    "data['SMA_long'] = talib.SMA(data['Close'], timeperiod=25)\n",
    "data['CMO'] = talib.CMO(data['Close'], timeperiod=14)\n",
    "data['KVO'], data['KVO_Signal'] = klinger_volume_oscillator(data)\n",
    "data['EFI'] = elder_force_index(data)\n",
    "data['TSI'] = true_strength_index(data)\n",
    "data['ARO'] = talib.AROONOSC(data['High'], data['Low'], timeperiod=25)\n",
    "data['MACD'], data['MACD_signal'], data['MACD_hist'] = talib.MACD(data['Close'], \\\n",
    "        fastperiod=12, slowperiod=26, signalperiod=9)\n",
    "data['AO'], data['ADO'] = awesome_oscillator(data)\n",
    "data['TRIX'] = talib.TRIX(data['Close'], timeperiod=9)\n",
    "data[\"RSI\"] = talib.RSI(data[\"Close\"], timeperiod=14)\n",
    "data[\"ADX\"] = talib.ADX(data[\"High\"], data[\"Low\"], data[\"Close\"], timeperiod=14)\n",
    "data[\"CCI\"] = talib.CCI(data[\"High\"], data[\"Low\"], data[\"Close\"], timeperiod=14)\n",
    "data[\"slowk\"], data[\"slowd\"] = talib.STOCH(data[\"High\"], data[\"Low\"], data[\"Close\"], fastk_period=5, slowk_period=3, slowk_matype=0, slowd_period=3, slowd_matype=0)\n",
    "data[\"fastk\"], data[\"fastd\"] = talib.STOCHF(data[\"High\"], data[\"Low\"], data[\"Close\"], fastk_period=5, fastd_period=3, fastd_matype=0)\n",
    "data[\"WILLR\"] = talib.WILLR(data[\"High\"], data[\"Low\"], data[\"Close\"], timeperiod=14)\n",
    "data[\"OBV\"] = talib.OBV(data[\"Close\"], data[\"Volume\"])\n",
    "data[\"upperband\"], data[\"middleband\"], data[\"lowerband\"] = talib.BBANDS(data[\"Close\"], timeperiod=5, nbdevup=2, nbdevdn=2, matype=0)\n",
    "data['bol_buy'] = data['lowerband'] - data['Close']\n",
    "data[\"SAR\"] = talib.SAR(data[\"High\"], data[\"Low\"], acceleration=0, maximum=0)\n",
    "data['CHOP'] = choppiness_index(data)\n",
    "data['candle'] = talib.CDLENGULFING(data['Open'],data['High'],data['Low'],data['Close'])"
   ]
  },
  {
   "cell_type": "markdown",
   "id": "f78d5abd-68f8-4946-8f9e-c077d48d292b",
   "metadata": {},
   "source": [
    "## 目的変数の生成"
   ]
  },
  {
   "cell_type": "code",
   "execution_count": 7,
   "id": "ee746e99-0ce9-4948-bc89-c74d50dfffc4",
   "metadata": {},
   "outputs": [],
   "source": [
    "# Remove NaN rows \n",
    "data = data.dropna().reset_index()\n",
    "# Create binary target label for prediction\n",
    "data['Target'] = np.where(data['Close'].shift(-1) > data['Close'], 1, 0)"
   ]
  },
  {
   "cell_type": "markdown",
   "id": "c1b87147-e97e-418a-80d1-bf0e222b48fd",
   "metadata": {},
   "source": [
    "## 特徴量の指定とモデルの初期設定"
   ]
  },
  {
   "cell_type": "code",
   "execution_count": 8,
   "id": "5_VuP0zzYBkA",
   "metadata": {
    "executionInfo": {
     "elapsed": 5,
     "status": "ok",
     "timestamp": 1737716114979,
     "user": {
      "displayName": "Kenji Ono",
      "userId": "14327041206082834894"
     },
     "user_tz": -540
    },
    "id": "5_VuP0zzYBkA"
   },
   "outputs": [],
   "source": [
    "# Select features and target\n",
    "features = ['MACD','EFI','RSI','OBV','fastd','Volatility']\n",
    "#features = ['SMA50','SMA200','Volatility','Daily Return']\n",
    "X = data[features]\n",
    "y = data['Target']\n",
    "# Split the data into training and test sets\n",
    "X_train, X_test, y_train, y_test = train_test_split(X, y, test_size=0.2, random_state=42)"
   ]
  },
  {
   "cell_type": "markdown",
   "id": "085020a6-b153-4cd4-9743-c16234203f93",
   "metadata": {},
   "source": [
    "## モデルの生成と学習"
   ]
  },
  {
   "cell_type": "code",
   "execution_count": 9,
   "id": "t6NjQK0gYWcj",
   "metadata": {
    "colab": {
     "base_uri": "https://localhost:8080/"
    },
    "executionInfo": {
     "elapsed": 240,
     "status": "ok",
     "timestamp": 1737716115215,
     "user": {
      "displayName": "Kenji Ono",
      "userId": "14327041206082834894"
     },
     "user_tz": -540
    },
    "id": "t6NjQK0gYWcj",
    "outputId": "f37e611a-185d-45cf-cac1-bbec22366311"
   },
   "outputs": [
    {
     "data": {
      "text/html": [
       "<style>#sk-container-id-1 {\n",
       "  /* Definition of color scheme common for light and dark mode */\n",
       "  --sklearn-color-text: black;\n",
       "  --sklearn-color-line: gray;\n",
       "  /* Definition of color scheme for unfitted estimators */\n",
       "  --sklearn-color-unfitted-level-0: #fff5e6;\n",
       "  --sklearn-color-unfitted-level-1: #f6e4d2;\n",
       "  --sklearn-color-unfitted-level-2: #ffe0b3;\n",
       "  --sklearn-color-unfitted-level-3: chocolate;\n",
       "  /* Definition of color scheme for fitted estimators */\n",
       "  --sklearn-color-fitted-level-0: #f0f8ff;\n",
       "  --sklearn-color-fitted-level-1: #d4ebff;\n",
       "  --sklearn-color-fitted-level-2: #b3dbfd;\n",
       "  --sklearn-color-fitted-level-3: cornflowerblue;\n",
       "\n",
       "  /* Specific color for light theme */\n",
       "  --sklearn-color-text-on-default-background: var(--sg-text-color, var(--theme-code-foreground, var(--jp-content-font-color1, black)));\n",
       "  --sklearn-color-background: var(--sg-background-color, var(--theme-background, var(--jp-layout-color0, white)));\n",
       "  --sklearn-color-border-box: var(--sg-text-color, var(--theme-code-foreground, var(--jp-content-font-color1, black)));\n",
       "  --sklearn-color-icon: #696969;\n",
       "\n",
       "  @media (prefers-color-scheme: dark) {\n",
       "    /* Redefinition of color scheme for dark theme */\n",
       "    --sklearn-color-text-on-default-background: var(--sg-text-color, var(--theme-code-foreground, var(--jp-content-font-color1, white)));\n",
       "    --sklearn-color-background: var(--sg-background-color, var(--theme-background, var(--jp-layout-color0, #111)));\n",
       "    --sklearn-color-border-box: var(--sg-text-color, var(--theme-code-foreground, var(--jp-content-font-color1, white)));\n",
       "    --sklearn-color-icon: #878787;\n",
       "  }\n",
       "}\n",
       "\n",
       "#sk-container-id-1 {\n",
       "  color: var(--sklearn-color-text);\n",
       "}\n",
       "\n",
       "#sk-container-id-1 pre {\n",
       "  padding: 0;\n",
       "}\n",
       "\n",
       "#sk-container-id-1 input.sk-hidden--visually {\n",
       "  border: 0;\n",
       "  clip: rect(1px 1px 1px 1px);\n",
       "  clip: rect(1px, 1px, 1px, 1px);\n",
       "  height: 1px;\n",
       "  margin: -1px;\n",
       "  overflow: hidden;\n",
       "  padding: 0;\n",
       "  position: absolute;\n",
       "  width: 1px;\n",
       "}\n",
       "\n",
       "#sk-container-id-1 div.sk-dashed-wrapped {\n",
       "  border: 1px dashed var(--sklearn-color-line);\n",
       "  margin: 0 0.4em 0.5em 0.4em;\n",
       "  box-sizing: border-box;\n",
       "  padding-bottom: 0.4em;\n",
       "  background-color: var(--sklearn-color-background);\n",
       "}\n",
       "\n",
       "#sk-container-id-1 div.sk-container {\n",
       "  /* jupyter's `normalize.less` sets `[hidden] { display: none; }`\n",
       "     but bootstrap.min.css set `[hidden] { display: none !important; }`\n",
       "     so we also need the `!important` here to be able to override the\n",
       "     default hidden behavior on the sphinx rendered scikit-learn.org.\n",
       "     See: https://github.com/scikit-learn/scikit-learn/issues/21755 */\n",
       "  display: inline-block !important;\n",
       "  position: relative;\n",
       "}\n",
       "\n",
       "#sk-container-id-1 div.sk-text-repr-fallback {\n",
       "  display: none;\n",
       "}\n",
       "\n",
       "div.sk-parallel-item,\n",
       "div.sk-serial,\n",
       "div.sk-item {\n",
       "  /* draw centered vertical line to link estimators */\n",
       "  background-image: linear-gradient(var(--sklearn-color-text-on-default-background), var(--sklearn-color-text-on-default-background));\n",
       "  background-size: 2px 100%;\n",
       "  background-repeat: no-repeat;\n",
       "  background-position: center center;\n",
       "}\n",
       "\n",
       "/* Parallel-specific style estimator block */\n",
       "\n",
       "#sk-container-id-1 div.sk-parallel-item::after {\n",
       "  content: \"\";\n",
       "  width: 100%;\n",
       "  border-bottom: 2px solid var(--sklearn-color-text-on-default-background);\n",
       "  flex-grow: 1;\n",
       "}\n",
       "\n",
       "#sk-container-id-1 div.sk-parallel {\n",
       "  display: flex;\n",
       "  align-items: stretch;\n",
       "  justify-content: center;\n",
       "  background-color: var(--sklearn-color-background);\n",
       "  position: relative;\n",
       "}\n",
       "\n",
       "#sk-container-id-1 div.sk-parallel-item {\n",
       "  display: flex;\n",
       "  flex-direction: column;\n",
       "}\n",
       "\n",
       "#sk-container-id-1 div.sk-parallel-item:first-child::after {\n",
       "  align-self: flex-end;\n",
       "  width: 50%;\n",
       "}\n",
       "\n",
       "#sk-container-id-1 div.sk-parallel-item:last-child::after {\n",
       "  align-self: flex-start;\n",
       "  width: 50%;\n",
       "}\n",
       "\n",
       "#sk-container-id-1 div.sk-parallel-item:only-child::after {\n",
       "  width: 0;\n",
       "}\n",
       "\n",
       "/* Serial-specific style estimator block */\n",
       "\n",
       "#sk-container-id-1 div.sk-serial {\n",
       "  display: flex;\n",
       "  flex-direction: column;\n",
       "  align-items: center;\n",
       "  background-color: var(--sklearn-color-background);\n",
       "  padding-right: 1em;\n",
       "  padding-left: 1em;\n",
       "}\n",
       "\n",
       "\n",
       "/* Toggleable style: style used for estimator/Pipeline/ColumnTransformer box that is\n",
       "clickable and can be expanded/collapsed.\n",
       "- Pipeline and ColumnTransformer use this feature and define the default style\n",
       "- Estimators will overwrite some part of the style using the `sk-estimator` class\n",
       "*/\n",
       "\n",
       "/* Pipeline and ColumnTransformer style (default) */\n",
       "\n",
       "#sk-container-id-1 div.sk-toggleable {\n",
       "  /* Default theme specific background. It is overwritten whether we have a\n",
       "  specific estimator or a Pipeline/ColumnTransformer */\n",
       "  background-color: var(--sklearn-color-background);\n",
       "}\n",
       "\n",
       "/* Toggleable label */\n",
       "#sk-container-id-1 label.sk-toggleable__label {\n",
       "  cursor: pointer;\n",
       "  display: block;\n",
       "  width: 100%;\n",
       "  margin-bottom: 0;\n",
       "  padding: 0.5em;\n",
       "  box-sizing: border-box;\n",
       "  text-align: center;\n",
       "}\n",
       "\n",
       "#sk-container-id-1 label.sk-toggleable__label-arrow:before {\n",
       "  /* Arrow on the left of the label */\n",
       "  content: \"▸\";\n",
       "  float: left;\n",
       "  margin-right: 0.25em;\n",
       "  color: var(--sklearn-color-icon);\n",
       "}\n",
       "\n",
       "#sk-container-id-1 label.sk-toggleable__label-arrow:hover:before {\n",
       "  color: var(--sklearn-color-text);\n",
       "}\n",
       "\n",
       "/* Toggleable content - dropdown */\n",
       "\n",
       "#sk-container-id-1 div.sk-toggleable__content {\n",
       "  max-height: 0;\n",
       "  max-width: 0;\n",
       "  overflow: hidden;\n",
       "  text-align: left;\n",
       "  /* unfitted */\n",
       "  background-color: var(--sklearn-color-unfitted-level-0);\n",
       "}\n",
       "\n",
       "#sk-container-id-1 div.sk-toggleable__content.fitted {\n",
       "  /* fitted */\n",
       "  background-color: var(--sklearn-color-fitted-level-0);\n",
       "}\n",
       "\n",
       "#sk-container-id-1 div.sk-toggleable__content pre {\n",
       "  margin: 0.2em;\n",
       "  border-radius: 0.25em;\n",
       "  color: var(--sklearn-color-text);\n",
       "  /* unfitted */\n",
       "  background-color: var(--sklearn-color-unfitted-level-0);\n",
       "}\n",
       "\n",
       "#sk-container-id-1 div.sk-toggleable__content.fitted pre {\n",
       "  /* unfitted */\n",
       "  background-color: var(--sklearn-color-fitted-level-0);\n",
       "}\n",
       "\n",
       "#sk-container-id-1 input.sk-toggleable__control:checked~div.sk-toggleable__content {\n",
       "  /* Expand drop-down */\n",
       "  max-height: 200px;\n",
       "  max-width: 100%;\n",
       "  overflow: auto;\n",
       "}\n",
       "\n",
       "#sk-container-id-1 input.sk-toggleable__control:checked~label.sk-toggleable__label-arrow:before {\n",
       "  content: \"▾\";\n",
       "}\n",
       "\n",
       "/* Pipeline/ColumnTransformer-specific style */\n",
       "\n",
       "#sk-container-id-1 div.sk-label input.sk-toggleable__control:checked~label.sk-toggleable__label {\n",
       "  color: var(--sklearn-color-text);\n",
       "  background-color: var(--sklearn-color-unfitted-level-2);\n",
       "}\n",
       "\n",
       "#sk-container-id-1 div.sk-label.fitted input.sk-toggleable__control:checked~label.sk-toggleable__label {\n",
       "  background-color: var(--sklearn-color-fitted-level-2);\n",
       "}\n",
       "\n",
       "/* Estimator-specific style */\n",
       "\n",
       "/* Colorize estimator box */\n",
       "#sk-container-id-1 div.sk-estimator input.sk-toggleable__control:checked~label.sk-toggleable__label {\n",
       "  /* unfitted */\n",
       "  background-color: var(--sklearn-color-unfitted-level-2);\n",
       "}\n",
       "\n",
       "#sk-container-id-1 div.sk-estimator.fitted input.sk-toggleable__control:checked~label.sk-toggleable__label {\n",
       "  /* fitted */\n",
       "  background-color: var(--sklearn-color-fitted-level-2);\n",
       "}\n",
       "\n",
       "#sk-container-id-1 div.sk-label label.sk-toggleable__label,\n",
       "#sk-container-id-1 div.sk-label label {\n",
       "  /* The background is the default theme color */\n",
       "  color: var(--sklearn-color-text-on-default-background);\n",
       "}\n",
       "\n",
       "/* On hover, darken the color of the background */\n",
       "#sk-container-id-1 div.sk-label:hover label.sk-toggleable__label {\n",
       "  color: var(--sklearn-color-text);\n",
       "  background-color: var(--sklearn-color-unfitted-level-2);\n",
       "}\n",
       "\n",
       "/* Label box, darken color on hover, fitted */\n",
       "#sk-container-id-1 div.sk-label.fitted:hover label.sk-toggleable__label.fitted {\n",
       "  color: var(--sklearn-color-text);\n",
       "  background-color: var(--sklearn-color-fitted-level-2);\n",
       "}\n",
       "\n",
       "/* Estimator label */\n",
       "\n",
       "#sk-container-id-1 div.sk-label label {\n",
       "  font-family: monospace;\n",
       "  font-weight: bold;\n",
       "  display: inline-block;\n",
       "  line-height: 1.2em;\n",
       "}\n",
       "\n",
       "#sk-container-id-1 div.sk-label-container {\n",
       "  text-align: center;\n",
       "}\n",
       "\n",
       "/* Estimator-specific */\n",
       "#sk-container-id-1 div.sk-estimator {\n",
       "  font-family: monospace;\n",
       "  border: 1px dotted var(--sklearn-color-border-box);\n",
       "  border-radius: 0.25em;\n",
       "  box-sizing: border-box;\n",
       "  margin-bottom: 0.5em;\n",
       "  /* unfitted */\n",
       "  background-color: var(--sklearn-color-unfitted-level-0);\n",
       "}\n",
       "\n",
       "#sk-container-id-1 div.sk-estimator.fitted {\n",
       "  /* fitted */\n",
       "  background-color: var(--sklearn-color-fitted-level-0);\n",
       "}\n",
       "\n",
       "/* on hover */\n",
       "#sk-container-id-1 div.sk-estimator:hover {\n",
       "  /* unfitted */\n",
       "  background-color: var(--sklearn-color-unfitted-level-2);\n",
       "}\n",
       "\n",
       "#sk-container-id-1 div.sk-estimator.fitted:hover {\n",
       "  /* fitted */\n",
       "  background-color: var(--sklearn-color-fitted-level-2);\n",
       "}\n",
       "\n",
       "/* Specification for estimator info (e.g. \"i\" and \"?\") */\n",
       "\n",
       "/* Common style for \"i\" and \"?\" */\n",
       "\n",
       ".sk-estimator-doc-link,\n",
       "a:link.sk-estimator-doc-link,\n",
       "a:visited.sk-estimator-doc-link {\n",
       "  float: right;\n",
       "  font-size: smaller;\n",
       "  line-height: 1em;\n",
       "  font-family: monospace;\n",
       "  background-color: var(--sklearn-color-background);\n",
       "  border-radius: 1em;\n",
       "  height: 1em;\n",
       "  width: 1em;\n",
       "  text-decoration: none !important;\n",
       "  margin-left: 1ex;\n",
       "  /* unfitted */\n",
       "  border: var(--sklearn-color-unfitted-level-1) 1pt solid;\n",
       "  color: var(--sklearn-color-unfitted-level-1);\n",
       "}\n",
       "\n",
       ".sk-estimator-doc-link.fitted,\n",
       "a:link.sk-estimator-doc-link.fitted,\n",
       "a:visited.sk-estimator-doc-link.fitted {\n",
       "  /* fitted */\n",
       "  border: var(--sklearn-color-fitted-level-1) 1pt solid;\n",
       "  color: var(--sklearn-color-fitted-level-1);\n",
       "}\n",
       "\n",
       "/* On hover */\n",
       "div.sk-estimator:hover .sk-estimator-doc-link:hover,\n",
       ".sk-estimator-doc-link:hover,\n",
       "div.sk-label-container:hover .sk-estimator-doc-link:hover,\n",
       ".sk-estimator-doc-link:hover {\n",
       "  /* unfitted */\n",
       "  background-color: var(--sklearn-color-unfitted-level-3);\n",
       "  color: var(--sklearn-color-background);\n",
       "  text-decoration: none;\n",
       "}\n",
       "\n",
       "div.sk-estimator.fitted:hover .sk-estimator-doc-link.fitted:hover,\n",
       ".sk-estimator-doc-link.fitted:hover,\n",
       "div.sk-label-container:hover .sk-estimator-doc-link.fitted:hover,\n",
       ".sk-estimator-doc-link.fitted:hover {\n",
       "  /* fitted */\n",
       "  background-color: var(--sklearn-color-fitted-level-3);\n",
       "  color: var(--sklearn-color-background);\n",
       "  text-decoration: none;\n",
       "}\n",
       "\n",
       "/* Span, style for the box shown on hovering the info icon */\n",
       ".sk-estimator-doc-link span {\n",
       "  display: none;\n",
       "  z-index: 9999;\n",
       "  position: relative;\n",
       "  font-weight: normal;\n",
       "  right: .2ex;\n",
       "  padding: .5ex;\n",
       "  margin: .5ex;\n",
       "  width: min-content;\n",
       "  min-width: 20ex;\n",
       "  max-width: 50ex;\n",
       "  color: var(--sklearn-color-text);\n",
       "  box-shadow: 2pt 2pt 4pt #999;\n",
       "  /* unfitted */\n",
       "  background: var(--sklearn-color-unfitted-level-0);\n",
       "  border: .5pt solid var(--sklearn-color-unfitted-level-3);\n",
       "}\n",
       "\n",
       ".sk-estimator-doc-link.fitted span {\n",
       "  /* fitted */\n",
       "  background: var(--sklearn-color-fitted-level-0);\n",
       "  border: var(--sklearn-color-fitted-level-3);\n",
       "}\n",
       "\n",
       ".sk-estimator-doc-link:hover span {\n",
       "  display: block;\n",
       "}\n",
       "\n",
       "/* \"?\"-specific style due to the `<a>` HTML tag */\n",
       "\n",
       "#sk-container-id-1 a.estimator_doc_link {\n",
       "  float: right;\n",
       "  font-size: 1rem;\n",
       "  line-height: 1em;\n",
       "  font-family: monospace;\n",
       "  background-color: var(--sklearn-color-background);\n",
       "  border-radius: 1rem;\n",
       "  height: 1rem;\n",
       "  width: 1rem;\n",
       "  text-decoration: none;\n",
       "  /* unfitted */\n",
       "  color: var(--sklearn-color-unfitted-level-1);\n",
       "  border: var(--sklearn-color-unfitted-level-1) 1pt solid;\n",
       "}\n",
       "\n",
       "#sk-container-id-1 a.estimator_doc_link.fitted {\n",
       "  /* fitted */\n",
       "  border: var(--sklearn-color-fitted-level-1) 1pt solid;\n",
       "  color: var(--sklearn-color-fitted-level-1);\n",
       "}\n",
       "\n",
       "/* On hover */\n",
       "#sk-container-id-1 a.estimator_doc_link:hover {\n",
       "  /* unfitted */\n",
       "  background-color: var(--sklearn-color-unfitted-level-3);\n",
       "  color: var(--sklearn-color-background);\n",
       "  text-decoration: none;\n",
       "}\n",
       "\n",
       "#sk-container-id-1 a.estimator_doc_link.fitted:hover {\n",
       "  /* fitted */\n",
       "  background-color: var(--sklearn-color-fitted-level-3);\n",
       "}\n",
       "</style><div id=\"sk-container-id-1\" class=\"sk-top-container\"><div class=\"sk-text-repr-fallback\"><pre>LogisticRegression(max_iter=1000, penalty=&#x27;l1&#x27;, solver=&#x27;liblinear&#x27;)</pre><b>In a Jupyter environment, please rerun this cell to show the HTML representation or trust the notebook. <br />On GitHub, the HTML representation is unable to render, please try loading this page with nbviewer.org.</b></div><div class=\"sk-container\" hidden><div class=\"sk-item\"><div class=\"sk-estimator fitted sk-toggleable\"><input class=\"sk-toggleable__control sk-hidden--visually\" id=\"sk-estimator-id-1\" type=\"checkbox\" checked><label for=\"sk-estimator-id-1\" class=\"sk-toggleable__label fitted sk-toggleable__label-arrow fitted\">&nbsp;&nbsp;LogisticRegression<a class=\"sk-estimator-doc-link fitted\" rel=\"noreferrer\" target=\"_blank\" href=\"https://scikit-learn.org/1.5/modules/generated/sklearn.linear_model.LogisticRegression.html\">?<span>Documentation for LogisticRegression</span></a><span class=\"sk-estimator-doc-link fitted\">i<span>Fitted</span></span></label><div class=\"sk-toggleable__content fitted\"><pre>LogisticRegression(max_iter=1000, penalty=&#x27;l1&#x27;, solver=&#x27;liblinear&#x27;)</pre></div> </div></div></div></div>"
      ],
      "text/plain": [
       "LogisticRegression(max_iter=1000, penalty='l1', solver='liblinear')"
      ]
     },
     "execution_count": 9,
     "metadata": {},
     "output_type": "execute_result"
    }
   ],
   "source": [
    "# Create and train the model\n",
    "#model = LogisticRegression()\n",
    "model = LogisticRegression(penalty='l1', solver='liblinear', C=1.0, max_iter=1000)\n",
    "#model = LogisticRegression(penalty='l2', solver='lbfgs', C=1.0)\n",
    "#model = LogisticRegression(penalty='elasticnet', solver='saga', l1_ratio=0.5, C=1.0)\n",
    "model.fit(X_train, y_train)"
   ]
  },
  {
   "cell_type": "code",
   "execution_count": 10,
   "id": "c99691b1-e2a5-44f6-aefd-e2430c4ff959",
   "metadata": {},
   "outputs": [
    {
     "name": "stdout",
     "output_type": "stream",
     "text": [
      "Accuracy: 0.5932203389830508\n",
      "Confusion Matrix:\n",
      " [[27 11]\n",
      " [13  8]]\n"
     ]
    }
   ],
   "source": [
    "# Evaluate the model\n",
    "y_pred = model.predict(X_test)  \n",
    "print(\"Accuracy:\", accuracy_score(y_test, y_pred))  \n",
    "print(\"Confusion Matrix:\\n\", confusion_matrix(y_test, y_pred))"
   ]
  },
  {
   "cell_type": "code",
   "execution_count": 11,
   "id": "e8b5d187-3676-46ee-a760-15f0efe62788",
   "metadata": {},
   "outputs": [
    {
     "name": "stdout",
     "output_type": "stream",
     "text": [
      "Prediction: [0]\n"
     ]
    }
   ],
   "source": [
    "new_data = X.tail(1)\n",
    "prediction = model.predict(new_data)  \n",
    "print(\"Prediction:\", prediction)"
   ]
  },
  {
   "cell_type": "code",
   "execution_count": 12,
   "id": "5e267751-e3fd-4c97-91f3-e581a018085e",
   "metadata": {},
   "outputs": [
    {
     "name": "stdout",
     "output_type": "stream",
     "text": [
      "[[0.52999303 0.47000697]]\n"
     ]
    }
   ],
   "source": [
    "# Get probability predictions\n",
    "probabilities = model.predict_proba(new_data)\n",
    "# Print the first few probability predictions\n",
    "print(probabilities)"
   ]
  },
  {
   "cell_type": "markdown",
   "id": "57a1775a-a6ab-4c2f-986f-69b20ba4fe0e",
   "metadata": {},
   "source": [
    "## ポジションとリターン"
   ]
  },
  {
   "cell_type": "code",
   "execution_count": 13,
   "id": "6YibID1KYbU9",
   "metadata": {
    "executionInfo": {
     "elapsed": 9,
     "status": "ok",
     "timestamp": 1737716115216,
     "user": {
      "displayName": "Kenji Ono",
      "userId": "14327041206082834894"
     },
     "user_tz": -540
    },
    "id": "6YibID1KYbU9"
   },
   "outputs": [],
   "source": [
    "# Add predictions to the test DataFrame\n",
    "data['Predicted_Signal'] = model.predict(X) * 2 - 1\n",
    "# Create the trading position: 1 for buy, -1 for sell\n",
    "data['Position'] = data['Predicted_Signal'].shift()\n",
    "# Calculate strategy returns\n",
    "data['Strategy_Returns'] = data['Position'] * data['Daily Return']\n",
    "data['Cumulative_Strategy_Returns'] = (1 + data['Strategy_Returns']).cumprod() - 1\n",
    "data['Cumulative_Market_Returns'] = (1 + data['Daily Return']).cumprod() - 1"
   ]
  },
  {
   "cell_type": "markdown",
   "id": "c8e0e8cf-1924-4c21-889f-2080a29e9f86",
   "metadata": {},
   "source": [
    "## バックテスト"
   ]
  },
  {
   "cell_type": "code",
   "execution_count": 14,
   "id": "baAtlBfM2vR-",
   "metadata": {
    "colab": {
     "base_uri": "https://localhost:8080/"
    },
    "executionInfo": {
     "elapsed": 8,
     "status": "ok",
     "timestamp": 1737716115216,
     "user": {
      "displayName": "Kenji Ono",
      "userId": "14327041206082834894"
     },
     "user_tz": -540
    },
    "id": "baAtlBfM2vR-",
    "outputId": "1cd37992-e170-430d-ff93-1e9bdef3a5c1"
   },
   "outputs": [
    {
     "name": "stdout",
     "output_type": "stream",
     "text": [
      "9  Performance\n",
      "{'Cumulative Return': 0.14790463486715, 'Volatility': 0.1627264190332415, 'Sharpe Ratio': 0.8177120460909274}\n"
     ]
    }
   ],
   "source": [
    "initial_balance = 10000\n",
    "df = data.copy()\n",
    "df['Portfolio_Value'] = (1 + df['Strategy_Returns']).cumprod() * initial_balance\n",
    "df.at[df.index[0], 'Portfolio_Value'] = initial_balance\n",
    "performance = evaluate_performance(df)\n",
    "print(ticker[0]  + '  Performance')\n",
    "print(performance)"
   ]
  },
  {
   "cell_type": "markdown",
   "id": "aac0f853-1f8a-42c9-a637-45ccec6cf702",
   "metadata": {},
   "source": [
    "## パフォーマンスの図示"
   ]
  },
  {
   "cell_type": "code",
   "execution_count": 15,
   "id": "IvaZXYtGYfpN",
   "metadata": {
    "colab": {
     "base_uri": "https://localhost:8080/",
     "height": 622
    },
    "executionInfo": {
     "elapsed": 583,
     "status": "ok",
     "timestamp": 1737716115794,
     "user": {
      "displayName": "Kenji Ono",
      "userId": "14327041206082834894"
     },
     "user_tz": -540
    },
    "id": "IvaZXYtGYfpN",
    "outputId": "2b9f8b58-de37-4df2-fa61-0c5e22a71df8"
   },
   "outputs": [
    {
     "data": {
      "image/png": "[encoded data removed]",
      "text/plain": [
       "<Figure size 1400x700 with 1 Axes>"
      ]
     },
     "metadata": {},
     "output_type": "display_data"
    }
   ],
   "source": [
    "plt.figure(figsize=(14,7))\n",
    "plt.plot(data['Cumulative_Market_Returns'], label='Market Returns')\n",
    "plt.plot(data['Cumulative_Strategy_Returns'], label='Strategy Returns', alpha=0.7)\n",
    "plt.legend(loc='upper left')\n",
    "plt.title(ticker+' Performance Comparison: LogReg Strategy vs. Market')\n",
    "plt.show()"
   ]
  }
 ],
 "metadata": {
  "colab": {
   "provenance": [
    {
     "file_id": "1dvRrTXHtvtC6bWW49k4CSa3X-aMje7y_",
     "timestamp": 1737605349446
    },
    {
     "file_id": "1v0B9_R3TmygaP5W-29meXHOLTpgQMAeD",
     "timestamp": 1736126579472
    },
    {
     "file_id": "1Oh5vBBqoiuiZBoXCOj2VfqCtKpnV8yi0",
     "timestamp": 1732195678253
    },
    {
     "file_id": "1k2wLOBwuIIkDmNQxoVM-sxf3tWU7PcUr",
     "timestamp": 1731224264132
    },
    {
     "file_id": "1ujuKktbkMW5WGW9ZqzCql-qOZEkYL0-6",
     "timestamp": 1730010626783
    },
    {
     "file_id": "1dKulbQ1mF-Q9DcbuBon-cCWvrqCZUjKj",
     "timestamp": 1728446204791
    },
    {
     "file_id": "181I-K8h3XFNjCa16kFfORO9uv8OYGt7Y",
     "timestamp": 1726907657742
    },
    {
     "file_id": "11DpMbWFDyGQY2NkMCMyWR6G-nNxwMPcY",
     "timestamp": 1724983889864
    },
    {
     "file_id": "1aVZmrOw2Ud_m7A3FP9L3AEiY_UiP6pIi",
     "timestamp": 1723620421965
    },
    {
     "file_id": "1MLr-3X3MubbIiF4LiU_HvMOTDc3OaDBP",
     "timestamp": 1718142112654
    },
    {
     "file_id": "1oFCfoIW54eNiyCdNbcD6JcLTqTYiHvXr",
     "timestamp": 1708478097999
    },
    {
     "file_id": "19D1YZJbs2YzpybNF3bA-Xt16VhP2Nd94",
     "timestamp": 1707283956897
    },
    {
     "file_id": "16b8qsauiGYqpE4UC1evXULtUil-iAPHE",
     "timestamp": 1694868054206
    }
   ]
  },
  "kernelspec": {
   "display_name": "Python 3 (ipykernel)",
   "language": "python",
   "name": "python3"
  },
  "language_info": {
   "codemirror_mode": {
    "name": "ipython",
    "version": 3
   },
   "file_extension": ".py",
   "mimetype": "text/x-python",
   "name": "python",
   "nbconvert_exporter": "python",
   "pygments_lexer": "ipython3",
   "version": "3.12.3"
  }
 },
 "nbformat": 4,
 "nbformat_minor": 5
}
