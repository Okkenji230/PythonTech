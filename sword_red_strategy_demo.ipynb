{
 "cells": [
  {
   "cell_type": "markdown",
   "id": "05c24c9f-78bd-464c-9482-e2234c65d00a",
   "metadata": {},
   "source": [
    "# Sword Red Strategy Demo"
   ]
  },
  {
   "cell_type": "raw",
   "id": "595019b5-7631-4865-9032-d161411e971e",
   "metadata": {},
   "source": [
    "EMA RSI MACD Dynamic Take Profit and Stop Loss Trading Strategy\n",
    "https://medium.com/@redsword_23261/ema-rsi-macd-dynamic-take-profit-and-stop-loss-trading-strategy-9ed6cc1cb02b"
   ]
  },
  {
   "cell_type": "code",
   "execution_count": 1,
   "id": "9b0a1c22-cd45-4725-8b8b-b1f3b49d5e04",
   "metadata": {},
   "outputs": [],
   "source": [
    "import pandas as pd\n",
    "import numpy as np\n",
    "from datetime import date, datetime, timedelta\n",
    "import matplotlib.pyplot as plt\n",
    "import yfinance as yf\n",
    "import mplfinance as mpf\n",
    "import talib"
   ]
  },
  {
   "cell_type": "code",
   "execution_count": 2,
   "id": "a5e7cd86-b5ae-4ae0-8608-32bd032a7c8b",
   "metadata": {},
   "outputs": [
    {
     "name": "stderr",
     "output_type": "stream",
     "text": [
      "[*********************100%%**********************]  1 of 1 completed\n"
     ]
    }
   ],
   "source": [
    "symbol = '9726.T'\n",
    "#symbol = 'USDJPY=X'\n",
    "end_date = datetime.today()\n",
    "start_date = end_date - timedelta(days=730)\n",
    "# yahooサイトからデータをダウンロード\n",
    "data = yf.download(symbol, start_date, end_date)"
   ]
  },
  {
   "cell_type": "code",
   "execution_count": 3,
   "id": "52c1d6ee-afed-4631-a205-4bee524efa9f",
   "metadata": {},
   "outputs": [
    {
     "data": {
      "text/html": [
       "<div>\n",
       "<style scoped>\n",
       "    .dataframe tbody tr th:only-of-type {\n",
       "        vertical-align: middle;\n",
       "    }\n",
       "\n",
       "    .dataframe tbody tr th {\n",
       "        vertical-align: top;\n",
       "    }\n",
       "\n",
       "    .dataframe thead th {\n",
       "        text-align: right;\n",
       "    }\n",
       "</style>\n",
       "<table border=\"1\" class=\"dataframe\">\n",
       "  <thead>\n",
       "    <tr style=\"text-align: right;\">\n",
       "      <th></th>\n",
       "      <th>Open</th>\n",
       "      <th>High</th>\n",
       "      <th>Low</th>\n",
       "      <th>Close</th>\n",
       "      <th>Adj Close</th>\n",
       "      <th>Volume</th>\n",
       "    </tr>\n",
       "    <tr>\n",
       "      <th>Date</th>\n",
       "      <th></th>\n",
       "      <th></th>\n",
       "      <th></th>\n",
       "      <th></th>\n",
       "      <th></th>\n",
       "      <th></th>\n",
       "    </tr>\n",
       "  </thead>\n",
       "  <tbody>\n",
       "    <tr>\n",
       "      <th>2022-09-05</th>\n",
       "      <td>1648.0</td>\n",
       "      <td>1648.0</td>\n",
       "      <td>1608.0</td>\n",
       "      <td>1620.0</td>\n",
       "      <td>1620.0</td>\n",
       "      <td>48300</td>\n",
       "    </tr>\n",
       "    <tr>\n",
       "      <th>2022-09-06</th>\n",
       "      <td>1605.0</td>\n",
       "      <td>1606.0</td>\n",
       "      <td>1575.0</td>\n",
       "      <td>1589.0</td>\n",
       "      <td>1589.0</td>\n",
       "      <td>68500</td>\n",
       "    </tr>\n",
       "    <tr>\n",
       "      <th>2022-09-07</th>\n",
       "      <td>1570.0</td>\n",
       "      <td>1588.0</td>\n",
       "      <td>1543.0</td>\n",
       "      <td>1585.0</td>\n",
       "      <td>1585.0</td>\n",
       "      <td>50800</td>\n",
       "    </tr>\n",
       "    <tr>\n",
       "      <th>2022-09-08</th>\n",
       "      <td>1616.0</td>\n",
       "      <td>1623.0</td>\n",
       "      <td>1590.0</td>\n",
       "      <td>1597.0</td>\n",
       "      <td>1597.0</td>\n",
       "      <td>49100</td>\n",
       "    </tr>\n",
       "    <tr>\n",
       "      <th>2022-09-09</th>\n",
       "      <td>1599.0</td>\n",
       "      <td>1635.0</td>\n",
       "      <td>1587.0</td>\n",
       "      <td>1631.0</td>\n",
       "      <td>1631.0</td>\n",
       "      <td>56300</td>\n",
       "    </tr>\n",
       "  </tbody>\n",
       "</table>\n",
       "</div>"
      ],
      "text/plain": [
       "              Open    High     Low   Close  Adj Close  Volume\n",
       "Date                                                         \n",
       "2022-09-05  1648.0  1648.0  1608.0  1620.0     1620.0   48300\n",
       "2022-09-06  1605.0  1606.0  1575.0  1589.0     1589.0   68500\n",
       "2022-09-07  1570.0  1588.0  1543.0  1585.0     1585.0   50800\n",
       "2022-09-08  1616.0  1623.0  1590.0  1597.0     1597.0   49100\n",
       "2022-09-09  1599.0  1635.0  1587.0  1631.0     1631.0   56300"
      ]
     },
     "execution_count": 3,
     "metadata": {},
     "output_type": "execute_result"
    }
   ],
   "source": [
    "data.head()"
   ]
  },
  {
   "cell_type": "code",
   "execution_count": 4,
   "id": "b5d209d7-4e6e-42e2-a8b6-8187fabd5261",
   "metadata": {},
   "outputs": [],
   "source": [
    "df = data.reset_index().drop(columns='Close').rename(columns={'Date':'timestamp', 'Open':'open', \\\n",
    "                        'High':'high', 'Low':'low', 'Adj Close':'close', 'Volume':'volume'})"
   ]
  },
  {
   "cell_type": "code",
   "execution_count": 5,
   "id": "75afcec8-ccae-46c7-b9ba-ad846225ff0e",
   "metadata": {},
   "outputs": [
    {
     "data": {
      "text/html": [
       "<div>\n",
       "<style scoped>\n",
       "    .dataframe tbody tr th:only-of-type {\n",
       "        vertical-align: middle;\n",
       "    }\n",
       "\n",
       "    .dataframe tbody tr th {\n",
       "        vertical-align: top;\n",
       "    }\n",
       "\n",
       "    .dataframe thead th {\n",
       "        text-align: right;\n",
       "    }\n",
       "</style>\n",
       "<table border=\"1\" class=\"dataframe\">\n",
       "  <thead>\n",
       "    <tr style=\"text-align: right;\">\n",
       "      <th></th>\n",
       "      <th>timestamp</th>\n",
       "      <th>open</th>\n",
       "      <th>high</th>\n",
       "      <th>low</th>\n",
       "      <th>close</th>\n",
       "      <th>volume</th>\n",
       "    </tr>\n",
       "  </thead>\n",
       "  <tbody>\n",
       "    <tr>\n",
       "      <th>0</th>\n",
       "      <td>2022-09-05</td>\n",
       "      <td>1648.0</td>\n",
       "      <td>1648.0</td>\n",
       "      <td>1608.0</td>\n",
       "      <td>1620.0</td>\n",
       "      <td>48300</td>\n",
       "    </tr>\n",
       "    <tr>\n",
       "      <th>1</th>\n",
       "      <td>2022-09-06</td>\n",
       "      <td>1605.0</td>\n",
       "      <td>1606.0</td>\n",
       "      <td>1575.0</td>\n",
       "      <td>1589.0</td>\n",
       "      <td>68500</td>\n",
       "    </tr>\n",
       "    <tr>\n",
       "      <th>2</th>\n",
       "      <td>2022-09-07</td>\n",
       "      <td>1570.0</td>\n",
       "      <td>1588.0</td>\n",
       "      <td>1543.0</td>\n",
       "      <td>1585.0</td>\n",
       "      <td>50800</td>\n",
       "    </tr>\n",
       "    <tr>\n",
       "      <th>3</th>\n",
       "      <td>2022-09-08</td>\n",
       "      <td>1616.0</td>\n",
       "      <td>1623.0</td>\n",
       "      <td>1590.0</td>\n",
       "      <td>1597.0</td>\n",
       "      <td>49100</td>\n",
       "    </tr>\n",
       "    <tr>\n",
       "      <th>4</th>\n",
       "      <td>2022-09-09</td>\n",
       "      <td>1599.0</td>\n",
       "      <td>1635.0</td>\n",
       "      <td>1587.0</td>\n",
       "      <td>1631.0</td>\n",
       "      <td>56300</td>\n",
       "    </tr>\n",
       "  </tbody>\n",
       "</table>\n",
       "</div>"
      ],
      "text/plain": [
       "   timestamp    open    high     low   close  volume\n",
       "0 2022-09-05  1648.0  1648.0  1608.0  1620.0   48300\n",
       "1 2022-09-06  1605.0  1606.0  1575.0  1589.0   68500\n",
       "2 2022-09-07  1570.0  1588.0  1543.0  1585.0   50800\n",
       "3 2022-09-08  1616.0  1623.0  1590.0  1597.0   49100\n",
       "4 2022-09-09  1599.0  1635.0  1587.0  1631.0   56300"
      ]
     },
     "execution_count": 5,
     "metadata": {},
     "output_type": "execute_result"
    }
   ],
   "source": [
    "df.head()"
   ]
  },
  {
   "cell_type": "code",
   "execution_count": 6,
   "id": "33f8b8ad-ebd4-40fa-9165-0ef693b584e6",
   "metadata": {},
   "outputs": [],
   "source": [
    "# crossover and crossunder function (by ChatGPT)\n",
    "def crossover(series1, series2):\n",
    "    # Ensure the inputs are numpy arrays for element-wise operations\n",
    "    series1 = np.array(series1)\n",
    "    series2 = np.array(series2)\n",
    "    # Calculate the crossover: (previous series1 < previous series2) and (current series1 > current series2)\n",
    "    cross = (series1[:-1] < series2[:-1]) & (series1[1:] > series2[1:])\n",
    "    # Append a False at the start since there is no crossover detection at the first element\n",
    "    return np.append(False, cross)\n",
    "\n",
    "def crossunder(series1, series2):\n",
    "    # Ensure the inputs are numpy arrays for element-wise operations\n",
    "    series1 = np.array(series1)\n",
    "    series2 = np.array(series2)\n",
    "    # Calculate the crossunder: (previous series1 > previous series2) and (current series1 < current series2)\n",
    "    cross = (series1[:-1] > series2[:-1]) & (series1[1:] < series2[1:])\n",
    "    # Append a False at the start since there is no crossunder detection at the first element\n",
    "    return np.append(False, cross)"
   ]
  },
  {
   "cell_type": "code",
   "execution_count": 7,
   "id": "55ee6e11-15ad-40a5-96f2-d7802d44424e",
   "metadata": {},
   "outputs": [],
   "source": [
    "#Input parameters\n",
    "ema1Length = 9\n",
    "ema2Length = 21\n",
    "ema3Length = 34\n",
    "rsiLength = 14\n",
    "rsiThreshold = 50\n",
    "macdFastLength = 12\n",
    "macdSlowLength = 26\n",
    "macdSignalSmoothing = 9"
   ]
  },
  {
   "cell_type": "code",
   "execution_count": 8,
   "id": "6053eb9f-19f0-4a2f-8fb3-05d20b37aed4",
   "metadata": {},
   "outputs": [],
   "source": [
    "# HLCC4 calculation\n",
    "df['hlcc4_custom'] = (df['high'] + df['low'] + df['close'] + df['close']) / 4"
   ]
  },
  {
   "cell_type": "code",
   "execution_count": 9,
   "id": "fb73ed83-1134-4778-abbf-7a2fae1bb8ba",
   "metadata": {},
   "outputs": [],
   "source": [
    "# Calculate EMA and RSI based on HLCC4\n",
    "df[\"ema1\"] = talib.EMA(df[\"hlcc4_custom\"], timeperiod=ema1Length)\n",
    "df[\"ema2\"] = talib.EMA(df[\"hlcc4_custom\"], timeperiod=ema2Length)\n",
    "df[\"ema3\"] = talib.EMA(df[\"hlcc4_custom\"], timeperiod=ema3Length)\n",
    "df[\"rsi\"] = talib.RSI(df[\"hlcc4_custom\"], timeperiod=rsiLength)\n",
    "# Calculate MACD Histogram\n",
    "df[\"a\"], df[\"b\"], df[\"histogram\"] = talib.MACD(df[\"hlcc4_custom\"],\\\n",
    "        fastperiod=macdFastLength, slowperiod=macdSlowLength, signalperiod=macdSignalSmoothing)"
   ]
  },
  {
   "cell_type": "code",
   "execution_count": 10,
   "id": "7f8eed47-92a3-4eb4-a3a7-6b62230027e9",
   "metadata": {},
   "outputs": [],
   "source": [
    "# EMA1 and EMA2 crossover conditions\n",
    "df['emaCrossUp'] = crossover(df['ema1'], df['ema2'])\n",
    "df['emaCrossDown'] = crossunder(df['ema1'], df['ema2'])\n",
    "\n",
    "# BUY signal conditions\n",
    "df['buySignal'] = df['emaCrossUp'] & (df['hlcc4_custom'] > df['ema3']) & \\\n",
    "    (df['rsi'] > rsiThreshold) & (df['close'] > df['open']) & (df['histogram'] > 0)\n",
    "\n",
    "# SELL signal conditions\n",
    "df['sellSignal'] = df['emaCrossDown'] & (df['hlcc4_custom'] < df['ema3']) & \\\n",
    "    (df['rsi'] < rsiThreshold) & (df['close'] < df['open']) & (df['histogram'] < 0)"
   ]
  },
  {
   "cell_type": "code",
   "execution_count": 11,
   "id": "7c4def80-7977-43f5-badf-de277e246d9d",
   "metadata": {},
   "outputs": [
    {
     "data": {
      "image/png": "[encoded data removed]",
      "text/plain": [
       "<Figure size 1000x500 with 1 Axes>"
      ]
     },
     "metadata": {},
     "output_type": "display_data"
    }
   ],
   "source": [
    "# 終値と各種指標のプロット\n",
    "plt.figure(figsize=(10, 5))\n",
    "plt.plot(df['timestamp'], df['close'], label='Close Price')\n",
    "# 売買ポジションのプロット\n",
    "plt.scatter(df['timestamp'][df['buySignal']], df['close'][df['buySignal']], color='green', label='Buy position', marker=\"^\", s=100)\n",
    "plt.scatter(df['timestamp'][df['sellSignal']], df['close'][df['sellSignal']], color='red', label='Sell position', marker=\"v\", s=100)\n",
    "# 凡例の表示\n",
    "plt.legend()\n",
    "# 軸ラベルとタイトル\n",
    "plt.xlabel('Date')\n",
    "plt.ylabel('Price')\n",
    "plt.title(symbol + ' Sword Red Strategy')\n",
    "# チャートの表示\n",
    "plt.show()"
   ]
  }
 ],
 "metadata": {
  "kernelspec": {
   "display_name": "Python 3 (ipykernel)",
   "language": "python",
   "name": "python3"
  },
  "language_info": {
   "codemirror_mode": {
    "name": "ipython",
    "version": 3
   },
   "file_extension": ".py",
   "mimetype": "text/x-python",
   "name": "python",
   "nbconvert_exporter": "python",
   "pygments_lexer": "ipython3",
   "version": "3.12.3"
  }
 },
 "nbformat": 4,
 "nbformat_minor": 5
}
