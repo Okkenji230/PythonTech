{
 "cells": [
  {
   "cell_type": "markdown",
   "id": "16a7b877-b6b1-4f2b-985a-5120f88bbe72",
   "metadata": {},
   "source": [
    "# TA-Libによるパターン認識のデモ（その２）"
   ]
  },
  {
   "cell_type": "markdown",
   "id": "1637f1ee-921c-4fce-9b2f-a1d1e84664f2",
   "metadata": {},
   "source": [
    "## ライブラリのインポート"
   ]
  },
  {
   "cell_type": "code",
   "execution_count": 1,
   "id": "1f3abe61-3739-4e80-92cb-ce0802272cb3",
   "metadata": {},
   "outputs": [],
   "source": [
    "import talib\n",
    "import yfinance as yf\n",
    "import datetime\n",
    "from datetime import date\n",
    "import pandas as pd\n",
    "import numpy as np\n",
    "import mplfinance as mpf\n",
    "from pandas_datareader import data as pdr"
   ]
  },
  {
   "cell_type": "markdown",
   "id": "df410918-b615-468c-b1e3-da98b969f73e",
   "metadata": {},
   "source": [
    "## 株価データをダウンロード"
   ]
  },
  {
   "cell_type": "code",
   "execution_count": 2,
   "id": "e9b7170f-cbd8-4aa5-9a6b-1bfb8aea1d5c",
   "metadata": {},
   "outputs": [
    {
     "name": "stdout",
     "output_type": "stream",
     "text": [
      "[*********************100%%**********************]  1 of 1 completed\n"
     ]
    },
    {
     "data": {
      "text/html": [
       "<div>\n",
       "<style scoped>\n",
       "    .dataframe tbody tr th:only-of-type {\n",
       "        vertical-align: middle;\n",
       "    }\n",
       "\n",
       "    .dataframe tbody tr th {\n",
       "        vertical-align: top;\n",
       "    }\n",
       "\n",
       "    .dataframe thead th {\n",
       "        text-align: right;\n",
       "    }\n",
       "</style>\n",
       "<table border=\"1\" class=\"dataframe\">\n",
       "  <thead>\n",
       "    <tr style=\"text-align: right;\">\n",
       "      <th></th>\n",
       "      <th>Open</th>\n",
       "      <th>High</th>\n",
       "      <th>Low</th>\n",
       "      <th>Close</th>\n",
       "      <th>Adj Close</th>\n",
       "      <th>Volume</th>\n",
       "    </tr>\n",
       "    <tr>\n",
       "      <th>Date</th>\n",
       "      <th></th>\n",
       "      <th></th>\n",
       "      <th></th>\n",
       "      <th></th>\n",
       "      <th></th>\n",
       "      <th></th>\n",
       "    </tr>\n",
       "  </thead>\n",
       "  <tbody>\n",
       "    <tr>\n",
       "      <th>2023-08-01</th>\n",
       "      <td>58.0</td>\n",
       "      <td>58.0</td>\n",
       "      <td>56.0</td>\n",
       "      <td>57.0</td>\n",
       "      <td>57.0</td>\n",
       "      <td>23400</td>\n",
       "    </tr>\n",
       "    <tr>\n",
       "      <th>2023-08-02</th>\n",
       "      <td>56.0</td>\n",
       "      <td>57.0</td>\n",
       "      <td>56.0</td>\n",
       "      <td>56.0</td>\n",
       "      <td>56.0</td>\n",
       "      <td>37500</td>\n",
       "    </tr>\n",
       "    <tr>\n",
       "      <th>2023-08-03</th>\n",
       "      <td>56.0</td>\n",
       "      <td>57.0</td>\n",
       "      <td>56.0</td>\n",
       "      <td>56.0</td>\n",
       "      <td>56.0</td>\n",
       "      <td>69300</td>\n",
       "    </tr>\n",
       "    <tr>\n",
       "      <th>2023-08-04</th>\n",
       "      <td>56.0</td>\n",
       "      <td>57.0</td>\n",
       "      <td>56.0</td>\n",
       "      <td>57.0</td>\n",
       "      <td>57.0</td>\n",
       "      <td>15200</td>\n",
       "    </tr>\n",
       "    <tr>\n",
       "      <th>2023-08-07</th>\n",
       "      <td>57.0</td>\n",
       "      <td>57.0</td>\n",
       "      <td>56.0</td>\n",
       "      <td>57.0</td>\n",
       "      <td>57.0</td>\n",
       "      <td>78700</td>\n",
       "    </tr>\n",
       "  </tbody>\n",
       "</table>\n",
       "</div>"
      ],
      "text/plain": [
       "            Open  High   Low  Close  Adj Close  Volume\n",
       "Date                                                  \n",
       "2023-08-01  58.0  58.0  56.0   57.0       57.0   23400\n",
       "2023-08-02  56.0  57.0  56.0   56.0       56.0   37500\n",
       "2023-08-03  56.0  57.0  56.0   56.0       56.0   69300\n",
       "2023-08-04  56.0  57.0  56.0   57.0       57.0   15200\n",
       "2023-08-07  57.0  57.0  56.0   57.0       57.0   78700"
      ]
     },
     "execution_count": 2,
     "metadata": {},
     "output_type": "execute_result"
    }
   ],
   "source": [
    "start = \"2023-08-01\"\n",
    "end = datetime.date.today()\n",
    "ticker = \"3237.T\"\n",
    "yf.pdr_override()\n",
    "# yahooサイトからデータをダウンロード\n",
    "df_stock = pdr.get_data_yahoo(ticker, start, end)\n",
    "df_stock.head()"
   ]
  },
  {
   "cell_type": "markdown",
   "id": "b57788ef-a063-4d25-8b4c-a1c8bef3c7c8",
   "metadata": {},
   "source": [
    "## TA-Libによりパターンを判定する"
   ]
  },
  {
   "cell_type": "code",
   "execution_count": 3,
   "id": "26674846-dd3f-49ac-8bbb-7dec439ba60a",
   "metadata": {},
   "outputs": [
    {
     "data": {
      "text/html": [
       "<div>\n",
       "<style scoped>\n",
       "    .dataframe tbody tr th:only-of-type {\n",
       "        vertical-align: middle;\n",
       "    }\n",
       "\n",
       "    .dataframe tbody tr th {\n",
       "        vertical-align: top;\n",
       "    }\n",
       "\n",
       "    .dataframe thead th {\n",
       "        text-align: right;\n",
       "    }\n",
       "</style>\n",
       "<table border=\"1\" class=\"dataframe\">\n",
       "  <thead>\n",
       "    <tr style=\"text-align: right;\">\n",
       "      <th></th>\n",
       "      <th>Engulfing</th>\n",
       "      <th>Hammer</th>\n",
       "      <th>PiercingLine</th>\n",
       "    </tr>\n",
       "    <tr>\n",
       "      <th>Date</th>\n",
       "      <th></th>\n",
       "      <th></th>\n",
       "      <th></th>\n",
       "    </tr>\n",
       "  </thead>\n",
       "  <tbody>\n",
       "    <tr>\n",
       "      <th>2023-10-25</th>\n",
       "      <td>0</td>\n",
       "      <td>0</td>\n",
       "      <td>0</td>\n",
       "    </tr>\n",
       "    <tr>\n",
       "      <th>2023-10-26</th>\n",
       "      <td>0</td>\n",
       "      <td>0</td>\n",
       "      <td>0</td>\n",
       "    </tr>\n",
       "    <tr>\n",
       "      <th>2023-10-27</th>\n",
       "      <td>0</td>\n",
       "      <td>0</td>\n",
       "      <td>0</td>\n",
       "    </tr>\n",
       "    <tr>\n",
       "      <th>2023-10-30</th>\n",
       "      <td>0</td>\n",
       "      <td>0</td>\n",
       "      <td>0</td>\n",
       "    </tr>\n",
       "    <tr>\n",
       "      <th>2023-10-31</th>\n",
       "      <td>0</td>\n",
       "      <td>0</td>\n",
       "      <td>0</td>\n",
       "    </tr>\n",
       "  </tbody>\n",
       "</table>\n",
       "</div>"
      ],
      "text/plain": [
       "            Engulfing  Hammer  PiercingLine\n",
       "Date                                       \n",
       "2023-10-25          0       0             0\n",
       "2023-10-26          0       0             0\n",
       "2023-10-27          0       0             0\n",
       "2023-10-30          0       0             0\n",
       "2023-10-31          0       0             0"
      ]
     },
     "execution_count": 3,
     "metadata": {},
     "output_type": "execute_result"
    }
   ],
   "source": [
    "# 株価データの系列を取り出す\n",
    "open = df_stock['Open']\n",
    "high = df_stock['High']\n",
    "low = df_stock['Low']\n",
    "close = df_stock['Adj Close']\n",
    "# パターンを判定する\n",
    "engulfing = talib.CDLENGULFING(open,high,low,close)\n",
    "hammer = talib.CDLHAMMER(open,high,low,close)\n",
    "piercingLine = talib.CDLPIERCING(open,high,low,close)\n",
    "# 結果を新しいデータフレームに保存する\n",
    "df_pattern = pd.concat([engulfing, hammer, piercingLine], axis=1)\n",
    "df_pattern.columns = ['Engulfing','Hammer','PiercingLine']\n",
    "df_pattern.tail()"
   ]
  },
  {
   "cell_type": "markdown",
   "id": "62cec8e9-2c37-4c8a-aca6-1c611ae0cc16",
   "metadata": {},
   "source": [
    "## ローソク足チャートで確認する"
   ]
  },
  {
   "cell_type": "code",
   "execution_count": 4,
   "id": "922a7268-b392-49a5-b055-3e52ff829338",
   "metadata": {
    "tags": []
   },
   "outputs": [
    {
     "data": {
      "image/png": "[encoded data removed]",
      "text/plain": [
       "<Figure size 1200x600 with 2 Axes>"
      ]
     },
     "metadata": {},
     "output_type": "display_data"
    }
   ],
   "source": [
    "hldate = '2023-09-15'\n",
    "mpf.plot(df_stock,type='candle',style='yahoo',figsize =(12,6),\n",
    "          vlines=dict(vlines=hldate,linewidths=16,alpha=0.2),\n",
    "          title = \"STOCK PRICE CHART FOR {0}\".format(ticker))"
   ]
  }
 ],
 "metadata": {
  "kernelspec": {
   "display_name": "Python 3 (ipykernel)",
   "language": "python",
   "name": "python3"
  },
  "language_info": {
   "codemirror_mode": {
    "name": "ipython",
    "version": 3
   },
   "file_extension": ".py",
   "mimetype": "text/x-python",
   "name": "python",
   "nbconvert_exporter": "python",
   "pygments_lexer": "ipython3",
   "version": "3.11.5"
  }
 },
 "nbformat": 4,
 "nbformat_minor": 5
}
