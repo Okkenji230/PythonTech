{
 "cells": [
  {
   "cell_type": "markdown",
   "id": "0c3347ea",
   "metadata": {},
   "source": [
    "# 外国為替レートと経済指標との相関"
   ]
  },
  {
   "cell_type": "code",
   "execution_count": 1,
   "id": "a9cb843d",
   "metadata": {},
   "outputs": [],
   "source": [
    "import pandas as pd\n",
    "import numpy as np\n",
    "from datetime import datetime as dt\n",
    "import matplotlib.pyplot as plt"
   ]
  },
  {
   "cell_type": "markdown",
   "id": "1dd2c400",
   "metadata": {},
   "source": [
    "## 為替レートデータの読み込み"
   ]
  },
  {
   "cell_type": "code",
   "execution_count": 2,
   "id": "17ba941e",
   "metadata": {},
   "outputs": [
    {
     "data": {
      "text/html": [
       "<div>\n",
       "<style scoped>\n",
       "    .dataframe tbody tr th:only-of-type {\n",
       "        vertical-align: middle;\n",
       "    }\n",
       "\n",
       "    .dataframe tbody tr th {\n",
       "        vertical-align: top;\n",
       "    }\n",
       "\n",
       "    .dataframe thead th {\n",
       "        text-align: right;\n",
       "    }\n",
       "</style>\n",
       "<table border=\"1\" class=\"dataframe\">\n",
       "  <thead>\n",
       "    <tr style=\"text-align: right;\">\n",
       "      <th></th>\n",
       "      <th>date</th>\n",
       "      <th>USD</th>\n",
       "      <th>GBP</th>\n",
       "      <th>EUR</th>\n",
       "      <th>CAD</th>\n",
       "      <th>AUD</th>\n",
       "      <th>NZD</th>\n",
       "    </tr>\n",
       "  </thead>\n",
       "  <tbody>\n",
       "    <tr>\n",
       "      <th>0</th>\n",
       "      <td>2018-01-04</td>\n",
       "      <td>112.75</td>\n",
       "      <td>152.30</td>\n",
       "      <td>135.35</td>\n",
       "      <td>89.83</td>\n",
       "      <td>88.22</td>\n",
       "      <td>79.88</td>\n",
       "    </tr>\n",
       "    <tr>\n",
       "      <th>1</th>\n",
       "      <td>2018-01-05</td>\n",
       "      <td>112.84</td>\n",
       "      <td>153.06</td>\n",
       "      <td>136.21</td>\n",
       "      <td>90.36</td>\n",
       "      <td>88.62</td>\n",
       "      <td>80.75</td>\n",
       "    </tr>\n",
       "    <tr>\n",
       "      <th>2</th>\n",
       "      <td>2018-01-09</td>\n",
       "      <td>113.15</td>\n",
       "      <td>153.50</td>\n",
       "      <td>135.43</td>\n",
       "      <td>91.15</td>\n",
       "      <td>88.82</td>\n",
       "      <td>81.23</td>\n",
       "    </tr>\n",
       "    <tr>\n",
       "      <th>3</th>\n",
       "      <td>2018-01-10</td>\n",
       "      <td>112.45</td>\n",
       "      <td>152.17</td>\n",
       "      <td>134.21</td>\n",
       "      <td>90.17</td>\n",
       "      <td>87.87</td>\n",
       "      <td>80.39</td>\n",
       "    </tr>\n",
       "    <tr>\n",
       "      <th>4</th>\n",
       "      <td>2018-01-11</td>\n",
       "      <td>111.52</td>\n",
       "      <td>150.64</td>\n",
       "      <td>133.30</td>\n",
       "      <td>88.93</td>\n",
       "      <td>87.83</td>\n",
       "      <td>80.32</td>\n",
       "    </tr>\n",
       "  </tbody>\n",
       "</table>\n",
       "</div>"
      ],
      "text/plain": [
       "        date     USD     GBP     EUR    CAD    AUD    NZD\n",
       "0 2018-01-04  112.75  152.30  135.35  89.83  88.22  79.88\n",
       "1 2018-01-05  112.84  153.06  136.21  90.36  88.62  80.75\n",
       "2 2018-01-09  113.15  153.50  135.43  91.15  88.82  81.23\n",
       "3 2018-01-10  112.45  152.17  134.21  90.17  87.87  80.39\n",
       "4 2018-01-11  111.52  150.64  133.30  88.93  87.83  80.32"
      ]
     },
     "execution_count": 2,
     "metadata": {},
     "output_type": "execute_result"
    }
   ],
   "source": [
    "df_exrate = pd.read_excel('Foreign_JPY_18_23.xlsx', sheet_name='RawData')\n",
    "df_exrate.head()"
   ]
  },
  {
   "cell_type": "markdown",
   "id": "76150cfb",
   "metadata": {},
   "source": [
    "## 原油価格データの読み込み"
   ]
  },
  {
   "cell_type": "code",
   "execution_count": 3,
   "id": "6db41373",
   "metadata": {},
   "outputs": [
    {
     "data": {
      "text/html": [
       "<div>\n",
       "<style scoped>\n",
       "    .dataframe tbody tr th:only-of-type {\n",
       "        vertical-align: middle;\n",
       "    }\n",
       "\n",
       "    .dataframe tbody tr th {\n",
       "        vertical-align: top;\n",
       "    }\n",
       "\n",
       "    .dataframe thead th {\n",
       "        text-align: right;\n",
       "    }\n",
       "</style>\n",
       "<table border=\"1\" class=\"dataframe\">\n",
       "  <thead>\n",
       "    <tr style=\"text-align: right;\">\n",
       "      <th></th>\n",
       "      <th>Date</th>\n",
       "      <th>Price</th>\n",
       "      <th>Open</th>\n",
       "      <th>High</th>\n",
       "      <th>Low</th>\n",
       "    </tr>\n",
       "  </thead>\n",
       "  <tbody>\n",
       "    <tr>\n",
       "      <th>0</th>\n",
       "      <td>04/04/2023</td>\n",
       "      <td>80.81</td>\n",
       "      <td>80.42</td>\n",
       "      <td>80.91</td>\n",
       "      <td>80.41</td>\n",
       "    </tr>\n",
       "    <tr>\n",
       "      <th>1</th>\n",
       "      <td>04/03/2023</td>\n",
       "      <td>80.42</td>\n",
       "      <td>80.10</td>\n",
       "      <td>81.69</td>\n",
       "      <td>79.00</td>\n",
       "    </tr>\n",
       "    <tr>\n",
       "      <th>2</th>\n",
       "      <td>04/02/2023</td>\n",
       "      <td>80.51</td>\n",
       "      <td>80.27</td>\n",
       "      <td>81.58</td>\n",
       "      <td>80.22</td>\n",
       "    </tr>\n",
       "    <tr>\n",
       "      <th>3</th>\n",
       "      <td>03/31/2023</td>\n",
       "      <td>75.67</td>\n",
       "      <td>74.37</td>\n",
       "      <td>75.72</td>\n",
       "      <td>73.77</td>\n",
       "    </tr>\n",
       "    <tr>\n",
       "      <th>4</th>\n",
       "      <td>03/30/2023</td>\n",
       "      <td>74.37</td>\n",
       "      <td>72.98</td>\n",
       "      <td>74.63</td>\n",
       "      <td>72.61</td>\n",
       "    </tr>\n",
       "  </tbody>\n",
       "</table>\n",
       "</div>"
      ],
      "text/plain": [
       "         Date  Price   Open   High    Low\n",
       "0  04/04/2023  80.81  80.42  80.91  80.41\n",
       "1  04/03/2023  80.42  80.10  81.69  79.00\n",
       "2  04/02/2023  80.51  80.27  81.58  80.22\n",
       "3  03/31/2023  75.67  74.37  75.72  73.77\n",
       "4  03/30/2023  74.37  72.98  74.63  72.61"
      ]
     },
     "execution_count": 3,
     "metadata": {},
     "output_type": "execute_result"
    }
   ],
   "source": [
    "df_temp_1 = pd.read_excel('oil_price_18_23.xlsx', sheet_name='RawData')\n",
    "df_temp_1.head()"
   ]
  },
  {
   "cell_type": "code",
   "execution_count": 4,
   "id": "8f1678db",
   "metadata": {},
   "outputs": [
    {
     "data": {
      "text/html": [
       "<div>\n",
       "<style scoped>\n",
       "    .dataframe tbody tr th:only-of-type {\n",
       "        vertical-align: middle;\n",
       "    }\n",
       "\n",
       "    .dataframe tbody tr th {\n",
       "        vertical-align: top;\n",
       "    }\n",
       "\n",
       "    .dataframe thead th {\n",
       "        text-align: right;\n",
       "    }\n",
       "</style>\n",
       "<table border=\"1\" class=\"dataframe\">\n",
       "  <thead>\n",
       "    <tr style=\"text-align: right;\">\n",
       "      <th></th>\n",
       "      <th>Price</th>\n",
       "      <th>Open</th>\n",
       "      <th>High</th>\n",
       "      <th>Low</th>\n",
       "      <th>date</th>\n",
       "    </tr>\n",
       "  </thead>\n",
       "  <tbody>\n",
       "    <tr>\n",
       "      <th>0</th>\n",
       "      <td>80.81</td>\n",
       "      <td>80.42</td>\n",
       "      <td>80.91</td>\n",
       "      <td>80.41</td>\n",
       "      <td>2023-04-04</td>\n",
       "    </tr>\n",
       "    <tr>\n",
       "      <th>1</th>\n",
       "      <td>80.42</td>\n",
       "      <td>80.10</td>\n",
       "      <td>81.69</td>\n",
       "      <td>79.00</td>\n",
       "      <td>2023-04-03</td>\n",
       "    </tr>\n",
       "    <tr>\n",
       "      <th>2</th>\n",
       "      <td>80.51</td>\n",
       "      <td>80.27</td>\n",
       "      <td>81.58</td>\n",
       "      <td>80.22</td>\n",
       "      <td>2023-04-02</td>\n",
       "    </tr>\n",
       "    <tr>\n",
       "      <th>3</th>\n",
       "      <td>75.67</td>\n",
       "      <td>74.37</td>\n",
       "      <td>75.72</td>\n",
       "      <td>73.77</td>\n",
       "      <td>2023-03-31</td>\n",
       "    </tr>\n",
       "    <tr>\n",
       "      <th>4</th>\n",
       "      <td>74.37</td>\n",
       "      <td>72.98</td>\n",
       "      <td>74.63</td>\n",
       "      <td>72.61</td>\n",
       "      <td>2023-03-30</td>\n",
       "    </tr>\n",
       "  </tbody>\n",
       "</table>\n",
       "</div>"
      ],
      "text/plain": [
       "   Price   Open   High    Low       date\n",
       "0  80.81  80.42  80.91  80.41 2023-04-04\n",
       "1  80.42  80.10  81.69  79.00 2023-04-03\n",
       "2  80.51  80.27  81.58  80.22 2023-04-02\n",
       "3  75.67  74.37  75.72  73.77 2023-03-31\n",
       "4  74.37  72.98  74.63  72.61 2023-03-30"
      ]
     },
     "execution_count": 4,
     "metadata": {},
     "output_type": "execute_result"
    }
   ],
   "source": [
    "# 日付文字列を日付値に変換する\n",
    "df_petro = df_temp_1.assign(tdatetime = df_temp_1['Date'].apply(lambda s: dt.strptime(s, '%m/%d/%Y'))).\\\n",
    "    drop(columns='Date').rename(columns={'tdatetime':'date'})\n",
    "df_petro.head()"
   ]
  },
  {
   "cell_type": "markdown",
   "id": "c430b02f",
   "metadata": {},
   "source": [
    "## 石炭価格データの読み込み"
   ]
  },
  {
   "cell_type": "code",
   "execution_count": 5,
   "id": "4e4a4e57",
   "metadata": {},
   "outputs": [
    {
     "data": {
      "text/html": [
       "<div>\n",
       "<style scoped>\n",
       "    .dataframe tbody tr th:only-of-type {\n",
       "        vertical-align: middle;\n",
       "    }\n",
       "\n",
       "    .dataframe tbody tr th {\n",
       "        vertical-align: top;\n",
       "    }\n",
       "\n",
       "    .dataframe thead th {\n",
       "        text-align: right;\n",
       "    }\n",
       "</style>\n",
       "<table border=\"1\" class=\"dataframe\">\n",
       "  <thead>\n",
       "    <tr style=\"text-align: right;\">\n",
       "      <th></th>\n",
       "      <th>date</th>\n",
       "      <th>Price</th>\n",
       "      <th>Open</th>\n",
       "      <th>High</th>\n",
       "      <th>Low</th>\n",
       "    </tr>\n",
       "  </thead>\n",
       "  <tbody>\n",
       "    <tr>\n",
       "      <th>0</th>\n",
       "      <td>2023-04-03</td>\n",
       "      <td>200.00</td>\n",
       "      <td>197.00</td>\n",
       "      <td>198.00</td>\n",
       "      <td>197.00</td>\n",
       "    </tr>\n",
       "    <tr>\n",
       "      <th>1</th>\n",
       "      <td>2023-03-31</td>\n",
       "      <td>177.25</td>\n",
       "      <td>177.25</td>\n",
       "      <td>177.25</td>\n",
       "      <td>177.25</td>\n",
       "    </tr>\n",
       "    <tr>\n",
       "      <th>2</th>\n",
       "      <td>2023-03-30</td>\n",
       "      <td>176.75</td>\n",
       "      <td>176.75</td>\n",
       "      <td>176.75</td>\n",
       "      <td>176.75</td>\n",
       "    </tr>\n",
       "    <tr>\n",
       "      <th>3</th>\n",
       "      <td>2023-03-29</td>\n",
       "      <td>176.60</td>\n",
       "      <td>176.60</td>\n",
       "      <td>176.60</td>\n",
       "      <td>176.60</td>\n",
       "    </tr>\n",
       "    <tr>\n",
       "      <th>4</th>\n",
       "      <td>2023-03-28</td>\n",
       "      <td>176.50</td>\n",
       "      <td>176.50</td>\n",
       "      <td>176.50</td>\n",
       "      <td>176.50</td>\n",
       "    </tr>\n",
       "  </tbody>\n",
       "</table>\n",
       "</div>"
      ],
      "text/plain": [
       "        date   Price    Open    High     Low\n",
       "0 2023-04-03  200.00  197.00  198.00  197.00\n",
       "1 2023-03-31  177.25  177.25  177.25  177.25\n",
       "2 2023-03-30  176.75  176.75  176.75  176.75\n",
       "3 2023-03-29  176.60  176.60  176.60  176.60\n",
       "4 2023-03-28  176.50  176.50  176.50  176.50"
      ]
     },
     "execution_count": 5,
     "metadata": {},
     "output_type": "execute_result"
    }
   ],
   "source": [
    "df_coal = pd.read_excel('coal_price_18_23.xlsx', sheet_name='RawData').rename(columns={'Date':'date'})\n",
    "df_coal.head()"
   ]
  },
  {
   "cell_type": "markdown",
   "id": "466e8f1b",
   "metadata": {},
   "source": [
    "## データを横連結する"
   ]
  },
  {
   "cell_type": "code",
   "execution_count": 6,
   "id": "0ae67f1f",
   "metadata": {
    "scrolled": true
   },
   "outputs": [
    {
     "data": {
      "text/html": [
       "<div>\n",
       "<style scoped>\n",
       "    .dataframe tbody tr th:only-of-type {\n",
       "        vertical-align: middle;\n",
       "    }\n",
       "\n",
       "    .dataframe tbody tr th {\n",
       "        vertical-align: top;\n",
       "    }\n",
       "\n",
       "    .dataframe thead th {\n",
       "        text-align: right;\n",
       "    }\n",
       "</style>\n",
       "<table border=\"1\" class=\"dataframe\">\n",
       "  <thead>\n",
       "    <tr style=\"text-align: right;\">\n",
       "      <th></th>\n",
       "      <th>date</th>\n",
       "      <th>USD</th>\n",
       "      <th>GBP</th>\n",
       "      <th>EUR</th>\n",
       "      <th>CAD</th>\n",
       "      <th>AUD</th>\n",
       "      <th>NZD</th>\n",
       "      <th>Price_x</th>\n",
       "      <th>Open_x</th>\n",
       "      <th>High_x</th>\n",
       "      <th>Low_x</th>\n",
       "      <th>Price_y</th>\n",
       "      <th>Open_y</th>\n",
       "      <th>High_y</th>\n",
       "      <th>Low_y</th>\n",
       "    </tr>\n",
       "  </thead>\n",
       "  <tbody>\n",
       "    <tr>\n",
       "      <th>0</th>\n",
       "      <td>2018-01-04</td>\n",
       "      <td>112.75</td>\n",
       "      <td>152.30</td>\n",
       "      <td>135.35</td>\n",
       "      <td>89.83</td>\n",
       "      <td>88.22</td>\n",
       "      <td>79.88</td>\n",
       "      <td>62.01</td>\n",
       "      <td>61.96</td>\n",
       "      <td>62.21</td>\n",
       "      <td>61.59</td>\n",
       "      <td>104.95</td>\n",
       "      <td>105.00</td>\n",
       "      <td>105.00</td>\n",
       "      <td>105.00</td>\n",
       "    </tr>\n",
       "    <tr>\n",
       "      <th>1</th>\n",
       "      <td>2018-01-05</td>\n",
       "      <td>112.84</td>\n",
       "      <td>153.06</td>\n",
       "      <td>136.21</td>\n",
       "      <td>90.36</td>\n",
       "      <td>88.62</td>\n",
       "      <td>80.75</td>\n",
       "      <td>61.44</td>\n",
       "      <td>61.90</td>\n",
       "      <td>62.04</td>\n",
       "      <td>61.09</td>\n",
       "      <td>105.30</td>\n",
       "      <td>105.25</td>\n",
       "      <td>105.50</td>\n",
       "      <td>105.00</td>\n",
       "    </tr>\n",
       "    <tr>\n",
       "      <th>2</th>\n",
       "      <td>2018-01-09</td>\n",
       "      <td>113.15</td>\n",
       "      <td>153.50</td>\n",
       "      <td>135.43</td>\n",
       "      <td>91.15</td>\n",
       "      <td>88.82</td>\n",
       "      <td>81.23</td>\n",
       "      <td>62.96</td>\n",
       "      <td>61.92</td>\n",
       "      <td>63.48</td>\n",
       "      <td>61.80</td>\n",
       "      <td>107.00</td>\n",
       "      <td>107.00</td>\n",
       "      <td>107.00</td>\n",
       "      <td>107.00</td>\n",
       "    </tr>\n",
       "    <tr>\n",
       "      <th>3</th>\n",
       "      <td>2018-01-10</td>\n",
       "      <td>112.45</td>\n",
       "      <td>152.17</td>\n",
       "      <td>134.21</td>\n",
       "      <td>90.17</td>\n",
       "      <td>87.87</td>\n",
       "      <td>80.39</td>\n",
       "      <td>63.57</td>\n",
       "      <td>63.41</td>\n",
       "      <td>63.67</td>\n",
       "      <td>63.09</td>\n",
       "      <td>106.55</td>\n",
       "      <td>106.55</td>\n",
       "      <td>106.55</td>\n",
       "      <td>106.55</td>\n",
       "    </tr>\n",
       "    <tr>\n",
       "      <th>4</th>\n",
       "      <td>2018-01-11</td>\n",
       "      <td>111.52</td>\n",
       "      <td>150.64</td>\n",
       "      <td>133.30</td>\n",
       "      <td>88.93</td>\n",
       "      <td>87.83</td>\n",
       "      <td>80.32</td>\n",
       "      <td>63.80</td>\n",
       "      <td>63.50</td>\n",
       "      <td>64.77</td>\n",
       "      <td>63.43</td>\n",
       "      <td>106.10</td>\n",
       "      <td>106.10</td>\n",
       "      <td>106.10</td>\n",
       "      <td>106.10</td>\n",
       "    </tr>\n",
       "  </tbody>\n",
       "</table>\n",
       "</div>"
      ],
      "text/plain": [
       "        date     USD     GBP     EUR    CAD    AUD    NZD  Price_x  Open_x  \\\n",
       "0 2018-01-04  112.75  152.30  135.35  89.83  88.22  79.88    62.01   61.96   \n",
       "1 2018-01-05  112.84  153.06  136.21  90.36  88.62  80.75    61.44   61.90   \n",
       "2 2018-01-09  113.15  153.50  135.43  91.15  88.82  81.23    62.96   61.92   \n",
       "3 2018-01-10  112.45  152.17  134.21  90.17  87.87  80.39    63.57   63.41   \n",
       "4 2018-01-11  111.52  150.64  133.30  88.93  87.83  80.32    63.80   63.50   \n",
       "\n",
       "   High_x  Low_x  Price_y  Open_y  High_y   Low_y  \n",
       "0   62.21  61.59   104.95  105.00  105.00  105.00  \n",
       "1   62.04  61.09   105.30  105.25  105.50  105.00  \n",
       "2   63.48  61.80   107.00  107.00  107.00  107.00  \n",
       "3   63.67  63.09   106.55  106.55  106.55  106.55  \n",
       "4   64.77  63.43   106.10  106.10  106.10  106.10  "
      ]
     },
     "execution_count": 6,
     "metadata": {},
     "output_type": "execute_result"
    }
   ],
   "source": [
    "# 日付をキーとして一つずつ横連結する（_xが原油価格,_yが石炭価格）\n",
    "df_src = df_exrate.merge(df_petro,how='inner',on='date').merge(df_coal,how='inner',on='date')\n",
    "df_src.head()"
   ]
  },
  {
   "cell_type": "markdown",
   "id": "ab967df5",
   "metadata": {},
   "source": [
    "## データ系列の階差をとる"
   ]
  },
  {
   "cell_type": "code",
   "execution_count": 7,
   "id": "9e414002",
   "metadata": {},
   "outputs": [
    {
     "data": {
      "text/html": [
       "<div>\n",
       "<style scoped>\n",
       "    .dataframe tbody tr th:only-of-type {\n",
       "        vertical-align: middle;\n",
       "    }\n",
       "\n",
       "    .dataframe tbody tr th {\n",
       "        vertical-align: top;\n",
       "    }\n",
       "\n",
       "    .dataframe thead th {\n",
       "        text-align: right;\n",
       "    }\n",
       "</style>\n",
       "<table border=\"1\" class=\"dataframe\">\n",
       "  <thead>\n",
       "    <tr style=\"text-align: right;\">\n",
       "      <th></th>\n",
       "      <th>date</th>\n",
       "      <th>USD</th>\n",
       "      <th>GBP</th>\n",
       "      <th>EUR</th>\n",
       "      <th>CAD</th>\n",
       "      <th>AUD</th>\n",
       "      <th>NZD</th>\n",
       "      <th>Price_x</th>\n",
       "      <th>Open_x</th>\n",
       "      <th>High_x</th>\n",
       "      <th>Low_x</th>\n",
       "      <th>Price_y</th>\n",
       "      <th>Open_y</th>\n",
       "      <th>High_y</th>\n",
       "      <th>Low_y</th>\n",
       "    </tr>\n",
       "  </thead>\n",
       "  <tbody>\n",
       "    <tr>\n",
       "      <th>1</th>\n",
       "      <td>1 days</td>\n",
       "      <td>0.09</td>\n",
       "      <td>0.76</td>\n",
       "      <td>0.86</td>\n",
       "      <td>0.53</td>\n",
       "      <td>0.40</td>\n",
       "      <td>0.87</td>\n",
       "      <td>-0.57</td>\n",
       "      <td>-0.06</td>\n",
       "      <td>-0.17</td>\n",
       "      <td>-0.50</td>\n",
       "      <td>0.35</td>\n",
       "      <td>0.25</td>\n",
       "      <td>0.50</td>\n",
       "      <td>0.00</td>\n",
       "    </tr>\n",
       "    <tr>\n",
       "      <th>2</th>\n",
       "      <td>4 days</td>\n",
       "      <td>0.31</td>\n",
       "      <td>0.44</td>\n",
       "      <td>-0.78</td>\n",
       "      <td>0.79</td>\n",
       "      <td>0.20</td>\n",
       "      <td>0.48</td>\n",
       "      <td>1.52</td>\n",
       "      <td>0.02</td>\n",
       "      <td>1.44</td>\n",
       "      <td>0.71</td>\n",
       "      <td>1.70</td>\n",
       "      <td>1.75</td>\n",
       "      <td>1.50</td>\n",
       "      <td>2.00</td>\n",
       "    </tr>\n",
       "    <tr>\n",
       "      <th>3</th>\n",
       "      <td>1 days</td>\n",
       "      <td>-0.70</td>\n",
       "      <td>-1.33</td>\n",
       "      <td>-1.22</td>\n",
       "      <td>-0.98</td>\n",
       "      <td>-0.95</td>\n",
       "      <td>-0.84</td>\n",
       "      <td>0.61</td>\n",
       "      <td>1.49</td>\n",
       "      <td>0.19</td>\n",
       "      <td>1.29</td>\n",
       "      <td>-0.45</td>\n",
       "      <td>-0.45</td>\n",
       "      <td>-0.45</td>\n",
       "      <td>-0.45</td>\n",
       "    </tr>\n",
       "    <tr>\n",
       "      <th>4</th>\n",
       "      <td>1 days</td>\n",
       "      <td>-0.93</td>\n",
       "      <td>-1.53</td>\n",
       "      <td>-0.91</td>\n",
       "      <td>-1.24</td>\n",
       "      <td>-0.04</td>\n",
       "      <td>-0.07</td>\n",
       "      <td>0.23</td>\n",
       "      <td>0.09</td>\n",
       "      <td>1.10</td>\n",
       "      <td>0.34</td>\n",
       "      <td>-0.45</td>\n",
       "      <td>-0.45</td>\n",
       "      <td>-0.45</td>\n",
       "      <td>-0.45</td>\n",
       "    </tr>\n",
       "    <tr>\n",
       "      <th>5</th>\n",
       "      <td>1 days</td>\n",
       "      <td>-0.29</td>\n",
       "      <td>0.21</td>\n",
       "      <td>0.84</td>\n",
       "      <td>-0.05</td>\n",
       "      <td>0.05</td>\n",
       "      <td>0.56</td>\n",
       "      <td>0.50</td>\n",
       "      <td>0.07</td>\n",
       "      <td>-0.27</td>\n",
       "      <td>-0.37</td>\n",
       "      <td>-0.25</td>\n",
       "      <td>-0.25</td>\n",
       "      <td>-0.25</td>\n",
       "      <td>-0.25</td>\n",
       "    </tr>\n",
       "  </tbody>\n",
       "</table>\n",
       "</div>"
      ],
      "text/plain": [
       "    date   USD   GBP   EUR   CAD   AUD   NZD  Price_x  Open_x  High_x  Low_x  \\\n",
       "1 1 days  0.09  0.76  0.86  0.53  0.40  0.87    -0.57   -0.06   -0.17  -0.50   \n",
       "2 4 days  0.31  0.44 -0.78  0.79  0.20  0.48     1.52    0.02    1.44   0.71   \n",
       "3 1 days -0.70 -1.33 -1.22 -0.98 -0.95 -0.84     0.61    1.49    0.19   1.29   \n",
       "4 1 days -0.93 -1.53 -0.91 -1.24 -0.04 -0.07     0.23    0.09    1.10   0.34   \n",
       "5 1 days -0.29  0.21  0.84 -0.05  0.05  0.56     0.50    0.07   -0.27  -0.37   \n",
       "\n",
       "   Price_y  Open_y  High_y  Low_y  \n",
       "1     0.35    0.25    0.50   0.00  \n",
       "2     1.70    1.75    1.50   2.00  \n",
       "3    -0.45   -0.45   -0.45  -0.45  \n",
       "4    -0.45   -0.45   -0.45  -0.45  \n",
       "5    -0.25   -0.25   -0.25  -0.25  "
      ]
     },
     "execution_count": 7,
     "metadata": {},
     "output_type": "execute_result"
    }
   ],
   "source": [
    "df_diff = df_src.diff()[1:]\n",
    "df_diff.head()"
   ]
  },
  {
   "cell_type": "markdown",
   "id": "d6b9472f",
   "metadata": {},
   "source": [
    "## 相互相関係数を計算する"
   ]
  },
  {
   "cell_type": "code",
   "execution_count": 8,
   "id": "2b00b050",
   "metadata": {},
   "outputs": [],
   "source": [
    "def c_corr(a, b, s):\n",
    "    # 標準化ベクトルを求める \n",
    "    a_diff = (a-a.mean())/a.std(ddof=0)\n",
    "    b_diff = (b-b.mean())/b.std(ddof=0)\n",
    "    # 相互相関コレログラム\n",
    "    xcor_value = plt.xcorr(a_diff, b_diff, maxlags=7)\n",
    "    plt.title('Daily diff cross-correlation correlogram: '+s)\n",
    "    plt.show()"
   ]
  },
  {
   "cell_type": "code",
   "execution_count": 9,
   "id": "ef69d522",
   "metadata": {},
   "outputs": [
    {
     "data": {
      "image/png": "[encoded data removed]",
      "text/plain": [
       "<Figure size 640x480 with 1 Axes>"
      ]
     },
     "metadata": {},
     "output_type": "display_data"
    }
   ],
   "source": [
    "a = df_diff['Price_x'] \n",
    "b = df_diff['CAD']\n",
    "s = 'Oil Price (t+i) and CAD(t)'\n",
    "c_corr(a, b, s)"
   ]
  },
  {
   "cell_type": "code",
   "execution_count": 11,
   "id": "a87732a0-e41b-4321-8b08-ac30f3760579",
   "metadata": {},
   "outputs": [
    {
     "data": {
      "image/png": "[encoded data removed]",
      "text/plain": [
       "<Figure size 640x480 with 1 Axes>"
      ]
     },
     "metadata": {},
     "output_type": "display_data"
    }
   ],
   "source": [
    "a = df_diff['Price_x'] \n",
    "b = df_diff['AUD']\n",
    "s = 'Oil Price (t+i) and AUD(t)'\n",
    "c_corr(a, b, s)"
   ]
  },
  {
   "cell_type": "code",
   "execution_count": 12,
   "id": "89b92896-00d2-4570-9566-7e1ee6a85efb",
   "metadata": {},
   "outputs": [
    {
     "data": {
      "image/png": "[encoded data removed]",
      "text/plain": [
       "<Figure size 640x480 with 1 Axes>"
      ]
     },
     "metadata": {},
     "output_type": "display_data"
    }
   ],
   "source": [
    "a = df_diff['Price_x'] \n",
    "b = df_diff['USD']\n",
    "s = 'Oil Price (t+i) and USD(t)'\n",
    "c_corr(a, b, s)"
   ]
  },
  {
   "cell_type": "code",
   "execution_count": 10,
   "id": "ac3fe0e8",
   "metadata": {},
   "outputs": [
    {
     "data": {
      "image/png": "[encoded data removed]",
      "text/plain": [
       "<Figure size 640x480 with 1 Axes>"
      ]
     },
     "metadata": {},
     "output_type": "display_data"
    }
   ],
   "source": [
    "a = df_diff['Price_y'] \n",
    "b = df_diff['AUD']\n",
    "s = 'Coal Price (t+i) and AUD(t)'\n",
    "c_corr(a, b, s)"
   ]
  },
  {
   "cell_type": "code",
   "execution_count": 13,
   "id": "7d424151-0085-4a38-b3b0-6993dbe4479c",
   "metadata": {},
   "outputs": [
    {
     "data": {
      "image/png": "[encoded data removed]",
      "text/plain": [
       "<Figure size 640x480 with 1 Axes>"
      ]
     },
     "metadata": {},
     "output_type": "display_data"
    }
   ],
   "source": [
    "a = df_diff['Price_y'] \n",
    "b = df_diff['CAD']\n",
    "s = 'Coal Price (t+i) and CAD(t)'\n",
    "c_corr(a, b, s)"
   ]
  },
  {
   "cell_type": "code",
   "execution_count": 14,
   "id": "0a74bb4b-481b-4206-a5c6-2a7b72f4131a",
   "metadata": {},
   "outputs": [
    {
     "data": {
      "image/png": "[encoded data removed]",
      "text/plain": [
       "<Figure size 640x480 with 1 Axes>"
      ]
     },
     "metadata": {},
     "output_type": "display_data"
    }
   ],
   "source": [
    "a = df_diff['Price_y'] \n",
    "b = df_diff['USD']\n",
    "s = 'Coal Price (t+i) and USD(t)'\n",
    "c_corr(a, b, s)"
   ]
  }
 ],
 "metadata": {
  "kernelspec": {
   "display_name": "Python 3 (ipykernel)",
   "language": "python",
   "name": "python3"
  },
  "language_info": {
   "codemirror_mode": {
    "name": "ipython",
    "version": 3
   },
   "file_extension": ".py",
   "mimetype": "text/x-python",
   "name": "python",
   "nbconvert_exporter": "python",
   "pygments_lexer": "ipython3",
   "version": "3.9.13"
  }
 },
 "nbformat": 4,
 "nbformat_minor": 5
}
