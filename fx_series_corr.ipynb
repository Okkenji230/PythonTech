{
 "cells": [
  {
   "cell_type": "markdown",
   "id": "0c3347ea",
   "metadata": {},
   "source": [
    "# 外国為替レートと経済指標との相関"
   ]
  },
  {
   "cell_type": "code",
   "execution_count": 1,
   "id": "a9cb843d",
   "metadata": {},
   "outputs": [],
   "source": [
    "import pandas as pd\n",
    "import numpy as np"
   ]
  },
  {
   "cell_type": "markdown",
   "id": "1dd2c400",
   "metadata": {},
   "source": [
    "## 為替レートデータの読み込み"
   ]
  },
  {
   "cell_type": "code",
   "execution_count": 3,
   "id": "17ba941e",
   "metadata": {},
   "outputs": [
    {
     "data": {
      "text/html": [
       "<div>\n",
       "<style scoped>\n",
       "    .dataframe tbody tr th:only-of-type {\n",
       "        vertical-align: middle;\n",
       "    }\n",
       "\n",
       "    .dataframe tbody tr th {\n",
       "        vertical-align: top;\n",
       "    }\n",
       "\n",
       "    .dataframe thead th {\n",
       "        text-align: right;\n",
       "    }\n",
       "</style>\n",
       "<table border=\"1\" class=\"dataframe\">\n",
       "  <thead>\n",
       "    <tr style=\"text-align: right;\">\n",
       "      <th></th>\n",
       "      <th>date</th>\n",
       "      <th>USD</th>\n",
       "      <th>GBP</th>\n",
       "      <th>EUR</th>\n",
       "      <th>CAD</th>\n",
       "      <th>AUD</th>\n",
       "      <th>NZD</th>\n",
       "    </tr>\n",
       "  </thead>\n",
       "  <tbody>\n",
       "    <tr>\n",
       "      <th>0</th>\n",
       "      <td>2018-01-04</td>\n",
       "      <td>112.75</td>\n",
       "      <td>152.30</td>\n",
       "      <td>135.35</td>\n",
       "      <td>89.83</td>\n",
       "      <td>88.22</td>\n",
       "      <td>79.88</td>\n",
       "    </tr>\n",
       "    <tr>\n",
       "      <th>1</th>\n",
       "      <td>2018-01-05</td>\n",
       "      <td>112.84</td>\n",
       "      <td>153.06</td>\n",
       "      <td>136.21</td>\n",
       "      <td>90.36</td>\n",
       "      <td>88.62</td>\n",
       "      <td>80.75</td>\n",
       "    </tr>\n",
       "    <tr>\n",
       "      <th>2</th>\n",
       "      <td>2018-01-09</td>\n",
       "      <td>113.15</td>\n",
       "      <td>153.50</td>\n",
       "      <td>135.43</td>\n",
       "      <td>91.15</td>\n",
       "      <td>88.82</td>\n",
       "      <td>81.23</td>\n",
       "    </tr>\n",
       "    <tr>\n",
       "      <th>3</th>\n",
       "      <td>2018-01-10</td>\n",
       "      <td>112.45</td>\n",
       "      <td>152.17</td>\n",
       "      <td>134.21</td>\n",
       "      <td>90.17</td>\n",
       "      <td>87.87</td>\n",
       "      <td>80.39</td>\n",
       "    </tr>\n",
       "    <tr>\n",
       "      <th>4</th>\n",
       "      <td>2018-01-11</td>\n",
       "      <td>111.52</td>\n",
       "      <td>150.64</td>\n",
       "      <td>133.30</td>\n",
       "      <td>88.93</td>\n",
       "      <td>87.83</td>\n",
       "      <td>80.32</td>\n",
       "    </tr>\n",
       "  </tbody>\n",
       "</table>\n",
       "</div>"
      ],
      "text/plain": [
       "        date     USD     GBP     EUR    CAD    AUD    NZD\n",
       "0 2018-01-04  112.75  152.30  135.35  89.83  88.22  79.88\n",
       "1 2018-01-05  112.84  153.06  136.21  90.36  88.62  80.75\n",
       "2 2018-01-09  113.15  153.50  135.43  91.15  88.82  81.23\n",
       "3 2018-01-10  112.45  152.17  134.21  90.17  87.87  80.39\n",
       "4 2018-01-11  111.52  150.64  133.30  88.93  87.83  80.32"
      ]
     },
     "execution_count": 3,
     "metadata": {},
     "output_type": "execute_result"
    }
   ],
   "source": [
    "df1 = pd.read_excel('Foreign_JPY_18_23.xlsx', sheet_name='RawData')\n",
    "df1.head()"
   ]
  },
  {
   "cell_type": "code",
   "execution_count": 5,
   "id": "32f4bde2",
   "metadata": {},
   "outputs": [
    {
     "name": "stdout",
     "output_type": "stream",
     "text": [
      "<class 'pandas.core.frame.DataFrame'>\n",
      "RangeIndex: 1280 entries, 0 to 1279\n",
      "Data columns (total 7 columns):\n",
      " #   Column  Non-Null Count  Dtype         \n",
      "---  ------  --------------  -----         \n",
      " 0   date    1280 non-null   datetime64[ns]\n",
      " 1   USD     1280 non-null   float64       \n",
      " 2   GBP     1280 non-null   float64       \n",
      " 3   EUR     1280 non-null   float64       \n",
      " 4   CAD     1280 non-null   float64       \n",
      " 5   AUD     1280 non-null   float64       \n",
      " 6   NZD     1280 non-null   float64       \n",
      "dtypes: datetime64[ns](1), float64(6)\n",
      "memory usage: 70.1 KB\n"
     ]
    }
   ],
   "source": [
    "df1.info()"
   ]
  },
  {
   "cell_type": "markdown",
   "id": "76150cfb",
   "metadata": {},
   "source": [
    "## 原油価格データの読み込み"
   ]
  },
  {
   "cell_type": "code",
   "execution_count": 4,
   "id": "6db41373",
   "metadata": {},
   "outputs": [
    {
     "data": {
      "text/html": [
       "<div>\n",
       "<style scoped>\n",
       "    .dataframe tbody tr th:only-of-type {\n",
       "        vertical-align: middle;\n",
       "    }\n",
       "\n",
       "    .dataframe tbody tr th {\n",
       "        vertical-align: top;\n",
       "    }\n",
       "\n",
       "    .dataframe thead th {\n",
       "        text-align: right;\n",
       "    }\n",
       "</style>\n",
       "<table border=\"1\" class=\"dataframe\">\n",
       "  <thead>\n",
       "    <tr style=\"text-align: right;\">\n",
       "      <th></th>\n",
       "      <th>Date</th>\n",
       "      <th>Price</th>\n",
       "      <th>Open</th>\n",
       "      <th>High</th>\n",
       "      <th>Low</th>\n",
       "    </tr>\n",
       "  </thead>\n",
       "  <tbody>\n",
       "    <tr>\n",
       "      <th>0</th>\n",
       "      <td>04/04/2023</td>\n",
       "      <td>80.81</td>\n",
       "      <td>80.42</td>\n",
       "      <td>80.91</td>\n",
       "      <td>80.41</td>\n",
       "    </tr>\n",
       "    <tr>\n",
       "      <th>1</th>\n",
       "      <td>04/03/2023</td>\n",
       "      <td>80.42</td>\n",
       "      <td>80.10</td>\n",
       "      <td>81.69</td>\n",
       "      <td>79.00</td>\n",
       "    </tr>\n",
       "    <tr>\n",
       "      <th>2</th>\n",
       "      <td>04/02/2023</td>\n",
       "      <td>80.51</td>\n",
       "      <td>80.27</td>\n",
       "      <td>81.58</td>\n",
       "      <td>80.22</td>\n",
       "    </tr>\n",
       "    <tr>\n",
       "      <th>3</th>\n",
       "      <td>03/31/2023</td>\n",
       "      <td>75.67</td>\n",
       "      <td>74.37</td>\n",
       "      <td>75.72</td>\n",
       "      <td>73.77</td>\n",
       "    </tr>\n",
       "    <tr>\n",
       "      <th>4</th>\n",
       "      <td>03/30/2023</td>\n",
       "      <td>74.37</td>\n",
       "      <td>72.98</td>\n",
       "      <td>74.63</td>\n",
       "      <td>72.61</td>\n",
       "    </tr>\n",
       "  </tbody>\n",
       "</table>\n",
       "</div>"
      ],
      "text/plain": [
       "         Date  Price   Open   High    Low\n",
       "0  04/04/2023  80.81  80.42  80.91  80.41\n",
       "1  04/03/2023  80.42  80.10  81.69  79.00\n",
       "2  04/02/2023  80.51  80.27  81.58  80.22\n",
       "3  03/31/2023  75.67  74.37  75.72  73.77\n",
       "4  03/30/2023  74.37  72.98  74.63  72.61"
      ]
     },
     "execution_count": 4,
     "metadata": {},
     "output_type": "execute_result"
    }
   ],
   "source": [
    "df2 = pd.read_excel('oil_price_18_23.xlsx', sheet_name='RawData')\n",
    "df2.head()"
   ]
  },
  {
   "cell_type": "code",
   "execution_count": 6,
   "id": "8f1678db",
   "metadata": {},
   "outputs": [
    {
     "name": "stdout",
     "output_type": "stream",
     "text": [
      "<class 'pandas.core.frame.DataFrame'>\n",
      "RangeIndex: 1392 entries, 0 to 1391\n",
      "Data columns (total 5 columns):\n",
      " #   Column  Non-Null Count  Dtype  \n",
      "---  ------  --------------  -----  \n",
      " 0   Date    1392 non-null   object \n",
      " 1   Price   1392 non-null   float64\n",
      " 2   Open    1392 non-null   float64\n",
      " 3   High    1392 non-null   float64\n",
      " 4   Low     1392 non-null   float64\n",
      "dtypes: float64(4), object(1)\n",
      "memory usage: 54.5+ KB\n"
     ]
    }
   ],
   "source": [
    "df2.info()"
   ]
  }
 ],
 "metadata": {
  "kernelspec": {
   "display_name": "Python 3 (ipykernel)",
   "language": "python",
   "name": "python3"
  },
  "language_info": {
   "codemirror_mode": {
    "name": "ipython",
    "version": 3
   },
   "file_extension": ".py",
   "mimetype": "text/x-python",
   "name": "python",
   "nbconvert_exporter": "python",
   "pygments_lexer": "ipython3",
   "version": "3.9.13"
  }
 },
 "nbformat": 4,
 "nbformat_minor": 5
}
