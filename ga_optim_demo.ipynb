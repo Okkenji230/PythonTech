{
 "cells": [
  {
   "cell_type": "markdown",
   "id": "2cf75daf-ae46-4b50-b48b-da003c37b95b",
   "metadata": {},
   "source": [
    "# 遺伝的アルゴリズムによる取引戦略の最適化（RSIのケース）"
   ]
  },
  {
   "cell_type": "raw",
   "id": "57139f7b-0962-44f7-9198-1d218224813f",
   "metadata": {},
   "source": [
    "Genetic Algorithm (GA) approach to optimize a trading strategy using historical stock data with Python\n",
    "https://medium.com/@jsgastoniriartecabrera/genetic-algorithm-ga-approach-to-optimize-a-trading-strategy-using-historical-stock-data-with-46a721bce97f"
   ]
  },
  {
   "cell_type": "code",
   "execution_count": 2,
   "id": "5ce88d74-e4cf-4136-9140-0def05b13faa",
   "metadata": {},
   "outputs": [],
   "source": [
    "import pandas as pd\n",
    "import numpy as np\n",
    "import yfinance as yf\n",
    "from datetime import date, datetime, timedelta\n",
    "from deap import base, creator, tools, algorithms\n",
    "import talib\n",
    "import random\n",
    "import warnings\n",
    "warnings.simplefilter(action=\"ignore\", category=FutureWarning)\n",
    "warnings.simplefilter(action=\"ignore\", category=RuntimeWarning)"
   ]
  },
  {
   "cell_type": "code",
   "execution_count": 3,
   "id": "4f81a795-b4b3-4479-b3c9-9d8c80621df5",
   "metadata": {},
   "outputs": [],
   "source": [
    "#目的関数で用いられる戦略の定義（RSI逆張り）\n",
    "def rsi_strategy(data, n_window, margin_pct):\n",
    "    n_window = int(n_window)\n",
    "    margin_pct = int(margin_pct)\n",
    "#   エラー処理\n",
    "    if not isinstance(n_window, int) or not isinstance(margin_pct, int):\n",
    "        raise ValueError(\"Window lengths must be integers\")\n",
    "    if n_window <= 2 or margin_pct >= 48:\n",
    "        raise ValueError(\"Parameter Value out of Range\")\n",
    "#   データフレームの初期設定\n",
    "    data = data.copy()\n",
    "#    RSIの計算 (talibを利用）\n",
    "    data[\"RSI\"] = talib.RSI(data[\"Close\"], timeperiod=n_window)\n",
    "    data = data.dropna()\n",
    "#   エラー処理\n",
    "    if data.empty:\n",
    "        return np.nan\n",
    "#   買いシグナルで1,売りシグナルで-1をとる列を設定\n",
    "    data['positions'] = 0\n",
    "#   買いシグナル\n",
    "    data.loc[(data['RSI'].shift(1) <= margin_pct ) & (data['RSI'] > margin_pct), 'positions'] = 1\n",
    "#   売りシグナル\n",
    "    data.loc[(data['RSI'].shift(1) >= 100-margin_pct) & (data['RSI'] < 100-margin_pct), 'positions'] = -1\n",
    "#   エラー処理\n",
    "    if data.empty:\n",
    "        return np.nan\n",
    "#   リターンは、ポジションをとった時点から1時点後までの損益の累計\n",
    "    data['returns'] = data['Close'].pct_change().shift(-1)\n",
    "    data['strategy_returns'] = data['returns'] * data['positions'].shift(1)\n",
    "    data = data.dropna(subset=['strategy_returns'])\n",
    "#   エラー処理\n",
    "    if data.empty:\n",
    "        return np.nan\n",
    "#   シャープレシオの計算\n",
    "    mean_return = data['strategy_returns'].mean()\n",
    "    std_return = data['strategy_returns'].std()\n",
    "    if std_return == 0:\n",
    "        return np.nan\n",
    "    sharpe_ratio = mean_return / std_return\n",
    "    return sharpe_ratio"
   ]
  },
  {
   "cell_type": "code",
   "execution_count": 4,
   "id": "5c05c7d4-7aa1-457c-898d-e04200ed7d4d",
   "metadata": {},
   "outputs": [],
   "source": [
    "# 遺伝的アルゴリズムのセットアップ\n",
    "def setup_ga(data):\n",
    "    #目的関数の定義。必ずreturnの後に,をつける\n",
    "    def evaluate(individual):\n",
    "        n_window, margin_pct = individual\n",
    "        if (n_window<=2) or (margin_pct>=45):\n",
    "            return -np.inf,\n",
    "        try:\n",
    "            sharpe = rsi_strategy(data, n_window, margin_pct)\n",
    "            if np.isnan(sharpe):\n",
    "                return -np.inf,\n",
    "            return sharpe,\n",
    "        except ValueError:\n",
    "            return -np.inf,\n",
    "    #最小化問題として設定(-1.0で最小化、1.0で最大化問題)\n",
    "    creator.create(\"FitnessMax\", base.Fitness, weights=(1.0,))\n",
    "    #個体の定義（list型と指定、中身の遺伝子は後で入れる）\n",
    "    creator.create(\"Individual\", list, fitness=creator.FitnessMax)\n",
    "    #各種関数の設定\n",
    "    #交叉、選択、突然変異などには、DEAPのToolbox内にある関数を利用\n",
    "    toolbox = base.Toolbox()\n",
    "    #random.randintの別名をattr_n_window関数として設定。各個体の遺伝子の中身を決める関数(各遺伝子は7～17のランダムな値)\n",
    "    toolbox.register(\"attr_n_window\", random.randint, 7, 25) # パラメータの動く範囲を指定\n",
    "    toolbox.register(\"attr_margin_pct\", random.randint, 5, 45) # パラメータの動く範囲を指定\n",
    "    #individualという関数を設定。それぞれの個体に含まれる1個の遺伝子をattr_n_windowとattr_margin_pctにより決めるよ、ということ。\n",
    "    toolbox.register(\"individual\", tools.initCycle, creator.Individual,\n",
    "                     (toolbox.attr_n_window, toolbox.attr_margin_pct), n=1)\n",
    "    #集団の個体数を設定するための関数を準備\n",
    "    toolbox.register(\"population\", tools.initRepeat, list, toolbox.individual)\n",
    "    #交叉関数の設定。ブレンド交叉という手法を採用\n",
    "    toolbox.register(\"mate\", tools.cxBlend, alpha=0.5)\n",
    "    #突然変異関数の設定。indpbは各遺伝子が突然変異を起こす確率。変異はlow[i]からup[i]までの整数で変異(i=0,1)\n",
    "    toolbox.register(\"mutate\", tools.mutUniformInt, low=[7, 5], up=[25, 45], indpb=0.2) # パラメータの動く範囲を指定\n",
    "    #トーナメント方式で次世代に子を残す親を選択（tornsizeは各トーナメントに参加する個体の数）\n",
    "    toolbox.register(\"select\", tools.selTournament, tournsize=3)\n",
    "    #評価したい関数の設定（目的関数のこと）\n",
    "    toolbox.register(\"evaluate\", evaluate)\n",
    "    return toolbox"
   ]
  },
  {
   "cell_type": "code",
   "execution_count": 5,
   "id": "1038e05f-16df-46cc-93fb-8efad256bbb7",
   "metadata": {},
   "outputs": [],
   "source": [
    "# 市場価格データのダウンロード\n",
    "def download_data(symbol, start_date, end_date):\n",
    "    data = yf.download(symbol, start=start_date, end=end_date)\n",
    "    data['Close'] = data['Adj Close']\n",
    "    data = data.dropna()\n",
    "    return data\n",
    "\n",
    "# 遺伝的アルゴリズムの実行\n",
    "def run_ga(toolbox, population_size=50, n_generations=20):\n",
    "    population = toolbox.population(n=population_size)\n",
    "    hall_of_fame = tools.HallOfFame(1)\n",
    "    stats = tools.Statistics(lambda ind: ind.fitness.values)\n",
    "    stats.register(\"avg\", np.mean)\n",
    "    stats.register(\"std\", np.std)\n",
    "    stats.register(\"min\", np.min)\n",
    "    stats.register(\"max\", np.max)\n",
    "    population, logbook = algorithms.eaSimple(population, toolbox, cxpb=0.5, mutpb=0.2,\n",
    "                                              ngen=n_generations, stats=stats,\n",
    "                                              halloffame=hall_of_fame, verbose=True)\n",
    "    return hall_of_fame[0]"
   ]
  },
  {
   "cell_type": "code",
   "execution_count": 6,
   "id": "581dc348-f5bc-446f-ba82-6a9b9548a45a",
   "metadata": {},
   "outputs": [
    {
     "name": "stderr",
     "output_type": "stream",
     "text": [
      "[*********************100%%**********************]  1 of 1 completed\n"
     ]
    },
    {
     "name": "stdout",
     "output_type": "stream",
     "text": [
      "gen\tnevals\tavg \tstd\tmin \tmax      \n",
      "0  \t50    \t-inf\tnan\t-inf\t0.0609041\n",
      "1  \t26    \t-inf\tnan\t-inf\t0.0654911\n",
      "2  \t31    \t-inf\tnan\t-inf\t0.0654911\n",
      "3  \t37    \t-inf\tnan\t-inf\t0.0787895\n",
      "4  \t26    \t-inf\tnan\t-inf\t0.0892504\n",
      "5  \t29    \t-inf\tnan\t-inf\t0.0892504\n",
      "6  \t19    \t-inf\tnan\t-inf\t0.0892504\n",
      "7  \t33    \t0.0606014\t0.0221501\t4.73209e-05\t0.0892504\n",
      "8  \t20    \t0.0730363\t0.0166725\t0.0198372  \t0.0892504\n",
      "9  \t36    \t0.0810985\t0.0193995\t-0.0373457 \t0.0892504\n",
      "10 \t27    \t0.0844769\t0.0129247\t0.0302367  \t0.0892504\n",
      "11 \t35    \t0.0869176\t0.00883815\t0.0394874  \t0.0892504\n",
      "12 \t29    \t-inf     \tnan       \t-inf       \t0.0892504\n",
      "13 \t23    \t0.087494 \t0.0108996 \t0.0118885  \t0.0892504\n",
      "14 \t35    \t-inf     \tnan       \t-inf       \t0.0892504\n",
      "15 \t30    \t0.0818524\t0.0189673 \t0.00781472 \t0.0892504\n",
      "16 \t30    \t-inf     \tnan       \t-inf       \t0.0892504\n",
      "17 \t34    \t0.0829749\t0.018655  \t4.7288e-05 \t0.0892504\n",
      "18 \t35    \t-inf     \tnan       \t-inf       \t0.0892504\n",
      "19 \t29    \t-inf     \tnan       \t-inf       \t0.0892504\n",
      "20 \t29    \t-inf     \tnan       \t-inf       \t0.0892504\n",
      "Best parameters: n_window=14.145120404304098, margin_pct=32.31253217025923\n"
     ]
    }
   ],
   "source": [
    "# メイン関数\n",
    "def main(symbol, start_date, end_date):\n",
    "    data = download_data(symbol, start_date, end_date)\n",
    "    toolbox = setup_ga(data)\n",
    "    best_individual = run_ga(toolbox)\n",
    "    best_n_window, best_margin_pct = best_individual\n",
    "    print(f\"Best parameters: n_window={best_n_window}, margin_pct={best_margin_pct}\")\n",
    "\n",
    "# 全体の実行\n",
    "if __name__ == \"__main__\":\n",
    "    symbol = '9983.T'\n",
    "    end_date = datetime(2024,7,20)\n",
    "    start_date = end_date - timedelta(days=1095)\n",
    "    main(symbol, start_date, end_date)"
   ]
  }
 ],
 "metadata": {
  "kernelspec": {
   "display_name": "Python 3 (ipykernel)",
   "language": "python",
   "name": "python3"
  },
  "language_info": {
   "codemirror_mode": {
    "name": "ipython",
    "version": 3
   },
   "file_extension": ".py",
   "mimetype": "text/x-python",
   "name": "python",
   "nbconvert_exporter": "python",
   "pygments_lexer": "ipython3",
   "version": "3.12.3"
  }
 },
 "nbformat": 4,
 "nbformat_minor": 5
}
