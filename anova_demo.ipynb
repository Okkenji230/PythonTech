{
 "cells": [
  {
   "cell_type": "markdown",
   "metadata": {
    "id": "tyNr_ITZ7ToK"
   },
   "source": [
    "# 分散分析のデモ"
   ]
  },
  {
   "cell_type": "markdown",
   "metadata": {
    "id": "J6Sw3XTuM2lw"
   },
   "source": [
    "ある変量の変動の要因を分析する場合には、母集団のサブグループ別に分布や平均値を比較して、グループ間で差があるかどうかをみる、ということはよく行われます。これをより系統的に行う手法が分散分析です。分散分析は、原理的にはダミー変数を用いた回帰分析と同じですが、例えば「性別」や「年齢階級」といった要因単位で指標値に有意に影響を及ぼしているかを見るような場合に便利です。ここでは都道府県別の各種指標値を例題として、「（地理的に隣接した）地方」や「大都市があるか」といった要因で異なるかどうかを見ることにします。"
   ]
  },
  {
   "cell_type": "code",
   "execution_count": 1,
   "metadata": {
    "executionInfo": {
     "elapsed": 894,
     "status": "ok",
     "timestamp": 1630576854644,
     "user": {
      "displayName": "Kenji Ono",
      "photoUrl": "https://lh3.googleusercontent.com/a-/AOh14GgzR9tGY8hf4Aw-59tuxUqKfEsdrSZVC-4fJjo8cA=s64",
      "userId": "14327041206082834894"
     },
     "user_tz": -540
    },
    "id": "ioKr094Y75ub"
   },
   "outputs": [],
   "source": [
    "# ライブラリのインポート\n",
    "import numpy as np\n",
    "import pandas as pd\n",
    "import re\n",
    "import matplotlib.pyplot as plt\n",
    "import seaborn as sns\n",
    "sns.set(font=['MS Gothic'])"
   ]
  },
  {
   "cell_type": "markdown",
   "metadata": {
    "id": "6sbQcvFL80J1"
   },
   "source": [
    "ここでは、日本の47都道府県をクロスセクションデータとして用いることにします。まず、エクセルファイルからPandasデータフレームに都道府県の属性データを読込みます。"
   ]
  },
  {
   "cell_type": "code",
   "execution_count": 2,
   "metadata": {
    "colab": {
     "base_uri": "https://localhost:8080/",
     "height": 202
    },
    "executionInfo": {
     "elapsed": 465,
     "status": "ok",
     "timestamp": 1630576855095,
     "user": {
      "displayName": "Kenji Ono",
      "photoUrl": "https://lh3.googleusercontent.com/a-/AOh14GgzR9tGY8hf4Aw-59tuxUqKfEsdrSZVC-4fJjo8cA=s64",
      "userId": "14327041206082834894"
     },
     "user_tz": -540
    },
    "id": "TiI4ziqF7-je",
    "outputId": "7c42f657-7898-4186-df1a-3dc6b2536d16"
   },
   "outputs": [
    {
     "data": {
      "text/html": [
       "<div>\n",
       "<style scoped>\n",
       "    .dataframe tbody tr th:only-of-type {\n",
       "        vertical-align: middle;\n",
       "    }\n",
       "\n",
       "    .dataframe tbody tr th {\n",
       "        vertical-align: top;\n",
       "    }\n",
       "\n",
       "    .dataframe thead th {\n",
       "        text-align: right;\n",
       "    }\n",
       "</style>\n",
       "<table border=\"1\" class=\"dataframe\">\n",
       "  <thead>\n",
       "    <tr style=\"text-align: right;\">\n",
       "      <th></th>\n",
       "      <th>コード</th>\n",
       "      <th>県名</th>\n",
       "      <th>地域</th>\n",
       "      <th>都市化</th>\n",
       "      <th>メディア</th>\n",
       "    </tr>\n",
       "  </thead>\n",
       "  <tbody>\n",
       "    <tr>\n",
       "      <th>0</th>\n",
       "      <td>1</td>\n",
       "      <td>北 海 道</td>\n",
       "      <td>北海道東北</td>\n",
       "      <td>郊外</td>\n",
       "      <td>アイランドマス</td>\n",
       "    </tr>\n",
       "    <tr>\n",
       "      <th>1</th>\n",
       "      <td>2</td>\n",
       "      <td>青 森 県</td>\n",
       "      <td>北海道東北</td>\n",
       "      <td>郊外</td>\n",
       "      <td>アイランドマス</td>\n",
       "    </tr>\n",
       "    <tr>\n",
       "      <th>2</th>\n",
       "      <td>3</td>\n",
       "      <td>岩 手 県</td>\n",
       "      <td>北海道東北</td>\n",
       "      <td>郊外</td>\n",
       "      <td>テレビ・ラジエリアン</td>\n",
       "    </tr>\n",
       "    <tr>\n",
       "      <th>3</th>\n",
       "      <td>4</td>\n",
       "      <td>宮 城 県</td>\n",
       "      <td>北海道東北</td>\n",
       "      <td>都市</td>\n",
       "      <td>テレビラバーズ</td>\n",
       "    </tr>\n",
       "    <tr>\n",
       "      <th>4</th>\n",
       "      <td>5</td>\n",
       "      <td>秋 田 県</td>\n",
       "      <td>北海道東北</td>\n",
       "      <td>郊外</td>\n",
       "      <td>テレビラバーズ</td>\n",
       "    </tr>\n",
       "  </tbody>\n",
       "</table>\n",
       "</div>"
      ],
      "text/plain": [
       "   コード     県名     地域 都市化        メディア\n",
       "0    1  北 海 道  北海道東北  郊外     アイランドマス\n",
       "1    2  青 森 県  北海道東北  郊外     アイランドマス\n",
       "2    3  岩 手 県  北海道東北  郊外  テレビ・ラジエリアン\n",
       "3    4  宮 城 県  北海道東北  都市     テレビラバーズ\n",
       "4    5  秋 田 県  北海道東北  郊外     テレビラバーズ"
      ]
     },
     "execution_count": 2,
     "metadata": {},
     "output_type": "execute_result"
    }
   ],
   "source": [
    "# ファイルからデータを読み込む\n",
    "df01 = pd.read_excel('データ解析講座一日目演習.xlsx',sheet_name='都道府県')\n",
    "df01.head()"
   ]
  },
  {
   "cell_type": "markdown",
   "metadata": {
    "id": "S0-eywqZdavm"
   },
   "source": [
    "上記のデータ列のうち、「都市化」は政令指定都市がある道府県から北海道を除いて東京都と香川県（四国経済の拠点が多く存在）を加えたものを「都市県」、その他を「郊外県」としました。また、「メディア」は以下の記事にあるメディア接触の特徴に関する分類です。 https://news.livedoor.com/article/detail/9064551/"
   ]
  },
  {
   "cell_type": "markdown",
   "metadata": {
    "id": "NdWwcQkmenas"
   },
   "source": [
    "同様に、公的ウェブサイトに掲載されている、47都道府県の家計指標データを読込みます。"
   ]
  },
  {
   "cell_type": "code",
   "execution_count": 3,
   "metadata": {
    "colab": {
     "base_uri": "https://localhost:8080/",
     "height": 202
    },
    "executionInfo": {
     "elapsed": 39,
     "status": "ok",
     "timestamp": 1630576855097,
     "user": {
      "displayName": "Kenji Ono",
      "photoUrl": "https://lh3.googleusercontent.com/a-/AOh14GgzR9tGY8hf4Aw-59tuxUqKfEsdrSZVC-4fJjo8cA=s64",
      "userId": "14327041206082834894"
     },
     "user_tz": -540
    },
    "id": "rkJheOfH8hif",
    "outputId": "31cb97d2-a0bc-4c97-c67a-2fbae1211609"
   },
   "outputs": [
    {
     "data": {
      "text/html": [
       "<div>\n",
       "<style scoped>\n",
       "    .dataframe tbody tr th:only-of-type {\n",
       "        vertical-align: middle;\n",
       "    }\n",
       "\n",
       "    .dataframe tbody tr th {\n",
       "        vertical-align: top;\n",
       "    }\n",
       "\n",
       "    .dataframe thead th {\n",
       "        text-align: right;\n",
       "    }\n",
       "</style>\n",
       "<table border=\"1\" class=\"dataframe\">\n",
       "  <thead>\n",
       "    <tr style=\"text-align: right;\">\n",
       "      <th></th>\n",
       "      <th>コード</th>\n",
       "      <th>県名</th>\n",
       "      <th>実収入</th>\n",
       "      <th>世帯主収入</th>\n",
       "      <th>消費支出</th>\n",
       "      <th>食料費割合</th>\n",
       "      <th>住居費割合</th>\n",
       "      <th>光熱・水道費割合</th>\n",
       "      <th>家具・家事用品費割合</th>\n",
       "      <th>被服及び履物費割合</th>\n",
       "      <th>保健医療費割合</th>\n",
       "    </tr>\n",
       "  </thead>\n",
       "  <tbody>\n",
       "    <tr>\n",
       "      <th>0</th>\n",
       "      <td>1</td>\n",
       "      <td>北 海 道</td>\n",
       "      <td>529.9</td>\n",
       "      <td>422.7</td>\n",
       "      <td>287.3</td>\n",
       "      <td>24.2</td>\n",
       "      <td>5.9</td>\n",
       "      <td>8.5</td>\n",
       "      <td>3.3</td>\n",
       "      <td>3.9</td>\n",
       "      <td>4.3</td>\n",
       "    </tr>\n",
       "    <tr>\n",
       "      <th>1</th>\n",
       "      <td>2</td>\n",
       "      <td>青 森 県</td>\n",
       "      <td>442.9</td>\n",
       "      <td>333.4</td>\n",
       "      <td>236.8</td>\n",
       "      <td>29.2</td>\n",
       "      <td>4.0</td>\n",
       "      <td>11.3</td>\n",
       "      <td>4.1</td>\n",
       "      <td>3.3</td>\n",
       "      <td>4.2</td>\n",
       "    </tr>\n",
       "    <tr>\n",
       "      <th>2</th>\n",
       "      <td>3</td>\n",
       "      <td>岩 手 県</td>\n",
       "      <td>522.9</td>\n",
       "      <td>403.5</td>\n",
       "      <td>289.0</td>\n",
       "      <td>24.6</td>\n",
       "      <td>5.2</td>\n",
       "      <td>8.7</td>\n",
       "      <td>3.7</td>\n",
       "      <td>3.8</td>\n",
       "      <td>5.1</td>\n",
       "    </tr>\n",
       "    <tr>\n",
       "      <th>3</th>\n",
       "      <td>4</td>\n",
       "      <td>宮 城 県</td>\n",
       "      <td>419.9</td>\n",
       "      <td>341.5</td>\n",
       "      <td>281.0</td>\n",
       "      <td>26.4</td>\n",
       "      <td>6.5</td>\n",
       "      <td>7.8</td>\n",
       "      <td>4.0</td>\n",
       "      <td>4.1</td>\n",
       "      <td>5.1</td>\n",
       "    </tr>\n",
       "    <tr>\n",
       "      <th>4</th>\n",
       "      <td>5</td>\n",
       "      <td>秋 田 県</td>\n",
       "      <td>459.0</td>\n",
       "      <td>343.4</td>\n",
       "      <td>255.2</td>\n",
       "      <td>25.6</td>\n",
       "      <td>5.4</td>\n",
       "      <td>9.6</td>\n",
       "      <td>3.7</td>\n",
       "      <td>3.1</td>\n",
       "      <td>5.4</td>\n",
       "    </tr>\n",
       "  </tbody>\n",
       "</table>\n",
       "</div>"
      ],
      "text/plain": [
       "   コード     県名    実収入  世帯主収入   消費支出  食料費割合  住居費割合  光熱・水道費割合  家具・家事用品費割合  \\\n",
       "0    1  北 海 道  529.9  422.7  287.3   24.2    5.9       8.5         3.3   \n",
       "1    2  青 森 県  442.9  333.4  236.8   29.2    4.0      11.3         4.1   \n",
       "2    3  岩 手 県  522.9  403.5  289.0   24.6    5.2       8.7         3.7   \n",
       "3    4  宮 城 県  419.9  341.5  281.0   26.4    6.5       7.8         4.0   \n",
       "4    5  秋 田 県  459.0  343.4  255.2   25.6    5.4       9.6         3.7   \n",
       "\n",
       "   被服及び履物費割合  保健医療費割合  \n",
       "0        3.9      4.3  \n",
       "1        3.3      4.2  \n",
       "2        3.8      5.1  \n",
       "3        4.1      5.1  \n",
       "4        3.1      5.4  "
      ]
     },
     "execution_count": 3,
     "metadata": {},
     "output_type": "execute_result"
    }
   ],
   "source": [
    "# ファイルからデータを読み込む\n",
    "df02 = pd.read_excel('データ解析講座一日目演習.xlsx',sheet_name='家計指標')\n",
    "df02.head()"
   ]
  },
  {
   "cell_type": "markdown",
   "metadata": {
    "id": "iDrnJnhRfLv6"
   },
   "source": [
    "そして、読み込んだ2つのデータフレームを、県名をキーとして横に連結します。"
   ]
  },
  {
   "cell_type": "code",
   "execution_count": 4,
   "metadata": {
    "colab": {
     "base_uri": "https://localhost:8080/",
     "height": 302
    },
    "executionInfo": {
     "elapsed": 34,
     "status": "ok",
     "timestamp": 1630576855100,
     "user": {
      "displayName": "Kenji Ono",
      "photoUrl": "https://lh3.googleusercontent.com/a-/AOh14GgzR9tGY8hf4Aw-59tuxUqKfEsdrSZVC-4fJjo8cA=s64",
      "userId": "14327041206082834894"
     },
     "user_tz": -540
    },
    "id": "rwIdZri94rfC",
    "outputId": "52fc798e-4d8f-4710-e3a7-87e1aa2e8b4d"
   },
   "outputs": [
    {
     "data": {
      "text/html": [
       "<div>\n",
       "<style scoped>\n",
       "    .dataframe tbody tr th:only-of-type {\n",
       "        vertical-align: middle;\n",
       "    }\n",
       "\n",
       "    .dataframe tbody tr th {\n",
       "        vertical-align: top;\n",
       "    }\n",
       "\n",
       "    .dataframe thead th {\n",
       "        text-align: right;\n",
       "    }\n",
       "</style>\n",
       "<table border=\"1\" class=\"dataframe\">\n",
       "  <thead>\n",
       "    <tr style=\"text-align: right;\">\n",
       "      <th></th>\n",
       "      <th>県名</th>\n",
       "      <th>地域</th>\n",
       "      <th>都市化</th>\n",
       "      <th>メディア</th>\n",
       "      <th>実収入</th>\n",
       "      <th>世帯主収入</th>\n",
       "      <th>消費支出</th>\n",
       "      <th>食料費割合</th>\n",
       "      <th>住居費割合</th>\n",
       "      <th>光熱・水道費割合</th>\n",
       "      <th>家具・家事用品費割合</th>\n",
       "      <th>被服及び履物費割合</th>\n",
       "      <th>保健医療費割合</th>\n",
       "    </tr>\n",
       "  </thead>\n",
       "  <tbody>\n",
       "    <tr>\n",
       "      <th>0</th>\n",
       "      <td>北 海 道</td>\n",
       "      <td>北海道東北</td>\n",
       "      <td>郊外</td>\n",
       "      <td>アイランドマス</td>\n",
       "      <td>529.9</td>\n",
       "      <td>422.7</td>\n",
       "      <td>287.3</td>\n",
       "      <td>24.2</td>\n",
       "      <td>5.9</td>\n",
       "      <td>8.5</td>\n",
       "      <td>3.3</td>\n",
       "      <td>3.9</td>\n",
       "      <td>4.3</td>\n",
       "    </tr>\n",
       "    <tr>\n",
       "      <th>1</th>\n",
       "      <td>青 森 県</td>\n",
       "      <td>北海道東北</td>\n",
       "      <td>郊外</td>\n",
       "      <td>アイランドマス</td>\n",
       "      <td>442.9</td>\n",
       "      <td>333.4</td>\n",
       "      <td>236.8</td>\n",
       "      <td>29.2</td>\n",
       "      <td>4.0</td>\n",
       "      <td>11.3</td>\n",
       "      <td>4.1</td>\n",
       "      <td>3.3</td>\n",
       "      <td>4.2</td>\n",
       "    </tr>\n",
       "    <tr>\n",
       "      <th>2</th>\n",
       "      <td>岩 手 県</td>\n",
       "      <td>北海道東北</td>\n",
       "      <td>郊外</td>\n",
       "      <td>テレビ・ラジエリアン</td>\n",
       "      <td>522.9</td>\n",
       "      <td>403.5</td>\n",
       "      <td>289.0</td>\n",
       "      <td>24.6</td>\n",
       "      <td>5.2</td>\n",
       "      <td>8.7</td>\n",
       "      <td>3.7</td>\n",
       "      <td>3.8</td>\n",
       "      <td>5.1</td>\n",
       "    </tr>\n",
       "    <tr>\n",
       "      <th>3</th>\n",
       "      <td>宮 城 県</td>\n",
       "      <td>北海道東北</td>\n",
       "      <td>都市</td>\n",
       "      <td>テレビラバーズ</td>\n",
       "      <td>419.9</td>\n",
       "      <td>341.5</td>\n",
       "      <td>281.0</td>\n",
       "      <td>26.4</td>\n",
       "      <td>6.5</td>\n",
       "      <td>7.8</td>\n",
       "      <td>4.0</td>\n",
       "      <td>4.1</td>\n",
       "      <td>5.1</td>\n",
       "    </tr>\n",
       "    <tr>\n",
       "      <th>4</th>\n",
       "      <td>秋 田 県</td>\n",
       "      <td>北海道東北</td>\n",
       "      <td>郊外</td>\n",
       "      <td>テレビラバーズ</td>\n",
       "      <td>459.0</td>\n",
       "      <td>343.4</td>\n",
       "      <td>255.2</td>\n",
       "      <td>25.6</td>\n",
       "      <td>5.4</td>\n",
       "      <td>9.6</td>\n",
       "      <td>3.7</td>\n",
       "      <td>3.1</td>\n",
       "      <td>5.4</td>\n",
       "    </tr>\n",
       "  </tbody>\n",
       "</table>\n",
       "</div>"
      ],
      "text/plain": [
       "      県名     地域 都市化        メディア    実収入  世帯主収入   消費支出  食料費割合  住居費割合  光熱・水道費割合  \\\n",
       "0  北 海 道  北海道東北  郊外     アイランドマス  529.9  422.7  287.3   24.2    5.9       8.5   \n",
       "1  青 森 県  北海道東北  郊外     アイランドマス  442.9  333.4  236.8   29.2    4.0      11.3   \n",
       "2  岩 手 県  北海道東北  郊外  テレビ・ラジエリアン  522.9  403.5  289.0   24.6    5.2       8.7   \n",
       "3  宮 城 県  北海道東北  都市     テレビラバーズ  419.9  341.5  281.0   26.4    6.5       7.8   \n",
       "4  秋 田 県  北海道東北  郊外     テレビラバーズ  459.0  343.4  255.2   25.6    5.4       9.6   \n",
       "\n",
       "   家具・家事用品費割合  被服及び履物費割合  保健医療費割合  \n",
       "0         3.3        3.9      4.3  \n",
       "1         4.1        3.3      4.2  \n",
       "2         3.7        3.8      5.1  \n",
       "3         4.0        4.1      5.1  \n",
       "4         3.7        3.1      5.4  "
      ]
     },
     "execution_count": 4,
     "metadata": {},
     "output_type": "execute_result"
    }
   ],
   "source": [
    "# 県名をキーにして横連結する\n",
    "df1 = pd.merge(df01, df02, left_on='県名', right_on='県名')\n",
    "df1.drop(columns=['コード_x','コード_y'],inplace=True)\n",
    "df1.head()"
   ]
  },
  {
   "cell_type": "code",
   "execution_count": 5,
   "metadata": {
    "colab": {
     "base_uri": "https://localhost:8080/",
     "height": 226
    },
    "executionInfo": {
     "elapsed": 1235,
     "status": "ok",
     "timestamp": 1630576856305,
     "user": {
      "displayName": "Kenji Ono",
      "photoUrl": "https://lh3.googleusercontent.com/a-/AOh14GgzR9tGY8hf4Aw-59tuxUqKfEsdrSZVC-4fJjo8cA=s64",
      "userId": "14327041206082834894"
     },
     "user_tz": -540
    },
    "id": "UZ_Ha-RCHE65",
    "outputId": "abfc1873-a951-4b44-bb29-a5cc1f60fd50"
   },
   "outputs": [
    {
     "data": {
      "text/html": [
       "<div>\n",
       "<style scoped>\n",
       "    .dataframe tbody tr th:only-of-type {\n",
       "        vertical-align: middle;\n",
       "    }\n",
       "\n",
       "    .dataframe tbody tr th {\n",
       "        vertical-align: top;\n",
       "    }\n",
       "\n",
       "    .dataframe thead th {\n",
       "        text-align: right;\n",
       "    }\n",
       "</style>\n",
       "<table border=\"1\" class=\"dataframe\">\n",
       "  <thead>\n",
       "    <tr style=\"text-align: right;\">\n",
       "      <th></th>\n",
       "      <th>sum_sq</th>\n",
       "      <th>df</th>\n",
       "      <th>F</th>\n",
       "      <th>PR(&gt;F)</th>\n",
       "    </tr>\n",
       "  </thead>\n",
       "  <tbody>\n",
       "    <tr>\n",
       "      <th>地域</th>\n",
       "      <td>34.42</td>\n",
       "      <td>6.0</td>\n",
       "      <td>2.82</td>\n",
       "      <td>0.02</td>\n",
       "    </tr>\n",
       "    <tr>\n",
       "      <th>都市化</th>\n",
       "      <td>17.77</td>\n",
       "      <td>1.0</td>\n",
       "      <td>8.75</td>\n",
       "      <td>0.01</td>\n",
       "    </tr>\n",
       "    <tr>\n",
       "      <th>メディア</th>\n",
       "      <td>23.32</td>\n",
       "      <td>6.0</td>\n",
       "      <td>1.91</td>\n",
       "      <td>0.11</td>\n",
       "    </tr>\n",
       "    <tr>\n",
       "      <th>Residual</th>\n",
       "      <td>67.04</td>\n",
       "      <td>33.0</td>\n",
       "      <td>NaN</td>\n",
       "      <td>NaN</td>\n",
       "    </tr>\n",
       "  </tbody>\n",
       "</table>\n",
       "</div>"
      ],
      "text/plain": [
       "          sum_sq    df     F  PR(>F)\n",
       "地域         34.42   6.0  2.82    0.02\n",
       "都市化        17.77   1.0  8.75    0.01\n",
       "メディア       23.32   6.0  1.91    0.11\n",
       "Residual   67.04  33.0   NaN     NaN"
      ]
     },
     "execution_count": 5,
     "metadata": {},
     "output_type": "execute_result"
    }
   ],
   "source": [
    "# 一元配置分散分析\n",
    "import statsmodels.formula.api as smf\n",
    "import statsmodels.api as sm\n",
    "oneway_anova = smf.ols(formula='食料費割合~地域+都市化+メディア',data=df1).fit()\n",
    "sm.stats.anova_lm(oneway_anova,typ=2).round(2)"
   ]
  },
  {
   "cell_type": "code",
   "execution_count": 6,
   "metadata": {
    "colab": {
     "base_uri": "https://localhost:8080/",
     "height": 340
    },
    "executionInfo": {
     "elapsed": 473,
     "status": "ok",
     "timestamp": 1630576856755,
     "user": {
      "displayName": "Kenji Ono",
      "photoUrl": "https://lh3.googleusercontent.com/a-/AOh14GgzR9tGY8hf4Aw-59tuxUqKfEsdrSZVC-4fJjo8cA=s64",
      "userId": "14327041206082834894"
     },
     "user_tz": -540
    },
    "id": "PEe41t30JBux",
    "outputId": "38eead90-ecb1-4c2a-dccd-3992db94db7a"
   },
   "outputs": [
    {
     "data": {
      "text/plain": [
       "<seaborn.axisgrid.FacetGrid at 0x2b93515be80>"
      ]
     },
     "execution_count": 6,
     "metadata": {},
     "output_type": "execute_result"
    },
    {
     "data": {
      "image/png": "[encoded data removed]",
      "text/plain": [
       "<Figure size 576x288 with 1 Axes>"
      ]
     },
     "metadata": {},
     "output_type": "display_data"
    }
   ],
   "source": [
    "# 有意差のある効果についてその中身をみる\n",
    "import matplotlib.pyplot as plt\n",
    "from matplotlib import rcParams\n",
    "rcParams['font.family']='MS Gothic'\n",
    "import seaborn as sns\n",
    "p = sns.catplot(x='食料費割合',y='都市化',data=df1,kind='bar',height=4,aspect=2)\n",
    "p.set(title='食料費割合の都市化による差')"
   ]
  },
  {
   "cell_type": "code",
   "execution_count": 7,
   "metadata": {
    "colab": {
     "base_uri": "https://localhost:8080/",
     "height": 316
    },
    "executionInfo": {
     "elapsed": 508,
     "status": "ok",
     "timestamp": 1630576857256,
     "user": {
      "displayName": "Kenji Ono",
      "photoUrl": "https://lh3.googleusercontent.com/a-/AOh14GgzR9tGY8hf4Aw-59tuxUqKfEsdrSZVC-4fJjo8cA=s64",
      "userId": "14327041206082834894"
     },
     "user_tz": -540
    },
    "id": "N-M035fIKYhX",
    "outputId": "48233813-c12c-47d8-e8f2-baed953d9efe"
   },
   "outputs": [
    {
     "data": {
      "text/plain": [
       "<matplotlib.legend.Legend at 0x2b937825d30>"
      ]
     },
     "execution_count": 7,
     "metadata": {},
     "output_type": "execute_result"
    },
    {
     "data": {
      "image/png": "[encoded data removed]",
      "text/plain": [
       "<Figure size 432x288 with 1 Axes>"
      ]
     },
     "metadata": {},
     "output_type": "display_data"
    }
   ],
   "source": [
    "# 交互作用の図示\n",
    "from statsmodels.graphics.factorplots import interaction_plot\n",
    "fig=interaction_plot(df1.地域,df1.都市化,df1.食料費割合,colors=['red','blue'],ms=10)\n",
    "plt.title('地域別食料費割合と都市化')\n",
    "plt.legend(bbox_to_anchor=(1.05,1.0),loc='upper left')"
   ]
  },
  {
   "cell_type": "code",
   "execution_count": 8,
   "metadata": {
    "colab": {
     "base_uri": "https://localhost:8080/",
     "height": 202
    },
    "executionInfo": {
     "elapsed": 533,
     "status": "ok",
     "timestamp": 1630576857770,
     "user": {
      "displayName": "Kenji Ono",
      "photoUrl": "https://lh3.googleusercontent.com/a-/AOh14GgzR9tGY8hf4Aw-59tuxUqKfEsdrSZVC-4fJjo8cA=s64",
      "userId": "14327041206082834894"
     },
     "user_tz": -540
    },
    "id": "ToWAlAadN4MA",
    "outputId": "67ea5bc5-b8a1-47e9-ef13-2c3f3ae5d7b0"
   },
   "outputs": [
    {
     "data": {
      "text/html": [
       "<div>\n",
       "<style scoped>\n",
       "    .dataframe tbody tr th:only-of-type {\n",
       "        vertical-align: middle;\n",
       "    }\n",
       "\n",
       "    .dataframe tbody tr th {\n",
       "        vertical-align: top;\n",
       "    }\n",
       "\n",
       "    .dataframe thead th {\n",
       "        text-align: right;\n",
       "    }\n",
       "</style>\n",
       "<table border=\"1\" class=\"dataframe\">\n",
       "  <thead>\n",
       "    <tr style=\"text-align: right;\">\n",
       "      <th></th>\n",
       "      <th>コード</th>\n",
       "      <th>県名</th>\n",
       "      <th>有訴者率</th>\n",
       "      <th>通院者率</th>\n",
       "      <th>一般病院年間新入院患者数</th>\n",
       "      <th>一般病院の１日平均</th>\n",
       "      <th>一般病院の１日平均.1</th>\n",
       "      <th>標準化死亡率</th>\n",
       "      <th>平均余命1</th>\n",
       "      <th>平均余命2</th>\n",
       "      <th>平均余命3</th>\n",
       "    </tr>\n",
       "  </thead>\n",
       "  <tbody>\n",
       "    <tr>\n",
       "      <th>0</th>\n",
       "      <td>1</td>\n",
       "      <td>北 海 道</td>\n",
       "      <td>289.3</td>\n",
       "      <td>397.6</td>\n",
       "      <td>15481.5</td>\n",
       "      <td>1373.0</td>\n",
       "      <td>1190.7</td>\n",
       "      <td>1.78</td>\n",
       "      <td>79.17</td>\n",
       "      <td>86.30</td>\n",
       "      <td>18.75</td>\n",
       "    </tr>\n",
       "    <tr>\n",
       "      <th>1</th>\n",
       "      <td>2</td>\n",
       "      <td>青 森 県</td>\n",
       "      <td>282.2</td>\n",
       "      <td>372.7</td>\n",
       "      <td>11805.6</td>\n",
       "      <td>1011.3</td>\n",
       "      <td>843.5</td>\n",
       "      <td>2.01</td>\n",
       "      <td>77.28</td>\n",
       "      <td>85.34</td>\n",
       "      <td>17.59</td>\n",
       "    </tr>\n",
       "    <tr>\n",
       "      <th>2</th>\n",
       "      <td>3</td>\n",
       "      <td>岩 手 県</td>\n",
       "      <td>304.7</td>\n",
       "      <td>421.4</td>\n",
       "      <td>11824.0</td>\n",
       "      <td>949.0</td>\n",
       "      <td>793.1</td>\n",
       "      <td>1.85</td>\n",
       "      <td>78.53</td>\n",
       "      <td>85.86</td>\n",
       "      <td>18.46</td>\n",
       "    </tr>\n",
       "    <tr>\n",
       "      <th>3</th>\n",
       "      <td>4</td>\n",
       "      <td>宮 城 県</td>\n",
       "      <td>307.3</td>\n",
       "      <td>386.9</td>\n",
       "      <td>11529.9</td>\n",
       "      <td>849.0</td>\n",
       "      <td>642.6</td>\n",
       "      <td>1.61</td>\n",
       "      <td>79.65</td>\n",
       "      <td>86.39</td>\n",
       "      <td>18.81</td>\n",
       "    </tr>\n",
       "    <tr>\n",
       "      <th>4</th>\n",
       "      <td>5</td>\n",
       "      <td>秋 田 県</td>\n",
       "      <td>290.8</td>\n",
       "      <td>405.2</td>\n",
       "      <td>13553.3</td>\n",
       "      <td>1218.6</td>\n",
       "      <td>915.6</td>\n",
       "      <td>1.85</td>\n",
       "      <td>78.22</td>\n",
       "      <td>85.93</td>\n",
       "      <td>18.10</td>\n",
       "    </tr>\n",
       "  </tbody>\n",
       "</table>\n",
       "</div>"
      ],
      "text/plain": [
       "   コード     県名   有訴者率   通院者率  一般病院年間新入院患者数  一般病院の１日平均  一般病院の１日平均.1  標準化死亡率  \\\n",
       "0    1  北 海 道  289.3  397.6       15481.5     1373.0       1190.7    1.78   \n",
       "1    2  青 森 県  282.2  372.7       11805.6     1011.3        843.5    2.01   \n",
       "2    3  岩 手 県  304.7  421.4       11824.0      949.0        793.1    1.85   \n",
       "3    4  宮 城 県  307.3  386.9       11529.9      849.0        642.6    1.61   \n",
       "4    5  秋 田 県  290.8  405.2       13553.3     1218.6        915.6    1.85   \n",
       "\n",
       "   平均余命1  平均余命2  平均余命3  \n",
       "0  79.17  86.30  18.75  \n",
       "1  77.28  85.34  17.59  \n",
       "2  78.53  85.86  18.46  \n",
       "3  79.65  86.39  18.81  \n",
       "4  78.22  85.93  18.10  "
      ]
     },
     "execution_count": 8,
     "metadata": {},
     "output_type": "execute_result"
    }
   ],
   "source": [
    "# ファイルからデータを読み込む\n",
    "df03 = pd.read_excel('データ解析講座一日目演習.xlsx',sheet_name='医療健康指標')\n",
    "df03.head()"
   ]
  },
  {
   "cell_type": "code",
   "execution_count": 9,
   "metadata": {
    "colab": {
     "base_uri": "https://localhost:8080/",
     "height": 302
    },
    "executionInfo": {
     "elapsed": 40,
     "status": "ok",
     "timestamp": 1630576857772,
     "user": {
      "displayName": "Kenji Ono",
      "photoUrl": "https://lh3.googleusercontent.com/a-/AOh14GgzR9tGY8hf4Aw-59tuxUqKfEsdrSZVC-4fJjo8cA=s64",
      "userId": "14327041206082834894"
     },
     "user_tz": -540
    },
    "id": "igUbEj-hOZmP",
    "outputId": "ddf0a174-ed87-4e3e-aa7f-a563245d483f"
   },
   "outputs": [
    {
     "data": {
      "text/html": [
       "<div>\n",
       "<style scoped>\n",
       "    .dataframe tbody tr th:only-of-type {\n",
       "        vertical-align: middle;\n",
       "    }\n",
       "\n",
       "    .dataframe tbody tr th {\n",
       "        vertical-align: top;\n",
       "    }\n",
       "\n",
       "    .dataframe thead th {\n",
       "        text-align: right;\n",
       "    }\n",
       "</style>\n",
       "<table border=\"1\" class=\"dataframe\">\n",
       "  <thead>\n",
       "    <tr style=\"text-align: right;\">\n",
       "      <th></th>\n",
       "      <th>県名</th>\n",
       "      <th>地域</th>\n",
       "      <th>都市化</th>\n",
       "      <th>メディア</th>\n",
       "      <th>有訴者率</th>\n",
       "      <th>通院者率</th>\n",
       "      <th>一般病院年間新入院患者数</th>\n",
       "      <th>一般病院の１日平均</th>\n",
       "      <th>一般病院の１日平均.1</th>\n",
       "      <th>標準化死亡率</th>\n",
       "      <th>平均余命1</th>\n",
       "      <th>平均余命2</th>\n",
       "      <th>平均余命3</th>\n",
       "    </tr>\n",
       "  </thead>\n",
       "  <tbody>\n",
       "    <tr>\n",
       "      <th>0</th>\n",
       "      <td>北 海 道</td>\n",
       "      <td>北海道東北</td>\n",
       "      <td>郊外</td>\n",
       "      <td>アイランドマス</td>\n",
       "      <td>289.3</td>\n",
       "      <td>397.6</td>\n",
       "      <td>15481.5</td>\n",
       "      <td>1373.0</td>\n",
       "      <td>1190.7</td>\n",
       "      <td>1.78</td>\n",
       "      <td>79.17</td>\n",
       "      <td>86.30</td>\n",
       "      <td>18.75</td>\n",
       "    </tr>\n",
       "    <tr>\n",
       "      <th>1</th>\n",
       "      <td>青 森 県</td>\n",
       "      <td>北海道東北</td>\n",
       "      <td>郊外</td>\n",
       "      <td>アイランドマス</td>\n",
       "      <td>282.2</td>\n",
       "      <td>372.7</td>\n",
       "      <td>11805.6</td>\n",
       "      <td>1011.3</td>\n",
       "      <td>843.5</td>\n",
       "      <td>2.01</td>\n",
       "      <td>77.28</td>\n",
       "      <td>85.34</td>\n",
       "      <td>17.59</td>\n",
       "    </tr>\n",
       "    <tr>\n",
       "      <th>2</th>\n",
       "      <td>岩 手 県</td>\n",
       "      <td>北海道東北</td>\n",
       "      <td>郊外</td>\n",
       "      <td>テレビ・ラジエリアン</td>\n",
       "      <td>304.7</td>\n",
       "      <td>421.4</td>\n",
       "      <td>11824.0</td>\n",
       "      <td>949.0</td>\n",
       "      <td>793.1</td>\n",
       "      <td>1.85</td>\n",
       "      <td>78.53</td>\n",
       "      <td>85.86</td>\n",
       "      <td>18.46</td>\n",
       "    </tr>\n",
       "    <tr>\n",
       "      <th>3</th>\n",
       "      <td>宮 城 県</td>\n",
       "      <td>北海道東北</td>\n",
       "      <td>都市</td>\n",
       "      <td>テレビラバーズ</td>\n",
       "      <td>307.3</td>\n",
       "      <td>386.9</td>\n",
       "      <td>11529.9</td>\n",
       "      <td>849.0</td>\n",
       "      <td>642.6</td>\n",
       "      <td>1.61</td>\n",
       "      <td>79.65</td>\n",
       "      <td>86.39</td>\n",
       "      <td>18.81</td>\n",
       "    </tr>\n",
       "    <tr>\n",
       "      <th>4</th>\n",
       "      <td>秋 田 県</td>\n",
       "      <td>北海道東北</td>\n",
       "      <td>郊外</td>\n",
       "      <td>テレビラバーズ</td>\n",
       "      <td>290.8</td>\n",
       "      <td>405.2</td>\n",
       "      <td>13553.3</td>\n",
       "      <td>1218.6</td>\n",
       "      <td>915.6</td>\n",
       "      <td>1.85</td>\n",
       "      <td>78.22</td>\n",
       "      <td>85.93</td>\n",
       "      <td>18.10</td>\n",
       "    </tr>\n",
       "  </tbody>\n",
       "</table>\n",
       "</div>"
      ],
      "text/plain": [
       "      県名     地域 都市化        メディア   有訴者率   通院者率  一般病院年間新入院患者数  一般病院の１日平均  \\\n",
       "0  北 海 道  北海道東北  郊外     アイランドマス  289.3  397.6       15481.5     1373.0   \n",
       "1  青 森 県  北海道東北  郊外     アイランドマス  282.2  372.7       11805.6     1011.3   \n",
       "2  岩 手 県  北海道東北  郊外  テレビ・ラジエリアン  304.7  421.4       11824.0      949.0   \n",
       "3  宮 城 県  北海道東北  都市     テレビラバーズ  307.3  386.9       11529.9      849.0   \n",
       "4  秋 田 県  北海道東北  郊外     テレビラバーズ  290.8  405.2       13553.3     1218.6   \n",
       "\n",
       "   一般病院の１日平均.1  標準化死亡率  平均余命1  平均余命2  平均余命3  \n",
       "0       1190.7    1.78  79.17  86.30  18.75  \n",
       "1        843.5    2.01  77.28  85.34  17.59  \n",
       "2        793.1    1.85  78.53  85.86  18.46  \n",
       "3        642.6    1.61  79.65  86.39  18.81  \n",
       "4        915.6    1.85  78.22  85.93  18.10  "
      ]
     },
     "execution_count": 9,
     "metadata": {},
     "output_type": "execute_result"
    }
   ],
   "source": [
    "# 県名をキーにして横連結する\n",
    "df2 = pd.merge(df01, df03, left_on='県名', right_on='県名')\n",
    "df2.drop(columns=['コード_x','コード_y'],inplace=True)\n",
    "df2.head()"
   ]
  },
  {
   "cell_type": "code",
   "execution_count": 10,
   "metadata": {
    "colab": {
     "base_uri": "https://localhost:8080/",
     "height": 172
    },
    "executionInfo": {
     "elapsed": 35,
     "status": "ok",
     "timestamp": 1630576857774,
     "user": {
      "displayName": "Kenji Ono",
      "photoUrl": "https://lh3.googleusercontent.com/a-/AOh14GgzR9tGY8hf4Aw-59tuxUqKfEsdrSZVC-4fJjo8cA=s64",
      "userId": "14327041206082834894"
     },
     "user_tz": -540
    },
    "id": "ulw1D06KO3TV",
    "outputId": "4bfd4d9e-90b9-40d8-9edd-8fefd6627ac0"
   },
   "outputs": [
    {
     "data": {
      "text/html": [
       "<div>\n",
       "<style scoped>\n",
       "    .dataframe tbody tr th:only-of-type {\n",
       "        vertical-align: middle;\n",
       "    }\n",
       "\n",
       "    .dataframe tbody tr th {\n",
       "        vertical-align: top;\n",
       "    }\n",
       "\n",
       "    .dataframe thead th {\n",
       "        text-align: right;\n",
       "    }\n",
       "</style>\n",
       "<table border=\"1\" class=\"dataframe\">\n",
       "  <thead>\n",
       "    <tr style=\"text-align: right;\">\n",
       "      <th></th>\n",
       "      <th>sum_sq</th>\n",
       "      <th>df</th>\n",
       "      <th>F</th>\n",
       "      <th>PR(&gt;F)</th>\n",
       "    </tr>\n",
       "  </thead>\n",
       "  <tbody>\n",
       "    <tr>\n",
       "      <th>地域</th>\n",
       "      <td>2537.85</td>\n",
       "      <td>6.0</td>\n",
       "      <td>3.92</td>\n",
       "      <td>0.00</td>\n",
       "    </tr>\n",
       "    <tr>\n",
       "      <th>都市化</th>\n",
       "      <td>809.88</td>\n",
       "      <td>1.0</td>\n",
       "      <td>7.50</td>\n",
       "      <td>0.01</td>\n",
       "    </tr>\n",
       "    <tr>\n",
       "      <th>メディア</th>\n",
       "      <td>1427.17</td>\n",
       "      <td>6.0</td>\n",
       "      <td>2.20</td>\n",
       "      <td>0.07</td>\n",
       "    </tr>\n",
       "    <tr>\n",
       "      <th>Residual</th>\n",
       "      <td>3563.86</td>\n",
       "      <td>33.0</td>\n",
       "      <td>NaN</td>\n",
       "      <td>NaN</td>\n",
       "    </tr>\n",
       "  </tbody>\n",
       "</table>\n",
       "</div>"
      ],
      "text/plain": [
       "           sum_sq    df     F  PR(>F)\n",
       "地域        2537.85   6.0  3.92    0.00\n",
       "都市化        809.88   1.0  7.50    0.01\n",
       "メディア      1427.17   6.0  2.20    0.07\n",
       "Residual  3563.86  33.0   NaN     NaN"
      ]
     },
     "execution_count": 10,
     "metadata": {},
     "output_type": "execute_result"
    }
   ],
   "source": [
    "# 一元配置分散分析\n",
    "#import statsmodels.formula.api as smf\n",
    "#import statsmodels.api as sm\n",
    "oneway_anova = smf.ols(formula='有訴者率~地域+都市化+メディア',data=df2).fit()\n",
    "sm.stats.anova_lm(oneway_anova,typ=2).round(2)"
   ]
  },
  {
   "cell_type": "code",
   "execution_count": 11,
   "metadata": {
    "colab": {
     "base_uri": "https://localhost:8080/",
     "height": 340
    },
    "executionInfo": {
     "elapsed": 423,
     "status": "ok",
     "timestamp": 1630576858168,
     "user": {
      "displayName": "Kenji Ono",
      "photoUrl": "https://lh3.googleusercontent.com/a-/AOh14GgzR9tGY8hf4Aw-59tuxUqKfEsdrSZVC-4fJjo8cA=s64",
      "userId": "14327041206082834894"
     },
     "user_tz": -540
    },
    "id": "lhNTGHNGPvBh",
    "outputId": "b0aa8dd9-9c09-40c7-af28-31a81be1ec1f"
   },
   "outputs": [
    {
     "data": {
      "text/plain": [
       "<seaborn.axisgrid.FacetGrid at 0x2b936029fd0>"
      ]
     },
     "execution_count": 11,
     "metadata": {},
     "output_type": "execute_result"
    },
    {
     "data": {
      "image/png": "[encoded data removed]",
      "text/plain": [
       "<Figure size 576x288 with 1 Axes>"
      ]
     },
     "metadata": {},
     "output_type": "display_data"
    }
   ],
   "source": [
    "# 有意差のある効果についてその中身をみる\n",
    "#import matplotlib.pyplot as plt\n",
    "#import seaborn as sns\n",
    "p = sns.catplot(x='有訴者率',y='地域',data=df2,kind='bar',height=4,aspect=2)\n",
    "p.set(title='有訴者率の地域差')"
   ]
  },
  {
   "cell_type": "code",
   "execution_count": 12,
   "metadata": {
    "colab": {
     "base_uri": "https://localhost:8080/",
     "height": 316
    },
    "executionInfo": {
     "elapsed": 400,
     "status": "ok",
     "timestamp": 1630577045883,
     "user": {
      "displayName": "Kenji Ono",
      "photoUrl": "https://lh3.googleusercontent.com/a-/AOh14GgzR9tGY8hf4Aw-59tuxUqKfEsdrSZVC-4fJjo8cA=s64",
      "userId": "14327041206082834894"
     },
     "user_tz": -540
    },
    "id": "xLCPW8ScRSK4",
    "outputId": "a6761ffa-a5b3-4b45-9be2-2975c3b251a5"
   },
   "outputs": [
    {
     "data": {
      "text/plain": [
       "<matplotlib.legend.Legend at 0x2b9379e73a0>"
      ]
     },
     "execution_count": 12,
     "metadata": {},
     "output_type": "execute_result"
    },
    {
     "data": {
      "image/png": "[encoded data removed]",
      "text/plain": [
       "<Figure size 432x288 with 1 Axes>"
      ]
     },
     "metadata": {},
     "output_type": "display_data"
    }
   ],
   "source": [
    "# 交互作用の図示\n",
    "#from statsmodels.graphics.factorplots import interaction_plot\n",
    "fig=interaction_plot(df2.地域,df2.都市化,df2.有訴者率,colors=['red','blue'],ms=10)\n",
    "plt.title('地域別有訴者率と都市化')\n",
    "plt.legend(bbox_to_anchor=(1.05,1.0),loc='upper left')"
   ]
  },
  {
   "cell_type": "code",
   "execution_count": 13,
   "metadata": {
    "colab": {
     "base_uri": "https://localhost:8080/",
     "height": 302
    },
    "executionInfo": {
     "elapsed": 356,
     "status": "ok",
     "timestamp": 1630576858913,
     "user": {
      "displayName": "Kenji Ono",
      "photoUrl": "https://lh3.googleusercontent.com/a-/AOh14GgzR9tGY8hf4Aw-59tuxUqKfEsdrSZVC-4fJjo8cA=s64",
      "userId": "14327041206082834894"
     },
     "user_tz": -540
    },
    "id": "2oXoc9TO63dH",
    "outputId": "d9646455-fa90-4650-c370-bac4ab93ebc5"
   },
   "outputs": [
    {
     "data": {
      "text/html": [
       "<div>\n",
       "<style scoped>\n",
       "    .dataframe tbody tr th:only-of-type {\n",
       "        vertical-align: middle;\n",
       "    }\n",
       "\n",
       "    .dataframe tbody tr th {\n",
       "        vertical-align: top;\n",
       "    }\n",
       "\n",
       "    .dataframe thead th {\n",
       "        text-align: right;\n",
       "    }\n",
       "</style>\n",
       "<table border=\"1\" class=\"dataframe\">\n",
       "  <thead>\n",
       "    <tr style=\"text-align: right;\">\n",
       "      <th></th>\n",
       "      <th>コード</th>\n",
       "      <th>県名</th>\n",
       "      <th>労働力人口比率1</th>\n",
       "      <th>労働力人口比率2</th>\n",
       "      <th>第１次産業就業者比率</th>\n",
       "      <th>第２次産業就業者比率</th>\n",
       "      <th>第３次産業就業者比率</th>\n",
       "      <th>完全失業率</th>\n",
       "      <th>雇用者比率</th>\n",
       "      <th>県内就業者比率</th>\n",
       "      <th>他市区町村への通勤者比率</th>\n",
       "    </tr>\n",
       "  </thead>\n",
       "  <tbody>\n",
       "    <tr>\n",
       "      <th>0</th>\n",
       "      <td>1</td>\n",
       "      <td>北 海 道</td>\n",
       "      <td>64.2</td>\n",
       "      <td>44.6</td>\n",
       "      <td>7.0</td>\n",
       "      <td>16.9</td>\n",
       "      <td>70.6</td>\n",
       "      <td>4.6</td>\n",
       "      <td>78.4</td>\n",
       "      <td>95.0</td>\n",
       "      <td>28.0</td>\n",
       "    </tr>\n",
       "    <tr>\n",
       "      <th>1</th>\n",
       "      <td>2</td>\n",
       "      <td>青 森 県</td>\n",
       "      <td>67.9</td>\n",
       "      <td>48.6</td>\n",
       "      <td>12.0</td>\n",
       "      <td>19.8</td>\n",
       "      <td>65.1</td>\n",
       "      <td>5.3</td>\n",
       "      <td>75.4</td>\n",
       "      <td>96.6</td>\n",
       "      <td>19.2</td>\n",
       "    </tr>\n",
       "    <tr>\n",
       "      <th>2</th>\n",
       "      <td>3</td>\n",
       "      <td>岩 手 県</td>\n",
       "      <td>69.6</td>\n",
       "      <td>49.6</td>\n",
       "      <td>10.6</td>\n",
       "      <td>25.1</td>\n",
       "      <td>62.9</td>\n",
       "      <td>4.0</td>\n",
       "      <td>78.6</td>\n",
       "      <td>97.2</td>\n",
       "      <td>21.8</td>\n",
       "    </tr>\n",
       "    <tr>\n",
       "      <th>3</th>\n",
       "      <td>4</td>\n",
       "      <td>宮 城 県</td>\n",
       "      <td>67.4</td>\n",
       "      <td>46.6</td>\n",
       "      <td>4.4</td>\n",
       "      <td>22.9</td>\n",
       "      <td>70.5</td>\n",
       "      <td>4.9</td>\n",
       "      <td>82.4</td>\n",
       "      <td>96.7</td>\n",
       "      <td>43.1</td>\n",
       "    </tr>\n",
       "    <tr>\n",
       "      <th>4</th>\n",
       "      <td>5</td>\n",
       "      <td>秋 田 県</td>\n",
       "      <td>66.4</td>\n",
       "      <td>46.2</td>\n",
       "      <td>9.6</td>\n",
       "      <td>24.0</td>\n",
       "      <td>64.7</td>\n",
       "      <td>4.3</td>\n",
       "      <td>77.7</td>\n",
       "      <td>98.1</td>\n",
       "      <td>16.3</td>\n",
       "    </tr>\n",
       "  </tbody>\n",
       "</table>\n",
       "</div>"
      ],
      "text/plain": [
       "   コード     県名  労働力人口比率1  労働力人口比率2  第１次産業就業者比率  第２次産業就業者比率  第３次産業就業者比率  完全失業率  \\\n",
       "0    1  北 海 道      64.2      44.6         7.0        16.9        70.6    4.6   \n",
       "1    2  青 森 県      67.9      48.6        12.0        19.8        65.1    5.3   \n",
       "2    3  岩 手 県      69.6      49.6        10.6        25.1        62.9    4.0   \n",
       "3    4  宮 城 県      67.4      46.6         4.4        22.9        70.5    4.9   \n",
       "4    5  秋 田 県      66.4      46.2         9.6        24.0        64.7    4.3   \n",
       "\n",
       "   雇用者比率  県内就業者比率  他市区町村への通勤者比率  \n",
       "0   78.4     95.0          28.0  \n",
       "1   75.4     96.6          19.2  \n",
       "2   78.6     97.2          21.8  \n",
       "3   82.4     96.7          43.1  \n",
       "4   77.7     98.1          16.3  "
      ]
     },
     "execution_count": 13,
     "metadata": {},
     "output_type": "execute_result"
    }
   ],
   "source": [
    "# ファイルからデータを読み込む\n",
    "df04 = pd.read_excel('データ解析講座一日目演習.xlsx',sheet_name='労働指標')\n",
    "df04.head()"
   ]
  },
  {
   "cell_type": "code",
   "execution_count": 14,
   "metadata": {
    "colab": {
     "base_uri": "https://localhost:8080/",
     "height": 302
    },
    "executionInfo": {
     "elapsed": 40,
     "status": "ok",
     "timestamp": 1630576858914,
     "user": {
      "displayName": "Kenji Ono",
      "photoUrl": "https://lh3.googleusercontent.com/a-/AOh14GgzR9tGY8hf4Aw-59tuxUqKfEsdrSZVC-4fJjo8cA=s64",
      "userId": "14327041206082834894"
     },
     "user_tz": -540
    },
    "id": "3OCud7Uc7VV8",
    "outputId": "638e91c2-1c51-44da-d80d-6b99261d2a22"
   },
   "outputs": [
    {
     "data": {
      "text/html": [
       "<div>\n",
       "<style scoped>\n",
       "    .dataframe tbody tr th:only-of-type {\n",
       "        vertical-align: middle;\n",
       "    }\n",
       "\n",
       "    .dataframe tbody tr th {\n",
       "        vertical-align: top;\n",
       "    }\n",
       "\n",
       "    .dataframe thead th {\n",
       "        text-align: right;\n",
       "    }\n",
       "</style>\n",
       "<table border=\"1\" class=\"dataframe\">\n",
       "  <thead>\n",
       "    <tr style=\"text-align: right;\">\n",
       "      <th></th>\n",
       "      <th>県名</th>\n",
       "      <th>地域</th>\n",
       "      <th>都市化</th>\n",
       "      <th>メディア</th>\n",
       "      <th>労働力人口比率1</th>\n",
       "      <th>労働力人口比率2</th>\n",
       "      <th>第１次産業就業者比率</th>\n",
       "      <th>第２次産業就業者比率</th>\n",
       "      <th>第３次産業就業者比率</th>\n",
       "      <th>完全失業率</th>\n",
       "      <th>雇用者比率</th>\n",
       "      <th>県内就業者比率</th>\n",
       "      <th>他市区町村への通勤者比率</th>\n",
       "    </tr>\n",
       "  </thead>\n",
       "  <tbody>\n",
       "    <tr>\n",
       "      <th>0</th>\n",
       "      <td>北 海 道</td>\n",
       "      <td>北海道東北</td>\n",
       "      <td>郊外</td>\n",
       "      <td>アイランドマス</td>\n",
       "      <td>64.2</td>\n",
       "      <td>44.6</td>\n",
       "      <td>7.0</td>\n",
       "      <td>16.9</td>\n",
       "      <td>70.6</td>\n",
       "      <td>4.6</td>\n",
       "      <td>78.4</td>\n",
       "      <td>95.0</td>\n",
       "      <td>28.0</td>\n",
       "    </tr>\n",
       "    <tr>\n",
       "      <th>1</th>\n",
       "      <td>青 森 県</td>\n",
       "      <td>北海道東北</td>\n",
       "      <td>郊外</td>\n",
       "      <td>アイランドマス</td>\n",
       "      <td>67.9</td>\n",
       "      <td>48.6</td>\n",
       "      <td>12.0</td>\n",
       "      <td>19.8</td>\n",
       "      <td>65.1</td>\n",
       "      <td>5.3</td>\n",
       "      <td>75.4</td>\n",
       "      <td>96.6</td>\n",
       "      <td>19.2</td>\n",
       "    </tr>\n",
       "    <tr>\n",
       "      <th>2</th>\n",
       "      <td>岩 手 県</td>\n",
       "      <td>北海道東北</td>\n",
       "      <td>郊外</td>\n",
       "      <td>テレビ・ラジエリアン</td>\n",
       "      <td>69.6</td>\n",
       "      <td>49.6</td>\n",
       "      <td>10.6</td>\n",
       "      <td>25.1</td>\n",
       "      <td>62.9</td>\n",
       "      <td>4.0</td>\n",
       "      <td>78.6</td>\n",
       "      <td>97.2</td>\n",
       "      <td>21.8</td>\n",
       "    </tr>\n",
       "    <tr>\n",
       "      <th>3</th>\n",
       "      <td>宮 城 県</td>\n",
       "      <td>北海道東北</td>\n",
       "      <td>都市</td>\n",
       "      <td>テレビラバーズ</td>\n",
       "      <td>67.4</td>\n",
       "      <td>46.6</td>\n",
       "      <td>4.4</td>\n",
       "      <td>22.9</td>\n",
       "      <td>70.5</td>\n",
       "      <td>4.9</td>\n",
       "      <td>82.4</td>\n",
       "      <td>96.7</td>\n",
       "      <td>43.1</td>\n",
       "    </tr>\n",
       "    <tr>\n",
       "      <th>4</th>\n",
       "      <td>秋 田 県</td>\n",
       "      <td>北海道東北</td>\n",
       "      <td>郊外</td>\n",
       "      <td>テレビラバーズ</td>\n",
       "      <td>66.4</td>\n",
       "      <td>46.2</td>\n",
       "      <td>9.6</td>\n",
       "      <td>24.0</td>\n",
       "      <td>64.7</td>\n",
       "      <td>4.3</td>\n",
       "      <td>77.7</td>\n",
       "      <td>98.1</td>\n",
       "      <td>16.3</td>\n",
       "    </tr>\n",
       "  </tbody>\n",
       "</table>\n",
       "</div>"
      ],
      "text/plain": [
       "      県名     地域 都市化        メディア  労働力人口比率1  労働力人口比率2  第１次産業就業者比率  第２次産業就業者比率  \\\n",
       "0  北 海 道  北海道東北  郊外     アイランドマス      64.2      44.6         7.0        16.9   \n",
       "1  青 森 県  北海道東北  郊外     アイランドマス      67.9      48.6        12.0        19.8   \n",
       "2  岩 手 県  北海道東北  郊外  テレビ・ラジエリアン      69.6      49.6        10.6        25.1   \n",
       "3  宮 城 県  北海道東北  都市     テレビラバーズ      67.4      46.6         4.4        22.9   \n",
       "4  秋 田 県  北海道東北  郊外     テレビラバーズ      66.4      46.2         9.6        24.0   \n",
       "\n",
       "   第３次産業就業者比率  完全失業率  雇用者比率  県内就業者比率  他市区町村への通勤者比率  \n",
       "0        70.6    4.6   78.4     95.0          28.0  \n",
       "1        65.1    5.3   75.4     96.6          19.2  \n",
       "2        62.9    4.0   78.6     97.2          21.8  \n",
       "3        70.5    4.9   82.4     96.7          43.1  \n",
       "4        64.7    4.3   77.7     98.1          16.3  "
      ]
     },
     "execution_count": 14,
     "metadata": {},
     "output_type": "execute_result"
    }
   ],
   "source": [
    "# 県名をキーにして横連結する\n",
    "df4 = pd.merge(df01, df04, left_on='県名', right_on='県名')\n",
    "df4.drop(columns=['コード_x','コード_y'],inplace=True)\n",
    "df4.head()"
   ]
  },
  {
   "cell_type": "code",
   "execution_count": 15,
   "metadata": {
    "executionInfo": {
     "elapsed": 39,
     "status": "ok",
     "timestamp": 1630576858916,
     "user": {
      "displayName": "Kenji Ono",
      "photoUrl": "https://lh3.googleusercontent.com/a-/AOh14GgzR9tGY8hf4Aw-59tuxUqKfEsdrSZVC-4fJjo8cA=s64",
      "userId": "14327041206082834894"
     },
     "user_tz": -540
    },
    "id": "JIub1ELUjyze"
   },
   "outputs": [],
   "source": [
    "df4.rename(columns={'第１次産業就業者比率':'第一次産業就業者比率','第２次産業就業者比率':'第二次産業就業者比率','第３次産業就業者比率':'第三次産業就業者比率'},inplace=True)"
   ]
  },
  {
   "cell_type": "code",
   "execution_count": 16,
   "metadata": {
    "colab": {
     "base_uri": "https://localhost:8080/",
     "height": 172
    },
    "executionInfo": {
     "elapsed": 39,
     "status": "ok",
     "timestamp": 1630576858917,
     "user": {
      "displayName": "Kenji Ono",
      "photoUrl": "https://lh3.googleusercontent.com/a-/AOh14GgzR9tGY8hf4Aw-59tuxUqKfEsdrSZVC-4fJjo8cA=s64",
      "userId": "14327041206082834894"
     },
     "user_tz": -540
    },
    "id": "3faRZQNE7ufR",
    "outputId": "0d83b135-3912-4270-ed6c-e1dba994db1b"
   },
   "outputs": [
    {
     "data": {
      "text/html": [
       "<div>\n",
       "<style scoped>\n",
       "    .dataframe tbody tr th:only-of-type {\n",
       "        vertical-align: middle;\n",
       "    }\n",
       "\n",
       "    .dataframe tbody tr th {\n",
       "        vertical-align: top;\n",
       "    }\n",
       "\n",
       "    .dataframe thead th {\n",
       "        text-align: right;\n",
       "    }\n",
       "</style>\n",
       "<table border=\"1\" class=\"dataframe\">\n",
       "  <thead>\n",
       "    <tr style=\"text-align: right;\">\n",
       "      <th></th>\n",
       "      <th>sum_sq</th>\n",
       "      <th>df</th>\n",
       "      <th>F</th>\n",
       "      <th>PR(&gt;F)</th>\n",
       "    </tr>\n",
       "  </thead>\n",
       "  <tbody>\n",
       "    <tr>\n",
       "      <th>地域</th>\n",
       "      <td>265.97</td>\n",
       "      <td>6.0</td>\n",
       "      <td>3.95</td>\n",
       "      <td>0.00</td>\n",
       "    </tr>\n",
       "    <tr>\n",
       "      <th>都市化</th>\n",
       "      <td>8.88</td>\n",
       "      <td>1.0</td>\n",
       "      <td>0.79</td>\n",
       "      <td>0.38</td>\n",
       "    </tr>\n",
       "    <tr>\n",
       "      <th>メディア</th>\n",
       "      <td>227.67</td>\n",
       "      <td>6.0</td>\n",
       "      <td>3.38</td>\n",
       "      <td>0.01</td>\n",
       "    </tr>\n",
       "    <tr>\n",
       "      <th>Residual</th>\n",
       "      <td>370.68</td>\n",
       "      <td>33.0</td>\n",
       "      <td>NaN</td>\n",
       "      <td>NaN</td>\n",
       "    </tr>\n",
       "  </tbody>\n",
       "</table>\n",
       "</div>"
      ],
      "text/plain": [
       "          sum_sq    df     F  PR(>F)\n",
       "地域        265.97   6.0  3.95    0.00\n",
       "都市化         8.88   1.0  0.79    0.38\n",
       "メディア      227.67   6.0  3.38    0.01\n",
       "Residual  370.68  33.0   NaN     NaN"
      ]
     },
     "execution_count": 16,
     "metadata": {},
     "output_type": "execute_result"
    }
   ],
   "source": [
    "# 一元配置分散分析\n",
    "#import statsmodels.formula.api as smf\n",
    "#import statsmodels.api as sm\n",
    "oneway_anova = smf.ols(formula='第二次産業就業者比率~地域+都市化+メディア',data=df4).fit()\n",
    "sm.stats.anova_lm(oneway_anova,typ=2).round(2)"
   ]
  },
  {
   "cell_type": "code",
   "execution_count": 17,
   "metadata": {
    "colab": {
     "base_uri": "https://localhost:8080/",
     "height": 342
    },
    "executionInfo": {
     "elapsed": 984,
     "status": "ok",
     "timestamp": 1630576859866,
     "user": {
      "displayName": "Kenji Ono",
      "photoUrl": "https://lh3.googleusercontent.com/a-/AOh14GgzR9tGY8hf4Aw-59tuxUqKfEsdrSZVC-4fJjo8cA=s64",
      "userId": "14327041206082834894"
     },
     "user_tz": -540
    },
    "id": "ndoBSja78FZ9",
    "outputId": "071292b5-54bc-4006-e8a5-81f51307a7d4"
   },
   "outputs": [
    {
     "data": {
      "text/plain": [
       "<seaborn.axisgrid.FacetGrid at 0x2b9378c97f0>"
      ]
     },
     "execution_count": 17,
     "metadata": {},
     "output_type": "execute_result"
    },
    {
     "data": {
      "image/png": "[encoded data removed]",
      "text/plain": [
       "<Figure size 576x288 with 1 Axes>"
      ]
     },
     "metadata": {},
     "output_type": "display_data"
    }
   ],
   "source": [
    "# 有意差のある効果についてその中身をみる\n",
    "#import matplotlib.pyplot as plt\n",
    "#import seaborn as sns\n",
    "p = sns.catplot(x='第二次産業就業者比率',y='地域',data=df4,kind='bar',height=4,aspect=2)\n",
    "p.set(title='第二次産業就業者比率の地域差')"
   ]
  }
 ],
 "metadata": {
  "colab": {
   "authorship_tag": "ABX9TyNVfHg2q2RxCizl9xmMZsZF",
   "name": "anova_demo.ipynb",
   "provenance": [
    {
     "file_id": "1blEWkavoS4RVn09Zv5E8mXcAn2lQC1fn",
     "timestamp": 1629987526119
    }
   ]
  },
  "kernelspec": {
   "display_name": "Python 3 (ipykernel)",
   "language": "python",
   "name": "python3"
  },
  "language_info": {
   "codemirror_mode": {
    "name": "ipython",
    "version": 3
   },
   "file_extension": ".py",
   "mimetype": "text/x-python",
   "name": "python",
   "nbconvert_exporter": "python",
   "pygments_lexer": "ipython3",
   "version": "3.9.7"
  }
 },
 "nbformat": 4,
 "nbformat_minor": 1
}
