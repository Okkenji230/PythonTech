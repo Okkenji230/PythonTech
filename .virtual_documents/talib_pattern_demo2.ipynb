





import talib
import yfinance as yf
import datetime
from datetime import date
import pandas as pd
import numpy as np
import mplfinance as mpf
from pandas_datareader import data as pdr





start = "2023-08-01"
end = datetime.date.today()
ticker = "3237.T"
yf.pdr_override()
# yahooサイトからデータをダウンロード
df_stock = pdr.get_data_yahoo(ticker, start, end)
df_stock.head()





# 株価データの系列を取り出す
open = df_stock['Open']
high = df_stock['High']
low = df_stock['Low']
close = df_stock['Adj Close']
# パターンを判定する
engulfing = talib.CDLENGULFING(open,high,low,close)
hammer = talib.CDLHAMMER(open,high,low,close)
piercingLine = talib.CDLPIERCING(open,high,low,close)
# 結果を新しいデータフレームに保存する
df_pattern = pd.concat([engulfing, hammer, piercingLine], axis=1)
df_pattern.columns = ['Engulfing','Hammer','PiercingLine']
df_pattern.tail()





hldate = '2023-09-15'
mpf.plot(df_stock,type='candle',style='yahoo',figsize =(12,6),
          vlines=dict(vlines=hldate,linewidths=16,alpha=0.2),
          title = "STOCK PRICE CHART FOR {0}".format(ticker))
