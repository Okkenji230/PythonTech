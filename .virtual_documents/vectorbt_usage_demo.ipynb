








import numpy as np
import pandas as pd
import yfinance as yf
import vectorbt as vbt
import pandas_ta as ta
import seaborn as sns
import matplotlib.pyplot as plt
from datetime import date, datetime, timedelta
import warnings
warnings.simplefilter(action="ignore", category=FutureWarning)


#ticker = '9432.T'
#end_date = datetime.today()
#start_date = end_date - timedelta(days=730)
#df = yf.download(ticker, start_date, end_date)
#df.columns = [col[0] if isinstance(col, tuple) else col for col in df.columns]


# Download historical data
data = vbt.YFData.download('7203.T', start='2023-01-01', end='2024-12-31').get('Close')

# Create moving averages using pandas
fast_ma = data.rolling(window=5).mean()  # 5-day moving average
slow_ma = data.rolling(window=25).mean()  # 25-day moving average

# Define entry and exit rules
entries = fast_ma > slow_ma  # Entry signal: 50-day MA crosses above 200-day MA
exits = fast_ma < slow_ma    # Exit signal: 50-day MA crosses below 200-day MA

# Run backtesting
portfolio = vbt.Portfolio.from_signals(data, entries, exits)

# Print total return
print('Total Return:')
print(portfolio.total_return())

# Optional: plot the portfolio performance
portfolio.plot().show()


# Download historical data
data = vbt.YFData.download('7203.T', start='2023-01-01', end='2024-12-31').get('Close')

# Define ranges for fast and slow moving averages
fast_ma_range = range(3, 15, 1)  # Short moving averages from 10 to 90 in steps of 10
slow_ma_range = range(16, 40, 1)  # Long moving averages from 100 to 280 in steps of 20

# Store the results
results = {}

# Loop over all combinations of fast and slow MA values
for fast_ma in fast_ma_range:
    for slow_ma in slow_ma_range:
        if fast_ma >= slow_ma:
            continue  # Fast MA should always be less than slow MA to make sense

        # Calculate moving averages
        fast_ma_values = data.rolling(window=fast_ma).mean()
        slow_ma_values = data.rolling(window=slow_ma).mean()

        # Define entry and exit signals
        entries = fast_ma_values > slow_ma_values
        exits = fast_ma_values < slow_ma_values

        # Run backtesting
        portfolio = vbt.Portfolio.from_signals(data, entries, exits)

        # Store total return for each combination of fast_ma and slow_ma
        results[(fast_ma, slow_ma)] = portfolio.total_return()

# Convert results to a DataFrame for better visualization
results_df = pd.DataFrame.from_dict(results, orient='index', columns=['Total Return'])

# Find the best combination
best_params = results_df['Total Return'].idxmax()
best_return = results_df['Total Return'].max()

print(f"Best MA combination: Fast MA = {best_params[0]}, Slow MA = {best_params[1]}")
print(f"Best Total Return: {best_return}")


# Download data for multiple assets
tickers = ['7203.T', '9432.T', '9984.T', '9983.T']
data = vbt.YFData.download(tickers, start='2023-01-01', end='2024-12-31').get('Close')

# Create moving averages for each asset
fast_ma = data.rolling(window=5).mean()  # 5-day moving average
slow_ma = data.rolling(window=25).mean()  # 25-day moving average

# Define entry and exit rules based on moving averages
entries = fast_ma > slow_ma  # Entry signal: fast MA crosses above slow MA
exits = fast_ma < slow_ma    # Exit signal: fast MA crosses below slow MA

# Run portfolio backtesting
portfolio = vbt.Portfolio.from_signals(data, entries, exits, init_cash=100_000, freq='1D')

# Show total returns per asset
print(f"Total Return:\n{portfolio.total_return()}")

# Check trades log for any issues
print("Trade Logs:\n", portfolio.trades.records_readable)


# Download historical data for multiple assets

tickers = ['7203.T', '9432.T', '9984.T', '9983.T']
data = vbt.YFData.download(tickers, start='2023-01-01', end='2024-12-31').get('Close')

# Define custom entry signal: Buy when the price increases by more than 3% in a single day
entries = data.pct_change() > 0.03

# Define custom exit signal: Sell when the price decreases by more than 2% in a single day
exits = data.pct_change() < -0.02

# Run portfolio backtesting
portfolio = vbt.Portfolio.from_signals(data, entries, exits, init_cash=100_000, freq='1D')

# Show total return per asset
print(f"Total Return per asset:\n{portfolio.total_return()}")

# Check trades log for any issues
print("Trade Logs:\n", portfolio.trades.records_readable)


# Download historical data
tickers = ['8035.T']
data = vbt.YFData.download(tickers, start='2023-01-01', end='2024-12-31').get(['High', 'Low', 'Close'])

# Calculate ATR using pandas_ta
data['ATR'] = ta.atr(data['High'], data['Low'], data['Close'], length=14)

# Define a threshold based on ATR (average ATR * 1.5)
threshold = data['ATR'].mean() * 1.5

# Define entry and exit signals based on ATR
entries = data['ATR'] > threshold  # Enter when ATR is above the threshold (high volatility)
exits = data['ATR'] < threshold    # Exit when ATR is below the threshold (low volatility)

# Backtest the strategy
portfolio = vbt.Portfolio.from_signals(data['Close'], entries, exits, init_cash=100_000)

# Show total return per asset
print(f"Total Return: {portfolio.total_return()}")

# Plot the portfolio's performance
portfolio.plot().show()
