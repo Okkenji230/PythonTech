





import pandas as pd
from datetime import date, datetime, timedelta
import yfinance as yf
import pandas_ta as ta
import matplotlib.pyplot as plt


symbol = '9984.T'
end_date = date.today()
start_date = end_date - timedelta(days=720)
data = yf.download(symbol, start=start_date, end=end_date)
data.tail()


# Calculate the 10% period
total_days = data.shape[0]
period = int(total_days * 0.10) // 2  # half-period for a centered window


def identify_support_resistance(df, period):
    support_levels = []
    resistance_levels = []
    
    for i in range(period, len(df) - period):
        # Find the lowest low and highest high in the past '2*period' days centered around 'i'
        low_period = df['Low'][i-period:i+period+1].min()
        high_period = df['High'][i-period:i+period+1].max()
        
        # Check if the current low is the lowest low in the centered period
        if df['Low'][i] == low_period:
            support_levels.append((i, df['Low'][i]))
        
        # Check if the current high is the highest high in the centered period
        if df['High'][i] == high_period:
            resistance_levels.append((i, df['High'][i]))
    
    return support_levels, resistance_levels

# Identify support and resistance levels
support_levels, resistance_levels = identify_support_resistance(data, period)

# Print identified levels
print("Identified Support Levels (Index, Price):")
for level in support_levels:
    print(level)

print("\nIdentified Resistance Levels (Index, Price):")
for level in resistance_levels:
    print(level)


# Plotting the data with support and resistance levels
plt.figure(figsize=(12, 6))
plt.plot(data['Close'], label='Close Price', color='blue')

# Add horizontal lines for support and resistance levels
for level in support_levels:
    plt.axhline(y=level[1], linestyle='--', color='green', alpha=0.7, label='Support' if 'Support' not in plt.gca().get_legend_handles_labels()[1] else "")
for level in resistance_levels:
    plt.axhline(y=level[1], linestyle='--', color='red', alpha=0.7, label='Resistance' if 'Resistance' not in plt.gca().get_legend_handles_labels()[1] else "")

# Add legend
plt.legend()

plt.title(f'Support and Resistance Levels for {symbol}')
plt.xlabel('Date')
plt.ylabel('Price')
plt.show()
