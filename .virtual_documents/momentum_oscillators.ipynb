





import pandas as pd
import numpy as np
import yfinance as yf
from datetime import date, datetime, timedelta
import matplotlib.pyplot as plt
import talib
import warnings
import plotly.graph_objects as go
warnings.simplefilter(action="ignore", category=FutureWarning)


symbol = '^N225'
end_date = datetime.today()
start_date = end_date - timedelta(days=1642)
df = yf.download(symbol, start_date, end_date).drop(columns='Close').rename(columns={'Adj Close':'Close'})
df.tail()





# function Klinger Volume Oscillator (KVO)
def klinger_volume_oscillator(df, short_period=34, long_period=55, signal_period=13):
    df['High-Low'] = df['High'] - df['Low']
    df['High-Close'] = np.abs(df['High'] - df['Close'].shift(1))
    df['Low-Close'] = np.abs(df['Low'] - df['Close'].shift(1))
    df['TrueRange'] = df[['High-Low', 'High-Close', 'Low-Close']].max(axis=1)
    df['VolumeForce'] = np.where(df['Close'] > df['Close'].shift(1), df['Volume'], -df['Volume'])
    df['KVO'] = (df['VolumeForce'].rolling(window=short_period).sum() -
                 df['VolumeForce'].rolling(window=long_period).sum())
    df['KVO_Signal'] = df['KVO'].rolling(window=signal_period).mean()
    return df['KVO'], df['KVO_Signal']

# function Elder's Force Index (EFI)
def elder_force_index(df, period=2):
    df['EFI'] = (df['Close'] - df['Close'].shift(1)) * df['Volume']
    df['EFI_Smoothed'] = df['EFI'].rolling(window=period).mean()
    return df['EFI_Smoothed']

# function true_strength_index (TSI)
def true_strength_index(df, short_period=13, long_period=25):
    df['Change'] = df['Close'] - df['Close'].shift(1)
    df['Smoothed1'] = df['Change'].ewm(span=short_period, adjust=False).mean()
    df['Smoothed2'] = df['Smoothed1'].ewm(span=long_period, adjust=False).mean()
    df['AbsChange'] = abs(df['Change'])
    df['AbsSmoothed1'] = df['AbsChange'].ewm(span=short_period, adjust=False).mean()
    df['AbsSmoothed2'] = df['AbsSmoothed1'].ewm(span=long_period, adjust=False).mean()
    df['TSI'] = (df['Smoothed2'] / df['AbsSmoothed2']) * 100
    return df['TSI']

# オーサムオシレーター
def awesome_oscillator(df, wshort=5, wlong=34):
  # 中値
  df['med'] = (df['High']+df['Low']) / 2
  # オーサムオシレーター
  df['ao'] = df['med'].rolling(wshort).mean() - df['med'].rolling(wlong).mean()
  # 加速減速オシレーター
  df['ado'] = df['ao'] - df['ao'].rolling(wshort).mean()
  return df['ao'], df['ado']





df['CMO'] = talib.CMO(df['Close'], timeperiod=14)
df['KVO'], df['KVO_Signal'] = klinger_volume_oscillator(df)
df['EFI'] = elder_force_index(df)
df['TSI'] = true_strength_index(df)
df['ARO'] = talib.AROONOSC(df['High'], df['Low'], timeperiod=25)
df['MACD'], df['MACD_signal'], df['MACD_hist'] = talib.MACD(df['Close'], \
        fastperiod=12, slowperiod=26, signalperiod=9)
df['AO'], df['ADO'] = awesome_oscillator(df)
df['TRIX'] = talib.TRIX(df['Close'], timeperiod=9)
# data cleaning
df.dropna(inplace=True)








def osc_plot(osc_str):
    # Plotting candlestick with indicators
    fig = go.Figure()
    # Adding Indicators
    fig.add_trace(go.Scatter(x=df.index, y=df[osc_str], mode='lines', name=osc_str))
    # Layout
    fig.update_layout(title='Oscillator '+osc_str,
                  xaxis_title='Time',
                  yaxis_title='Value',
                  template='plotly_dark')
    fig.show()


osc_plot('TRIX')
