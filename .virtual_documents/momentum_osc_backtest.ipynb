





import pandas as pd
import numpy as np
import matplotlib.pyplot as plt
import yfinance as yf
import talib
import pandas_ta as ta
import warnings
warnings.simplefilter(action="ignore", category=FutureWarning)


# バックテストの設定
start_date = '2020-10-01'
end_date = '2025-04-01'
# 利確と損切りの幅
profit_range = 0.08
loss_range = 0.04
# 銘柄リストの指定(ETF) 1306:TOPIX連動, 1321:日経平均連動, 1546:ダウ工業株30種連動, 1557:SP500連動, 1627:電力ガス
ticker = '1627.T'
# トレンド識別手法：'SMA_buy','CMO_buy','TSI_buy','ARO_buy','MACD_buy','AO_buy','TRIX_buy'
id_momentum = 'TRIX_buy'


# function Klinger Volume Oscillator (KVO)
def klinger_volume_oscillator(df, short_period=34, long_period=55, signal_period=13):
    df['High-Low'] = df['High'] - df['Low']
    df['High-Close'] = np.abs(df['High'] - df['Close'].shift(1))
    df['Low-Close'] = np.abs(df['Low'] - df['Close'].shift(1))
    df['TrueRange'] = df[['High-Low', 'High-Close', 'Low-Close']].max(axis=1)
    df['VolumeForce'] = np.where(df['Close'] > df['Close'].shift(1), df['Volume'], -df['Volume'])
    df['KVO'] = (df['VolumeForce'].rolling(window=short_period).sum() -
                 df['VolumeForce'].rolling(window=long_period).sum())
    df['KVO_Signal'] = df['KVO'].rolling(window=signal_period).mean()
    return df['KVO'], df['KVO_Signal']

# function Elder's Force Index (EFI)
def elder_force_index(df, period=2):
    df['EFI'] = (df['Close'] - df['Close'].shift(1)) * df['Volume']
    df['EFI_Smoothed'] = df['EFI'].rolling(window=period).mean()
    return df['EFI_Smoothed']

# function true_strength_index (TSI)
def true_strength_index(df, short_period=13, long_period=25):
    df['Change'] = df['Close'] - df['Close'].shift(1)
    df['Smoothed1'] = df['Change'].ewm(span=short_period, adjust=False).mean()
    df['Smoothed2'] = df['Smoothed1'].ewm(span=long_period, adjust=False).mean()
    df['AbsChange'] = abs(df['Change'])
    df['AbsSmoothed1'] = df['AbsChange'].ewm(span=short_period, adjust=False).mean()
    df['AbsSmoothed2'] = df['AbsSmoothed1'].ewm(span=long_period, adjust=False).mean()
    df['TSI'] = (df['Smoothed2'] / df['AbsSmoothed2']) * 100
    return df['TSI']

# オーサムオシレーター
def awesome_oscillator(df, wshort=5, wlong=34):
  # 中値
  df['med'] = (df['High']+df['Low']) / 2
  # オーサムオシレーター
  df['ao'] = df['med'].rolling(wshort).mean() - df['med'].rolling(wlong).mean()
  # 加速減速オシレーター
  df['ado'] = df['ao'] - df['ao'].rolling(wshort).mean()
  return df['ao'], df['ado']


# 株価データの獲得
def fetch_stock_data(ticker, start_date, end_date):
    stock_data = yf.download(ticker, start=start_date, end=end_date)
    stock_data.columns = [col[0] if isinstance(col, tuple) else col for col in stock_data.columns]
    stock_data['Returns'] = stock_data['Close'].pct_change()
    return stock_data


# 指標値の計算とシグナルの生成
def generate_signal(df, ma_fast=9, ma_middle=14, ma_slow=21, ma_superslow=50, 
                    macd_fast=12, macd_slow=26, macd_signal=9, 
                    cmo_period=14, aro_period=25, trix_period=9):
    df['SMA_short'] = talib.SMA(df['Close'], timeperiod=ma_fast)
    df['SMA_long'] = talib.SMA(df['Close'], timeperiod=ma_slow)
    df['CMO'] = talib.CMO(df['Close'], timeperiod=cmo_period)
    df['TSI'] = true_strength_index(df)
    df['ARO'] = talib.AROONOSC(df['High'], df['Low'], timeperiod=aro_period)
    df['MACD'], df['MACD_signal'], df['MACD_hist'] = talib.MACD(df['Close'], \
            fastperiod=macd_fast, slowperiod=macd_slow, signalperiod=macd_signal)
    df['AO'], df['ADO'] = awesome_oscillator(df)
    df['TRIX'] = talib.TRIX(df['Close'], timeperiod=trix_period)
    # シグナルの判定
    df['SMA_buy'] = (df['SMA_short'] > df['SMA_long'])
    df['CMO_buy'] = (df['CMO'] > 0)
    df['TSI_buy'] = (df['TSI'] > 0)
    df['ARO_buy'] = (df['ARO'] > 0)
    df['MACD_buy'] = (df['MACD'] > df['MACD_signal'])
    df['AO_buy'] = (df['AO'] > 0)
    df['TRIX_buy'] = (df['TRIX'] > 0)
    # 特定の手法によるシグナルの生成（ここでは買いポジションのみをとる）
    df['Signal'] = 0
    df.loc[df[f'{id_momentum}'], 'Signal'] = 1
    return df


# シグナルと終値からポジションを生成
def generate_position(df, price_col='Close', signal_col='Signal', position_col='Position',\
                      take_profit_pct=0.10, trailing_stop_pct=0.05):
    price_ary = df[price_col].to_numpy()
    signal_ary = df[signal_col].to_numpy()
    position_ary = np.zeros(len(df))
    # 初期設定
    entry_price = None # 買い参入時の価格
    in_position = False # 買いポジションを保持した状態かどうか
    trailing_stop = None # 現在の損切レベル
    take_profit = None # 利確レベル
    entry_index = None # 買いポジションをとった時点
    # シグナルと終値からポジションを生成する
    for i in range(len(df)):
        price = price_ary[i]
        position_ary[i] = int(in_position)
        # 買いポジションを保持しておらず買い条件を充足したとき
        if not in_position and signal_ary[i] == 1 :
            entry_price = price
            take_profit = entry_price * (1 + take_profit_pct)
            trailing_stop = entry_price * (1 - trailing_stop_pct)
            in_position = True
            position_ary[i] = 1
            entry_index = i
            continue
        # 買いポジションを保持しているとき
        if in_position:
            new_trailing_stop = price * (1 - trailing_stop_pct)
            trailing_stop = np.maximum(trailing_stop, new_trailing_stop) # 損切基準が上がったら書き換える
            # 利確又は損切で手仕舞い
            if price >= take_profit or price <= trailing_stop:
                in_position = False
                position_ary[i] = 0
                entry_price = None
                continue
    df[position_col] = position_ary
    return df


# バックテストの実施
def backtest_strategy(df, initial_balance=10000):
    # その日のポジションの符号と株価の変化率を乗じてリターンとする
    df['Daily_Return'] = df['Returns'] * df['Position'].shift()
    df['Portfolio_Value'] = (1 + df['Daily_Return']).cumprod() * initial_balance
    df.at[df.index[0], 'Portfolio_Value'] = initial_balance
    return df

# 結果のプロット
def plot_results(df):
    fig, ax1 = plt.subplots(figsize=(14, 7))
    # Plot portfolio value on the primary y-axis
    ax1.plot(df.index, df['Portfolio_Value'], label='Portfolio Value', color='deepskyblue')
    ax1.set_ylabel('Portfolio Value', color='deepskyblue')
    ax1.tick_params(axis='y', labelcolor='deepskyblue')
    # Create a secondary y-axis for stock price
    ax2 = ax1.twinx()
    # Plotting the close price with the color corresponding to the trend
    for i in range(1, len(df)):
        ax2.plot(df.index[i-1:i+1], df['Close'].iloc[i-1:i+1], 
             color='darkgreen' if df['Position'].iloc[i] == 1 else 
                   ('red' if df['Position'].iloc[i] == -1 else 'darkgrey'), linewidth=2)
    ax2.set_ylabel('Stock Price', color='gray')
    ax2.tick_params(axis='y', labelcolor='gray')
    # Add title and legend
    fig.suptitle(ticker + ' Backtest (Green:buy Gray:nutral)')
    ax1.set_xlabel('Date')
    ax1.legend(loc='upper left')
    plt.show()

# パフォーマンスの評価
def evaluate_performance(df):
    total_return = df['Portfolio_Value'].iloc[-1] / df['Portfolio_Value'].iloc[0] - 1
    volatility = df['Daily_Return'].std() * (252**0.5)
    sharpe_ratio = (df['Daily_Return'].mean() / df['Daily_Return'].std()) * (252**0.5)
    return {
        "Total Return": total_return,
        "Volatility": volatility,
        "Sharpe Ratio": sharpe_ratio
    }


# メインプログラム
data = fetch_stock_data(ticker, start_date, end_date)
data = generate_signal(data)
data = generate_position(data, take_profit_pct=profit_range, trailing_stop_pct=loss_range)
data = backtest_strategy(data)
plot_results(data)
performance = evaluate_performance(data)
print(performance)
