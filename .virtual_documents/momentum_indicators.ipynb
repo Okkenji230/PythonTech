











import pandas as pd
import numpy as np
import yfinance as yf
import pandas as pd
from datetime import date, datetime, timedelta
import matplotlib.pyplot as plt
import mplfinance as mpf
import talib
import warnings
import plotly.graph_objects as go
warnings.simplefilter(action="ignore", category=FutureWarning)


# downlaod data
data = yf.download('^N225', start="2020-1-1", end="2024-12-27")

# data cleaning
data_clean = data.copy()
data_clean = data_clean.ffill()
data_clean.columns = ['Date','Close','High','Low','Open','Volume']
df = data_clean.copy()
df








# function Chande Momentum Oscillator (CMO)
def chande_momentum_oscillator(df, period=14):
    df["CMO"] = talib.CMO(df["Close"], timeperiod=period)
    return df['CMO']

# Calculating indicator
df['CMO'] = chande_momentum_oscillator(df)

# data cleaning
df.dropna(inplace=True)

# Plotting candlestick with indicators
fig = go.Figure()

# Adding Indicators
fig.add_trace(go.Scatter(x=df.index, y=df['CMO'], mode='lines', name='CMO'))

# Layout
fig.update_layout(title='Chande Momentum Oscillator (CMO)',
                  xaxis_title='Time',
                  yaxis_title='Value',
                  template='plotly_dark')

fig.show()








# function Klinger Volume Oscillator (KVO)
def klinger_volume_oscillator(df, short_period=34, long_period=55, signal_period=13):
    df['High-Low'] = df['High'] - df['Low']
    df['High-Close'] = np.abs(df['High'] - df['Close'].shift(1))
    df['Low-Close'] = np.abs(df['Low'] - df['Close'].shift(1))
    df['TrueRange'] = df[['High-Low', 'High-Close', 'Low-Close']].max(axis=1)
    df['VolumeForce'] = np.where(df['Close'] > df['Close'].shift(1), df['Volume'], -df['Volume'])
    df['KVO'] = (df['VolumeForce'].rolling(window=short_period).sum() -
                 df['VolumeForce'].rolling(window=long_period).sum())
    df['KVO_Signal'] = df['KVO'].rolling(window=signal_period).mean()
    return df['KVO'], df['KVO_Signal']

# Calculating indicator
df['KVO'], df['KVO_Signal'] = klinger_volume_oscillator(df)

# data cleaning
df.dropna(inplace=True)

# Plotting candlestick with indicators
fig = go.Figure()

# Adding Indicators
fig.add_trace(go.Scatter(x=df.index, y=df['KVO'], mode='lines', name='KVO'))
fig.add_trace(go.Scatter(x=df.index, y=df['KVO_Signal'], mode='lines', name='KVO Signal'))

# Layout
fig.update_layout(title='Klinger Volume Oscillator (KVO)',
                  xaxis_title='Time',
                  yaxis_title='Value',
                  template='plotly_dark')

fig.show()








# function Elder's Force Index (EFI)
def elder_force_index(df, period=2):
    df['EFI'] = (df['Close'] - df['Close'].shift(1)) * df['Volume']
    df['EFI_Smoothed'] = df['EFI'].rolling(window=period).mean()
    return df['EFI_Smoothed']

# Calculating indicator
df['EFI'] = elder_force_index(df)

# data cleaning
df.dropna(inplace=True)

# Plotting candlestick with indicators
fig = go.Figure()

# Adding Indicators
fig.add_trace(go.Scatter(x=df.index, y=df['EFI'], mode='lines', name='EFI'))

# Layout
fig.update_layout(title="Elder's Force Index (EFI)",
                  xaxis_title='Time',
                  yaxis_title='Value',
                  template='plotly_dark')

fig.show()








# function true_strength_index (TSI)
def true_strength_index(df, short_period=13, long_period=25):
    df['Change'] = df['Close'] - df['Close'].shift(1)
    df['Smoothed1'] = df['Change'].ewm(span=short_period, adjust=False).mean()
    df['Smoothed2'] = df['Smoothed1'].ewm(span=long_period, adjust=False).mean()
    df['AbsChange'] = abs(df['Change'])
    df['AbsSmoothed1'] = df['AbsChange'].ewm(span=short_period, adjust=False).mean()
    df['AbsSmoothed2'] = df['AbsSmoothed1'].ewm(span=long_period, adjust=False).mean()
    df['TSI'] = (df['Smoothed2'] / df['AbsSmoothed2']) * 100
    return df['TSI']

# Calculating indicator
df['TSI'] = true_strength_index(df)

# data cleaning
df.dropna(inplace=True)

# Plotting candlestick with indicators
fig = go.Figure()

# Adding Indicators
fig.add_trace(go.Scatter(x=df.index, y=df['TSI'], mode='lines', name='TSI'))

# Layout
fig.update_layout(title='True Strength Index (TSI)',
                  xaxis_title='Time',
                  yaxis_title='Value',
                  template='plotly_dark')

fig.show()





# アルーンオシレーター
def aroon_oscillator(df, window=25):
  df['ardown'], df['arup'] = talib.AROON(df['High'], df['Low'], timeperiod=window)
  df['aroc'] = talib.AROONOSC(df['High'], df['Low'], timeperiod=window)
  return df['aroc']

# Calculating indicator
df['ARO'] = aroon_oscillator(df)

# data cleaning
df.dropna(inplace=True)

# Plotting candlestick with indicators
fig = go.Figure()

# Adding Indicators
fig.add_trace(go.Scatter(x=df.index, y=df['ARO'], mode='lines', name='ARO'))

# Layout
fig.update_layout(title='Aroon Oscillator (ARO)',
                  xaxis_title='Time',
                  yaxis_title='Value',
                  template='plotly_dark')

fig.show()





# MACD
def macd(df, window_fast=12, window_slow=26, window_signal=9):
    df['macd'], df['macd_signal'], df['macd_hist'] = talib.MACD(df['Close'], \
        fastperiod=window_fast, slowperiod=window_slow, signalperiod=window_signal)
    return df['macd']
    
# Calculating indicator
df['MACD'] = macd(df)

# data cleaning
df.dropna(inplace=True)

# Plotting candlestick with indicators
fig = go.Figure()

# Adding Indicators
fig.add_trace(go.Scatter(x=df.index, y=df['MACD'], mode='lines', name='MACD'))

# Layout
fig.update_layout(title='Moving Average Conv Div (MACD)',
                  xaxis_title='Time',
                  yaxis_title='Value',
                  template='plotly_dark')

fig.show()





# オーサムオシレーター
def awesome_oscillator(df, wshort=5, wlong=34):
  # 中値
  df['med'] = (df['High']+df['Low']) / 2
  # オーサムオシレーター
  df['ao'] = df['med'].rolling(wshort).mean() - df['med'].rolling(wlong).mean()
  # 加速減速オシレーター
  df['ado'] = df['ao'] - df['ao'].rolling(wshort).mean()
  return df['ao'], df['ado']
    
# Calculating indicator
df['AO'], df['ADO'] = awesome_oscillator(df)

# data cleaning
df.dropna(inplace=True)

# Plotting candlestick with indicators
fig = go.Figure()

# Adding Indicators
fig.add_trace(go.Scatter(x=df.index, y=df['AO'], mode='lines', name='AO'))

# Layout
fig.update_layout(title='Awesome Oscillator (AO)',
                  xaxis_title='Time',
                  yaxis_title='Value',
                  template='plotly_dark')

fig.show()





# トリックス
def trix_oscillator(df,window=9):
  df['trix'] = talib.TRIX(df['Close'], timeperiod=window)
  return df['trix']

# Calculating indicator
df['TRIX'] = trix_oscillator(df)

# data cleaning
df.dropna(inplace=True)

# Plotting candlestick with indicators
fig = go.Figure()

# Adding Indicators
fig.add_trace(go.Scatter(x=df.index, y=df['TRIX'], mode='lines', name='TRIX'))

# Layout
fig.update_layout(title='TRIX Oscillator (TRIX)',
                  xaxis_title='Time',
                  yaxis_title='Value',
                  template='plotly_dark')

fig.show()


df.info()
