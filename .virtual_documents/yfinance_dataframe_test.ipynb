


import yfinance as yf;print(yf.__version__)
import pandas as pd
import numpy as np
import matplotlib.pyplot as plt
from datetime import date, datetime, timedelta


ticker = '7203.T'
df = yf.download(ticker, start='2020-01-01', end='2024-12-06')


df.tail()


df.info()


df1 = df.reset_index()
df1.head()


df1.info()


df2 = df.copy()
df2.columns = [col[0] if isinstance(col, tuple) else col for col in df2.columns]
df2.head()


pair = 'USDJPY=X'
#end = datetime.datetime.now(datetime.UTC)  #標準時が必要な場合
end = datetime.now()
start = end - timedelta(days=7)
end_date = end.strftime('%Y-%m-%d')
start_date = start.strftime('%Y-%m-%d')
data1 = yf.download(pair, start=start_date, end=end_date, interval="1m", period="1d")
data1.columns = [col[0] if isinstance(col, tuple) else col for col in data1.columns]
data2 = yf.download(pair, interval="1m", period="1d")
data2.columns = [col[0] if isinstance(col, tuple) else col for col in data2.columns]
data = pd.concat([data1,data2])


data[10:30]
