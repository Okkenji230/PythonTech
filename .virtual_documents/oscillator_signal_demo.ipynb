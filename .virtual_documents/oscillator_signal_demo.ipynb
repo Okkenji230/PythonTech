


import pandas as pd
import numpy as np
from datetime import date, datetime, timedelta
import matplotlib.pyplot as plt
import yfinance as yf
import mplfinance as mpf
import talib
import warnings
warnings.simplefilter(action="ignore", category=FutureWarning)





# function Klinger Volume Oscillator (KVO)
def klinger_volume_oscillator(df, short_period=34, long_period=55, signal_period=13):
    df['High-Low'] = df['High'] - df['Low']
    df['High-Close'] = np.abs(df['High'] - df['Close'].shift(1))
    df['Low-Close'] = np.abs(df['Low'] - df['Close'].shift(1))
    df['TrueRange'] = df[['High-Low', 'High-Close', 'Low-Close']].max(axis=1)
    df['VolumeForce'] = np.where(df['Close'] > df['Close'].shift(1), df['Volume'], -df['Volume'])
    df['KVO'] = (df['VolumeForce'].rolling(window=short_period).sum() -
                 df['VolumeForce'].rolling(window=long_period).sum())
    df['KVO_Signal'] = df['KVO'].rolling(window=signal_period).mean()
    return df['KVO'], df['KVO_Signal']

# function Elder's Force Index (EFI)
def elder_force_index(df, period=2):
    df['EFI'] = (df['Close'] - df['Close'].shift(1)) * df['Volume']
    df['EFI_Smoothed'] = df['EFI'].rolling(window=period).mean()
    return df['EFI_Smoothed']

# function true_strength_index (TSI)
def true_strength_index(df, short_period=13, long_period=25):
    df['Change'] = df['Close'] - df['Close'].shift(1)
    df['Smoothed1'] = df['Change'].ewm(span=short_period, adjust=False).mean()
    df['Smoothed2'] = df['Smoothed1'].ewm(span=long_period, adjust=False).mean()
    df['AbsChange'] = abs(df['Change'])
    df['AbsSmoothed1'] = df['AbsChange'].ewm(span=short_period, adjust=False).mean()
    df['AbsSmoothed2'] = df['AbsSmoothed1'].ewm(span=long_period, adjust=False).mean()
    df['TSI'] = (df['Smoothed2'] / df['AbsSmoothed2']) * 100
    return df['TSI']

# オーサムオシレーター
def awesome_oscillator(df, wshort=5, wlong=34):
  # 中値
  df['med'] = (df['High']+df['Low']) / 2
  # オーサムオシレーター
  df['ao'] = df['med'].rolling(wshort).mean() - df['med'].rolling(wlong).mean()
  # 加速減速オシレーター
  df['ado'] = df['ao'] - df['ao'].rolling(wshort).mean()
  return df['ao'], df['ado']


# クロスオーバーとクロスアンダー及びしきい値クロス関数
def crossover(series1, series2):
    # Ensure the inputs are numpy arrays for element-wise operations
    series1 = np.array(series1)
    series2 = np.array(series2)
    # Calculate the crossover: (previous series1 < previous series2) and (current series1 > current series2)
    cross = (series1[:-1] < series2[:-1]) & (series1[1:] > series2[1:])
    # Append a False at the start since there is no crossover detection at the first element
    return np.append(False, cross)

def overthreshold(series1, x):
    series1 = np.array(series1)
    series2 = np.full(series1.shape[0], x)
    # Calculate the crossover: (previous series1 < previous series2) and (current series1 > current series2)
    cross = (series1[:-1] < series2[:-1]) & (series1[1:] > series2[1:])
    # Append a False at the start since there is no crossover detection at the first element
    return np.append(False, cross)

def crossunder(series1, series2):
    # Ensure the inputs are numpy arrays for element-wise operations
    series1 = np.array(series1)
    series2 = np.array(series2)
    # Calculate the crossunder: (previous series1 > previous series2) and (current series1 < current series2)
    cross = (series1[:-1] > series2[:-1]) & (series1[1:] < series2[1:])
    # Append a False at the start since there is no crossunder detection at the first element
    return np.append(False, cross)

def underthreshold(series1, x):
    series1 = np.array(series1)
    series2 = np.full(series1.shape[0], x)
    # Calculate the crossunder: (previous series1 > previous series2) and (current series1 < current series2)
    cross = (series1[:-1] > series2[:-1]) & (series1[1:] < series2[1:])
    # Append a False at the start since there is no crossunder detection at the first element
    return np.append(False, cross)


# Chande Momentum Oscillator (CMO)ゼロクロスによるシグナル判定
def CMO_zero(df, tp=14):
    # create dataframe
    df1 = df.copy()
    # calculate CMO
    df1['CMO'] = talib.CMO(df['Close'], timeperiod=tp)
    # BUY/SELL signal conditions
    df1['CMO_buySignal'] = overthreshold(df1['CMO'], 0)
    df1['CMO_sellSignal'] = underthreshold(df1['CMO'], 0)
    # return dataframe
    return df1.loc[:, ['timestamp','ticker','CMO_buySignal','CMO_sellSignal']]


# Klinger Volume Oscillatorのシグナルクロスによるシグナル判定
def KVO_signal(df):
    # create dataframe
    df1 = df.copy()
    # calculate KVO
    df1['KVO'], df1['KVO_Signal'] = klinger_volume_oscillator(df)
    # BUY/SELL signal conditions
    df1['KVO_buySignal'] = crossover(df1['KVO'], df1['KVO_Signal'])
    df1['KVO_sellSignal'] = crossunder(df1['KVO'], df1['KVO_Signal'])
    # return dataframe
    return df1.loc[:, ['timestamp','ticker','KVO_buySignal','KVO_sellSignal']]


# Elder's Force Index (EFI)ゼロクロスによるシグナル判定
def EFI_zero(df):
    # create dataframe
    df1 = df.copy()
    # calculate EFI
    df1['EFI'] = elder_force_index(df)
    # BUY/SELL signal conditions
    df1['EFI_buySignal'] = overthreshold(df1['EFI'], 0)
    df1['EFI_sellSignal'] = underthreshold(df1['EFI'], 0)
    # return dataframe
    return df1.loc[:, ['timestamp','ticker','EFI_buySignal','EFI_sellSignal']]


# True Strength Index (TSI)ゼロクロスによるシグナル判定
def TSI_zero(df):
    # create dataframe
    df1 = df.copy()
    # calculate TSI
    df1['TSI'] = true_strength_index(df)
    # BUY/SELL signal conditions
    df1['TSI_buySignal'] = overthreshold(df1['TSI'], 0)
    df1['TSI_sellSignal'] = underthreshold(df1['TSI'], 0)
    # return dataframe
    return df1.loc[:, ['timestamp','ticker','TSI_buySignal','TSI_sellSignal']]


# Aroon Oscillator (ARO)ゼロクロスによるシグナル判定
def ARO_zero(df):
    # create dataframe
    df1 = df.copy()
    # calculate ARO
    df1['ARO'] = talib.AROONOSC(df['High'], df['Low'], timeperiod=25)
    # BUY/SELL signal conditions
    df1['ARO_buySignal'] = overthreshold(df1['ARO'], 0)
    df1['ARO_sellSignal'] = underthreshold(df1['ARO'], 0)
    # return dataframe
    return df1.loc[:, ['timestamp','ticker','ARO_buySignal','ARO_sellSignal']]


# Awesome Oscillator (AO)ゼロクロスによるシグナル判定
def AO_zero(df):
    # create dataframe
    df1 = df.copy()
    # calculate AO
    df1['AO'], df1['ADO'] = awesome_oscillator(df)
    # BUY/SELL signal conditions
    df1['AO_buySignal'] = overthreshold(df1['AO'], 0)
    df1['AO_sellSignal'] = underthreshold(df1['AO'], 0)
    # return dataframe
    return df1.loc[:, ['timestamp','ticker','AO_buySignal','AO_sellSignal']]


# TRIX Oscillator (TRIX)ゼロクロスによるシグナル判定
def TRIX_zero(df):
    # create dataframe
    df1 = df.copy()
    # calculate TRIX
    df1['TRIX'] = talib.TRIX(df['Close'], timeperiod=9)
    # BUY/SELL signal conditions
    df1['TRIX_buySignal'] = overthreshold(df1['TRIX'], 0)
    df1['TRIX_sellSignal'] = underthreshold(df1['TRIX'], 0)
    # return dataframe
    return df1.loc[:, ['timestamp','ticker','TRIX_buySignal','TRIX_sellSignal']]


# 評価する銘柄のリスト
list_ticker = ['4755.T','9983.T','9984.T']
# 期間の指定
end_date = datetime.today()
start_date = end_date - timedelta(days=730)


# 各銘柄についてシグナル判定を行い結果を縦連結する
df0 = pd.DataFrame()
for symbol in list_ticker:
    # yahooサイトからデータをダウンロード
    data = yf.download(symbol, start_date, end_date)
    data.columns = ['Close','High','Low','Open','Volume'] # 列名がタプルになっている場合の処理
    data['ticker'] = symbol
#    df = data.reset_index().drop(columns='Close').rename(columns={'Date':'timestamp','Adj Close':'Close'})
    df = data.reset_index().rename(columns={'Date':'timestamp'}) # 列名がタプルになっている場合の処理
    ## Chande Momentum Oscillator (CMO)ゼロクロスによるシグナル判定の実施
    df_CmoZero = CMO_zero(df)
    # シグナル判定結果を元データに横連結する
    df = df.merge(df_CmoZero, how="inner", on=['timestamp','ticker'])
    ## Klinger Volume Oscillatorのシグナルクロスによるシグナル判定実施
    df_KvoSignal = KVO_signal(df)
    # シグナル判定結果を元データに横連結する
    df = df.merge(df_KvoSignal, how="inner", on=['timestamp','ticker'])
    ## Elder's Force Index (EFI)ゼロクロスによるシグナル判定の実施
    df_EfiZero = EFI_zero(df)
    # シグナル判定結果を元データに横連結する
    df = df.merge(df_EfiZero, how="inner", on=['timestamp','ticker'])
    ## True Strength Index (TSI)ゼロクロスによるシグナル判定の実施
    df_TsiZero = TSI_zero(df)
    # シグナル判定結果を元データに横連結する
    df = df.merge(df_TsiZero, how="inner", on=['timestamp','ticker'])
    ## Aroon oscillator (ARO)ゼロクロスによるシグナル判定の実施
    df_AroZero = ARO_zero(df)
    # シグナル判定結果を元データに横連結する
    df = df.merge(df_AroZero, how="inner", on=['timestamp','ticker'])
    ## Awesome oscillator (AO)ゼロクロスによるシグナル判定の実施
    df_AoZero = AO_zero(df)
    # シグナル判定結果を元データに横連結する
    df = df.merge(df_AoZero, how="inner", on=['timestamp','ticker'])
    ## TRIX oscillator (TRIX)ゼロクロスによるシグナル判定の実施
    df_TrixZero = TRIX_zero(df)
    # シグナル判定結果を元データに横連結する
    df = df.merge(df_TrixZero, how="inner", on=['timestamp','ticker'])
    # 一銘柄のシグナル判定結果を元のデータに縦連結する
    df0 = pd.concat([df0,df],axis=0)





# 特定の銘柄のデータを取り出す
focus_ticker = '9983.T'
#focus_ticker = '4755.T'
df = df0[df0['ticker'].str.contains(focus_ticker)]
# 終値と各種指標のプロット
plt.figure(figsize=(10, 5))
plt.plot(df['timestamp'], df['Close'], label='Close Price')
# 売買ポジションのプロット
plt.scatter(df['timestamp'][df['CMO_buySignal']], df['Close'][df['CMO_buySignal']], color='green', label='Buy position', marker="^", s=100)
plt.scatter(df['timestamp'][df['CMO_sellSignal']], df['Close'][df['CMO_sellSignal']], color='red', label='Sell position', marker="v", s=100)
# 凡例の表示
plt.legend()
# 軸ラベルとタイトル
plt.xlabel('Date')
plt.ylabel('Price')
plt.title(focus_ticker + ' CMO Strategy')
# チャートの表示
plt.show()


# 特定の銘柄のデータを取り出す
focus_ticker = '9983.T'
#focus_ticker = '4755.T'
df = df0[df0['ticker'].str.contains(focus_ticker)]
# 終値と各種指標のプロット
plt.figure(figsize=(10, 5))
plt.plot(df['timestamp'], df['Close'], label='Close Price')
# 売買ポジションのプロット
plt.scatter(df['timestamp'][df['KVO_buySignal']], df['Close'][df['KVO_buySignal']], color='green', label='Buy position', marker="^", s=100)
plt.scatter(df['timestamp'][df['KVO_sellSignal']], df['Close'][df['KVO_sellSignal']], color='red', label='Sell position', marker="v", s=100)
# 凡例の表示
plt.legend()
# 軸ラベルとタイトル
plt.xlabel('Date')
plt.ylabel('Price')
plt.title(focus_ticker + ' KVO Strategy')
# チャートの表示
plt.show()


# 特定の銘柄のデータを取り出す
focus_ticker = '9983.T'
#focus_ticker = '4755.T'
df = df0[df0['ticker'].str.contains(focus_ticker)]
# 終値と各種指標のプロット
plt.figure(figsize=(10, 5))
plt.plot(df['timestamp'], df['Close'], label='Close Price')
# 売買ポジションのプロット
plt.scatter(df['timestamp'][df['EFI_buySignal']], df['Close'][df['EFI_buySignal']], color='green', label='Buy position', marker="^", s=100)
plt.scatter(df['timestamp'][df['EFI_sellSignal']], df['Close'][df['EFI_sellSignal']], color='red', label='Sell position', marker="v", s=100)
# 凡例の表示
plt.legend()
# 軸ラベルとタイトル
plt.xlabel('Date')
plt.ylabel('Price')
plt.title(focus_ticker + ' EFI Strategy')
# チャートの表示
plt.show()


# 特定の銘柄のデータを取り出す
focus_ticker = '9983.T'
#focus_ticker = '4755.T'
df = df0[df0['ticker'].str.contains(focus_ticker)]
# 終値と各種指標のプロット
plt.figure(figsize=(10, 5))
plt.plot(df['timestamp'], df['Close'], label='Close Price')
# 売買ポジションのプロット
plt.scatter(df['timestamp'][df['TSI_buySignal']], df['Close'][df['TSI_buySignal']], color='green', label='Buy position', marker="^", s=100)
plt.scatter(df['timestamp'][df['TSI_sellSignal']], df['Close'][df['TSI_sellSignal']], color='red', label='Sell position', marker="v", s=100)
# 凡例の表示
plt.legend()
# 軸ラベルとタイトル
plt.xlabel('Date')
plt.ylabel('Price')
plt.title(focus_ticker + ' TSI Strategy')
# チャートの表示
plt.show()


# 特定の銘柄のデータを取り出す
focus_ticker = '9983.T'
#focus_ticker = '4755.T'
df = df0[df0['ticker'].str.contains(focus_ticker)]
# 終値と各種指標のプロット
plt.figure(figsize=(10, 5))
plt.plot(df['timestamp'], df['Close'], label='Close Price')
# 売買ポジションのプロット
plt.scatter(df['timestamp'][df['ARO_buySignal']], df['Close'][df['ARO_buySignal']], color='green', label='Buy position', marker="^", s=100)
plt.scatter(df['timestamp'][df['ARO_sellSignal']], df['Close'][df['ARO_sellSignal']], color='red', label='Sell position', marker="v", s=100)
# 凡例の表示
plt.legend()
# 軸ラベルとタイトル
plt.xlabel('Date')
plt.ylabel('Price')
plt.title(focus_ticker + ' ARO Strategy')
# チャートの表示
plt.show()


# 特定の銘柄のデータを取り出す
focus_ticker = '9983.T'
#focus_ticker = '4755.T'
df = df0[df0['ticker'].str.contains(focus_ticker)]
# 終値と各種指標のプロット
plt.figure(figsize=(10, 5))
plt.plot(df['timestamp'], df['Close'], label='Close Price')
# 売買ポジションのプロット
plt.scatter(df['timestamp'][df['AO_buySignal']], df['Close'][df['AO_buySignal']], color='green', label='Buy position', marker="^", s=100)
plt.scatter(df['timestamp'][df['AO_sellSignal']], df['Close'][df['AO_sellSignal']], color='red', label='Sell position', marker="v", s=100)
# 凡例の表示
plt.legend()
# 軸ラベルとタイトル
plt.xlabel('Date')
plt.ylabel('Price')
plt.title(focus_ticker + ' AO Strategy')
# チャートの表示
plt.show()


# 特定の銘柄のデータを取り出す
focus_ticker = '9983.T'
#focus_ticker = '4755.T'
df = df0[df0['ticker'].str.contains(focus_ticker)]
# 終値と各種指標のプロット
plt.figure(figsize=(10, 5))
plt.plot(df['timestamp'], df['Close'], label='Close Price')
# 売買ポジションのプロット
plt.scatter(df['timestamp'][df['TRIX_buySignal']], df['Close'][df['TRIX_buySignal']], color='green', label='Buy position', marker="^", s=100)
plt.scatter(df['timestamp'][df['TRIX_sellSignal']], df['Close'][df['TRIX_sellSignal']], color='red', label='Sell position', marker="v", s=100)
# 凡例の表示
plt.legend()
# 軸ラベルとタイトル
plt.xlabel('Date')
plt.ylabel('Price')
plt.title(focus_ticker + ' TRIX Strategy')
# チャートの表示
plt.show()
