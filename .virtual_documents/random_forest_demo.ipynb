





# ライブラリのインポート
import yfinance as yf
import pandas as pd
import numpy as np
import matplotlib.pyplot as plt
import pandas_ta as ta
from datetime import date, datetime, timedelta
import talib
import matplotlib.pyplot as plt
from sklearn.model_selection import train_test_split
from sklearn.ensemble import RandomForestClassifier
from sklearn.metrics import accuracy_score
import warnings
warnings.simplefilter(action="ignore", category=FutureWarning)


# Download data
ticker = '9432.T'
end_date = datetime.today()
start_date = end_date - timedelta(days=730)
data = yf.download(ticker, start_date, end_date)
data.columns = [col[0] if isinstance(col, tuple) else col for col in data.columns]
data.index = pd.to_datetime(data.index)


data.tail()


# Create features based on prices 
data['SMA50'] = data['Close'].rolling(window=50).mean() 
data['SMA200'] = data['Close'].rolling(window=200).mean() 
data['Volatility'] = data['Close'].rolling(window=20).std() 
data['Daily Return'] = data['Close'].pct_change() 
# calculate MACD
data["macd"], data["macdsignal"], data["macdhist"] = talib.MACD(data["Close"],\
        fastperiod=12, slowperiod=26, signalperiod=9)
# calculate RSI
data["RSI"] = talib.RSI(data["Close"], timeperiod=14)


# Remove NaN rows 
data = data.dropna().reset_index()


# Create binary target label for prediction
data['Target'] = np.where(data['Close'].shift(-1) > data['Close'], 1, 0)


# Select features and target
features = ['macd','macdsignal','RSI']
X = data[features]
y = data['Target']
# Split the data into training and test sets
X_train, X_test, y_train, y_test = train_test_split(X, y, test_size=0.2, shuffle=False)


# Create and train the model
model = RandomForestClassifier(n_estimators=100, random_state=42)
model.fit(X_train, y_train)
# Evaluate the model
predictions = model.predict(X_test)
accuracy = accuracy_score(y_test, predictions)
print(f"Model accuracy: {accuracy:.2f}")


# Add predictions to the test DataFrame
data['Predicted_Signal'] = model.predict(X)
# Create the trading position: 1 for buy, -1 for sell
data['Position'] = data['Predicted_Signal'].shift()
# Calculate strategy returns
data['Strategy_Returns'] = data['Position'] * data['Daily Return']
data['Cumulative_Strategy_Returns'] = (1 + data['Strategy_Returns']).cumprod() - 1
data['Cumulative_Market_Returns'] = (1 + data['Daily Return']).cumprod() - 1


plt.figure(figsize=(14,7))
plt.plot(data['Cumulative_Market_Returns'], label='Market Returns')
plt.plot(data['Cumulative_Strategy_Returns'], label='Strategy Returns', alpha=0.7)
plt.legend(loc='upper left')
plt.title('Performance Comparison: ML Strategy vs. Market')
plt.show()
