





import numpy as np
import pandas as pd
import matplotlib.pyplot as plt
import plotly.graph_objects as go
from sklearn.metrics import mean_squared_error,r2_score, mean_absolute_error,mean_squared_log_error
from pmdarima import auto_arima
from statsmodels.tsa.arima.model import ARIMA
from datetime import date, datetime, timedelta
import yfinance as yf
import warnings
warnings.simplefilter(action="ignore")


# 市場価格データの獲得
symbol = '9984.T'
end_date = datetime.today()
start_date = end_date - timedelta(days=1460)
df = yf.download(symbol, start_date, end_date)


# データを学習用と検証用に分割
train_rate = 0.95
model_train=df.iloc[:int(df.shape[0]*train_rate)]
valid=df.iloc[int(df.shape[0]*train_rate):]
y_pred=valid.copy().reset_index()


# ARIMA(p,d,q)次数の探索
model_scores_r2=[]
model_scores_mse=[]
model_scores_rmse=[]
model_scores_mae=[]
model_scores_rmsle=[]
model_arima= auto_arima(model_train["Close"],trace=True, error_action='ignore', start_p=1,start_q=1,max_p=3,max_q=3,
              suppress_warnings=True,stepwise=False,seasonal=False)
model_arima.fit(model_train["Close"])


# 探索されたモデルによる予測
prediction_arima=model_arima.predict(len(valid)).to_numpy()
y_pred["ARIMA Model Prediction"]=prediction_arima
r2_arima= r2_score(y_pred["Close"],y_pred["ARIMA Model Prediction"])
mse_arima= mean_squared_error(y_pred["Close"],y_pred["ARIMA Model Prediction"])
rmse_arima=np.sqrt(mean_squared_error(y_pred["Close"],y_pred["ARIMA Model Prediction"]))
mae_arima=mean_absolute_error(y_pred["Close"],y_pred["ARIMA Model Prediction"])
rmsle_arima = np.sqrt(mean_squared_log_error(y_pred["Close"],y_pred["ARIMA Model Prediction"]))
model_scores_r2.append(r2_arima)
model_scores_mse.append(mse_arima)
model_scores_rmse.append(rmse_arima)
model_scores_mae.append(mae_arima)
model_scores_rmsle.append(rmsle_arima)
print("R Square Score ARIMA: ",r2_arima)
print("Mean Square Error ARIMA: ",mse_arima)
print("Root Mean Square Error ARIMA: ",rmse_arima)
print("Mean Absoulute Error ARIMA: ",mae_arima)
print("Root Mean Squared Logarithmic Error ARIMA: ", rmsle_arima)


fig=go.Figure()
fig.add_trace(go.Scatter(x=model_train.index, y=model_train["Close"], mode='lines',name="Train Data for Stock Prices"))
fig.add_trace(go.Scatter(x=valid.index, y=valid["Close"], mode='lines',name="Validation Data for Stock Prices",))
fig.add_trace(go.Scatter(x=valid.index, y=y_pred["ARIMA Model Prediction"], mode='lines',name="Prediction for Stock Prices",))
fig.update_layout(title="ARIMA",xaxis_title="Date",yaxis_title="Close",legend=dict(x=0,y=1,traceorder="normal"),font=dict(size=12))
fig.show()





# ARIMA(p,d,q)次数の探索
model_scores_r2=[]
model_scores_mse=[]
model_scores_rmse=[]
model_scores_mae=[]
model_scores_rmsle=[]
model_arima= auto_arima(df["Close"],trace=True, error_action='ignore', start_p=1,start_q=1,max_p=3,max_q=3,
              suppress_warnings=True,stepwise=False,seasonal=False)
model_arima.fit(df["Close"])


ARIMA_model_date=[df.index[-1]]
ARIMA_model_prediction=[df.Close[-1]]
ARIMA_model_pctchange=[0]
pred_length=10
for i in range(1,pred_length):
    ARIMA_model_date.append(df.index[-1]+timedelta(days=i))
    ARIMA_model_prediction.append(model_arima.predict(n_periods=i).iloc[-1])
    y0 = ARIMA_model_prediction[0]
    yt = model_arima.predict(n_periods=i).iloc[-1]
    ARIMA_model_pctchange.append((yt-y0)/y0*100)
model_predictions=pd.DataFrame(zip(ARIMA_model_date,ARIMA_model_prediction,ARIMA_model_pctchange), columns=["Dates","ARIMA Model Prediction","pctchange"])
model_predictions
