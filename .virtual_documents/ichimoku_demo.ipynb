





import pandas as pd
import numpy as np
from datetime import date, datetime, timedelta
import matplotlib.pyplot as plt
import yfinance as yf
from dateutil.relativedelta import relativedelta


#symbol = '4755.T'
symbol = 'USDJPY=X'
end_date = datetime.today()
start_date = end_date - timedelta(days=730)
# yahooサイトからデータをダウンロード
data = yf.download(symbol, start_date, end_date)


data.head()


df = data.reset_index().drop(columns='Close').rename(columns={'Date':'timestamp', 'Open':'open', \
                        'High':'high', 'Low':'low', 'Adj Close':'close', 'Volume':'volume'})


df.head()


# Calculate the Ichimoku indicators
df['tenkan_sen'] = (df['high'].rolling(window=9).max() + df['low'].rolling(window=9).min()) / 2
df['kijun_sen'] = (df['high'].rolling(window=26).max() + df['low'].rolling(window=26).min()) / 2
df['senkou_span_01'] = (df['tenkan_sen'] + df['kijun_sen']) / 2
df['senkou_span_1'] = df['senkou_span_01'].shift(25)
df['senkou_span_02'] = (df['high'].rolling(window=52).max() + df['low'].rolling(window=52).min()) / 2
df['senkou_span_2'] = df['senkou_span_02'].shift(25)
df['chikou_span'] = df['close'].shift(-25)

# Calculate the Cloud (Kumo)
df['cloud_top'] = df[['senkou_span_1','senkou_span_2']].max(axis=1)
df['cloud_bottom'] = df[['senkou_span_1','senkou_span_2']].min(axis=1)


# Create the signals, Create buy and sell signals column for the Ichimoku strategy
# 好転＝買い, 逆転＝売り, とした場合
signal_conditions = [
    ((df['tenkan_sen'] > df['kijun_sen'])) ,
    ((df['tenkan_sen'] < df['kijun_sen'])) ,
]
signal_choices = [1, -1]

df['signal'] = np.select(signal_conditions, signal_choices, default=0)

# remove the look ahead bias by creating a signal lag of one period
df['signal'] = df['signal'].shift(1)


# Initialize the strategy performance variables
initial_capital = 100
capital = initial_capital
profit = 0

# Keep track of the previous signal
prev_signal = df.loc[0, 'signal']

# Previous close prise
prev_close = df.loc[0, 'close']


# Backtest the strategy
for i in range(1, len(df)):
    current_signal = df.loc[i, 'signal']
    if current_signal != prev_signal:
        if current_signal == 1:
            # Buy signal
            profit = capital * (df.loc[i, 'close'] - prev_close) / prev_close
            capital += profit

        elif current_signal == -1:
            # Sell signal
            profit = capital * (prev_close - df.loc[i, 'close']) / df.loc[i, 'close']
            capital += profit
        
        prev_close = df.loc[i, 'close']
            
    # Update the previous signal
    prev_signal = current_signal

    # print(f'{i} | current Signal: {current_signal} | Previous Signal: {prev_signal} | Capital: ${capital} | Profit: ${profit} | Prev_close: {prev_close}')


# Create the Positions
conditions = [
    (df['signal'] == 1) & (df['signal'] != df['signal'].shift(1)),
    (df['signal'] == -1) & (df['signal'] != df['signal'].shift(1))
]

choices = [1, -1]

df['positions'] = np.select(conditions, choices, default=np.nan)


# Print the strategy performance
print(df.tail(5))
overall_profit = capital - initial_capital
pl_percentage = (capital - initial_capital) / initial_capital * 100
print(f'Initial capital: {initial_capital} USDT')
print(f'Final capital: {capital} USDT')
print(f'Overall Profit: {overall_profit:.2f} USDT')
print(f'Percentage Profit Gain: {pl_percentage:.2f}%')


# 表示オプションの設定
d_signal = 1 # シグナル
d_span = 1 # 先行遅行スパンと雲
d_kinkou = 0 # 基準線と転換線
d_close = 1 # 終値

# Plot the Ichimoku strategy and the close price
plt.figure(figsize=(10, 5))
if d_span == 1:
    plt.plot(df['timestamp'], df['senkou_span_1'], label='Senkou Span 1')
    plt.plot(df['timestamp'], df['senkou_span_2'], label='Senkou Span 2')
    plt.plot(df['timestamp'], df['chikou_span'], label='Chikou Span')
if d_kinkou == 1:
    plt.plot(df['timestamp'], df['tenkan_sen'], label='tenkan_sen')
    plt.plot(df['timestamp'], df['kijun_sen'], label='kijun_sen')
if d_close == 1:
    plt.plot(df['timestamp'], df['close'], label='Close Price', color='black')

# Plot the positions
if d_signal == 1:
    plt.scatter(df['timestamp'][df['positions'] == 1], df['close']
                [df['positions'] == 1], color='green', label='Buy position', marker="^", s=100)
    plt.scatter(df['timestamp'][df['positions'] == -1], df['close']
                [df['positions'] == -1], color='red', label='Sell position', marker="v", s=100)

# Fill area 
if d_span == 1:
    plt.fill_between(df['timestamp'], df['senkou_span_1'], df['senkou_span_2'] , 
                     where=(df['senkou_span_1'] > df['senkou_span_2']),
                     color='lightgreen', alpha=0.3, label='Buy')

    plt.fill_between(df['timestamp'], df['senkou_span_1'], df['senkou_span_2'], 
                     where=(df['senkou_span_1'] < df['senkou_span_2']),
                     color='lightcoral', alpha=0.3, label='Sell')

plt.legend()

# Add axis labels and a title
plt.xlabel('Date')
plt.ylabel('Price')
plt.title(symbol + ' Ichimoku Trading Strategy')

# Show the plot
plt.show()
