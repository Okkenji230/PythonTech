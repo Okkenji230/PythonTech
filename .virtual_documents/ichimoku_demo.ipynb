





import pandas as pd
import numpy as np
from datetime import date, datetime, timedelta
import matplotlib.pyplot as plt
import yfinance as yf
from dateutil.relativedelta import relativedelta
import mplfinance as mpf


symbol = '9983.T'
#symbol = 'NZDJPY=X'
end_date = datetime.today()
start_date = end_date - timedelta(days=365)
# yahooサイトからデータをダウンロード
data = yf.download(symbol, start_date, end_date)


data.head()


df = data.reset_index().drop(columns='Close').rename(columns={'Date':'timestamp', 'Open':'open', \
                        'High':'high', 'Low':'low', 'Adj Close':'close', 'Volume':'volume'})


df.head()


# Calculate the Ichimoku indicators
df['tenkan_sen'] = (df['high'].rolling(window=9).max() + df['low'].rolling(window=9).min()) / 2
df['kijun_sen'] = (df['high'].rolling(window=26).max() + df['low'].rolling(window=26).min()) / 2
senkou_span_01 = (df['tenkan_sen'] + df['kijun_sen']) / 2
df['senkou_span_1'] = senkou_span_01.shift(25)
senkou_span_02 = (df['high'].rolling(window=52).max() + df['low'].rolling(window=52).min()) / 2
df['senkou_span_2'] = senkou_span_02.shift(25)
df['chikou_span'] = df['close'].shift(-25)

# Calculate the Cloud (Kumo)
df['cloud_top'] = df[['senkou_span_1','senkou_span_2']].max(axis=1)
df['cloud_bottom'] = df[['senkou_span_1','senkou_span_2']].min(axis=1)


# Create the signals, Create buy and sell signals column for the Ichimoku strategy
# 好転＝買い, 逆転＝売り, とした場合
signal_conditions = [
    ((df['tenkan_sen'] > df['kijun_sen'])) ,
    ((df['tenkan_sen'] < df['kijun_sen'])) ,
]
signal_choices = [1, -1]

df['signal'] = np.select(signal_conditions, signal_choices, default=0)

# remove the look ahead bias by creating a signal lag of one period
df['signal'] = df['signal'].shift(1)


# Initialize the strategy performance variables
initial_capital = 100
capital = initial_capital
profit = 0

# Keep track of the previous signal
prev_signal = df.loc[0, 'signal']

# Previous close prise
prev_close = df.loc[0, 'close']


# Backtest the strategy
for i in range(1, len(df)):
    current_signal = df.loc[i, 'signal']
    if current_signal != prev_signal:
        if current_signal == 1:
            # Buy signal
            profit = capital * (df.loc[i, 'close'] - prev_close) / prev_close
            capital += profit

        elif current_signal == -1:
            # Sell signal
            profit = capital * (prev_close - df.loc[i, 'close']) / df.loc[i, 'close']
            capital += profit
        
        prev_close = df.loc[i, 'close']
            
    # Update the previous signal
    prev_signal = current_signal

    # print(f'{i} | current Signal: {current_signal} | Previous Signal: {prev_signal} | Capital: ${capital} | Profit: ${profit} | Prev_close: {prev_close}')


# Create the Positions
conditions = [
    (df['signal'] == 1) & (df['signal'] != df['signal'].shift(1)),
    (df['signal'] == -1) & (df['signal'] != df['signal'].shift(1))
]

choices = [1, -1]

df['positions'] = np.select(conditions, choices, default=np.nan)


# Print the strategy performance
print(df.tail(5))
overall_profit = capital - initial_capital
pl_percentage = (capital - initial_capital) / initial_capital * 100
print(f'Initial capital: {initial_capital} USDT')
print(f'Final capital: {capital} USDT')
print(f'Overall Profit: {overall_profit:.2f} USDT')
print(f'Percentage Profit Gain: {pl_percentage:.2f}%')


# 表示オプションの設定
d_signal = 1 # シグナル
d_span = 1 # 先行遅行スパンと雲
d_kinkou = 1 # 基準線と転換線
d_close = 1 # 終値

# Plot the Ichimoku strategy and the close price
plt.figure(figsize=(10, 5))
if d_span == 1:
    plt.plot(df['timestamp'], df['senkou_span_1'], label='Senkou Span 1')
    plt.plot(df['timestamp'], df['senkou_span_2'], label='Senkou Span 2')
    plt.plot(df['timestamp'], df['chikou_span'], label='Chikou Span')
if d_kinkou == 1:
    plt.plot(df['timestamp'], df['tenkan_sen'], label='tenkan_sen')
    plt.plot(df['timestamp'], df['kijun_sen'], label='kijun_sen')
if d_close == 1:
    plt.plot(df['timestamp'], df['close'], label='Close Price', color='black')

# Plot the positions
if d_signal == 1:
    plt.scatter(df['timestamp'][df['positions'] == 1], df['close']
                [df['positions'] == 1], color='green', label='Buy position', marker="^", s=100)
    plt.scatter(df['timestamp'][df['positions'] == -1], df['close']
                [df['positions'] == -1], color='red', label='Sell position', marker="v", s=100)

# Fill area 
if d_span == 1:
    plt.fill_between(df['timestamp'], df['senkou_span_1'], df['senkou_span_2'] , 
                     where=(df['senkou_span_1'] > df['senkou_span_2']),
                     color='lightgreen', alpha=0.3, label='Buy')

    plt.fill_between(df['timestamp'], df['senkou_span_1'], df['senkou_span_2'], 
                     where=(df['senkou_span_1'] < df['senkou_span_2']),
                     color='lightcoral', alpha=0.3, label='Sell')

plt.legend()

# Add axis labels and a title
plt.xlabel('Date')
plt.ylabel('Price')
plt.title(symbol + ' Ichimoku Trading Strategy')

# Show the plot
plt.savefig('Ichimoku_A.png')
plt.show()








df = data.copy()
# 基準線に使用するデータを作成
high = df['High']
low = df['Low']


max26 = high.rolling(window=26).max()
min26 = low.rolling(window=26).min()
df['basic_line'] = (max26 + min26) / 2


# 転換線に使用するデータを作成
high9 = high.rolling(window=9).max()
low9 = low.rolling(window=9).min()
df['turn_line'] = (high9 + low9) / 2


# 先行スパン１に使用するデータを作成
span1 = (df['basic_line'] + df['turn_line']) / 2
df['span1'] = span1.shift(25)


# 先行スパン2に使用するデータを作成
high52 = high.rolling(window=52).max()
low52 = low.rolling(window=52).min()
span2 = (high52 + low52) / 2
df['span2'] = span2.shift(25)


# 遅行線に使用するデータを作成
df['slow_line'] = df['Close'].shift(-25)


apd = [
    mpf.make_addplot(df['basic_line'], color='red', width=1.5),
    mpf.make_addplot(df['turn_line'], color='blue', width=1.5),
    mpf.make_addplot(df['span1'], color='black', width=0.5),
    mpf.make_addplot(df['span2'], color='black', width=0.5),
    mpf.make_addplot(df['slow_line'], color='orange', width=1.5)
]

labels = ["basic", "turn", "span1", "span2", "slow"]

# ラベルをつけてチャートを表示
fig, ax = mpf.plot(df, type='candle', figsize=(12,6), style='classic', xrotation=0, addplot=apd, returnfig=True,
                  fill_between=dict(y1=df['span1'].values, y2=df['span2'].values, alpha=0.5, color='grey'))



# チャートを表示
plt.savefig('Ichimoku_B.png')
plt.show()








_df = data.copy()

# 取得したデータの次の日から26日先までが欠損値の DataFrame を作り結合する
next_day = _df.index[-1] + relativedelta(days = 1)
_df_26 = pd.DataFrame(data=np.full(shape=26 * len(_df.columns), fill_value=np.nan).reshape(26, len(_df.columns)),
        columns=_df.columns, index=pd.date_range(next_day, periods=26, freq='D'))
df = pd.concat([_df, _df_26])

def bollingerband(c, period):
    bbma = c.rolling(window=period).mean() ## 平均
    bbstd = c.rolling(window=period).std() ## 標準偏差
    bbh1 = bbma + bbstd * 1
    bbl1 = bbma - bbstd * 1
    bbh2 = bbma + bbstd * 2
    bbl2 = bbma - bbstd * 2
    bbh3 = bbma + bbstd * 3
    bbl3 = bbma - bbstd * 3
    return bbh1,bbl1,bbh2,bbl2,bbh3,bbl3

def macd(c, n1, n2, ns):
    ema_short = c.ewm(span=n1,adjust=False).mean()
    ema_long = c.ewm(span=n2,adjust=False).mean()
    macd = ema_short - ema_long
    signal = macd.ewm(span=ns,adjust=False).mean()
    histogram = macd - signal
    histogramplus = histogram.where(histogram > 0, 0)
    histogramminus = histogram.where(histogram < 0, 0)
    return macd,signal,histogram,histogramplus,histogramminus

def rsi(c, period):
    diff = c.diff() #前日比
    up = diff.copy() #上昇
    down = diff.copy() #下落
    up = up.where(up > 0, np.nan) #上昇以外はnp.nan
    down = down.where(down < 0, np.nan) #下落以外はnp.nan
    #upma = up.rolling(window=period).mean() #平均
    #downma = down.abs().rolling(window=period).mean() #絶対値の平均
    upma = up.ewm(span=period,adjust=False).mean() #平均
    downma = down.abs().ewm(span=period,adjust=False).mean() #絶対値の平均
    rs = upma / downma
    rsi = 100 - (100 / (1.0 + rs))
    return rsi

def ichimoku(o, h, l, c):
    ## 当日を含めた過去26日間の最高値
    ## 当日を含めた過去 9日間の最高値
    ## 当日を含めた過去52日間の最高値
    max26 = h.rolling(window=26).max()
    max9  = h.rolling(window=9).max()
    max52 = h.rolling(window=52).max()
    ## 当日を含めた過去26日間の最安値
    ## 当日を含めた過去 9日間の最安値
    ## 当日を含めた過去52日間の最安値
    min26 = l.rolling(window=26).min()
    min9  = l.rolling(window=9).min()
    min52 = l.rolling(window=52).min()

    ## 基準線=（当日を含めた過去26日間の最高値+最安値）÷2
    ## 転換線=（当日を含めた過去9日間の最高値+最安値）÷2
    kijun = (max26 + min26) / 2
    tenkan = (max9 + min9) / 2
    ## 先行スパン1=｛（転換値+基準値）÷2｝を26日先行させて表示
    senkospan1 = (kijun + tenkan) / 2
    senkospan1 = senkospan1.shift(26)
    ## 先行スパン2=｛（当日を含めた過去52日間の最高値+最安値）÷2｝を26日先行させて表示
    senkospan2 = (max52 + min52) / 2
    senkospan2 = senkospan2.shift(26)
    ## 遅行スパン= 当日の終値を26日遅行させて表示
    chikouspan = c.shift(-26)

    return kijun, tenkan, senkospan1, senkospan2, chikouspan

# float 型に
df['Open'] = df['Open'].astype(float)
df['High'] = df['High'].astype(float)
df['Low'] = df['Low'].astype(float)
df['Close'] = df['Close'].astype(float)
o = df['Open']
c = df['Close']
l = df['Low']
h = df['High']

'''
テクニカル指標の結果を得る
'''
# ボリンジャーバンド（移動平均25日線）
bbh1, bbl1, bbh2, bbl2, bbh3, bbl3 = bollingerband(c, 25)
# MACD（短期=12，長期=26，シグナル=9）
macd_, macdsignal, histogram, histogramplus, histogramminus = macd(c, 12, 26, 9)
# RSI（14日）
rsi_ = rsi(c, 14)
# 一目均衡表
kijun, tenkan, senkospan1, senkospan2, chikouspan = ichimoku(o, h, l, c)

# 未来26日分の不要データを欠損値で埋める
macd_[-26:] = np.nan
macdsignal[-26:] = np.nan
histogram[-26:] = np.nan
histogramplus[-26:] = np.nan
histogramminus[-26:] = np.nan
rsi_[-26:] = np.nan

'''
チャートを描く
'''
# 高さの比を 3:1:1 で GridSpec を用意する
fig = mpf.figure(figsize=(9.6, 9.6), style='starsandstripes')
gs = fig.add_gridspec(3, 1, hspace=0, wspace=0, height_ratios=(3, 1, 1))
(ax1,ax2,ax3) = gs.subplots(sharex='col')

# ボリンジャーバンドは axes No.1 に描く
bbargs = dict(ax=ax1, width=.5, linestyle='dashdot', color='black')
# MACD は axes No.2 に描く
macdargs = dict(ax=ax2, width=1, ylabel='MACD')
# RSI は axes No.3 に描く
rsiargs = dict(ax=ax3, width=1, ylabel='RSI')
# 一目均衡表 axes No.1 に描く
ichimokuargs = dict(ax=ax1, width=.5)

# プロットを作成する(ボリンジャーバンド，MACD，RSI，一目均衡表)
ap = [
    mpf.make_addplot(bbh2, **bbargs),
    mpf.make_addplot(bbl2, **bbargs),
    mpf.make_addplot(macd_, **macdargs, color='blue'),
    mpf.make_addplot(macdsignal, **macdargs, color='orange'),
    mpf.make_addplot(histogramplus, **macdargs, color='red', type='bar'),
    mpf.make_addplot(histogramminus, **macdargs, color='green', type='bar'),
    mpf.make_addplot(rsi_, **rsiargs, color='blue'),
    mpf.make_addplot(kijun, **ichimokuargs, color='orange'),
    mpf.make_addplot(tenkan, **ichimokuargs, color='royalblue'),
    mpf.make_addplot(senkospan1, **ichimokuargs, color='black'),
    mpf.make_addplot(senkospan2, **ichimokuargs, color='purple'),
    mpf.make_addplot(chikouspan, **ichimokuargs, color='red')
]

# RSI(axes=3) の25%と75%に線を引く
ax3.hlines(xmin=0, xmax=len(df.index), y=25, linewidth=1, color='red')
ax3.hlines(xmin=0, xmax=len(df.index), y=75, linewidth=1, color='red')

# 一目均衡表(axes=1)の先行スパン１と先行スパン２の間を塗りつぶす
ax1.fill_between(x=range(0, len(df.index)), y1=senkospan1.values, y2=senkospan2.values, alpha=0.5, color='gray')

# ローソク足を描く，用意したプロットを渡す
mpf.plot(df, ax=ax1, addplot=ap, style='starsandstripes', type='candle', \
                   xrotation=30, ylabel='Price', savefig='Ichimoku_C.png')

mpf.show()
