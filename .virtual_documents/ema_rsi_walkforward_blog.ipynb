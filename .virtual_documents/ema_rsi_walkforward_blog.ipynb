





import pandas as pd
import numpy as np
from datetime import date, datetime, timedelta
import matplotlib.pyplot as plt
import yfinance as yf
import vectorbt as vbt
import itertools
import warnings
warnings.simplefilter(action="ignore", category=FutureWarning)


# === EMA Trend Calculation ===
def calculate_ema_trend(df0, fast_period, slow_period):
    df = df0.copy()
    df['EMA_fast'] = df['Close'].ewm(span=fast_period).mean()
    df['EMA_slow'] = df['Close'].ewm(span=slow_period).mean()
    df['EMA_Trend'] = df['EMA_fast'] > df['EMA_slow']  # True = Bullish
    return df

# === RSI Calculation ===
def calculate_rsi(df0, period):
    df = df0.copy()
    delta = df['Close'].diff()
    gain = delta.clip(lower=0)
    loss = -delta.clip(upper=0)
    avg_gain = gain.rolling(window=period).mean()
    avg_loss = loss.rolling(window=period).mean()
    rs = avg_gain / avg_loss
    df['RSI'] = 100 - (100 / (1 + rs))
    return df


# === Walk-Forward Optimization for EMA + RSI ===
def walk_forward_optimization_ema_rsi(df, start_year, end_year):
    results = []

    fast_range = range(5, 16, 5)         # fast EMA
    slow_range = range(15, 36, 5)       # slow EMA
    rsi_period_range = range(10, 15, 2)   # RSI period
    rsi_entry_range = range(25, 36, 5)    # Entry threshold
    rsi_exit_range = range(70, 81, 5)     # Exit threshold

    for test_year in range(start_year + 4, end_year + 1):
        train_data = df[(df.index.year >= test_year - 4) & (df.index.year <= test_year - 1)]
        test_data = df[df.index.year == test_year]

        best_params = None
        best_return = -np.inf

        for fast, slow, rsi_period, rsi_entry, rsi_exit in itertools.product(fast_range, slow_range, rsi_period_range, rsi_entry_range, rsi_exit_range):
            if fast >= slow:
                continue

            temp = train_data.copy()
            temp = calculate_ema_trend(temp, fast, slow)
            temp = calculate_rsi(temp, rsi_period)

            entries = (temp['RSI'] < rsi_entry) & temp['EMA_Trend']
            exits = (temp['RSI'] > rsi_exit) & (~temp['EMA_Trend'])

            shifted_entries = entries.shift(1).fillna(False).astype(bool).to_numpy()
            shifted_exits = exits.shift(1).fillna(False).astype(bool).to_numpy()

            portfolio = vbt.Portfolio.from_signals(
                close=temp['Close'],
                entries=shifted_entries,
                exits=shifted_exits,
                init_cash=100_000,
                fees=0.001,
                slippage=0.002,
                freq='D'
            )

            ret = portfolio.total_return()
            if ret > best_return:
                best_return = ret
                best_params = (fast, slow, rsi_period, rsi_entry, rsi_exit)

        # Apply best params on test data
        yearly_data = df[(df.index.year >= test_year - 1) & (df.index.year <= test_year)]
        yearly_data = yearly_data.copy()
        yearly_data = calculate_ema_trend(yearly_data, *best_params[:2])
        yearly_data = calculate_rsi(yearly_data, best_params[2])

        yearly_data = yearly_data[yearly_data.index.year == test_year]
        entries = (yearly_data['RSI'] < best_params[3]) & yearly_data['EMA_Trend']
        exits = (yearly_data['RSI'] > best_params[4]) & (~yearly_data['EMA_Trend'])

        shifted_entries = entries.shift(1).fillna(False).astype(bool).to_numpy()
        shifted_exits = exits.shift(1).fillna(False).astype(bool).to_numpy()

        portfolio = vbt.Portfolio.from_signals(
            close=yearly_data['Close'],
            entries=shifted_entries,
            exits=shifted_exits,
            init_cash=100_000,
            fees=0.001,
            slippage=0.002,
            freq='D'
        )

        results.append({
            'Year': test_year,
            'Best_Params': best_params,
            'Test_Return': portfolio.total_return()
        })

    return pd.DataFrame(results)


# === Download data and run optimization ===
symbol = '6758.T'
start_date = '2015-01-01'
end_date = '2025-05-22'

df = yf.download(symbol, start=start_date, end=end_date, multi_level_index=False)


# === Perform Optimization ===
results = walk_forward_optimization_ema_rsi(df, 2016, 2025)
print(results)


# === Combine yearly entries and exits for backtest ===
combined_entries = pd.Series(False, index=df.index)
combined_exits = pd.Series(False, index=df.index)

for _, row in results.iterrows():
    year = row['Year']
    fast, slow, rsi_period, rsi_entry, rsi_exit = row['Best_Params']

    yearly_data = df[(df.index.year >= year - 1) & (df.index.year <= year)]
    yearly_data = calculate_ema_trend(yearly_data, fast, slow)
    yearly_data = calculate_rsi(yearly_data, rsi_period)
    yearly_data = yearly_data[yearly_data.index.year == year]

    entries = (yearly_data['RSI'] < rsi_entry) & yearly_data['EMA_Trend']
    exits = (yearly_data['RSI'] > rsi_exit) & (~yearly_data['EMA_Trend'])

    combined_entries.loc[entries.index] = entries
    combined_exits.loc[exits.index] = exits


# === Final portfolio over 2020-2025 period ===
df = df[(df.index.year >= 2020) & (df.index.year <= 2025)]
combined_entries = combined_entries[(combined_entries.index.year >= 2020) & (combined_entries.index.year <= 2025)]
combined_exits = combined_exits[(combined_exits.index.year >= 2020) & (combined_exits.index.year <= 2025)]

# Shift entries and exits to next bar
shifted_entries = combined_entries.shift(1).fillna(False).astype(bool).to_numpy()
shifted_exits = combined_exits.shift(1).fillna(False).astype(bool).to_numpy()

# Create portfolio using 'Open' prices
portfolio = vbt.Portfolio.from_signals(
    close=df['Open'],
    entries=shifted_entries,
    exits=shifted_exits,
    init_cash=100_000,
    fees=0.001,
    slippage=0.002,
    freq='D'
)

# Parameters
risk_free_rate = 0.02  # Annual risk-free rate, e.g., 2%

# Get core metrics
car = portfolio.annualized_return()
vol = portfolio.annualized_volatility()
max_dd = abs(portfolio.max_drawdown())

# Adjusted CAR using Sharpe-style formula (based on volatility)
adj_car_sharpe = (car - risk_free_rate) / vol if vol != 0 else np.nan

# Adjusted CAR using Calmar-style formula (based on drawdown)
adj_car_calmar = car / max_dd if max_dd != 0 else np.nan

# Initialize variables to track exposure calculation
in_position = False
exposure_days = 0
total_days = len(df)

# Loop through the entries and exits to calculate exposure
for i in range(1, len(df)):
    if combined_entries[i] and not in_position:  # Entry signal (enter position)
        in_position = True
        entry_day = i  # Track entry day
    elif combined_exits[i] and in_position:  # Exit signal (exit position)
        in_position = False
        exit_day = i  # Track exit day
        exposure_days += exit_day - entry_day  # Count days in position

# If the last position is still open (i.e., no exit signal), consider the last day of the dataset
if in_position:
    exposure_days += total_days - entry_day  # Count remaining days in position

# Calculate exposure as percentage of time in position
exposure_percentage = (exposure_days / total_days) * 100

stats = portfolio.stats()
stats['CAR'] = f"{car:.2%}"
stats['Adjusted CAR (Sharpe-style)'] = f"{adj_car_sharpe:.2%}"
stats['Adjusted CAR (Calmar-style)'] = f"{adj_car_calmar:.2%}"
stats['Market Time Exposure'] = f"{exposure_percentage:.2f}%"

# Display performance metrics
print(stats)


# Plot equity curve
portfolio.plot().show()


# Filter Test Years
df = df[(df.index.year >= 2020) & (df.index.year <= 2025)]

# Buy and Hold Performance Metrics
df_holding = df['Open']
pf = vbt.Portfolio.from_holding(df_holding, init_cash=100_000 , freq='D')
print(pf.stats())
