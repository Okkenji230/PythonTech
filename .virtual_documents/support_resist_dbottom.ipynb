





import pandas as pd
import numpy as np
from datetime import date, datetime, timedelta
import yfinance as yf
import pandas_ta as ta
import matplotlib.pyplot as plt
import mplfinance as mpf
import plotly.graph_objects as go


symbol = '^N225' # ^N225は日経平均
end_date = datetime.now()
start_date = end_date - timedelta(days=150)
data0 = yf.download(symbol, start=start_date, end=end_date)
data0.tail()


# 支持線・抵抗線を判定する関数
def find_support_resistance(df, window=10):
    supports = []
    resistances = []
    for i in range(window, len(df) - window):
        # 安値（高値）がその時点から前後window期間の近傍区間で最小（最大）なら支持値（抵抗値）
        is_support = np.min(df['Low'][i-window:i+window+1]) == df['Low'][i]
        is_resistance = np.max(df['High'][i-window:i+window+1]) == df['High'][i]
        if is_support:
            supports.append((df['Date'][i], df['Low'][i]))
        if is_resistance:
            resistances.append((df['Date'][i], df['High'][i]))
    return supports, resistances


# チャートと支持線・抵抗線の描画
data = data0.copy()
data.reset_index(inplace=True)
# Detect support and resistance levels
supports, resistances = find_support_resistance(data)
# Plot candlestick chart
fig, ax = plt.subplots(figsize=(12, 6))
mpf.plot(data.set_index('Date'), type='candle', ax=ax, style='charles')
# Plot support and resistance levels
for support in supports:
    plt.axhline(y=support[1], color='g', linestyle='--', lw=1)
for resistance in resistances:
    plt.axhline(y=resistance[1], color='r', linestyle='--', lw=1)
plt.title(symbol+' Support and Resistance Levels')
plt.show()


# ダブルボトムを判定する関数
def find_double_bottom(df, window=20):
    patterns = []
    for i in range(window, len(df)-2*window):
        left_bottom_idx = df['Low'][i-window:i].idxmin()
        right_bottom_idx = df['Low'][i+window:i+2*window].idxmin()
        middle_peak_idx = df['High'][i:i+2*window].idxmax()       
        left_bottom = df['Low'][left_bottom_idx]
        right_bottom = df['Low'][right_bottom_idx]
        middle_peak = df['High'][middle_peak_idx]       
        if abs(left_bottom - right_bottom) < left_bottom * 0.03 and middle_peak > left_bottom:
            patterns.append((df['Date'][left_bottom_idx], left_bottom, df['Date'][right_bottom_idx], right_bottom, middle_peak))
    return patterns


# ダブルボトムの判定とplotlyによる描画
data = data0.copy()
data.reset_index(inplace=True)
# Detect Double Bottom patterns
patterns = find_double_bottom(data)
# Create a Plotly candlestick chart
fig = go.Figure(data=[go.Candlestick(x=data['Date'],open=data['Open'],\
    high=data['High'],low=data['Low'],close=data['Close'])])
# Plot Double Bottom patterns
for pattern in patterns:
    fig.add_trace(go.Scatter(x=[pattern[0], pattern[2]],y=[pattern[1], pattern[3]],\
        mode='markers+lines',line=dict(color='yellow', width=2),\
        marker=dict(color='green', size=10),name='Double Bottom'))
    fig.add_trace(go.Scatter(x=[pattern[0], pattern[2]],y=[pattern[4], pattern[4]],\
        mode='lines',line=dict(color='red', width=2, dash='dash'),name='Peak'))
    fig.add_annotation(x=pattern[0],y=pattern[1],text='Bottom',\
        showarrow=True,arrowhead=1,ax=0,ay=-40,font=dict(color='green'))
    fig.add_annotation(x=pattern[2],y=pattern[3],text='Bottom',\
        showarrow=True,arrowhead=1,ax=0,ay=-40,font=dict(color='green'))
    fig.add_annotation(x=pattern[0],y=pattern[4],text='Peak',\
        showarrow=True,arrowhead=1,ax=0,ay=40,font=dict(color='red'))
# Update layout
fig.update_layout(title=symbol+' Double Bottom Pattern',yaxis_title='Price',\
    xaxis_title='Date',xaxis_rangeslider_visible=False)
fig.show()
