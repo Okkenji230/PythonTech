


import pandas as pd
import numpy as np








# データの読み込み
df = pd.read_csv("pandas_drill/score.csv")
df





def style_low_score(x):
    style = "font-weight: bold;" if x < 70 else None
    return style

df.style.map(
    style_low_score, subset = ["国語","数学","理科","社会"]
)








# データの読み込み
df = pd.read_csv("pandas_drill/score.csv")
df


# 各教科の平均点を計算
df.mean(numeric_only=True)





def style_below_mean(column):
    return column.apply(
        lambda x: "background-color: gray;"
        if x < column.mean()
        else None
    )

df.style.apply(
    style_below_mean, subset= ["国語","数学","理科","社会"]
)








# データの読み込み
df = pd.read_csv("pandas_drill/score.csv")
df





df.style.background_gradient(
    subset= ["国語","数学","理科","社会"], vmin=50, vmax=100
)








# データの読み込み
df = pd.read_csv("pandas_drill/score.csv")
df


for column in ["国語", "数学", "理科", "社会"]:
    filtered_df = df[df[column] >= 90]
    print(f"==={column}が90点以上の生徒のデータ===")
    print(filtered_df)  # 90点以上の生徒のデータを表示





for column in ["国語", "数学", "理科", "社会"]:
    filtered_df = df[df[column] >= 90]
    print(f"==={column}が90点以上の生徒のデータ===")
    display(filtered_df)








# データの読み込み
df = pd.read_csv("pandas_drill/score_long.csv")
df














# データの読み込み
df = pd.read_csv("pandas_drill/ctr.csv")
df





df.style.format(precision=3)








# データの読み込み
df = pd.read_csv("pandas_drill/ctr.csv", index_col="月")
df





def apply_style(styler):
    # 小数点以下2ケタパーセント欠測-表示
    styler.format(
        "{:.2%}", subset=["クリック率","クリック数の変化率"], na_rep="-"
    )
    # 各列の最大値の背景色を薄灰色に
    styler.highlight_max(
        subset=["表示数","クリック数","クリック率"], color="lightgray"
    )
    # 負の値の背景色を赤に
    styler.highlight_between(
        subset=["クリック数の変化率"],
        color="red",
        right=0,
        inclusive="neither",
    )
    return styler

# スタイルを一括で運用
df.style.pipe(apply_style)
