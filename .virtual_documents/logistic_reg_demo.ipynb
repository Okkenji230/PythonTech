





# ライブラリのインポート
import yfinance as yf
import pandas as pd
import numpy as np
import matplotlib.pyplot as plt
import pandas_ta as ta
from datetime import date, datetime, timedelta
import talib
import matplotlib.pyplot as plt
from sklearn.model_selection import train_test_split  
from sklearn.linear_model import LogisticRegression  
from sklearn.metrics import accuracy_score, confusion_matrix
import warnings
#warnings.simplefilter(action="ignore", category=FutureWarning)


# Download data
ticker = '^N225'
end_date = datetime.today()
start_date = end_date - timedelta(days=730)
data = yf.download(ticker, start_date, end_date)
data.columns = [col[0] if isinstance(col, tuple) else col for col in data.columns]
data.index = pd.to_datetime(data.index)


data.tail()


# Create features based on prices 
data['SMA50'] = data['Close'].rolling(window=50).mean() 
data['SMA200'] = data['Close'].rolling(window=200).mean() 
data['Volatility'] = data['Close'].rolling(window=20).std() 
data['Daily Return'] = data['Close'].pct_change() 
# calculate MACD
data["macd"], data["macdsignal"], data["macdhist"] = talib.MACD(data["Close"],\
        fastperiod=12, slowperiod=26, signalperiod=9)
# calculate RSI
data["RSI"] = talib.RSI(data["Close"], timeperiod=14)


# Remove NaN rows 
data = data.dropna().reset_index()


# Create binary target label for prediction
data['Target'] = np.where(data['Close'].shift(-1) > data['Close'], 1, 0)


# Select features and target
features = ['macd','macdsignal','RSI']
X = data[features]
y = data['Target']
# Split the data into training and test sets
X_train, X_test, y_train, y_test = train_test_split(X, y, test_size=0.2, random_state=42)


# Create and train the model
model = LogisticRegression()  
model.fit(X_train, y_train)


# Evaluate the model
y_pred = model.predict(X_test)  
print("Accuracy:", accuracy_score(y_test, y_pred))  
print("Confusion Matrix:\n", confusion_matrix(y_test, y_pred))


print(X.tail(1).to_numpy())


new_data = X.tail(1)
prediction = model.predict(new_data)  
print("Prediction:", prediction)





# Get probability predictions
probabilities = model.predict_proba(X_test)
# Print the first few probability predictions
print(probabilities[-1])
