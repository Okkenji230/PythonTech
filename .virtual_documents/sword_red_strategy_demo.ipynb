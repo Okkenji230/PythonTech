





import pandas as pd
import numpy as np
from datetime import date, datetime, timedelta
import matplotlib.pyplot as plt
import yfinance as yf
import mplfinance as mpf
import talib


symbol = '9726.T'
#symbol = 'USDJPY=X'
end_date = datetime.today()
start_date = end_date - timedelta(days=730)
# yahooサイトからデータをダウンロード
data = yf.download(symbol, start_date, end_date)


data.head()


df = data.reset_index().drop(columns='Close').rename(columns={'Date':'timestamp', 'Open':'open', \
                        'High':'high', 'Low':'low', 'Adj Close':'close', 'Volume':'volume'})


df.head()


# crossover and crossunder function (by ChatGPT)
def crossover(series1, series2):
    # Ensure the inputs are numpy arrays for element-wise operations
    series1 = np.array(series1)
    series2 = np.array(series2)
    # Calculate the crossover: (previous series1 < previous series2) and (current series1 > current series2)
    cross = (series1[:-1] < series2[:-1]) & (series1[1:] > series2[1:])
    # Append a False at the start since there is no crossover detection at the first element
    return np.append(False, cross)

def crossunder(series1, series2):
    # Ensure the inputs are numpy arrays for element-wise operations
    series1 = np.array(series1)
    series2 = np.array(series2)
    # Calculate the crossunder: (previous series1 > previous series2) and (current series1 < current series2)
    cross = (series1[:-1] > series2[:-1]) & (series1[1:] < series2[1:])
    # Append a False at the start since there is no crossunder detection at the first element
    return np.append(False, cross)


#Input parameters
ema1Length = 9
ema2Length = 21
ema3Length = 34
rsiLength = 14
rsiThreshold = 50
macdFastLength = 12
macdSlowLength = 26
macdSignalSmoothing = 9


# HLCC4 calculation
df['hlcc4_custom'] = (df['high'] + df['low'] + df['close'] + df['close']) / 4


# Calculate EMA and RSI based on HLCC4
df["ema1"] = talib.EMA(df["hlcc4_custom"], timeperiod=ema1Length)
df["ema2"] = talib.EMA(df["hlcc4_custom"], timeperiod=ema2Length)
df["ema3"] = talib.EMA(df["hlcc4_custom"], timeperiod=ema3Length)
df["rsi"] = talib.RSI(df["hlcc4_custom"], timeperiod=rsiLength)
# Calculate MACD Histogram
df["a"], df["b"], df["histogram"] = talib.MACD(df["hlcc4_custom"],\
        fastperiod=macdFastLength, slowperiod=macdSlowLength, signalperiod=macdSignalSmoothing)


# EMA1 and EMA2 crossover conditions
df['emaCrossUp'] = crossover(df['ema1'], df['ema2'])
df['emaCrossDown'] = crossunder(df['ema1'], df['ema2'])

# BUY signal conditions
df['buySignal'] = df['emaCrossUp'] & (df['hlcc4_custom'] > df['ema3']) & \
    (df['rsi'] > rsiThreshold) & (df['close'] > df['open']) & (df['histogram'] > 0)

# SELL signal conditions
df['sellSignal'] = df['emaCrossDown'] & (df['hlcc4_custom'] < df['ema3']) & \
    (df['rsi'] < rsiThreshold) & (df['close'] < df['open']) & (df['histogram'] < 0)


# 終値と各種指標のプロット
plt.figure(figsize=(10, 5))
plt.plot(df['timestamp'], df['close'], label='Close Price')
# 売買ポジションのプロット
plt.scatter(df['timestamp'][df['buySignal']], df['close'][df['buySignal']], color='green', label='Buy position', marker="^", s=100)
plt.scatter(df['timestamp'][df['sellSignal']], df['close'][df['sellSignal']], color='red', label='Sell position', marker="v", s=100)
# 凡例の表示
plt.legend()
# 軸ラベルとタイトル
plt.xlabel('Date')
plt.ylabel('Price')
plt.title(symbol + ' Sword Red Strategy')
# チャートの表示
plt.show()
