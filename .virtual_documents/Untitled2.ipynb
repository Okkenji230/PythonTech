


#import ccxt # 仮想通貨用ライブラリ
import pandas as pd
import numpy as np
from datetime import date, datetime, timedelta
import matplotlib.pyplot as plt
import yfinance as yf


symbol = '4755.T'
end_date = datetime.today()
start_date = end_date - timedelta(days=1095)
# yahooサイトからデータをダウンロード
data = yf.download(symbol, start_date, end_date)


data.head()


df = data.reset_index.rename(columns={'Date':'timestamp', 'Open':'open', 'High':'high', 'Low':'low',\
                                      'Close':'close', 'Volume':'volume'})
