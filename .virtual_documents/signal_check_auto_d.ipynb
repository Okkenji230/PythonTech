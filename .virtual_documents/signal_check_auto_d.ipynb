


import matplotlib.pyplot as plt
import pandas as pd
import yfinance as yf
import pandas_ta as ta
import matplotlib.dates as mdates
from datetime import date, datetime, timedelta
import numpy as np
plt.style.use('fivethirtyeight')
import pickle
import warnings
warnings.simplefilter(action="ignore", category=FutureWarning)


# 銘柄コード辞書を読み込む
with open('JPX_code_dict.pickle', mode='rb') as f:
    jpx = pickle.load(f)


# チェック対象銘柄リストを読み込む
df01 = pd.read_excel('personal_invest.xlsx')
df02 = pd.read_excel('popular_invest.xlsx')
df1 = pd.concat([df01, df02], axis=0)


# 米国チェック対象銘柄リストを読み込む
df04 = pd.read_excel('personal_invest_us.xlsx')
df2 = df04[df04['flag'] == 1]
df2.tail()


# 米国銘柄リストより仮辞書を作成して日本の辞書に結合する
df2.loc[:,'description'] = df2.copy().loc[:,'name'] + '：' + df2.copy().loc[:,'category']
df3 = df2.set_index('code')
usadd = df3.to_dict()['description']
jpx.update(usadd)


# コード番号からTickerリストを作成
df1['ticker'] = df1['code'].astype(str)+'.T'
list_ticker = df1['ticker'].tolist() + df2['code'].tolist()
print(list_ticker)





def func_osc(ticker,start,end):
    res = pd.DataFrame()
    # 新しくインストールしたyfinanceの場合
    df = yf.download(ticker, start, end)
    # 古いyfinanceの場合
    #yf.pdr_override()
    #df = pdr.get_data_yahoo(ticker, start, end)
    # Calculate SMA
    df['SMA_5'] = df.ta.sma(close='Close', length=5)
    df['SMA_25'] = df.ta.sma(close='Close', length=25)
    # Calculate MACD
    df.ta.macd(close='Close', fast=12, slow=26, signal=9, append=True)
    # Calculate Bollinger Bands
    df.ta.bbands(close='Close', length=20, std=2, append=True)
    # Calculate RSI
    df['RSI_14'] = ta.rsi(df['Close'], length=14)
    df['ticker'] = ticker
    return df





df = pd.DataFrame()
end = datetime.today()
start = end - timedelta(days=1350)
for ticker in list_ticker:
    df1 = func_osc(ticker,start,end)
    # 一時点前の値が必要な場合はここで記述する
    df1['close_p'] = df1['Close'].shift(1)
    df1['SMA_5_p'] = df1['SMA_5'].shift(1)
    df1['SMA_25_p'] = df1['SMA_25'].shift(1)
    df1['MACD_12_26_9_p'] = df1['MACD_12_26_9'].shift(1)
    df1['MACDs_12_26_9_p'] = df1['MACDs_12_26_9'].shift(1)
    df1['BBU_20_2.0_p'] = df1['BBU_20_2.0'].shift(1)
    df1['BBL_20_2.0_p'] = df1['BBL_20_2.0'].shift(1)
    df1['RSI_14_p'] = df1['RSI_14'].shift(1)
    df = pd.concat([df,df1.tail(1)],axis=0)


df.head()





# 移動平均のゴールデンクロス
df['MA_buy'] = np.where((df['SMA_5_p']<=df['SMA_25_p']) & (df['SMA_5']>df['SMA_25']), 100, 0)
# 移動平均のデッドクロス
df['MA_sell'] = np.where((df['SMA_5_p']>=df['SMA_25_p']) & (df['SMA_5']<df['SMA_25']), 100, 0)
# MACDのゴールデンクロス
df['MACD_buy'] = np.where((df['MACD_12_26_9_p']<=df['MACDs_12_26_9_p']) & (df['MACD_12_26_9']>df['MACDs_12_26_9']), 100, 0)
# MACDのデッドデンクロス
df['MACD_sell'] = np.where((df['MACD_12_26_9_p']>=df['MACDs_12_26_9_p']) & (df['MACD_12_26_9']<df['MACDs_12_26_9']), 100, 0)
# 下方ボリンジャーバンド割れ
df['Bollinger_buy'] = np.where((df['close_p']>=df['BBL_20_2.0_p']) & (df['Close']<df['BBL_20_2.0']), 100, 0)
# 上方ボリンジャーバンド超え
df['Bollinger_sell'] = np.where((df['close_p']<=df['BBU_20_2.0_p']) & (df['Close']>df['BBU_20_2.0']), 100, 0)
# 相対力指数の下限値超え
df['RSI_buy'] = np.where((df['RSI_14_p']<=25) & (df['RSI_14']>25), 100, 0)
# 相対力指数の上限値超え
df['RSI_sell'] = np.where((df['RSI_14_p']<=75) & (df['RSI_14']>75), 100, 0)





def ticker_dict(df):
    return jpx.get(df)





df_signal = df[['ticker','Close','MA_buy','MA_sell','MACD_buy','MACD_sell','Bollinger_buy','Bollinger_sell','RSI_buy','RSI_sell']].reset_index()
df_signal['ticker2'] = df_signal['ticker'].mask(df_signal['ticker'].str.endswith('.T'),df_signal['ticker'].str[:-2])
df_signal['cname'] = df_signal['ticker2'].map(ticker_dict)
df_signal





df_signal["signal_str"] = np.nan
df_signal["signal_total"] = np.nan
for irow in range(len(df_signal)):
    str_signal = ''
    total_signal = 0
    if df_signal.MA_buy[irow] == 100:
        str_signal += 'MA買い,'
        total_signal += 100
    if df_signal.MA_sell[irow] == 100:
        str_signal += 'MA売り,'
        total_signal += 100
    if df_signal.MACD_buy[irow] == 100:
        str_signal += 'MACD買い,'
        total_signal += 100
    if df_signal.MACD_sell[irow] == 100:
        str_signal += 'MACD売り,'
        total_signal += 100
    if df_signal.Bollinger_buy[irow] == 100:
        str_signal += 'ボリ買い,'
        total_signal += 100
    if df_signal.Bollinger_sell[irow] == 100:
        str_signal += 'ボリ売り,'
        total_signal += 100
    if df_signal.RSI_buy[irow] == 100:
        str_signal += 'RSI買い,'
        total_signal += 100
    if df_signal.RSI_sell[irow] == 100:
        str_signal += 'RSI売り,'
        total_signal += 100
    df_signal.loc[irow,"signal_str"] = str_signal
    df_signal.loc[irow,"signal_total"] = total_signal





df_tmp = df_signal[['Date', 'ticker', 'cname', 'signal_str', 'signal_total']]
df_table = df_tmp[df_tmp['signal_total'] > 0]
df_table





df_table.to_csv('SignalToday_d.csv')
