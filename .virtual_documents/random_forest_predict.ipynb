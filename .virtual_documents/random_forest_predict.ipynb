





import yfinance as yf
import pandas as pd
import numpy as np
import matplotlib.pyplot as plt
import talib
from datetime import date, datetime, timedelta
from sklearn.model_selection import train_test_split
from sklearn.ensemble import RandomForestClassifier
from sklearn.metrics import accuracy_score
import warnings
warnings.simplefilter(action="ignore", category=FutureWarning)





# Elder's Force Index (EFI)
def elder_force_index(df, period=2):
    df['EFI'] = (df['Close'] - df['Close'].shift(1)) * df['Volume']
    df['EFI_Smoothed'] = df['EFI'].rolling(window=period).mean()
    return df['EFI_Smoothed']

# true_strength_index (TSI)
def true_strength_index(df, short_period=13, long_period=25):
    df['Change'] = df['Close'] - df['Close'].shift(1)
    df['Smoothed1'] = df['Change'].ewm(span=short_period, adjust=False).mean()
    df['Smoothed2'] = df['Smoothed1'].ewm(span=long_period, adjust=False).mean()
    df['AbsChange'] = abs(df['Change'])
    df['AbsSmoothed1'] = df['AbsChange'].ewm(span=short_period, adjust=False).mean()
    df['AbsSmoothed2'] = df['AbsSmoothed1'].ewm(span=long_period, adjust=False).mean()
    df['TSI'] = (df['Smoothed2'] / df['AbsSmoothed2']) * 100
    return df['TSI']

# awesome oscillator (AO)
def awesome_oscillator(df, wshort=5, wlong=34):
  df['med'] = (df['High']+df['Low']) / 2
  df['ao'] = df['med'].rolling(wshort).mean() - df['med'].rolling(wlong).mean()
  df['ado'] = df['ao'] - df['ao'].rolling(wshort).mean()
  return df['ao'], df['ado']





def evaluate_performance(data):
    cumulative_return = data['Portfolio_Value'].iloc[-1] / data['Portfolio_Value'].iloc[0] - 1
    volatility = data['Strategy_Returns'].std() * (252**0.5)
    sharpe_ratio = (data['Strategy_Returns'].mean() / data['Strategy_Returns'].std()) * (252**0.5)
    return {
        "Cumulative Return": cumulative_return,
        "Volatility": volatility,
        "Sharpe Ratio": sharpe_ratio
    }





# 特徴量に用いるためのインデックスデータも読み込む
ticker = ['8801.T','^N225']
end_date = datetime.today()
start_date = end_date - timedelta(days=1095)
data = yf.download(ticker, start_date, end_date)
data['nk_close'] = data[('Close','^N225')]
data.drop(columns=[('Open','^N225'),('Close','^N225'),('Adj Close','^N225'),\
                   ('High','^N225'),('Low','^N225'),('Volume','^N225')],inplace=True)
data.columns = [col[0] if isinstance(col, tuple) else col for col in data.columns]
data.index = pd.to_datetime(data.index)


data.tail()





# Create features based on prices 
data['SMA50'] = data['Close'].rolling(window=50).mean() 
data['SMA200'] = data['Close'].rolling(window=200).mean() 
data['Volatility'] = data['Close'].rolling(window=20).std() 
data['Daily_Return'] = data['Close'].pct_change() 
# calculate MACD
data["macd"], data["macdsignal"], data["macdhist"] = talib.MACD(data["Close"],\
        fastperiod=12, slowperiod=26, signalperiod=9)
data["nk_macd"], data["nk_macdsignal"], data["nk_macdhist"] = talib.MACD(data["nk_close"],\
        fastperiod=12, slowperiod=26, signalperiod=9)
# calculate RSI
data["RSI"] = talib.RSI(data["Close"], timeperiod=14)
# calculate CMO
data['CMO'] = talib.CMO(data['Close'], timeperiod=14)
# calculate EFI
data['EFI'] = elder_force_index(data)
# calculate TSI
data['TSI'] = true_strength_index(data)
# calculate ARO
data['ARO'] = talib.AROONOSC(data['High'], data['Low'], timeperiod=25)
# calculate AO
data['AO'], data['ADO'] = awesome_oscillator(data)
# calculate TRIX
data['TRIX'] = talib.TRIX(data['Close'], timeperiod=9)
# calculate ADX
data["ADX"] = talib.ADX(data["High"], data["Low"], data["Close"], timeperiod=14)
# ボリューム系指標
data["ADOSC"] = talib.ADOSC(data["High"], data["Low"], data["Close"], data["Volume"], fastperiod=3, slowperiod=10)
data["OBV"] = talib.OBV(data["Close"], data["Volume"])





# Remove NaN rows 
data = data.dropna().reset_index()
# Create binary target label for prediction
data['Target'] = np.where(data['Close'].shift(-1) > data['Close'], 1, 0)





# Select features and target
#features = ['macd','macdsignal','macdhist','RSI']
#features = ['macd','macdsignal','macdhist','RSI','nk_macd','nk_macdsignal','nk_macdhist']
features = ['SMA50','SMA200','Volatility','Daily_Return']
X = data[features]
y = data['Target']
# Split the data into training and test sets
X_train, X_test, y_train, y_test = train_test_split(X, y, test_size=0.2, shuffle=False)





# Create and train the model
model = RandomForestClassifier(n_estimators=100, random_state=42)
model.fit(X_train, y_train)
# Evaluate the model
predictions = model.predict(X_test)
accuracy = accuracy_score(y_test, predictions)
print(f"Model accuracy: {accuracy:.2f}")





# Add predictions to the test DataFrame
data['Predicted_Signal'] = model.predict(X)
# Create the trading position: 1 for buy, -1 for sell
data['Position'] = data['Predicted_Signal'].shift()
# Calculate strategy returns
data['Strategy_Returns'] = data['Position'] * data['Daily_Return']
data['Cumulative_Strategy_Returns'] = (1 + data['Strategy_Returns']).cumprod() - 1
data['Cumulative_Market_Returns'] = (1 + data['Daily_Return']).cumprod() - 1





initial_balance = 10000
df = data.copy()
df['Portfolio_Value'] = (1 + df['Strategy_Returns']).cumprod() * initial_balance
df.at[df.index[0], 'Portfolio_Value'] = initial_balance
performance = evaluate_performance(df)
print(ticker[0]  + '  Performance')
print(performance)





plt.figure(figsize=(14,7))
plt.plot(data['Cumulative_Market_Returns'], label='Market Returns')
plt.plot(data['Cumulative_Strategy_Returns'], label='Strategy Returns', alpha=0.7)
plt.legend(loc='upper left')
plt.title('Performance Comparison: ML Strategy vs. Market')
plt.show()
