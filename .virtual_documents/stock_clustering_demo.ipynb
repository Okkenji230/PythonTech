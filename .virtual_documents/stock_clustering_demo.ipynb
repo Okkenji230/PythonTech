


import requests
import pandas as pd
import requests_cache
import os
from matplotlib import pyplot as plt
from tqdm import tqdm
import warnings

api_token = os.environ.get('EODHD_API_TOKEN')

def get_sp500_tickers():

    INDEX_NAME = 'GSPC.INDX'
    url = f'https://eodhd.com/api/mp/unicornbay/spglobal/comp/{INDEX_NAME}'
    query = {'api_token': api_token, "fmt": "json"}

    data = requests.get(url, params=query)

    if data.status_code != 200:
        tqdm.write(f"Error: {data.status_code}")
        tqdm.write(data.text)
        return []

    data = data.json()
    df_stocks = pd.DataFrame(data['Components']).T.reset_index()

    df_stocks.to_csv('csv/stocks_universe.csv', index=False)
    tickers = df_stocks['Code'].tolist()
    return tickers


# Get S&P 500 tickers
sp500_tickers = get_sp500_tickers()
