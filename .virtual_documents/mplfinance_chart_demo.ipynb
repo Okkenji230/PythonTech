


import pandas as pd
from pandas_datareader import data as pdr
import mplfinance as fplt
import datetime
import yfinance as yf 





start = "2023-4-1"
end = datetime.date.today()
ticker = "9983.T" # 9983:ファーストリテイリング
yf.pdr_override()
# yahooサイトからデータをダウンロード
df = pdr.get_data_yahoo(ticker, start, end)
df.head()


# 指定可能なtype: 'ohlc'(default), 'candle', 'line', 'renko', 'pnf'
fplt.plot(df,type='renko',figsize =(16,5), style='yahoo', 
          title = "STOCK PRICE CHART FOR {0}".format(ticker))
