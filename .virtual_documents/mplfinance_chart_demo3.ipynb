





import pandas as pd
from pandas_datareader import data as pdr
import mplfinance as fplt
import datetime
import yfinance as yf





start = "2023-4-1"
end = datetime.date.today()
ticker = "9983.T"
yf.pdr_override()
# yahooサイトからデータをダウンロード
df = pdr.get_data_yahoo(ticker, start, end)
df.head()





# 指定可能なtype: 'ohlc'(default), 'candle', 'line', 'renko', 'pnf'
fplt.plot(df,type='ohlc',figsize =(16,5), style='yahoo',
          title = "STOCK PRICE CHART FOR {0}".format(ticker))





fplt.plot(df,type='ohlc',style='yahoo',figsize =(18,7),
          hlines=dict(hlines=[30900,37450], colors=['g','r'],linestyle='-.'),
          title = "STOCK PRICE CHART FOR {0}".format(ticker))





fplt.plot(df,type='ohlc',style='yahoo',figsize =(18,7),
          vlines=dict(vlines=['2023-05-01','2023-06-01','2023-07-01'],linewidths=(1,2,3)),
          title = "STOCK PRICE CHART FOR {0}".format(ticker))





fplt.plot(df,type='candle',style='yahoo',figsize =(18,7),
          vlines=dict(vlines='2023-05-15',linewidths=60,alpha=0.4),
          title = "STOCK PRICE CHART FOR {0}".format(ticker))





seq_of_points=[('2023-05-01',32647),('2023-05-12',32550),
               ('2023-05-22',32643),('2023-06-01',32559),
               ('2023-07-07',32936),('2023-07-13',32875)]
fplt.plot(df,type='ohlc',style='yahoo',figsize =(18,7),
          alines=dict(alines=seq_of_points,colors='b'),
          title = "STOCK PRICE CHART FOR {0}".format(ticker))





# トレンドラインを結ぶ日付の指定
dates = ['2023-04-07','2023-07-10']
# 中間点がある場合の処理
datepairs = [(d1,d2) for d1,d2 in zip(dates,dates[1:])]
datepairs


fplt.plot(df,type='ohlc',style='yahoo',figsize =(18,7),
          tlines=dict(tlines=datepairs,tline_use='low'),
          title = "STOCK PRICE CHART FOR {0}".format(ticker))





# Using the same date pairs as above, we can display trend lines using the 'high', the 'low', or the average of the 'open' and 'close'
fplt.plot(df,type='ohlc',style='yahoo',figsize =(18,7),
          tlines=[dict(tlines=datepairs,tline_use='high',colors='g'),
                dict(tlines=datepairs,tline_use='low',colors='b'),
                dict(tlines=datepairs,tline_use=['open','close'],colors='r')],
          title = "STOCK PRICE CHART FOR {0}".format(ticker))





start = "2022-8-1"
end = datetime.date.today()
ticker = "4755.T" # 4755は楽天グループ
yf.pdr_override()
# yahooサイトからデータをダウンロード
df2 = pdr.get_data_yahoo(ticker, start, end)
# 指定可能なtype: 'ohlc'(default), 'candle', 'line', 'renko', 'pnf'
fplt.plot(df2,type='pnf',figsize =(16,5), style='yahoo',
          pnf_params=dict(box_size='atr',reversal=1),
# 1枠の大きさ：box_size='atr'はデフォルト(Average True Range)　反転枠数：reversal=1はデフォルト
          title = "STOCK PRICE CHART FOR {0}".format(ticker))





start = "2022-8-1"
end = datetime.date.today()
ticker = "4755.T" # 4755は楽天グループ
yf.pdr_override()
# yahooサイトからデータをダウンロード
df2 = pdr.get_data_yahoo(ticker, start, end)
# 指定可能なtype: 'ohlc'(default), 'candle', 'line', 'renko', 'pnf'
fplt.plot(df2,type='renko',figsize =(16,5), style='yahoo',
          renko_params=dict(brick_size='atr',atr_length=14),
# レンガのサイズ：brick_size='atr'はデフォルト(Average True Range)　ATRの長さ atr_length=14はデフォルト
          title = "STOCK PRICE CHART FOR {0}".format(ticker))
