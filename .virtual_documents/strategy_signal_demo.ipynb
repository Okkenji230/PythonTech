








import pandas as pd
import numpy as np
from datetime import date, datetime, timedelta
import matplotlib.pyplot as plt
import yfinance as yf
import mplfinance as mpf
import talib


# クロスオーバーとクロスアンダー及びしきい値クロス関数
def crossover(series1, series2):
    # Ensure the inputs are numpy arrays for element-wise operations
    series1 = np.array(series1)
    series2 = np.array(series2)
    # Calculate the crossover: (previous series1 < previous series2) and (current series1 > current series2)
    cross = (series1[:-1] < series2[:-1]) & (series1[1:] > series2[1:])
    # Append a False at the start since there is no crossover detection at the first element
    return np.append(False, cross)

def overthreshold(series1, x):
    series1 = np.array(series1)
    series2 = np.full(series1.shape[0], x)
    # Calculate the crossover: (previous series1 < previous series2) and (current series1 > current series2)
    cross = (series1[:-1] < series2[:-1]) & (series1[1:] > series2[1:])
    # Append a False at the start since there is no crossover detection at the first element
    return np.append(False, cross)

def crossunder(series1, series2):
    # Ensure the inputs are numpy arrays for element-wise operations
    series1 = np.array(series1)
    series2 = np.array(series2)
    # Calculate the crossunder: (previous series1 > previous series2) and (current series1 < current series2)
    cross = (series1[:-1] > series2[:-1]) & (series1[1:] < series2[1:])
    # Append a False at the start since there is no crossunder detection at the first element
    return np.append(False, cross)

def underthreshold(series1, x):
    series1 = np.array(series1)
    series2 = np.full(series1.shape[0], x)
    # Calculate the crossunder: (previous series1 > previous series2) and (current series1 < current series2)
    cross = (series1[:-1] > series2[:-1]) & (series1[1:] < series2[1:])
    # Append a False at the start since there is no crossunder detection at the first element
    return np.append(False, cross)


# 単純移動平均の長短クロス及びMACDとMACD_signalのクロスによるシグナル判定
def smamacd(df,smaShort=5,smaLong=25,\
           macdFastLength=12,macdSlowLength=26,macdSignalSmoothing=9):
    # create dataframe
    df1 = df.copy()
    # calculate simple moving average
    df1["sma_short"] = talib.SMA(df1["close"], timeperiod=smaShort)
    df1["sma_long"] = talib.SMA(df1["close"], timeperiod=smaLong)
    # SMA crossover conditions
    df1['smaCrossUp'] = crossover(df1['sma_short'], df1['sma_long'])
    df1['smaCrossDown'] = crossunder(df1['sma_short'], df1['sma_long'])
    # BUY signal conditions
    df1['MA_buySignal'] = df1['smaCrossUp']
    df1['MA_sellSignal'] = df1['smaCrossDown']
    # calculate MACD
    df1["macd"], df1["macdsignal"], df1["macdhist"] = talib.MACD(df1["close"],\
            fastperiod=macdFastLength, slowperiod=macdSlowLength, signalperiod=macdSignalSmoothing)
    # MACD crossover conditions
    df1['macdCrossUp'] = crossover(df1['macd'], df1['macdsignal'])
    df1['macdCrossDown'] = crossunder(df1['macd'], df1['macdsignal'])
    # BUY signal conditions
    df1['MACD_buySignal'] = df1['macdCrossUp']
    df1['MACD_sellSignal'] = df1['macdCrossDown']
    # return dataframe
    return df1.loc[:, ['timestamp','ticker','MA_buySignal','MA_sellSignal','MACD_buySignal','MACD_sellSignal']]


# Kaabar氏の単純戦略によるシグナル判定
def kaabarsimple(df,rsiLength=14,rsiLowerThreshold=30,\
        rsiUpperThreshold=70,bollingerLength=20):
    # create dataframe
    df1 = df.copy()
    # calculate RSI
    df1["RSI"] = talib.RSI(df1["close"], timeperiod=rsiLength)
    # calculate Bollinger Bands
    df1["upperband"], df1["middleband"], df1["lowerband"] = talib.BBANDS(df1["close"], \
                        timeperiod=bollingerLength, nbdevup=2, nbdevdn=2, matype=0)
    # Bollinger crossover conditions
    df1['bollCrossUp'] = crossover(df1['close'], df1['lowerband'])
    df1['bollCrossDown'] = crossunder(df1['close'], df1['upperband'])
    # RSI crossover condition
    df1['rsiCrossUp'] = overthreshold(df1['RSI'], rsiLowerThreshold)
    df1['rsiCrossDown'] = underthreshold(df1['RSI'], rsiUpperThreshold)
    # BUY signal conditions
    df1['KB_buySignal'] = df1['rsiCrossUp'] & df1['bollCrossUp']
    # SELL signal conditions
    df1['KB_sellSignal'] = df1['rsiCrossDown'] & df1['bollCrossDown']
    # return dataframe
    return df1.loc[:, ['timestamp','ticker','KB_buySignal','KB_sellSignal']]


# 評価する銘柄のリスト
list_ticker = ['9983.T','9984.T']
# 期間の指定
end_date = datetime.today()
start_date = end_date - timedelta(days=730)


# 各銘柄についてシグナル判定を行い結果を縦連結する
df0 = pd.DataFrame()
for symbol in list_ticker:
    # yahooサイトからデータをダウンロード
    data = yf.download(symbol, start_date, end_date)
    data['ticker'] = symbol
    df = data.reset_index().drop(columns='Close').rename(columns={'Date':'timestamp', 'Open':'open', \
            'High':'high', 'Low':'low', 'Adj Close':'close', 'Volume':'volume'})
    # SMA/MACD戦略によるシグナル判定の実施
    df_SmaMacd = smamacd(df)
    # シグナル判定結果を元データに横連結する
    df = df.merge(df_SmaMacd, how="inner", on=['timestamp','ticker'])
    # Sofien Kaabar氏のsimple戦略によるシグナル判定の実施
    df_KaabarSimple = kaabarsimple(df)
    # シグナル判定結果を元データに横連結する
    df = df.merge(df_KaabarSimple, how="inner", on=['timestamp','ticker'])
    # 一銘柄のシグナル判定結果を元のデータに縦連結する
    df0 = pd.concat([df0,df],axis=0)


# 特定の銘柄のデータを取り出す
focus_ticker = '9983.T'
df = df0[df0['ticker'].str.contains(focus_ticker)]
# 終値と各種指標のプロット
plt.figure(figsize=(10, 5))
plt.plot(df['timestamp'], df['close'], label='Close Price')
# 売買ポジションのプロット
plt.scatter(df['timestamp'][df['MACD_buySignal']], df['close'][df['MACD_buySignal']], color='green', label='Buy position', marker="^", s=100)
plt.scatter(df['timestamp'][df['MACD_sellSignal']], df['close'][df['MACD_sellSignal']], color='red', label='Sell position', marker="v", s=100)
# 凡例の表示
plt.legend()
# 軸ラベルとタイトル
plt.xlabel('Date')
plt.ylabel('Price')
plt.title(focus_ticker + ' MACD Strategy')
# チャートの表示
plt.show()


# 特定の銘柄のデータを取り出す
focus_ticker = '9983.T'
df = df0[df0['ticker'].str.contains(focus_ticker)]
# 終値と各種指標のプロット
plt.figure(figsize=(10, 5))
plt.plot(df['timestamp'], df['close'], label='Close Price')
# 売買ポジションのプロット
plt.scatter(df['timestamp'][df['KB_buySignal']], df['close'][df['KB_buySignal']], color='green', label='Buy position', marker="^", s=100)
plt.scatter(df['timestamp'][df['KB_sellSignal']], df['close'][df['KB_sellSignal']], color='red', label='Sell position', marker="v", s=100)
# 凡例の表示
plt.legend()
# 軸ラベルとタイトル
plt.xlabel('Date')
plt.ylabel('Price')
plt.title(focus_ticker + ' Sofien Kaabar Simple Strategy')
# チャートの表示
plt.show()
