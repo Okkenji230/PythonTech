








import pandas as pd
import matplotlib.pyplot as plt
import mplfinance as mpf
import yfinance as yf
import pandas_ta as ta
from datetime import date, datetime, timedelta
import warnings
warnings.simplefilter(action="ignore", category=FutureWarning)


# 基本設定
# 代表的ETF: 上場インデックスファンドTOPIX(1308), iFreeETF 日経225(1320)
# 代表的ETF: 上場インデックスファンド米国債券(1486), iFreeETF 東証REIT(1488)
# 代表的ETF: NextFunds NYダウ(1546), NextFundsインド株(1678)
ticker = '1678.T'
start_date = '2017-01-01'
end_date = '2024-10-01'
interval = '3ME'
amount = 30000
# 株価データのダウンロード
data = yf.download(ticker, start=start_date, end=end_date)
data = data.dropna()
# 3ヶ月にリサンプリング
resampled_data = data.resample(interval).first()


resampled_data.head()


# 原資産の終値の図示
plt.figure(figsize=(16,5))
plt.plot(data['Adj Close'], color='b', linewidth=2, label='Close Price')
plt.title(f'Close Price for {ticker}', fontsize=16)
plt.xlabel('Date', fontsize=14)
plt.ylabel('Value', fontsize=14)
plt.legend()
plt.grid(True)
plt.show()


# ドルコスト平均法の計算
total_investment = 0
total_shares = 0
dca_log = []
for date, row in resampled_data.iterrows():
    price = row['Adj Close']
    total_shares += amount / price
    total_investment += amount
    dca_log.append({
        'Date': date,
        'Price': price,
        'Total Shares': total_shares,
        'Total Investment': total_investment,
        'Portfolio Value': total_shares * price
    })
dca_df = pd.DataFrame(dca_log)


# 累積投資額とポートフォリオ価値の図示
plt.figure(figsize=(16,5))
plt.plot(dca_df['Date'], dca_df['Portfolio Value'], color='c', linewidth=2, label='Portfolio Value')
plt.plot(dca_df['Date'], dca_df['Total Investment'], color='g', linewidth=2, label='Investment Amount')
plt.title(f'DCA Strategy for {ticker}', fontsize=16)
plt.xlabel('Date', fontsize=14)
plt.ylabel('Value', fontsize=14)
plt.legend()
plt.grid(True)
plt.show()


dca_df['pct_profit'] = (dca_df['Portfolio Value']-dca_df['Total Investment'])/dca_df['Total Investment']
annual_profit = dca_df[dca_df['Date'].dt.month < 4]
annual_profit.loc[:,'pct_profit'] = annual_profit['pct_profit'].apply(lambda x: '{:.2%}'.format(x))
annual_profit
