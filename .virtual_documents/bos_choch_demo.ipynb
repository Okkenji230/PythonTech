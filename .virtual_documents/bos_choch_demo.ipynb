





import pandas as pd
import numpy as np
from datetime import date, datetime, timedelta
import matplotlib.pyplot as plt
import yfinance as yf
import mplfinance as mpf
import warnings
warnings.simplefilter(action="ignore", category=FutureWarning)


# df = yf.download('AAPL', start='2023-01-01', end='2024-01-01', interval='1d', multi_level_index=False)








def detect_swings(df, lookback=3):
    df['swing_high'] = df['High'][
        (df['High'].shift(lookback) < df['High']) &
        (df['High'].shift(-lookback) < df['High'])
    ]
    df['swing_low'] = df['Low'][
        (df['Low'].shift(lookback) > df['Low']) &
        (df['Low'].shift(-lookback) > df['Low'])
    ]
    return df





def find_bos_choch(df):
    structure = []
    trend = 'initial'
    last_high = -float('inf')
    last_low = float('inf')

    for i in range(len(df)):
        row = df.iloc[i]

        if not np.isnan(row['swing_high']):
            if (trend == 'down' or trend == 'initial') and row['High'] > last_high:
                structure.append('CHoCH')  # 下降トレンド → 高値を超える → 転換
                trend = 'up'
            elif (trend == 'up' or trend == 'initial') and row['High'] > last_high:
                structure.append('BOS')    # 上昇トレンド継続
            else:
                structure.append(None)
            last_high = row['High']
        
        elif not np.isnan(row['swing_low']):
            if (trend == 'up' or trend == 'initial') and row['Low'] < last_low:
                structure.append('CHoCH')  # 上昇トレンド → 安値を割る → 転換
                trend = 'down'
            elif (trend == 'down' or trend == 'initial') and row['Low'] < last_low:
                structure.append('BOS')    # 下降トレンド継続
            else:
                structure.append(None)
            last_low = row['Low']

        else:
            structure.append(None)
    df['structure'] = structure
    return df





# 評価する銘柄
ticker = '4755.T'
# 期間の指定
end_date = datetime.today()
start_date = end_date - timedelta(days=730)

# 株価データ取得
df = yf.download(ticker, start=start_date, end=end_date, interval='1d', multi_level_index=False)


# スイングポイント → BOS/CHoCH検出
df = detect_swings(df,lookback=5)
df = find_bos_choch(df)

# 結果の表示（BOSとCHoCHのみ）
print(df[df['structure'].notna()][['High', 'Low', 'structure']])





plt.figure(figsize=(14, 6))
plt.plot(df['Close'], label='Close Price')

# BOS/CHoCHにマーカーを表示
for idx, row in df[df['structure'].notna()].iterrows():
    color = 'green' if row['structure'] == 'BOS' else 'red'
    plt.scatter(idx, df.loc[idx, 'Close'], color=color, label=row['structure'])

plt.title('Detecting BOS(Cont,G) and CHoCH(Rev,R)')
plt.show()



