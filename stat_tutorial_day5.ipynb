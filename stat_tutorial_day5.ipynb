{
 "cells": [
  {
   "cell_type": "markdown",
   "metadata": {},
   "source": [
    "# データ解析基礎講座五日目　テーマ：多変量解析"
   ]
  },
  {
   "cell_type": "markdown",
   "metadata": {},
   "source": [
    "## 主成分分析"
   ]
  },
  {
   "cell_type": "markdown",
   "metadata": {},
   "source": [
    "主成分分析は多変量のデータから変動の大きい成分を順次取り出していく手法で、主に次元の縮約に用いられます。ここでは、都道府県別の家計指標に主成分分析を適用します。まずデータを読み込みます。"
   ]
  },
  {
   "cell_type": "code",
   "execution_count": 1,
   "metadata": {},
   "outputs": [
    {
     "data": {
      "text/html": [
       "<div>\n",
       "<style scoped>\n",
       "    .dataframe tbody tr th:only-of-type {\n",
       "        vertical-align: middle;\n",
       "    }\n",
       "\n",
       "    .dataframe tbody tr th {\n",
       "        vertical-align: top;\n",
       "    }\n",
       "\n",
       "    .dataframe thead th {\n",
       "        text-align: right;\n",
       "    }\n",
       "</style>\n",
       "<table border=\"1\" class=\"dataframe\">\n",
       "  <thead>\n",
       "    <tr style=\"text-align: right;\">\n",
       "      <th></th>\n",
       "      <th>県名</th>\n",
       "      <th>実収入</th>\n",
       "      <th>世帯主収入</th>\n",
       "      <th>消費支出</th>\n",
       "      <th>食料費割合</th>\n",
       "      <th>住居費割合</th>\n",
       "      <th>光熱・水道費割合</th>\n",
       "      <th>家具・家事用品費割合</th>\n",
       "      <th>被服及び履物費割合</th>\n",
       "      <th>保健医療費割合</th>\n",
       "    </tr>\n",
       "    <tr>\n",
       "      <th>コード</th>\n",
       "      <th></th>\n",
       "      <th></th>\n",
       "      <th></th>\n",
       "      <th></th>\n",
       "      <th></th>\n",
       "      <th></th>\n",
       "      <th></th>\n",
       "      <th></th>\n",
       "      <th></th>\n",
       "      <th></th>\n",
       "    </tr>\n",
       "  </thead>\n",
       "  <tbody>\n",
       "    <tr>\n",
       "      <th>1</th>\n",
       "      <td>北 海 道</td>\n",
       "      <td>529.9</td>\n",
       "      <td>422.7</td>\n",
       "      <td>287.3</td>\n",
       "      <td>24.2</td>\n",
       "      <td>5.9</td>\n",
       "      <td>8.5</td>\n",
       "      <td>3.3</td>\n",
       "      <td>3.9</td>\n",
       "      <td>4.3</td>\n",
       "    </tr>\n",
       "    <tr>\n",
       "      <th>2</th>\n",
       "      <td>青 森 県</td>\n",
       "      <td>442.9</td>\n",
       "      <td>333.4</td>\n",
       "      <td>236.8</td>\n",
       "      <td>29.2</td>\n",
       "      <td>4.0</td>\n",
       "      <td>11.3</td>\n",
       "      <td>4.1</td>\n",
       "      <td>3.3</td>\n",
       "      <td>4.2</td>\n",
       "    </tr>\n",
       "    <tr>\n",
       "      <th>3</th>\n",
       "      <td>岩 手 県</td>\n",
       "      <td>522.9</td>\n",
       "      <td>403.5</td>\n",
       "      <td>289.0</td>\n",
       "      <td>24.6</td>\n",
       "      <td>5.2</td>\n",
       "      <td>8.7</td>\n",
       "      <td>3.7</td>\n",
       "      <td>3.8</td>\n",
       "      <td>5.1</td>\n",
       "    </tr>\n",
       "    <tr>\n",
       "      <th>4</th>\n",
       "      <td>宮 城 県</td>\n",
       "      <td>419.9</td>\n",
       "      <td>341.5</td>\n",
       "      <td>281.0</td>\n",
       "      <td>26.4</td>\n",
       "      <td>6.5</td>\n",
       "      <td>7.8</td>\n",
       "      <td>4.0</td>\n",
       "      <td>4.1</td>\n",
       "      <td>5.1</td>\n",
       "    </tr>\n",
       "    <tr>\n",
       "      <th>5</th>\n",
       "      <td>秋 田 県</td>\n",
       "      <td>459.0</td>\n",
       "      <td>343.4</td>\n",
       "      <td>255.2</td>\n",
       "      <td>25.6</td>\n",
       "      <td>5.4</td>\n",
       "      <td>9.6</td>\n",
       "      <td>3.7</td>\n",
       "      <td>3.1</td>\n",
       "      <td>5.4</td>\n",
       "    </tr>\n",
       "  </tbody>\n",
       "</table>\n",
       "</div>"
      ],
      "text/plain": [
       "        県名    実収入  世帯主収入   消費支出  食料費割合  住居費割合  光熱・水道費割合  家具・家事用品費割合  \\\n",
       "コード                                                                   \n",
       "1    北 海 道  529.9  422.7  287.3   24.2    5.9       8.5         3.3   \n",
       "2    青 森 県  442.9  333.4  236.8   29.2    4.0      11.3         4.1   \n",
       "3    岩 手 県  522.9  403.5  289.0   24.6    5.2       8.7         3.7   \n",
       "4    宮 城 県  419.9  341.5  281.0   26.4    6.5       7.8         4.0   \n",
       "5    秋 田 県  459.0  343.4  255.2   25.6    5.4       9.6         3.7   \n",
       "\n",
       "     被服及び履物費割合  保健医療費割合  \n",
       "コード                      \n",
       "1          3.9      4.3  \n",
       "2          3.3      4.2  \n",
       "3          3.8      5.1  \n",
       "4          4.1      5.1  \n",
       "5          3.1      5.4  "
      ]
     },
     "execution_count": 1,
     "metadata": {},
     "output_type": "execute_result"
    }
   ],
   "source": [
    "import pandas as pd\n",
    "df1=pd.read_excel('データ解析講座五日目演習.xlsx',sheet_name='家計指標',index_col=0)\n",
    "df1.head()"
   ]
  },
  {
   "cell_type": "markdown",
   "metadata": {},
   "source": [
    "次に、データフレームの数値データ部分をnumpy配列Xに書き出します。"
   ]
  },
  {
   "cell_type": "code",
   "execution_count": 2,
   "metadata": {},
   "outputs": [
    {
     "data": {
      "text/plain": [
       "(47, 9)"
      ]
     },
     "execution_count": 2,
     "metadata": {},
     "output_type": "execute_result"
    }
   ],
   "source": [
    "import numpy as np\n",
    "from sklearn.decomposition import PCA\n",
    "from sklearn.preprocessing import StandardScaler\n",
    "df11 = df1.select_dtypes(exclude='object')\n",
    "X = df11.to_numpy()\n",
    "X.shape"
   ]
  },
  {
   "cell_type": "markdown",
   "metadata": {},
   "source": [
    "Xは47行9列の配列です。行がケース、列が変数になります。次に主成分分析を実施するためにscikit-learnライブラリをインポートし、データを平均0、標準偏差1で標準化した上で主成分分析を実行し、主成分スコアを配列Tに格納します。ここではn_componentsにより抽出する主成分の個数を指定します。"
   ]
  },
  {
   "cell_type": "code",
   "execution_count": 3,
   "metadata": {},
   "outputs": [
    {
     "data": {
      "text/plain": [
       "(47, 9)"
      ]
     },
     "execution_count": 3,
     "metadata": {},
     "output_type": "execute_result"
    }
   ],
   "source": [
    "# n_pc:計算する主成分の数, n_main:左記のうち表示したい主成分の数\n",
    "n_pc=9; n_main=4\n",
    "n_pcp1=n_pc+1; n_mainp1=n_main+1\n",
    "fit_pca = PCA(n_components=n_pc)\n",
    "T = fit_pca.fit_transform(StandardScaler().fit_transform(X))\n",
    "T.shape"
   ]
  },
  {
   "cell_type": "markdown",
   "metadata": {},
   "source": [
    "Tは47行9列の配列ですが、各列にはPC1からPC9という列名で主成分スコアが入っています。理論上は元の変数の数と同数の主成分が抽出されますが、変数の数が多くて次元の縮約を目的とする場合はオプションで抽出する主成分の数を指定します。"
   ]
  },
  {
   "cell_type": "markdown",
   "metadata": {},
   "source": [
    "次に、各主成分が全ての変動のどのくらいの割合を説明しているかを見るために、各主成分の分散とその全合計に対する割合を表示します。"
   ]
  },
  {
   "cell_type": "code",
   "execution_count": 4,
   "metadata": {},
   "outputs": [
    {
     "data": {
      "text/html": [
       "<div>\n",
       "<style scoped>\n",
       "    .dataframe tbody tr th:only-of-type {\n",
       "        vertical-align: middle;\n",
       "    }\n",
       "\n",
       "    .dataframe tbody tr th {\n",
       "        vertical-align: top;\n",
       "    }\n",
       "\n",
       "    .dataframe thead th {\n",
       "        text-align: right;\n",
       "    }\n",
       "</style>\n",
       "<table border=\"1\" class=\"dataframe\">\n",
       "  <thead>\n",
       "    <tr style=\"text-align: right;\">\n",
       "      <th></th>\n",
       "      <th>Variace</th>\n",
       "      <th>Variace_ratio</th>\n",
       "    </tr>\n",
       "  </thead>\n",
       "  <tbody>\n",
       "    <tr>\n",
       "      <th>PC1</th>\n",
       "      <td>3.472999</td>\n",
       "      <td>0.377678</td>\n",
       "    </tr>\n",
       "    <tr>\n",
       "      <th>PC2</th>\n",
       "      <td>1.266509</td>\n",
       "      <td>0.137729</td>\n",
       "    </tr>\n",
       "    <tr>\n",
       "      <th>PC3</th>\n",
       "      <td>1.083152</td>\n",
       "      <td>0.117790</td>\n",
       "    </tr>\n",
       "    <tr>\n",
       "      <th>PC4</th>\n",
       "      <td>1.067880</td>\n",
       "      <td>0.116129</td>\n",
       "    </tr>\n",
       "    <tr>\n",
       "      <th>PC5</th>\n",
       "      <td>0.885070</td>\n",
       "      <td>0.096249</td>\n",
       "    </tr>\n",
       "  </tbody>\n",
       "</table>\n",
       "</div>"
      ],
      "text/plain": [
       "      Variace  Variace_ratio \n",
       "PC1  3.472999        0.377678\n",
       "PC2  1.266509        0.137729\n",
       "PC3  1.083152        0.117790\n",
       "PC4  1.067880        0.116129\n",
       "PC5  0.885070        0.096249"
      ]
     },
     "execution_count": 4,
     "metadata": {},
     "output_type": "execute_result"
    }
   ],
   "source": [
    "pd.DataFrame({\"Variace\" : fit_pca.explained_variance_,\n",
    "             \"Variace_ratio \" : fit_pca.explained_variance_ratio_},\n",
    "           index=[\"PC{}\".format(x) for x in range(1,n_pcp1)]).iloc[:n_mainp1,]"
   ]
  },
  {
   "cell_type": "markdown",
   "metadata": {},
   "source": [
    "第1主成分で全変動の約38%を説明しています。第2主成分が約14%で、だんだん小さくなります。理論から言えばこの分散割合が急激に小さくなる直前の主成分までを取り上げるのが筋ですが、実際には表示の都合から第2主成分までを取り上げることが多いです。"
   ]
  },
  {
   "cell_type": "markdown",
   "metadata": {},
   "source": [
    "次に、各主成分が何を表しているかを解釈するために、いくつかの主成分について「因子負荷量」を表示します。因子負荷量は主成分スコアと元の変数との相関を表す量です。"
   ]
  },
  {
   "cell_type": "code",
   "execution_count": 5,
   "metadata": {},
   "outputs": [
    {
     "data": {
      "text/html": [
       "<div>\n",
       "<style scoped>\n",
       "    .dataframe tbody tr th:only-of-type {\n",
       "        vertical-align: middle;\n",
       "    }\n",
       "\n",
       "    .dataframe tbody tr th {\n",
       "        vertical-align: top;\n",
       "    }\n",
       "\n",
       "    .dataframe thead th {\n",
       "        text-align: right;\n",
       "    }\n",
       "</style>\n",
       "<table border=\"1\" class=\"dataframe\">\n",
       "  <thead>\n",
       "    <tr style=\"text-align: right;\">\n",
       "      <th></th>\n",
       "      <th>PC1</th>\n",
       "      <th>PC2</th>\n",
       "      <th>PC3</th>\n",
       "      <th>PC4</th>\n",
       "    </tr>\n",
       "  </thead>\n",
       "  <tbody>\n",
       "    <tr>\n",
       "      <th>実収入</th>\n",
       "      <td>-0.465404</td>\n",
       "      <td>-0.434511</td>\n",
       "      <td>-0.487789</td>\n",
       "      <td>0.321431</td>\n",
       "    </tr>\n",
       "    <tr>\n",
       "      <th>世帯主収入</th>\n",
       "      <td>-0.294135</td>\n",
       "      <td>-0.240639</td>\n",
       "      <td>-0.122842</td>\n",
       "      <td>-0.106904</td>\n",
       "    </tr>\n",
       "    <tr>\n",
       "      <th>消費支出</th>\n",
       "      <td>-0.186180</td>\n",
       "      <td>0.061248</td>\n",
       "      <td>-0.086021</td>\n",
       "      <td>0.134945</td>\n",
       "    </tr>\n",
       "    <tr>\n",
       "      <th>食料費割合</th>\n",
       "      <td>0.102297</td>\n",
       "      <td>-0.132426</td>\n",
       "      <td>-0.170225</td>\n",
       "      <td>0.116892</td>\n",
       "    </tr>\n",
       "    <tr>\n",
       "      <th>住居費割合</th>\n",
       "      <td>0.011399</td>\n",
       "      <td>0.287828</td>\n",
       "      <td>-0.020844</td>\n",
       "      <td>0.771566</td>\n",
       "    </tr>\n",
       "    <tr>\n",
       "      <th>光熱・水道費割合</th>\n",
       "      <td>0.255878</td>\n",
       "      <td>0.458688</td>\n",
       "      <td>-0.153807</td>\n",
       "      <td>0.263235</td>\n",
       "    </tr>\n",
       "    <tr>\n",
       "      <th>家具・家事用品費割合</th>\n",
       "      <td>0.159171</td>\n",
       "      <td>-0.013346</td>\n",
       "      <td>0.109636</td>\n",
       "      <td>-0.179300</td>\n",
       "    </tr>\n",
       "    <tr>\n",
       "      <th>被服及び履物費割合</th>\n",
       "      <td>-0.170180</td>\n",
       "      <td>-0.323155</td>\n",
       "      <td>0.809300</td>\n",
       "      <td>0.344312</td>\n",
       "    </tr>\n",
       "    <tr>\n",
       "      <th>保健医療費割合</th>\n",
       "      <td>-0.729284</td>\n",
       "      <td>0.578064</td>\n",
       "      <td>0.139704</td>\n",
       "      <td>-0.195124</td>\n",
       "    </tr>\n",
       "  </tbody>\n",
       "</table>\n",
       "</div>"
      ],
      "text/plain": [
       "                 PC1       PC2       PC3       PC4\n",
       "実収入        -0.465404 -0.434511 -0.487789  0.321431\n",
       "世帯主収入      -0.294135 -0.240639 -0.122842 -0.106904\n",
       "消費支出       -0.186180  0.061248 -0.086021  0.134945\n",
       "食料費割合       0.102297 -0.132426 -0.170225  0.116892\n",
       "住居費割合       0.011399  0.287828 -0.020844  0.771566\n",
       "光熱・水道費割合    0.255878  0.458688 -0.153807  0.263235\n",
       "家具・家事用品費割合  0.159171 -0.013346  0.109636 -0.179300\n",
       "被服及び履物費割合  -0.170180 -0.323155  0.809300  0.344312\n",
       "保健医療費割合    -0.729284  0.578064  0.139704 -0.195124"
      ]
     },
     "execution_count": 5,
     "metadata": {},
     "output_type": "execute_result"
    }
   ],
   "source": [
    "pd.DataFrame(fit_pca.components_,index=df11.columns,\n",
    "             columns=[\"PC{}\".format(x) for x in range(1,n_pcp1) ]).iloc[:n_pc,:n_main]"
   ]
  },
  {
   "cell_type": "markdown",
   "metadata": {},
   "source": [
    "第1主成分は「光熱・水道費割合」「家具・家事用品費割合」と比較的強い正の相関、「実収入」「世帯主収入」「保健医療費割合」と比較的強い負の相関を持っています。そうすると、第1主成分の高い県は収入が比較的少なく、その割に（おそらく家の規模あるいは家族が多いために）光熱費や家事用品の支出割合が多いということが推察されます。"
   ]
  },
  {
   "cell_type": "markdown",
   "metadata": {},
   "source": [
    "第2主成分は「住居費割合」「光熱・水道費割合」「保健医療費割合」と比較的強い正の相関、「実収入」「世帯主収入」「被服及び履物費割合」と比較的強い負の相関を持っています。そうすると、第2主成分の高い県は収入が比較的少なく、（おそらく高齢化が進んでいるために）光熱費や医療費の支出割合が多いということが推察されます。"
   ]
  },
  {
   "cell_type": "markdown",
   "metadata": {},
   "source": [
    "次に第２主成分スコアまでを元のデータフレームと結合します。"
   ]
  },
  {
   "cell_type": "code",
   "execution_count": 6,
   "metadata": {},
   "outputs": [
    {
     "data": {
      "text/html": [
       "<div>\n",
       "<style scoped>\n",
       "    .dataframe tbody tr th:only-of-type {\n",
       "        vertical-align: middle;\n",
       "    }\n",
       "\n",
       "    .dataframe tbody tr th {\n",
       "        vertical-align: top;\n",
       "    }\n",
       "\n",
       "    .dataframe thead th {\n",
       "        text-align: right;\n",
       "    }\n",
       "</style>\n",
       "<table border=\"1\" class=\"dataframe\">\n",
       "  <thead>\n",
       "    <tr style=\"text-align: right;\">\n",
       "      <th></th>\n",
       "      <th>県名</th>\n",
       "      <th>実収入</th>\n",
       "      <th>世帯主収入</th>\n",
       "      <th>消費支出</th>\n",
       "      <th>食料費割合</th>\n",
       "      <th>住居費割合</th>\n",
       "      <th>光熱・水道費割合</th>\n",
       "      <th>家具・家事用品費割合</th>\n",
       "      <th>被服及び履物費割合</th>\n",
       "      <th>保健医療費割合</th>\n",
       "      <th>PC1</th>\n",
       "      <th>PC2</th>\n",
       "    </tr>\n",
       "  </thead>\n",
       "  <tbody>\n",
       "    <tr>\n",
       "      <th>0</th>\n",
       "      <td>北 海 道</td>\n",
       "      <td>529.9</td>\n",
       "      <td>422.7</td>\n",
       "      <td>287.3</td>\n",
       "      <td>24.2</td>\n",
       "      <td>5.9</td>\n",
       "      <td>8.5</td>\n",
       "      <td>3.3</td>\n",
       "      <td>3.9</td>\n",
       "      <td>4.3</td>\n",
       "      <td>-0.156763</td>\n",
       "      <td>-0.263193</td>\n",
       "    </tr>\n",
       "    <tr>\n",
       "      <th>1</th>\n",
       "      <td>青 森 県</td>\n",
       "      <td>442.9</td>\n",
       "      <td>333.4</td>\n",
       "      <td>236.8</td>\n",
       "      <td>29.2</td>\n",
       "      <td>4.0</td>\n",
       "      <td>11.3</td>\n",
       "      <td>4.1</td>\n",
       "      <td>3.3</td>\n",
       "      <td>4.2</td>\n",
       "      <td>5.127610</td>\n",
       "      <td>-2.098249</td>\n",
       "    </tr>\n",
       "    <tr>\n",
       "      <th>2</th>\n",
       "      <td>岩 手 県</td>\n",
       "      <td>522.9</td>\n",
       "      <td>403.5</td>\n",
       "      <td>289.0</td>\n",
       "      <td>24.6</td>\n",
       "      <td>5.2</td>\n",
       "      <td>8.7</td>\n",
       "      <td>3.7</td>\n",
       "      <td>3.8</td>\n",
       "      <td>5.1</td>\n",
       "      <td>0.795040</td>\n",
       "      <td>-1.214645</td>\n",
       "    </tr>\n",
       "    <tr>\n",
       "      <th>3</th>\n",
       "      <td>宮 城 県</td>\n",
       "      <td>419.9</td>\n",
       "      <td>341.5</td>\n",
       "      <td>281.0</td>\n",
       "      <td>26.4</td>\n",
       "      <td>6.5</td>\n",
       "      <td>7.8</td>\n",
       "      <td>4.0</td>\n",
       "      <td>4.1</td>\n",
       "      <td>5.1</td>\n",
       "      <td>2.458470</td>\n",
       "      <td>0.526661</td>\n",
       "    </tr>\n",
       "    <tr>\n",
       "      <th>4</th>\n",
       "      <td>秋 田 県</td>\n",
       "      <td>459.0</td>\n",
       "      <td>343.4</td>\n",
       "      <td>255.2</td>\n",
       "      <td>25.6</td>\n",
       "      <td>5.4</td>\n",
       "      <td>9.6</td>\n",
       "      <td>3.7</td>\n",
       "      <td>3.1</td>\n",
       "      <td>5.4</td>\n",
       "      <td>3.358323</td>\n",
       "      <td>-0.890148</td>\n",
       "    </tr>\n",
       "  </tbody>\n",
       "</table>\n",
       "</div>"
      ],
      "text/plain": [
       "      県名    実収入  世帯主収入   消費支出  食料費割合  住居費割合  光熱・水道費割合  家具・家事用品費割合  被服及び履物費割合  \\\n",
       "0  北 海 道  529.9  422.7  287.3   24.2    5.9       8.5         3.3        3.9   \n",
       "1  青 森 県  442.9  333.4  236.8   29.2    4.0      11.3         4.1        3.3   \n",
       "2  岩 手 県  522.9  403.5  289.0   24.6    5.2       8.7         3.7        3.8   \n",
       "3  宮 城 県  419.9  341.5  281.0   26.4    6.5       7.8         4.0        4.1   \n",
       "4  秋 田 県  459.0  343.4  255.2   25.6    5.4       9.6         3.7        3.1   \n",
       "\n",
       "   保健医療費割合       PC1       PC2  \n",
       "0      4.3 -0.156763 -0.263193  \n",
       "1      4.2  5.127610 -2.098249  \n",
       "2      5.1  0.795040 -1.214645  \n",
       "3      5.1  2.458470  0.526661  \n",
       "4      5.4  3.358323 -0.890148  "
      ]
     },
     "execution_count": 6,
     "metadata": {},
     "output_type": "execute_result"
    }
   ],
   "source": [
    "df2 = pd.DataFrame(data=T[:,:2], columns=['PC1', 'PC2'])\n",
    "df12 = df1.reset_index(drop=True)\n",
    "df3 = pd.concat([df12,df2],axis=1)\n",
    "df3.head()"
   ]
  },
  {
   "cell_type": "markdown",
   "metadata": {},
   "source": [
    "そして、第１,第２主成分スコアの散布図を描きます。散布図の個々の点について対応する都道府県名を表示させます。"
   ]
  },
  {
   "cell_type": "code",
   "execution_count": 7,
   "metadata": {},
   "outputs": [
    {
     "data": {
      "image/png": "[encoded data removed]",
      "text/plain": [
       "<Figure size 864x576 with 1 Axes>"
      ]
     },
     "metadata": {
      "needs_background": "light"
     },
     "output_type": "display_data"
    }
   ],
   "source": [
    "import matplotlib.pyplot as plt\n",
    "from matplotlib import rcParams\n",
    "rcParams['font.family']='MS Gothic'\n",
    "from pylab import rcParams\n",
    "rcParams['figure.figsize'] = 12,8\n",
    "a = df3.plot.scatter(x='PC1',y='PC2')\n",
    "for k, v in df3.iterrows():\n",
    "    a.annotate(v[0], xy=(v[10],v[11]), size=10)"
   ]
  },
  {
   "cell_type": "markdown",
   "metadata": {},
   "source": [
    "この図から、家計指標に関して他の都道府県と比較的離れている「異端県」として、青森県や沖縄県をあげることができます。このような「他のデータ群と離れた個体を見つけ出す」手続きは異常検知に応用されます。"
   ]
  },
  {
   "cell_type": "markdown",
   "metadata": {},
   "source": [
    "## k-meansクラスタリング"
   ]
  },
  {
   "cell_type": "raw",
   "metadata": {},
   "source": [
    "k-meansクラスタリングは、多次元の属性データに基づいて個体を互いに距離が近いもの同士に分類する手法です。ここでは、上で計算した2次元の主成分スコアを基にクラスタリングを実施します。"
   ]
  },
  {
   "cell_type": "code",
   "execution_count": 8,
   "metadata": {},
   "outputs": [
    {
     "data": {
      "text/html": [
       "<div>\n",
       "<style scoped>\n",
       "    .dataframe tbody tr th:only-of-type {\n",
       "        vertical-align: middle;\n",
       "    }\n",
       "\n",
       "    .dataframe tbody tr th {\n",
       "        vertical-align: top;\n",
       "    }\n",
       "\n",
       "    .dataframe thead th {\n",
       "        text-align: right;\n",
       "    }\n",
       "</style>\n",
       "<table border=\"1\" class=\"dataframe\">\n",
       "  <thead>\n",
       "    <tr style=\"text-align: right;\">\n",
       "      <th></th>\n",
       "      <th>PC1</th>\n",
       "      <th>PC2</th>\n",
       "    </tr>\n",
       "  </thead>\n",
       "  <tbody>\n",
       "    <tr>\n",
       "      <th>0</th>\n",
       "      <td>-0.156763</td>\n",
       "      <td>-0.263193</td>\n",
       "    </tr>\n",
       "    <tr>\n",
       "      <th>1</th>\n",
       "      <td>5.127610</td>\n",
       "      <td>-2.098249</td>\n",
       "    </tr>\n",
       "    <tr>\n",
       "      <th>2</th>\n",
       "      <td>0.795040</td>\n",
       "      <td>-1.214645</td>\n",
       "    </tr>\n",
       "    <tr>\n",
       "      <th>3</th>\n",
       "      <td>2.458470</td>\n",
       "      <td>0.526661</td>\n",
       "    </tr>\n",
       "    <tr>\n",
       "      <th>4</th>\n",
       "      <td>3.358323</td>\n",
       "      <td>-0.890148</td>\n",
       "    </tr>\n",
       "  </tbody>\n",
       "</table>\n",
       "</div>"
      ],
      "text/plain": [
       "        PC1       PC2\n",
       "0 -0.156763 -0.263193\n",
       "1  5.127610 -2.098249\n",
       "2  0.795040 -1.214645\n",
       "3  2.458470  0.526661\n",
       "4  3.358323 -0.890148"
      ]
     },
     "execution_count": 8,
     "metadata": {},
     "output_type": "execute_result"
    }
   ],
   "source": [
    "df4 = df3.loc[:,['PC1','PC2']]\n",
    "df4.head()"
   ]
  },
  {
   "cell_type": "raw",
   "metadata": {},
   "source": [
    "上記のデータをnumpy配列に書き出し、標準化をした上でk-meansクラスタリングを実施します。配列predには、各個体（この場合は各都道府県）が第0クラスターから第4クラスターまでのどの群に分類されたかのラベルが格納されます。それを元のデータに埋め込みます。"
   ]
  },
  {
   "cell_type": "code",
   "execution_count": 9,
   "metadata": {},
   "outputs": [],
   "source": [
    "from sklearn.cluster import KMeans\n",
    "# k-means クラスタリング\n",
    "ngrp = 5\n",
    "xdata = df4.to_numpy()\n",
    "sc = StandardScaler()\n",
    "xstd = sc.fit_transform(xdata)\n",
    "cls = KMeans(n_clusters=ngrp,random_state=123)\n",
    "pred = cls.fit_predict(xstd)\n",
    "df3['cluster']=pred"
   ]
  },
  {
   "cell_type": "markdown",
   "metadata": {},
   "source": [
    "次に、各クラスター別にそのメンバーになった個体名（都道府県名）を書き出します。"
   ]
  },
  {
   "cell_type": "code",
   "execution_count": 10,
   "metadata": {},
   "outputs": [
    {
     "name": "stdout",
     "output_type": "stream",
     "text": [
      "cluster0:  ['岩 手 県' '山 形 県' '福 島 県' '栃 木 県' '富 山 県' '福 井 県' '長 野 県' '三 重 県' '滋 賀 県'\n",
      " '奈 良 県']\n",
      "cluster1:  ['北 海 道' '群 馬 県' '山 梨 県' '岐 阜 県' '静 岡 県' '愛 知 県' '京 都 府' '島 根 県' '岡 山 県'\n",
      " '香 川 県' '愛 媛 県' '佐 賀 県' '熊 本 県' '大 分 県' '宮 崎 県' '鹿児島県']\n",
      "cluster2:  ['茨 城 県' '埼 玉 県' '千 葉 県' '東 京 都' '神奈川県' '石 川 県' '広 島 県' '山 口 県' '徳 島 県'\n",
      " '高 知 県' '福 岡 県']\n",
      "cluster3:  ['兵 庫 県' '沖 縄 県']\n",
      "cluster4:  ['青 森 県' '宮 城 県' '秋 田 県' '新 潟 県' '大 阪 府' '和歌山県' '鳥 取 県' '長 崎 県']\n"
     ]
    }
   ],
   "source": [
    "for i in range(ngrp):\n",
    "    cond = 'cluster=='+str(i)\n",
    "    df71 = df3.query(cond)\n",
    "    pref_list = df71.loc[:]['県名'].values\n",
    "    print('cluster'+str(i)+': ',pref_list)"
   ]
  },
  {
   "cell_type": "markdown",
   "metadata": {},
   "source": [
    "上で描いた散布図上の位置との対応はおおよそ次のようになります。cluster0:左側, cluster1:右側, cluster2:中央, cluster3:下側, cluster4:上側"
   ]
  },
  {
   "cell_type": "markdown",
   "metadata": {},
   "source": [
    "## k-meansクラスタリングの補足"
   ]
  },
  {
   "cell_type": "markdown",
   "metadata": {},
   "source": [
    "（以下は補足のため説明は省略します）"
   ]
  },
  {
   "cell_type": "markdown",
   "metadata": {},
   "source": [
    "### クラスターの大きさと重心の表示"
   ]
  },
  {
   "cell_type": "code",
   "execution_count": 11,
   "metadata": {},
   "outputs": [
    {
     "name": "stdout",
     "output_type": "stream",
     "text": [
      "クラスターの大きさ： Counter({1: 16, 2: 11, 0: 10, 4: 8, 3: 2})\n"
     ]
    },
    {
     "data": {
      "text/plain": [
       "<matplotlib.legend.Legend at 0x1fb9b3d0280>"
      ]
     },
     "execution_count": 11,
     "metadata": {},
     "output_type": "execute_result"
    },
    {
     "data": {
      "image/png": "[encoded data removed]",
      "text/plain": [
       "<Figure size 432x288 with 1 Axes>"
      ]
     },
     "metadata": {
      "needs_background": "light"
     },
     "output_type": "display_data"
    }
   ],
   "source": [
    "rcParams['figure.figsize'] = 6,4\n",
    "import collections\n",
    "c_count = collections.Counter(pred)\n",
    "print('クラスターの大きさ：',c_count)\n",
    "centers = cls.cluster_centers_\n",
    "fig = plt.figure()\n",
    "ax1 = fig.add_subplot(111)\n",
    "for ig in range(ngrp):\n",
    "    ax1.plot(centers[ig,:],label='Cluster'+str(ig))\n",
    "ax1.set_xlabel('主成分１　　主成分２')\n",
    "ax1.legend()"
   ]
  },
  {
   "cell_type": "markdown",
   "metadata": {},
   "source": [
    "### 適切なクラスター数を判断するための統計量の表示"
   ]
  },
  {
   "cell_type": "code",
   "execution_count": 12,
   "metadata": {},
   "outputs": [
    {
     "data": {
      "text/plain": [
       "<AxesSubplot:>"
      ]
     },
     "execution_count": 12,
     "metadata": {},
     "output_type": "execute_result"
    },
    {
     "data": {
      "image/png": "[encoded data removed]",
      "text/plain": [
       "<Figure size 432x288 with 1 Axes>"
      ]
     },
     "metadata": {
      "needs_background": "light"
     },
     "output_type": "display_data"
    }
   ],
   "source": [
    "from sklearn.metrics import calinski_harabasz_score,silhouette_score\n",
    "score={}\n",
    "score_c={}\n",
    "for n in range(3,10):\n",
    "    km_score=KMeans(n_clusters=n)\n",
    "    km_score.fit(xstd)\n",
    "    score_c[n]=calinski_harabasz_score(xstd,km_score.labels_)\n",
    "    score[n]=silhouette_score(xstd,km_score.labels_)\n",
    "pd.Series(score).plot()"
   ]
  },
  {
   "cell_type": "code",
   "execution_count": 13,
   "metadata": {},
   "outputs": [
    {
     "data": {
      "text/plain": [
       "<AxesSubplot:>"
      ]
     },
     "execution_count": 13,
     "metadata": {},
     "output_type": "execute_result"
    },
    {
     "data": {
      "image/png": "[encoded data removed]",
      "text/plain": [
       "<Figure size 432x288 with 1 Axes>"
      ]
     },
     "metadata": {
      "needs_background": "light"
     },
     "output_type": "display_data"
    }
   ],
   "source": [
    "pd.Series(score_c).plot()"
   ]
  }
 ],
 "metadata": {
  "kernelspec": {
   "display_name": "Python 3 (ipykernel)",
   "language": "python",
   "name": "python3"
  },
  "language_info": {
   "codemirror_mode": {
    "name": "ipython",
    "version": 3
   },
   "file_extension": ".py",
   "mimetype": "text/x-python",
   "name": "python",
   "nbconvert_exporter": "python",
   "pygments_lexer": "ipython3",
   "version": "3.9.7"
  },
  "toc": {
   "base_numbering": 1,
   "nav_menu": {},
   "number_sections": true,
   "sideBar": true,
   "skip_h1_title": false,
   "title_cell": "Table of Contents",
   "title_sidebar": "Contents",
   "toc_cell": false,
   "toc_position": {},
   "toc_section_display": true,
   "toc_window_display": false
  },
  "varInspector": {
   "cols": {
    "lenName": 16,
    "lenType": 16,
    "lenVar": 40
   },
   "kernels_config": {
    "python": {
     "delete_cmd_postfix": "",
     "delete_cmd_prefix": "del ",
     "library": "var_list.py",
     "varRefreshCmd": "print(var_dic_list())"
    },
    "r": {
     "delete_cmd_postfix": ") ",
     "delete_cmd_prefix": "rm(",
     "library": "var_list.r",
     "varRefreshCmd": "cat(var_dic_list()) "
    }
   },
   "types_to_exclude": [
    "module",
    "function",
    "builtin_function_or_method",
    "instance",
    "_Feature"
   ],
   "window_display": false
  }
 },
 "nbformat": 4,
 "nbformat_minor": 4
}
