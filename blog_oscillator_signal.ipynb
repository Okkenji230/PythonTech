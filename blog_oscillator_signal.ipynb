{
 "cells": [
  {
   "cell_type": "markdown",
   "id": "05c24c9f-78bd-464c-9482-e2234c65d00a",
   "metadata": {},
   "source": [
    "# 戦略・銘柄毎のシグナル判定（オシレーター・日足・ブログ用）"
   ]
  },
  {
   "cell_type": "code",
   "execution_count": 1,
   "id": "9b0a1c22-cd45-4725-8b8b-b1f3b49d5e04",
   "metadata": {},
   "outputs": [],
   "source": [
    "import pandas as pd\n",
    "import numpy as np\n",
    "from datetime import date, datetime, timedelta\n",
    "import matplotlib.pyplot as plt\n",
    "import yfinance as yf\n",
    "import mplfinance as mpf\n",
    "import warnings\n",
    "warnings.simplefilter(action=\"ignore\", category=FutureWarning)"
   ]
  },
  {
   "cell_type": "markdown",
   "id": "e9694807-737d-406a-b96d-9e34d94b74d3",
   "metadata": {},
   "source": [
    "## ta-libにない関数の定義"
   ]
  },
  {
   "cell_type": "code",
   "execution_count": 2,
   "id": "a4141b52-fb0b-441f-bfbe-96dc6ac11a2b",
   "metadata": {},
   "outputs": [],
   "source": [
    "# Elder's Force Index (EFI)\n",
    "def elder_force_index(df, period=2):\n",
    "    df['EFI'] = (df['Close'] - df['Close'].shift(1)) * df['Volume']\n",
    "    df['EFI_Smoothed'] = df['EFI'].rolling(window=period).mean()\n",
    "    return df['EFI_Smoothed']\n",
    "\n",
    "# true_strength_index (TSI)\n",
    "def true_strength_index(df, short_period=13, long_period=25):\n",
    "    df['Change'] = df['Close'] - df['Close'].shift(1)\n",
    "    df['Smoothed1'] = df['Change'].ewm(span=short_period, adjust=False).mean()\n",
    "    df['Smoothed2'] = df['Smoothed1'].ewm(span=long_period, adjust=False).mean()\n",
    "    df['AbsChange'] = abs(df['Change'])\n",
    "    df['AbsSmoothed1'] = df['AbsChange'].ewm(span=short_period, adjust=False).mean()\n",
    "    df['AbsSmoothed2'] = df['AbsSmoothed1'].ewm(span=long_period, adjust=False).mean()\n",
    "    df['TSI'] = (df['Smoothed2'] / df['AbsSmoothed2']) * 100\n",
    "    return df['TSI']\n",
    "\n",
    "# awesome oscillator (AO)\n",
    "def awesome_oscillator(df, wshort=5, wlong=34):\n",
    "  df['med'] = (df['High']+df['Low']) / 2\n",
    "  df['ao'] = df['med'].rolling(wshort).mean() - df['med'].rolling(wlong).mean()\n",
    "  df['ado'] = df['ao'] - df['ao'].rolling(wshort).mean()\n",
    "  return df['ao'], df['ado']"
   ]
  },
  {
   "cell_type": "markdown",
   "id": "3ac2371c-0c85-4fa4-bdb7-d8cf2c97c28a",
   "metadata": {},
   "source": [
    "## シグナル検出用関数"
   ]
  },
  {
   "cell_type": "code",
   "execution_count": 3,
   "id": "33f8b8ad-ebd4-40fa-9165-0ef693b584e6",
   "metadata": {},
   "outputs": [],
   "source": [
    "# クロスオーバーとクロスアンダー及びしきい値クロス関数\n",
    "def crossover(series1, series2):\n",
    "    # Ensure the inputs are numpy arrays for element-wise operations\n",
    "    series1 = np.array(series1)\n",
    "    series2 = np.array(series2)\n",
    "    # Calculate the crossover: (previous series1 < previous series2) and (current series1 > current series2)\n",
    "    cross = (series1[:-1] < series2[:-1]) & (series1[1:] > series2[1:])\n",
    "    # Append a False at the start since there is no crossover detection at the first element\n",
    "    return np.append(False, cross)\n",
    "\n",
    "def overthreshold(series1, x):\n",
    "    series1 = np.array(series1)\n",
    "    series2 = np.full(series1.shape[0], x)\n",
    "    # Calculate the crossover: (previous series1 < previous series2) and (current series1 > current series2)\n",
    "    cross = (series1[:-1] < series2[:-1]) & (series1[1:] > series2[1:])\n",
    "    # Append a False at the start since there is no crossover detection at the first element\n",
    "    return np.append(False, cross)\n",
    "\n",
    "def crossunder(series1, series2):\n",
    "    # Ensure the inputs are numpy arrays for element-wise operations\n",
    "    series1 = np.array(series1)\n",
    "    series2 = np.array(series2)\n",
    "    # Calculate the crossunder: (previous series1 > previous series2) and (current series1 < current series2)\n",
    "    cross = (series1[:-1] > series2[:-1]) & (series1[1:] < series2[1:])\n",
    "    # Append a False at the start since there is no crossunder detection at the first element\n",
    "    return np.append(False, cross)\n",
    "\n",
    "def underthreshold(series1, x):\n",
    "    series1 = np.array(series1)\n",
    "    series2 = np.full(series1.shape[0], x)\n",
    "    # Calculate the crossunder: (previous series1 > previous series2) and (current series1 < current series2)\n",
    "    cross = (series1[:-1] > series2[:-1]) & (series1[1:] < series2[1:])\n",
    "    # Append a False at the start since there is no crossunder detection at the first element\n",
    "    return np.append(False, cross)"
   ]
  },
  {
   "cell_type": "markdown",
   "id": "4684a64f-9290-45c1-8e9f-eb96ade853df",
   "metadata": {},
   "source": [
    "## パフォーマンス評価（バックテスト）"
   ]
  },
  {
   "cell_type": "code",
   "execution_count": 4,
   "id": "441ed83a-edc6-47b5-855c-ead06cbadfd3",
   "metadata": {},
   "outputs": [],
   "source": [
    "def evaluate_performance(data):\n",
    "    cumulative_return = data['Portfolio_Value'].iloc[-1] / data['Portfolio_Value'].iloc[0] - 1\n",
    "    volatility = data['Daily_Return'].std() * (252**0.5)\n",
    "    sharpe_ratio = (data['Daily_Return'].mean() / data['Daily_Return'].std()) * (252**0.5)\n",
    "    return {\n",
    "        \"Cumulative Return\": cumulative_return,\n",
    "        \"Volatility\": volatility,\n",
    "        \"Sharpe Ratio\": sharpe_ratio\n",
    "    }"
   ]
  },
  {
   "cell_type": "markdown",
   "id": "0c465427-8f9a-43b7-a2bc-2ee53a3285e4",
   "metadata": {},
   "source": [
    "## 指標別のシグナル判定とポジション判定"
   ]
  },
  {
   "cell_type": "code",
   "execution_count": 5,
   "id": "e5f70c44-254b-46c3-8c20-f98f315d77c7",
   "metadata": {},
   "outputs": [],
   "source": [
    "# Elder's Force Index (EFI)ゼロクロスによるシグナル判定とポジション判定\n",
    "def EFI_zero(df):\n",
    "    # create dataframe\n",
    "    df1 = df.copy()\n",
    "    # calculate EFI\n",
    "    df1['EFI'] = elder_force_index(df)\n",
    "    # BUY/SELL signal conditions\n",
    "    df1['EFI_buySignal'] = overthreshold(df1['EFI'], 0)\n",
    "    df1['EFI_sellSignal'] = underthreshold(df1['EFI'], 0)\n",
    "    # position\n",
    "    df1['EFI_Position'] = [1 if x >= 0 else -1 for x in df1['EFI']]\n",
    "    # return dataframe\n",
    "    return df1.loc[:, ['timestamp','ticker','EFI_buySignal','EFI_sellSignal','EFI_Position']]"
   ]
  },
  {
   "cell_type": "code",
   "execution_count": 6,
   "id": "c4f58bfe-47bb-4b9b-9cc9-939667f1c5d3",
   "metadata": {},
   "outputs": [],
   "source": [
    "# True Strength Index (TSI)ゼロクロスによるシグナル判定とポジション判定\n",
    "def TSI_zero(df):\n",
    "    # create dataframe\n",
    "    df1 = df.copy()\n",
    "    # calculate TSI\n",
    "    df1['TSI'] = true_strength_index(df)\n",
    "    # BUY/SELL signal conditions\n",
    "    df1['TSI_buySignal'] = overthreshold(df1['TSI'], 0)\n",
    "    df1['TSI_sellSignal'] = underthreshold(df1['TSI'], 0)\n",
    "    # position\n",
    "    df1['TSI_Position'] = [1 if x >= 0 else -1 for x in df1['TSI']]\n",
    "    # return dataframe\n",
    "    return df1.loc[:, ['timestamp','ticker','TSI_buySignal','TSI_sellSignal','TSI_Position']]"
   ]
  },
  {
   "cell_type": "code",
   "execution_count": 7,
   "id": "4c4144e8-ea1a-43ec-a7c1-3ebba7e912c2",
   "metadata": {},
   "outputs": [],
   "source": [
    "# Awesome Oscillator (AO)ゼロクロスによるシグナル判定とポジション判定\n",
    "def AO_zero(df):\n",
    "    # create dataframe\n",
    "    df1 = df.copy()\n",
    "    # calculate AO\n",
    "    df1['AO'], df1['ADO'] = awesome_oscillator(df)\n",
    "    # BUY/SELL signal conditions\n",
    "    df1['AO_buySignal'] = overthreshold(df1['AO'], 0)\n",
    "    df1['AO_sellSignal'] = underthreshold(df1['AO'], 0)\n",
    "    # position\n",
    "    df1['AO_Position'] = [1 if x >= 0 else -1 for x in df1['AO']]\n",
    "    # return dataframe\n",
    "    return df1.loc[:, ['timestamp','ticker','AO_buySignal','AO_sellSignal','AO_Position']]"
   ]
  },
  {
   "cell_type": "code",
   "execution_count": 8,
   "id": "8d7fe201-7470-4b02-893f-e75063c70970",
   "metadata": {},
   "outputs": [],
   "source": [
    "# 評価する銘柄のリスト\n",
    "list_ticker = ['9984.T','7203.T','5803.T']\n",
    "# 期間の指定\n",
    "end_date = datetime.today()\n",
    "start_date = end_date - timedelta(days=1068)"
   ]
  },
  {
   "cell_type": "code",
   "execution_count": 9,
   "id": "a5e7cd86-b5ae-4ae0-8608-32bd032a7c8b",
   "metadata": {},
   "outputs": [
    {
     "name": "stderr",
     "output_type": "stream",
     "text": [
      "[*********************100%***********************]  1 of 1 completed\n",
      "[*********************100%***********************]  1 of 1 completed\n",
      "[*********************100%***********************]  1 of 1 completed\n"
     ]
    }
   ],
   "source": [
    "# 各銘柄についてシグナル判定を行い結果を縦連結する\n",
    "df0 = pd.DataFrame()\n",
    "for symbol in list_ticker:\n",
    "    # yahooサイトからデータをダウンロード\n",
    "    data = yf.download(symbol, start_date, end_date)\n",
    "    data.columns = [col[0] if isinstance(col, tuple) else col for col in data.columns]\n",
    "    data['ticker'] = symbol\n",
    "    df = data.reset_index().rename(columns={'Date':'timestamp'})\n",
    "    # リターンの計算\n",
    "    df['Returns'] = df['Close'].pct_change()\n",
    "    ## Elder's Force Index (EFI)ゼロクロスによるシグナル判定の実施\n",
    "    df_EfiZero = EFI_zero(df)\n",
    "    # シグナル判定結果を元データに横連結する\n",
    "    df = df.merge(df_EfiZero, how=\"inner\", on=['timestamp','ticker'])\n",
    "    ## True Strength Index (TSI)ゼロクロスによるシグナル判定の実施\n",
    "    df_TsiZero = TSI_zero(df)\n",
    "    # シグナル判定結果を元データに横連結する\n",
    "    df = df.merge(df_TsiZero, how=\"inner\", on=['timestamp','ticker'])\n",
    "    ## Awesome oscillator (AO)ゼロクロスによるシグナル判定の実施\n",
    "    df_AoZero = AO_zero(df)\n",
    "    # シグナル判定結果を元データに横連結する\n",
    "    df = df.merge(df_AoZero, how=\"inner\", on=['timestamp','ticker'])\n",
    "    # 一銘柄のシグナル判定結果を元のデータに縦連結する\n",
    "    df0 = pd.concat([df0,df],axis=0)"
   ]
  },
  {
   "cell_type": "markdown",
   "id": "f10791b9-6ce9-48f6-9e9a-74878fa5213a",
   "metadata": {},
   "source": [
    "## チャートによるシグナルの検証及びパフォーマンス評価"
   ]
  },
  {
   "cell_type": "code",
   "execution_count": 10,
   "id": "6b188c0c-47a5-4b8f-bcdd-0ab7e60a0df7",
   "metadata": {},
   "outputs": [],
   "source": [
    "# 銘柄と指標の指定\n",
    "f_ticker = '5803.T'\n",
    "f_ind = 'AO'\n",
    "# 特定の銘柄のデータを取り出す\n",
    "df = df0[df0['ticker'].str.contains(f_ticker)]"
   ]
  },
  {
   "cell_type": "code",
   "execution_count": 11,
   "id": "7c4def80-7977-43f5-badf-de277e246d9d",
   "metadata": {},
   "outputs": [
    {
     "data": {
      "image/png": "[encoded data removed]",
      "text/plain": [
       "<Figure size 1000x500 with 1 Axes>"
      ]
     },
     "metadata": {},
     "output_type": "display_data"
    }
   ],
   "source": [
    "# 終値と各種指標のプロット\n",
    "plt.figure(figsize=(10, 5))\n",
    "plt.plot(df['timestamp'], df['Close'], label='Close Price')\n",
    "# 売買ポジションのプロット\n",
    "plt.scatter(df['timestamp'][df[f_ind+'_buySignal']], df['Close'][df[f_ind+'_buySignal']], \\\n",
    "            color='green', label='Buy position', marker=\"^\", s=100)\n",
    "plt.scatter(df['timestamp'][df[f_ind+'_sellSignal']], df['Close'][df[f_ind+'_sellSignal']], \\\n",
    "            color='red', label='Sell position', marker=\"v\", s=100)\n",
    "# 凡例の表示\n",
    "plt.legend()\n",
    "# 軸ラベルとタイトル\n",
    "plt.xlabel('Date')\n",
    "plt.ylabel('Price')\n",
    "plt.title(f_ticker + ' ' + f_ind + ' Strategy')\n",
    "# チャートの表示\n",
    "plt.show()"
   ]
  },
  {
   "cell_type": "code",
   "execution_count": 12,
   "id": "61276861-341a-48d1-a1ff-ba865d3b377b",
   "metadata": {},
   "outputs": [
    {
     "name": "stdout",
     "output_type": "stream",
     "text": [
      "5803.T AO  Performance\n",
      "{'Cumulative Return': 0.4043658781915802, 'Volatility': 0.5160520564027478, 'Sharpe Ratio': 0.486518863885625}\n"
     ]
    }
   ],
   "source": [
    "# バックテスト\n",
    "initial_balance = 10000\n",
    "data = df.copy()\n",
    "data['Daily_Return'] = data['Returns'] * data[f_ind+'_Position'].shift()\n",
    "data['Portfolio_Value'] = (1 + data['Daily_Return']).cumprod() * initial_balance\n",
    "data.at[data.index[0], 'Portfolio_Value'] = initial_balance\n",
    "performance = evaluate_performance(data)\n",
    "print(f_ticker + ' ' + f_ind + '  Performance')\n",
    "print(performance)"
   ]
  }
 ],
 "metadata": {
  "kernelspec": {
   "display_name": "Python 3 (ipykernel)",
   "language": "python",
   "name": "python3"
  },
  "language_info": {
   "codemirror_mode": {
    "name": "ipython",
    "version": 3
   },
   "file_extension": ".py",
   "mimetype": "text/x-python",
   "name": "python",
   "nbconvert_exporter": "python",
   "pygments_lexer": "ipython3",
   "version": "3.12.3"
  }
 },
 "nbformat": 4,
 "nbformat_minor": 5
}
