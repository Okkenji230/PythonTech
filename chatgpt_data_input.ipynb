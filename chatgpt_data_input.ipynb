{
 "cells": [
  {
   "cell_type": "markdown",
   "id": "a19dd9f0-d3f5-4897-8bdf-e9c245419ee3",
   "metadata": {},
   "source": [
    "# ChatGPTに分析依頼するための株価データの準備"
   ]
  },
  {
   "cell_type": "raw",
   "id": "f1d452ae-43b5-4788-929c-055cc922035f",
   "metadata": {},
   "source": [
    "出典\n",
    "Stock Analysis Using ChatGPT Code Interpreter\n",
    "https://medium.datadriveninvestor.com/stock-analysis-using-chatgpt-code-interpreter-7b8291607e34"
   ]
  },
  {
   "cell_type": "code",
   "execution_count": 1,
   "id": "c7bc62b6-8109-439d-ace6-dd4569e18f71",
   "metadata": {},
   "outputs": [],
   "source": [
    "import pandas as pd\n",
    "import yfinance as yf\n",
    "from datetime import datetime, timedelta\n",
    "from pandas_datareader import data as pdr"
   ]
  },
  {
   "cell_type": "markdown",
   "id": "da8c9e4e-615e-4e35-8603-72991edb520d",
   "metadata": {},
   "source": [
    "## 株価データの取得"
   ]
  },
  {
   "cell_type": "code",
   "execution_count": 2,
   "id": "64b1cfbd-6c6d-4fbf-917c-e8c30297f607",
   "metadata": {},
   "outputs": [
    {
     "name": "stdout",
     "output_type": "stream",
     "text": [
      "[*********************100%%**********************]  1 of 1 completed\n"
     ]
    },
    {
     "data": {
      "text/html": [
       "<div>\n",
       "<style scoped>\n",
       "    .dataframe tbody tr th:only-of-type {\n",
       "        vertical-align: middle;\n",
       "    }\n",
       "\n",
       "    .dataframe tbody tr th {\n",
       "        vertical-align: top;\n",
       "    }\n",
       "\n",
       "    .dataframe thead th {\n",
       "        text-align: right;\n",
       "    }\n",
       "</style>\n",
       "<table border=\"1\" class=\"dataframe\">\n",
       "  <thead>\n",
       "    <tr style=\"text-align: right;\">\n",
       "      <th></th>\n",
       "      <th>Open</th>\n",
       "      <th>High</th>\n",
       "      <th>Low</th>\n",
       "      <th>Close</th>\n",
       "      <th>Adj Close</th>\n",
       "      <th>Volume</th>\n",
       "    </tr>\n",
       "    <tr>\n",
       "      <th>Date</th>\n",
       "      <th></th>\n",
       "      <th></th>\n",
       "      <th></th>\n",
       "      <th></th>\n",
       "      <th></th>\n",
       "      <th></th>\n",
       "    </tr>\n",
       "  </thead>\n",
       "  <tbody>\n",
       "    <tr>\n",
       "      <th>2023-12-07</th>\n",
       "      <td>750.0</td>\n",
       "      <td>756.0</td>\n",
       "      <td>742.0</td>\n",
       "      <td>744.0</td>\n",
       "      <td>744.0</td>\n",
       "      <td>141900</td>\n",
       "    </tr>\n",
       "    <tr>\n",
       "      <th>2023-12-08</th>\n",
       "      <td>735.0</td>\n",
       "      <td>739.0</td>\n",
       "      <td>726.0</td>\n",
       "      <td>727.0</td>\n",
       "      <td>727.0</td>\n",
       "      <td>216900</td>\n",
       "    </tr>\n",
       "    <tr>\n",
       "      <th>2023-12-11</th>\n",
       "      <td>738.0</td>\n",
       "      <td>748.0</td>\n",
       "      <td>735.0</td>\n",
       "      <td>741.0</td>\n",
       "      <td>741.0</td>\n",
       "      <td>255000</td>\n",
       "    </tr>\n",
       "    <tr>\n",
       "      <th>2023-12-12</th>\n",
       "      <td>744.0</td>\n",
       "      <td>750.0</td>\n",
       "      <td>735.0</td>\n",
       "      <td>742.0</td>\n",
       "      <td>742.0</td>\n",
       "      <td>147500</td>\n",
       "    </tr>\n",
       "    <tr>\n",
       "      <th>2023-12-13</th>\n",
       "      <td>745.0</td>\n",
       "      <td>756.0</td>\n",
       "      <td>739.0</td>\n",
       "      <td>741.0</td>\n",
       "      <td>741.0</td>\n",
       "      <td>118200</td>\n",
       "    </tr>\n",
       "  </tbody>\n",
       "</table>\n",
       "</div>"
      ],
      "text/plain": [
       "             Open   High    Low  Close  Adj Close  Volume\n",
       "Date                                                     \n",
       "2023-12-07  750.0  756.0  742.0  744.0      744.0  141900\n",
       "2023-12-08  735.0  739.0  726.0  727.0      727.0  216900\n",
       "2023-12-11  738.0  748.0  735.0  741.0      741.0  255000\n",
       "2023-12-12  744.0  750.0  735.0  742.0      742.0  147500\n",
       "2023-12-13  745.0  756.0  739.0  741.0      741.0  118200"
      ]
     },
     "execution_count": 2,
     "metadata": {},
     "output_type": "execute_result"
    }
   ],
   "source": [
    "# Define the stock symbol and timeframe\n",
    "symbol = '9332.T'\n",
    "end_date = datetime.today()\n",
    "start_date = end_date - timedelta(days=120)  # 4 months before today\n",
    "yf.pdr_override()\n",
    "# yahooサイトからデータをダウンロード\n",
    "stock_data = pdr.get_data_yahoo(symbol, start_date, end_date)\n",
    "stock_data.tail()"
   ]
  },
  {
   "cell_type": "markdown",
   "id": "8a33b2f1-0ee0-44af-b066-567ce1d2d943",
   "metadata": {},
   "source": [
    "## 株価データをCSVファイルに保存"
   ]
  },
  {
   "cell_type": "code",
   "execution_count": 3,
   "id": "80bf572f-636e-42c3-9f2d-f8152341de9e",
   "metadata": {
    "tags": []
   },
   "outputs": [],
   "source": [
    "stock_data.to_csv('stock_data_'+symbol[0:4]+'.csv')"
   ]
  },
  {
   "cell_type": "markdown",
   "id": "7ac609f8-d358-4563-9c38-1cf267a8df62",
   "metadata": {},
   "source": [
    "## ChatGPTへの入力手順"
   ]
  },
  {
   "cell_type": "raw",
   "id": "c35cc582-d604-4da1-9180-9df3adac855a",
   "metadata": {},
   "source": [
    "〔保存した株価データを添付した上で以下を入力〕\n",
    "You are an expert in the analysis of stocks. I want you to analyze this data and provide the following information:\n",
    "1. List and describe the data elements in this file.\n",
    "2. Are there missing data values or does the data need to be cleaned?\n",
    "3. Show me three data analysis visualizations.\n",
    "4. Do you have any recommendations on how to further analyze this data to better understand the trends?\n",
    "\n",
    "〔続けて以下を入力〕\n",
    "\n",
    "Use three machine learning models to predict future stock prices based on historical data.\n",
    "Test using 80% of this data and show me the results for each machine learning model.\n",
    "\n",
    "〔以下は用いるモデル等により文言を変える必要あり〕\n",
    "\n",
    "Create a chart of the next 5 days' projected stock prices using the linear regression model.\n",
    "Create a chart of the next 5 days' projected stock prices using the random forest model.\n",
    "→折れ線グラフを出力\n",
    "\n",
    "Show me the next 5 days' projected stock price values using the random forest model.\n",
    "→値のリストを出力又は折れ線グラフを出力\n",
    "\n",
    "Visualize the historical and projected (by the random forest regressor) stock price values.\n",
    "→エラーでChatGPTがギブアップ\n",
    "\n",
    "Visualize the projected (by the random forest regressor) stock price values.\n",
    "→折れ線グラフを出力"
   ]
  }
 ],
 "metadata": {
  "kernelspec": {
   "display_name": "Python 3 (ipykernel)",
   "language": "python",
   "name": "python3"
  },
  "language_info": {
   "codemirror_mode": {
    "name": "ipython",
    "version": 3
   },
   "file_extension": ".py",
   "mimetype": "text/x-python",
   "name": "python",
   "nbconvert_exporter": "python",
   "pygments_lexer": "ipython3",
   "version": "3.11.5"
  }
 },
 "nbformat": 4,
 "nbformat_minor": 5
}
