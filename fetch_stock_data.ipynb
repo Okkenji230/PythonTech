{
 "cells": [
  {
   "cell_type": "markdown",
   "id": "181bdfff-0cb2-4f95-9f89-00b6f5aacafe",
   "metadata": {},
   "source": [
    "# Stock Investment Strategies with Python"
   ]
  },
  {
   "cell_type": "markdown",
   "id": "5fef6d48-afb3-437d-b081-c2e755e1bcf4",
   "metadata": {},
   "source": [
    "## Fetching Stock Data Using Yahoo Finance API"
   ]
  },
  {
   "cell_type": "code",
   "execution_count": 1,
   "id": "fb31d666-9622-47f6-a344-ab5e27126b2a",
   "metadata": {},
   "outputs": [],
   "source": [
    "# Import libraries\n",
    "import yfinance as yf\n",
    "import pandas as pd\n",
    "from datetime import datetime, timedelta"
   ]
  },
  {
   "cell_type": "code",
   "execution_count": 2,
   "id": "a1b5e2b4-9097-4355-9597-cbc46e4f0646",
   "metadata": {},
   "outputs": [],
   "source": [
    "# Set output format\n",
    "pd.set_option('display.width',1000)\n",
    "pd.set_option('display.float_format','{:,.2f}'.format)"
   ]
  },
  {
   "cell_type": "raw",
   "id": "f24b3b31-4c39-490d-b127-b727f8d0a295",
   "metadata": {},
   "source": [
    "We use the Adjusted Close price to account for events such as stock splits, dividends, and issuance of new shares, ensuring the consistency of the time series data."
   ]
  },
  {
   "cell_type": "code",
   "execution_count": 3,
   "id": "5b0bc1b3-f530-44cc-9264-f496a960bdbc",
   "metadata": {},
   "outputs": [],
   "source": [
    "# 与えられたtickerシンボルの株価データを取得する\n",
    "def get_stock_data(ticker,start_date,end_date):\n",
    "    # Download stock data\n",
    "    data = yf.download(ticker,start=start_date,end=end_date)\n",
    "    # Calculate Trading Value\n",
    "    data['Trading Value'] = data['Volume']*data['Adj Close']\n",
    "    # Change column names for user convenience\n",
    "    data.columns = ['date','open','low','close','adj_close','volume','trading_value']\n",
    "    # Reset index and return data\n",
    "    return data.reset_index()"
   ]
  },
  {
   "cell_type": "raw",
   "id": "7a03879f-a22a-44cb-b2d0-bfdd7be86762",
   "metadata": {},
   "source": [
    "The Trading Value, calculated by multiplying the Volume by the Adjusted Close price, indicates the scale of stock trading. A higher Trading Value could signify a higher level of investor interest in the stock. This can help us select dates with high trading volume that also have a significant trading scale."
   ]
  },
  {
   "cell_type": "code",
   "execution_count": 4,
   "id": "fe58e1bb-81be-4425-add4-d83c565e0016",
   "metadata": {},
   "outputs": [
    {
     "name": "stdout",
     "output_type": "stream",
     "text": [
      "[*********************100%***********************]  1 of 1 completed\n",
      "        Date   date   open    low  close  adj_close     volume     trading_value\n",
      "0 2023-01-03 118.47 118.80 104.64 108.10     108.10  231402800 25,014,642,326.91\n",
      "1 2023-01-04 109.11 114.59 107.52 113.64     113.64  180389000 20,499,405,849.90\n",
      "2 2023-01-05 110.51 111.75 107.16 110.34     110.34  157986300 17,432,207,763.44\n",
      "3 2023-01-06 103.00 114.39 101.81 113.06     113.06  220911100 24,976,208,426.67\n",
      "4 2023-01-09 118.96 123.52 117.11 119.77     119.77  190284000 22,790,314,041.23\n"
     ]
    }
   ],
   "source": [
    "# Example: Fetching Tesla (TSLA) stock data\n",
    "ticker = 'TSLA'\n",
    "start_date = '2023-01-01'\n",
    "end_date = datetime.strftime(datetime.today(),\"%Y-%m-%d\")\n",
    "stock_data = get_stock_data(ticker,start_date,end_date)\n",
    "print(stock_data.head())"
   ]
  },
  {
   "cell_type": "markdown",
   "id": "af9d7765-ebe8-44f0-8675-321e57c5bbc0",
   "metadata": {},
   "source": [
    "## Finding Volume Spike Dates"
   ]
  },
  {
   "cell_type": "code",
   "execution_count": 5,
   "id": "1d759f59-2b97-430e-bc0a-49faf2f5081e",
   "metadata": {},
   "outputs": [],
   "source": [
    "def find_volume_spike_days(data, volume_multiplier):\n",
    "    # Calculate 20-day average volume\n",
    "    data['avg_volume'] = data['volume'].rolling(window=20,min_periods=1).mean()\n",
    "    # Find dates when volume is more than volume_multiplier times the 20-day average volume\n",
    "    volume_spike_days = data[data['volume'] > volume_multiplier*data['avg_volume']].index\n",
    "    # Return data from the most recent date of the found volume spikes\n",
    "    if len(volume_spike_days) > 0:\n",
    "        last_spike_day = volume_spike_days[-1]\n",
    "        return data[last_spike_day:]"
   ]
  },
  {
   "cell_type": "code",
   "execution_count": 6,
   "id": "df7bc66e-ee55-41ad-8c4f-580d32d448e0",
   "metadata": {},
   "outputs": [
    {
     "data": {
      "text/html": [
       "<div>\n",
       "<style scoped>\n",
       "    .dataframe tbody tr th:only-of-type {\n",
       "        vertical-align: middle;\n",
       "    }\n",
       "\n",
       "    .dataframe tbody tr th {\n",
       "        vertical-align: top;\n",
       "    }\n",
       "\n",
       "    .dataframe thead th {\n",
       "        text-align: right;\n",
       "    }\n",
       "</style>\n",
       "<table border=\"1\" class=\"dataframe\">\n",
       "  <thead>\n",
       "    <tr style=\"text-align: right;\">\n",
       "      <th></th>\n",
       "      <th>Date</th>\n",
       "      <th>date</th>\n",
       "      <th>open</th>\n",
       "      <th>low</th>\n",
       "      <th>close</th>\n",
       "      <th>adj_close</th>\n",
       "      <th>volume</th>\n",
       "      <th>trading_value</th>\n",
       "      <th>avg_volume</th>\n",
       "    </tr>\n",
       "  </thead>\n",
       "  <tbody>\n",
       "    <tr>\n",
       "      <th>90</th>\n",
       "      <td>2023-05-12</td>\n",
       "      <td>176.07</td>\n",
       "      <td>177.38</td>\n",
       "      <td>167.23</td>\n",
       "      <td>167.98</td>\n",
       "      <td>167.98</td>\n",
       "      <td>157577100</td>\n",
       "      <td>26,469,800,584.76</td>\n",
       "      <td>123,797,345.00</td>\n",
       "    </tr>\n",
       "    <tr>\n",
       "      <th>91</th>\n",
       "      <td>2023-05-15</td>\n",
       "      <td>167.66</td>\n",
       "      <td>169.76</td>\n",
       "      <td>164.55</td>\n",
       "      <td>166.35</td>\n",
       "      <td>166.35</td>\n",
       "      <td>105592500</td>\n",
       "      <td>17,565,313,019.49</td>\n",
       "      <td>123,243,860.00</td>\n",
       "    </tr>\n",
       "    <tr>\n",
       "      <th>92</th>\n",
       "      <td>2023-05-16</td>\n",
       "      <td>165.65</td>\n",
       "      <td>169.52</td>\n",
       "      <td>164.35</td>\n",
       "      <td>166.52</td>\n",
       "      <td>166.52</td>\n",
       "      <td>98288800</td>\n",
       "      <td>16,367,051,395.94</td>\n",
       "      <td>123,554,950.00</td>\n",
       "    </tr>\n",
       "    <tr>\n",
       "      <th>93</th>\n",
       "      <td>2023-05-17</td>\n",
       "      <td>168.41</td>\n",
       "      <td>174.50</td>\n",
       "      <td>167.19</td>\n",
       "      <td>173.86</td>\n",
       "      <td>173.86</td>\n",
       "      <td>125473600</td>\n",
       "      <td>21,814,840,172.58</td>\n",
       "      <td>123,541,995.00</td>\n",
       "    </tr>\n",
       "    <tr>\n",
       "      <th>94</th>\n",
       "      <td>2023-05-18</td>\n",
       "      <td>174.22</td>\n",
       "      <td>177.06</td>\n",
       "      <td>172.45</td>\n",
       "      <td>176.89</td>\n",
       "      <td>176.89</td>\n",
       "      <td>109520300</td>\n",
       "      <td>19,373,045,800.15</td>\n",
       "      <td>118,469,470.00</td>\n",
       "    </tr>\n",
       "    <tr>\n",
       "      <th>95</th>\n",
       "      <td>2023-05-19</td>\n",
       "      <td>177.17</td>\n",
       "      <td>181.95</td>\n",
       "      <td>176.31</td>\n",
       "      <td>180.14</td>\n",
       "      <td>180.14</td>\n",
       "      <td>136024200</td>\n",
       "      <td>24,503,399,304.98</td>\n",
       "      <td>119,093,730.00</td>\n",
       "    </tr>\n",
       "    <tr>\n",
       "      <th>96</th>\n",
       "      <td>2023-05-22</td>\n",
       "      <td>180.70</td>\n",
       "      <td>189.32</td>\n",
       "      <td>180.11</td>\n",
       "      <td>188.87</td>\n",
       "      <td>188.87</td>\n",
       "      <td>131567900</td>\n",
       "      <td>24,849,228,630.58</td>\n",
       "      <td>118,671,795.00</td>\n",
       "    </tr>\n",
       "  </tbody>\n",
       "</table>\n",
       "</div>"
      ],
      "text/plain": [
       "         Date   date   open    low  close  adj_close     volume     trading_value     avg_volume\n",
       "90 2023-05-12 176.07 177.38 167.23 167.98     167.98  157577100 26,469,800,584.76 123,797,345.00\n",
       "91 2023-05-15 167.66 169.76 164.55 166.35     166.35  105592500 17,565,313,019.49 123,243,860.00\n",
       "92 2023-05-16 165.65 169.52 164.35 166.52     166.52   98288800 16,367,051,395.94 123,554,950.00\n",
       "93 2023-05-17 168.41 174.50 167.19 173.86     173.86  125473600 21,814,840,172.58 123,541,995.00\n",
       "94 2023-05-18 174.22 177.06 172.45 176.89     176.89  109520300 19,373,045,800.15 118,469,470.00\n",
       "95 2023-05-19 177.17 181.95 176.31 180.14     180.14  136024200 24,503,399,304.98 119,093,730.00\n",
       "96 2023-05-22 180.70 189.32 180.11 188.87     188.87  131567900 24,849,228,630.58 118,671,795.00"
      ]
     },
     "execution_count": 6,
     "metadata": {},
     "output_type": "execute_result"
    }
   ],
   "source": [
    "# 関数のテスト\n",
    "find_volume_spike_days(stock_data, 1.2)"
   ]
  }
 ],
 "metadata": {
  "kernelspec": {
   "display_name": "Python 3 (ipykernel)",
   "language": "python",
   "name": "python3"
  },
  "language_info": {
   "codemirror_mode": {
    "name": "ipython",
    "version": 3
   },
   "file_extension": ".py",
   "mimetype": "text/x-python",
   "name": "python",
   "nbconvert_exporter": "python",
   "pygments_lexer": "ipython3",
   "version": "3.9.13"
  }
 },
 "nbformat": 4,
 "nbformat_minor": 5
}
