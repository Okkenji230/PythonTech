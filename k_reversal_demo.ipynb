{
 "cells": [
  {
   "cell_type": "markdown",
   "id": "a19dd9f0-d3f5-4897-8bdf-e9c245419ee3",
   "metadata": {
    "id": "a19dd9f0-d3f5-4897-8bdf-e9c245419ee3"
   },
   "source": [
    "# K's Reversal Indicators のデモ"
   ]
  },
  {
   "cell_type": "code",
   "execution_count": 1,
   "id": "c7bc62b6-8109-439d-ace6-dd4569e18f71",
   "metadata": {
    "executionInfo": {
     "elapsed": 1435,
     "status": "ok",
     "timestamp": 1711060607434,
     "user": {
      "displayName": "Kenji Ono",
      "userId": "14327041206082834894"
     },
     "user_tz": -540
    },
    "id": "c7bc62b6-8109-439d-ace6-dd4569e18f71",
    "tags": []
   },
   "outputs": [],
   "source": [
    "import matplotlib.pyplot as plt\n",
    "import pandas as pd\n",
    "import yfinance as yf\n",
    "import talib as ta\n",
    "import matplotlib.dates as mdates\n",
    "from datetime import date, datetime, timedelta\n",
    "import numpy as np\n",
    "from pandas_datareader import data as pdr\n",
    "import mplfinance as mpf\n",
    "plt.style.use('fivethirtyeight')"
   ]
  },
  {
   "cell_type": "markdown",
   "id": "da8c9e4e-615e-4e35-8603-72991edb520d",
   "metadata": {
    "id": "da8c9e4e-615e-4e35-8603-72991edb520d"
   },
   "source": [
    "## 株価データの取得"
   ]
  },
  {
   "cell_type": "code",
   "execution_count": 2,
   "id": "8196d35b-f196-48de-8446-421c2ad766d2",
   "metadata": {},
   "outputs": [],
   "source": [
    "# 通貨ペアはマネーパートナーズのメニューに出てくるもののみ\n",
    "list_ticker = ['USDJPY=X', 'EURJPY=X', 'GBPJPY=X', 'AUDJPY=X', 'CADJPY=X', 'NZDJPY=X', 'MXNJPY=X', 'CHFJPY=X', 'NOKJPY=X',\\\n",
    "               'ZARJPY=X', 'TRYJPY=X', 'ILSJPY=X',\\\n",
    "               'EURUSD=X', 'GBPUSD=X', 'AUDUSD=X', 'NZDUSD=X', 'AUDNZD=X', 'EURGBP=X', 'GBPAUD=X']"
   ]
  },
  {
   "cell_type": "code",
   "execution_count": 3,
   "id": "64b1cfbd-6c6d-4fbf-917c-e8c30297f607",
   "metadata": {
    "colab": {
     "base_uri": "https://localhost:8080/",
     "height": 255
    },
    "executionInfo": {
     "elapsed": 1007,
     "status": "ok",
     "timestamp": 1711060608438,
     "user": {
      "displayName": "Kenji Ono",
      "userId": "14327041206082834894"
     },
     "user_tz": -540
    },
    "id": "64b1cfbd-6c6d-4fbf-917c-e8c30297f607",
    "outputId": "b1f6b30b-c805-42e5-86db-dd631876eb19",
    "tags": []
   },
   "outputs": [
    {
     "name": "stdout",
     "output_type": "stream",
     "text": [
      "[*********************100%%**********************]  1 of 1 completed"
     ]
    },
    {
     "name": "stderr",
     "output_type": "stream",
     "text": [
      "\n",
      "1 Failed download:\n",
      "['USDJPN=X']: Exception('%ticker%: No timezone found, symbol may be delisted')\n"
     ]
    },
    {
     "name": "stdout",
     "output_type": "stream",
     "text": [
      "\n"
     ]
    },
    {
     "data": {
      "text/html": [
       "<div>\n",
       "<style scoped>\n",
       "    .dataframe tbody tr th:only-of-type {\n",
       "        vertical-align: middle;\n",
       "    }\n",
       "\n",
       "    .dataframe tbody tr th {\n",
       "        vertical-align: top;\n",
       "    }\n",
       "\n",
       "    .dataframe thead th {\n",
       "        text-align: right;\n",
       "    }\n",
       "</style>\n",
       "<table border=\"1\" class=\"dataframe\">\n",
       "  <thead>\n",
       "    <tr style=\"text-align: right;\">\n",
       "      <th></th>\n",
       "      <th>Open</th>\n",
       "      <th>High</th>\n",
       "      <th>Low</th>\n",
       "      <th>Close</th>\n",
       "      <th>Adj Close</th>\n",
       "      <th>Volume</th>\n",
       "    </tr>\n",
       "    <tr>\n",
       "      <th>Date</th>\n",
       "      <th></th>\n",
       "      <th></th>\n",
       "      <th></th>\n",
       "      <th></th>\n",
       "      <th></th>\n",
       "      <th></th>\n",
       "    </tr>\n",
       "  </thead>\n",
       "  <tbody>\n",
       "  </tbody>\n",
       "</table>\n",
       "</div>"
      ],
      "text/plain": [
       "Empty DataFrame\n",
       "Columns: [Open, High, Low, Close, Adj Close, Volume]\n",
       "Index: []"
      ]
     },
     "execution_count": 3,
     "metadata": {},
     "output_type": "execute_result"
    }
   ],
   "source": [
    "# Define the stock symbol and timeframe\n",
    "# 現保有銘柄\n",
    "symbol = 'USDJPN=X'\n",
    "#symbol = '9984.T'\n",
    "end_date = datetime.today()\n",
    "start_date = end_date - timedelta(days=1095)\n",
    "yf.pdr_override()\n",
    "# yahooサイトからデータをダウンロード\n",
    "data = pdr.get_data_yahoo(symbol, start_date, end_date)\n",
    "data.tail()"
   ]
  },
  {
   "cell_type": "markdown",
   "id": "3c62925e-e6c5-45ab-8051-937fc817be6e",
   "metadata": {},
   "source": [
    "## K's Reversal Indicator (I) 戦略の実装"
   ]
  },
  {
   "cell_type": "raw",
   "id": "535daae2-405b-449e-9e8c-424663b8471b",
   "metadata": {},
   "source": [
    "出典：Try This Very Powerful Market Reversal Indicator (by Sofien Kaabar)\n",
    "https://medium.com/@kaabar-sofien/try-this-very-powerful-market-reversal-indicator-aaa6a61d86e6"
   ]
  },
  {
   "cell_type": "code",
   "execution_count": 4,
   "id": "f6e40205-6ec1-44bc-a402-6533d4f3b9b5",
   "metadata": {
    "tags": []
   },
   "outputs": [],
   "source": [
    "def kr_1_strategy(df):\n",
    "    kr_Buy = []\n",
    "    kr_Sell = []\n",
    "    df['bbub'],df['bbmb'],df['bblb'] = ta.BBANDS(df['Adj Close'], timeperiod=100, nbdevup=1.5, nbdevdn=1.5)\n",
    "    df['macd'], df['macdsignal'], df['macdhist'] = ta.MACD(df['Adj Close'], fastperiod=12, slowperiod=26, signalperiod=9)\n",
    "\n",
    "    for i in range(0, len(df)):\n",
    "        if df['Adj Close'][i] <= df['bblb'][i] and df['macd'][i-1] <= df['macdsignal'][i-1] \\\n",
    "           and df['macd'][i] > df['macdsignal'][i]:\n",
    "            kr_Sell.append(np.nan)\n",
    "            kr_Buy.append(df['Adj Close'][i])\n",
    "        elif df['Adj Close'][i] >= df['bbub'][i] and df['macd'][i-1] >= df['macdsignal'][i-1] \\\n",
    "           and df['macd'][i] < df['macdsignal'][i]:\n",
    "            kr_Buy.append(np.nan)\n",
    "            kr_Sell.append(df['Adj Close'][i])        \n",
    "        else:\n",
    "            kr_Buy.append(np.nan)\n",
    "            kr_Sell.append(np.nan)\n",
    "\n",
    "    df['kr_Buy_Signal_price'] = kr_Buy\n",
    "    df['kr_Sell_Signal_price'] = kr_Sell\n",
    "    return df"
   ]
  },
  {
   "cell_type": "code",
   "execution_count": 5,
   "id": "67faffaa-fac3-48e2-adf9-44f828923b7c",
   "metadata": {
    "tags": []
   },
   "outputs": [
    {
     "data": {
      "text/html": [
       "<div>\n",
       "<style scoped>\n",
       "    .dataframe tbody tr th:only-of-type {\n",
       "        vertical-align: middle;\n",
       "    }\n",
       "\n",
       "    .dataframe tbody tr th {\n",
       "        vertical-align: top;\n",
       "    }\n",
       "\n",
       "    .dataframe thead th {\n",
       "        text-align: right;\n",
       "    }\n",
       "</style>\n",
       "<table border=\"1\" class=\"dataframe\">\n",
       "  <thead>\n",
       "    <tr style=\"text-align: right;\">\n",
       "      <th></th>\n",
       "      <th>Open</th>\n",
       "      <th>High</th>\n",
       "      <th>Low</th>\n",
       "      <th>Close</th>\n",
       "      <th>Adj Close</th>\n",
       "      <th>Volume</th>\n",
       "      <th>bbub</th>\n",
       "      <th>bbmb</th>\n",
       "      <th>bblb</th>\n",
       "      <th>macd</th>\n",
       "      <th>macdsignal</th>\n",
       "      <th>macdhist</th>\n",
       "      <th>kr_Buy_Signal_price</th>\n",
       "      <th>kr_Sell_Signal_price</th>\n",
       "    </tr>\n",
       "    <tr>\n",
       "      <th>Date</th>\n",
       "      <th></th>\n",
       "      <th></th>\n",
       "      <th></th>\n",
       "      <th></th>\n",
       "      <th></th>\n",
       "      <th></th>\n",
       "      <th></th>\n",
       "      <th></th>\n",
       "      <th></th>\n",
       "      <th></th>\n",
       "      <th></th>\n",
       "      <th></th>\n",
       "      <th></th>\n",
       "      <th></th>\n",
       "    </tr>\n",
       "  </thead>\n",
       "  <tbody>\n",
       "  </tbody>\n",
       "</table>\n",
       "</div>"
      ],
      "text/plain": [
       "Empty DataFrame\n",
       "Columns: [Open, High, Low, Close, Adj Close, Volume, bbub, bbmb, bblb, macd, macdsignal, macdhist, kr_Buy_Signal_price, kr_Sell_Signal_price]\n",
       "Index: []"
      ]
     },
     "execution_count": 5,
     "metadata": {},
     "output_type": "execute_result"
    }
   ],
   "source": [
    "df1 = data.copy()\n",
    "df1 = kr_1_strategy(df1)\n",
    "df1"
   ]
  },
  {
   "cell_type": "markdown",
   "id": "e959f538-8408-4026-b8cc-e823da2a66f2",
   "metadata": {},
   "source": [
    "## K's Reversal Indicator (I) 戦略の図示"
   ]
  },
  {
   "cell_type": "code",
   "execution_count": 6,
   "id": "2ea22d21-357c-45c6-bd92-bf65b698789e",
   "metadata": {
    "tags": []
   },
   "outputs": [
    {
     "name": "stderr",
     "output_type": "stream",
     "text": [
      "C:\\Users\\user\\AppData\\Local\\Temp\\ipykernel_8252\\899310412.py:4: MatplotlibDeprecationWarning: Auto-removal of overlapping axes is deprecated since 3.6 and will be removed two minor releases later; explicitly call ax.remove() as needed.\n",
      "  ax1 = plt.subplot2grid((14, 8), (0, 0), rowspan=8, colspan=14)\n"
     ]
    },
    {
     "ename": "TypeError",
     "evalue": "ufunc 'isfinite' not supported for the input types, and the inputs could not be safely coerced to any supported types according to the casting rule ''safe''",
     "output_type": "error",
     "traceback": [
      "\u001b[1;31m---------------------------------------------------------------------------\u001b[0m",
      "\u001b[1;31mTypeError\u001b[0m                                 Traceback (most recent call last)",
      "Cell \u001b[1;32mIn[6], line 17\u001b[0m\n\u001b[0;32m     15\u001b[0m ax2\u001b[38;5;241m.\u001b[39mplot(df1[\u001b[38;5;124m'\u001b[39m\u001b[38;5;124mbbub\u001b[39m\u001b[38;5;124m'\u001b[39m], label\u001b[38;5;241m=\u001b[39m\u001b[38;5;124m'\u001b[39m\u001b[38;5;124mUpper\u001b[39m\u001b[38;5;124m'\u001b[39m, color\u001b[38;5;241m=\u001b[39m\u001b[38;5;124m'\u001b[39m\u001b[38;5;124mgreen\u001b[39m\u001b[38;5;124m'\u001b[39m, alpha\u001b[38;5;241m=\u001b[39m\u001b[38;5;241m0.35\u001b[39m) \u001b[38;5;66;03m#Upper band\u001b[39;00m\n\u001b[0;32m     16\u001b[0m ax2\u001b[38;5;241m.\u001b[39mplot(df1[\u001b[38;5;124m'\u001b[39m\u001b[38;5;124mbblb\u001b[39m\u001b[38;5;124m'\u001b[39m], label\u001b[38;5;241m=\u001b[39m\u001b[38;5;124m'\u001b[39m\u001b[38;5;124mLower\u001b[39m\u001b[38;5;124m'\u001b[39m, color\u001b[38;5;241m=\u001b[39m\u001b[38;5;124m'\u001b[39m\u001b[38;5;124mred\u001b[39m\u001b[38;5;124m'\u001b[39m, alpha\u001b[38;5;241m=\u001b[39m\u001b[38;5;241m0.35\u001b[39m) \u001b[38;5;66;03m#lower band\u001b[39;00m\n\u001b[1;32m---> 17\u001b[0m ax2\u001b[38;5;241m.\u001b[39mfill_between(df1\u001b[38;5;241m.\u001b[39mindex, df1[\u001b[38;5;124m'\u001b[39m\u001b[38;5;124mbbub\u001b[39m\u001b[38;5;124m'\u001b[39m], df1[\u001b[38;5;124m'\u001b[39m\u001b[38;5;124mbblb\u001b[39m\u001b[38;5;124m'\u001b[39m], alpha\u001b[38;5;241m=\u001b[39m\u001b[38;5;241m0.1\u001b[39m)\n\u001b[0;32m     18\u001b[0m ax2\u001b[38;5;241m.\u001b[39mlegend(loc\u001b[38;5;241m=\u001b[39m\u001b[38;5;124m'\u001b[39m\u001b[38;5;124mupper left\u001b[39m\u001b[38;5;124m'\u001b[39m)\n\u001b[0;32m     19\u001b[0m ax2\u001b[38;5;241m.\u001b[39mgrid()\n",
      "File \u001b[1;32m~\\anaconda3\\Lib\\site-packages\\matplotlib\\__init__.py:1446\u001b[0m, in \u001b[0;36m_preprocess_data.<locals>.inner\u001b[1;34m(ax, data, *args, **kwargs)\u001b[0m\n\u001b[0;32m   1443\u001b[0m \u001b[38;5;129m@functools\u001b[39m\u001b[38;5;241m.\u001b[39mwraps(func)\n\u001b[0;32m   1444\u001b[0m \u001b[38;5;28;01mdef\u001b[39;00m \u001b[38;5;21minner\u001b[39m(ax, \u001b[38;5;241m*\u001b[39margs, data\u001b[38;5;241m=\u001b[39m\u001b[38;5;28;01mNone\u001b[39;00m, \u001b[38;5;241m*\u001b[39m\u001b[38;5;241m*\u001b[39mkwargs):\n\u001b[0;32m   1445\u001b[0m     \u001b[38;5;28;01mif\u001b[39;00m data \u001b[38;5;129;01mis\u001b[39;00m \u001b[38;5;28;01mNone\u001b[39;00m:\n\u001b[1;32m-> 1446\u001b[0m         \u001b[38;5;28;01mreturn\u001b[39;00m func(ax, \u001b[38;5;241m*\u001b[39m\u001b[38;5;28mmap\u001b[39m(sanitize_sequence, args), \u001b[38;5;241m*\u001b[39m\u001b[38;5;241m*\u001b[39mkwargs)\n\u001b[0;32m   1448\u001b[0m     bound \u001b[38;5;241m=\u001b[39m new_sig\u001b[38;5;241m.\u001b[39mbind(ax, \u001b[38;5;241m*\u001b[39margs, \u001b[38;5;241m*\u001b[39m\u001b[38;5;241m*\u001b[39mkwargs)\n\u001b[0;32m   1449\u001b[0m     auto_label \u001b[38;5;241m=\u001b[39m (bound\u001b[38;5;241m.\u001b[39marguments\u001b[38;5;241m.\u001b[39mget(label_namer)\n\u001b[0;32m   1450\u001b[0m                   \u001b[38;5;129;01mor\u001b[39;00m bound\u001b[38;5;241m.\u001b[39mkwargs\u001b[38;5;241m.\u001b[39mget(label_namer))\n",
      "File \u001b[1;32m~\\anaconda3\\Lib\\site-packages\\matplotlib\\axes\\_axes.py:5425\u001b[0m, in \u001b[0;36mAxes.fill_between\u001b[1;34m(self, x, y1, y2, where, interpolate, step, **kwargs)\u001b[0m\n\u001b[0;32m   5423\u001b[0m \u001b[38;5;28;01mdef\u001b[39;00m \u001b[38;5;21mfill_between\u001b[39m(\u001b[38;5;28mself\u001b[39m, x, y1, y2\u001b[38;5;241m=\u001b[39m\u001b[38;5;241m0\u001b[39m, where\u001b[38;5;241m=\u001b[39m\u001b[38;5;28;01mNone\u001b[39;00m, interpolate\u001b[38;5;241m=\u001b[39m\u001b[38;5;28;01mFalse\u001b[39;00m,\n\u001b[0;32m   5424\u001b[0m                  step\u001b[38;5;241m=\u001b[39m\u001b[38;5;28;01mNone\u001b[39;00m, \u001b[38;5;241m*\u001b[39m\u001b[38;5;241m*\u001b[39mkwargs):\n\u001b[1;32m-> 5425\u001b[0m     \u001b[38;5;28;01mreturn\u001b[39;00m \u001b[38;5;28mself\u001b[39m\u001b[38;5;241m.\u001b[39m_fill_between_x_or_y(\n\u001b[0;32m   5426\u001b[0m         \u001b[38;5;124m\"\u001b[39m\u001b[38;5;124mx\u001b[39m\u001b[38;5;124m\"\u001b[39m, x, y1, y2,\n\u001b[0;32m   5427\u001b[0m         where\u001b[38;5;241m=\u001b[39mwhere, interpolate\u001b[38;5;241m=\u001b[39minterpolate, step\u001b[38;5;241m=\u001b[39mstep, \u001b[38;5;241m*\u001b[39m\u001b[38;5;241m*\u001b[39mkwargs)\n",
      "File \u001b[1;32m~\\anaconda3\\Lib\\site-packages\\matplotlib\\axes\\_axes.py:5330\u001b[0m, in \u001b[0;36mAxes._fill_between_x_or_y\u001b[1;34m(self, ind_dir, ind, dep1, dep2, where, interpolate, step, **kwargs)\u001b[0m\n\u001b[0;32m   5326\u001b[0m         kwargs[\u001b[38;5;124m\"\u001b[39m\u001b[38;5;124mfacecolor\u001b[39m\u001b[38;5;124m\"\u001b[39m] \u001b[38;5;241m=\u001b[39m \\\n\u001b[0;32m   5327\u001b[0m             \u001b[38;5;28mself\u001b[39m\u001b[38;5;241m.\u001b[39m_get_patches_for_fill\u001b[38;5;241m.\u001b[39mget_next_color()\n\u001b[0;32m   5329\u001b[0m \u001b[38;5;66;03m# Handle united data, such as dates\u001b[39;00m\n\u001b[1;32m-> 5330\u001b[0m ind, dep1, dep2 \u001b[38;5;241m=\u001b[39m \u001b[38;5;28mmap\u001b[39m(\n\u001b[0;32m   5331\u001b[0m     ma\u001b[38;5;241m.\u001b[39mmasked_invalid, \u001b[38;5;28mself\u001b[39m\u001b[38;5;241m.\u001b[39m_process_unit_info(\n\u001b[0;32m   5332\u001b[0m         [(ind_dir, ind), (dep_dir, dep1), (dep_dir, dep2)], kwargs))\n\u001b[0;32m   5334\u001b[0m \u001b[38;5;28;01mfor\u001b[39;00m name, array \u001b[38;5;129;01min\u001b[39;00m [\n\u001b[0;32m   5335\u001b[0m         (ind_dir, ind), (\u001b[38;5;124mf\u001b[39m\u001b[38;5;124m\"\u001b[39m\u001b[38;5;132;01m{\u001b[39;00mdep_dir\u001b[38;5;132;01m}\u001b[39;00m\u001b[38;5;124m1\u001b[39m\u001b[38;5;124m\"\u001b[39m, dep1), (\u001b[38;5;124mf\u001b[39m\u001b[38;5;124m\"\u001b[39m\u001b[38;5;132;01m{\u001b[39;00mdep_dir\u001b[38;5;132;01m}\u001b[39;00m\u001b[38;5;124m2\u001b[39m\u001b[38;5;124m\"\u001b[39m, dep2)]:\n\u001b[0;32m   5336\u001b[0m     \u001b[38;5;28;01mif\u001b[39;00m array\u001b[38;5;241m.\u001b[39mndim \u001b[38;5;241m>\u001b[39m \u001b[38;5;241m1\u001b[39m:\n",
      "File \u001b[1;32m~\\anaconda3\\Lib\\site-packages\\numpy\\ma\\core.py:2360\u001b[0m, in \u001b[0;36mmasked_invalid\u001b[1;34m(a, copy)\u001b[0m\n\u001b[0;32m   2333\u001b[0m \u001b[38;5;250m\u001b[39m\u001b[38;5;124;03m\"\"\"\u001b[39;00m\n\u001b[0;32m   2334\u001b[0m \u001b[38;5;124;03mMask an array where invalid values occur (NaNs or infs).\u001b[39;00m\n\u001b[0;32m   2335\u001b[0m \n\u001b[1;32m   (...)\u001b[0m\n\u001b[0;32m   2357\u001b[0m \n\u001b[0;32m   2358\u001b[0m \u001b[38;5;124;03m\"\"\"\u001b[39;00m\n\u001b[0;32m   2359\u001b[0m a \u001b[38;5;241m=\u001b[39m np\u001b[38;5;241m.\u001b[39marray(a, copy\u001b[38;5;241m=\u001b[39m\u001b[38;5;28;01mFalse\u001b[39;00m, subok\u001b[38;5;241m=\u001b[39m\u001b[38;5;28;01mTrue\u001b[39;00m)\n\u001b[1;32m-> 2360\u001b[0m res \u001b[38;5;241m=\u001b[39m masked_where(\u001b[38;5;241m~\u001b[39m(np\u001b[38;5;241m.\u001b[39misfinite(a)), a, copy\u001b[38;5;241m=\u001b[39mcopy)\n\u001b[0;32m   2361\u001b[0m \u001b[38;5;66;03m# masked_invalid previously never returned nomask as a mask and doing so\u001b[39;00m\n\u001b[0;32m   2362\u001b[0m \u001b[38;5;66;03m# threw off matplotlib (gh-22842).  So use shrink=False:\u001b[39;00m\n\u001b[0;32m   2363\u001b[0m \u001b[38;5;28;01mif\u001b[39;00m res\u001b[38;5;241m.\u001b[39m_mask \u001b[38;5;129;01mis\u001b[39;00m nomask:\n",
      "\u001b[1;31mTypeError\u001b[0m: ufunc 'isfinite' not supported for the input types, and the inputs could not be safely coerced to any supported types according to the casting rule ''safe''"
     ]
    },
    {
     "data": {
      "image/png": "[encoded data removed]",
      "text/plain": [
       "<Figure size 1400x800 with 2 Axes>"
      ]
     },
     "metadata": {},
     "output_type": "display_data"
    }
   ],
   "source": [
    "#plot\n",
    "fig, ax1 = plt.subplots(figsize=(14,8))\n",
    "fig.suptitle(symbol, fontsize=10, backgroundcolor='blue', color='white')\n",
    "ax1 = plt.subplot2grid((14, 8), (0, 0), rowspan=8, colspan=14)\n",
    "ax2 = plt.subplot2grid((14, 12), (10, 0), rowspan=6, colspan=14)\n",
    "ax1.set_ylabel('Price')\n",
    "ax1.plot(df1['Adj Close'],label='Close Price', linewidth=0.5, color='blue')\n",
    "ax1.scatter(df1.index, df1['kr_Buy_Signal_price'], color='green', marker='^', alpha=1)\n",
    "ax1.scatter(df1.index, df1['kr_Sell_Signal_price'], color='red', marker='v', alpha=1)\n",
    "ax1.legend()\n",
    "ax1.grid()\n",
    "ax1.set_xlabel('Date', fontsize=8)\n",
    "\n",
    "ax2.plot(df1['Adj Close'], label='Close', color='blue', alpha=0.35) #middle band\n",
    "ax2.plot(df1['bbub'], label='Upper', color='green', alpha=0.35) #Upper band\n",
    "ax2.plot(df1['bblb'], label='Lower', color='red', alpha=0.35) #lower band\n",
    "ax2.fill_between(df1.index, df1['bbub'], df1['bblb'], alpha=0.1)\n",
    "ax2.legend(loc='upper left')\n",
    "ax2.grid()\n",
    "plt.show()"
   ]
  },
  {
   "cell_type": "code",
   "execution_count": null,
   "id": "39b75fee-a55e-417d-990a-b71a4914ccbd",
   "metadata": {
    "tags": []
   },
   "outputs": [],
   "source": [
    "df1[['kr_Buy_Signal_price','kr_Sell_Signal_price']].tail(1)"
   ]
  },
  {
   "cell_type": "markdown",
   "id": "3f7122a8-e783-4d55-807e-2f4e545a4510",
   "metadata": {},
   "source": [
    "## K's Reversal Indicator (III) 戦略の実装"
   ]
  },
  {
   "cell_type": "raw",
   "id": "7c074fd1-f827-4859-8201-8d4588dc0d5d",
   "metadata": {},
   "source": [
    "Maximize Your Trading Potential Using This Powerful Indicator\n",
    "https://medium.com/@kaabar-sofien/maximize-your-trading-potential-using-this-powerful-indicator-c7a623b2cee4"
   ]
  },
  {
   "cell_type": "code",
   "execution_count": null,
   "id": "5be12f26-19a0-4112-b3a6-4b7850deb3d0",
   "metadata": {},
   "outputs": [],
   "source": [
    "# 直近部分系列の相関係数の計算関数\n",
    "def ser_corr(x, y, timeperiod=20):\n",
    "    rcoef = np.full_like(x, np.nan)\n",
    "    for i in range(timeperiod - 1, len(x)):\n",
    "        xx = x[i-timeperiod+1 : i+1]\n",
    "        yy = y[i-timeperiod+1 : i+1]\n",
    "        rcoef[i] = np.corrcoef(xx, yy)[0, 1]\n",
    "    return rcoef"
   ]
  },
  {
   "cell_type": "code",
   "execution_count": null,
   "id": "5dfe2a1b-1534-4c7c-aa2d-e027ec21c427",
   "metadata": {},
   "outputs": [],
   "source": [
    "def kr_3_strategy(df):\n",
    "    kr_Buy = []\n",
    "    kr_Sell = []\n",
    "    df['return1'] = df['Adj Close'].diff(1)\n",
    "    df['return14'] = df['Adj Close'].diff(14)\n",
    "    df['rtcorr'] = ser_corr(df['return1'], df['return14'], timeperiod=14)\n",
    "    df['RSI'] = ta.RSI(df['Adj Close'], timeperiod=14)\n",
    "\n",
    "    for i in range(0, len(df)):\n",
    "        if df['rtcorr'][i] > 0.6 and df['RSI'][i] < 40:\n",
    "            kr_Sell.append(np.nan)\n",
    "            kr_Buy.append(df['Adj Close'][i])\n",
    "        elif df['rtcorr'][i] > 0.6 and df['RSI'][i] > 60:\n",
    "            kr_Buy.append(np.nan)\n",
    "            kr_Sell.append(df['Adj Close'][i])        \n",
    "        else:\n",
    "            kr_Buy.append(np.nan)\n",
    "            kr_Sell.append(np.nan)\n",
    "\n",
    "    df['kr_Buy_Signal_price'] = kr_Buy\n",
    "    df['kr_Sell_Signal_price'] = kr_Sell\n",
    "    return df"
   ]
  },
  {
   "cell_type": "code",
   "execution_count": null,
   "id": "20f36518-659f-4327-932e-74bf56ae6ffa",
   "metadata": {
    "tags": []
   },
   "outputs": [],
   "source": [
    "df3 = data.copy()\n",
    "df3 = kr_3_strategy(df3)\n",
    "df3"
   ]
  },
  {
   "cell_type": "code",
   "execution_count": null,
   "id": "9ddfe942-b865-405c-9213-36167988681f",
   "metadata": {
    "tags": []
   },
   "outputs": [],
   "source": [
    "df3.describe()"
   ]
  },
  {
   "cell_type": "markdown",
   "id": "1d80c052-4735-422c-bb2d-5dcfb5ac8fa1",
   "metadata": {},
   "source": [
    "## K's Reversal Indicator III 戦略の図示"
   ]
  },
  {
   "cell_type": "code",
   "execution_count": null,
   "id": "8b2ed8f3-d0d4-403a-89ff-710720aa69f6",
   "metadata": {
    "tags": []
   },
   "outputs": [],
   "source": [
    "#plot\n",
    "fig, ax1 = plt.subplots(figsize=(14,8))\n",
    "fig.suptitle(symbol, fontsize=10, backgroundcolor='blue', color='white')\n",
    "ax1 = plt.subplot2grid((14, 8), (0, 0), rowspan=8, colspan=14)\n",
    "ax2 = plt.subplot2grid((14, 12), (10, 0), rowspan=6, colspan=14)\n",
    "ax1.set_ylabel('Price')\n",
    "ax1.plot(df3['Adj Close'],label='Close Price', linewidth=0.5, color='blue')\n",
    "ax1.scatter(df3.index, df3['kr_Buy_Signal_price'], color='green', marker='^', alpha=1)\n",
    "ax1.scatter(df3.index, df3['kr_Sell_Signal_price'], color='red', marker='v', alpha=1)\n",
    "ax1.legend()\n",
    "ax1.grid()\n",
    "ax1.set_xlabel('Date', fontsize=8)\n",
    "\n",
    "ax2.plot(df3['RSI'], label='RSI', color='blue', alpha=0.35)\n",
    "ax2.legend(loc='upper left')\n",
    "ax2.grid()\n",
    "plt.show()"
   ]
  }
 ],
 "metadata": {
  "colab": {
   "provenance": [
    {
     "file_id": "19D1YZJbs2YzpybNF3bA-Xt16VhP2Nd94",
     "timestamp": 1707283956897
    },
    {
     "file_id": "16b8qsauiGYqpE4UC1evXULtUil-iAPHE",
     "timestamp": 1694868054206
    }
   ]
  },
  "kernelspec": {
   "display_name": "Python 3 (ipykernel)",
   "language": "python",
   "name": "python3"
  },
  "language_info": {
   "codemirror_mode": {
    "name": "ipython",
    "version": 3
   },
   "file_extension": ".py",
   "mimetype": "text/x-python",
   "name": "python",
   "nbconvert_exporter": "python",
   "pygments_lexer": "ipython3",
   "version": "3.11.5"
  }
 },
 "nbformat": 4,
 "nbformat_minor": 5
}
