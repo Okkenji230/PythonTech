{
 "cells": [
  {
   "cell_type": "markdown",
   "metadata": {
    "id": "82wGoLkYmJtx"
   },
   "source": [
    "# ログデータにおけるテキストデータ累積出現回数の算出"
   ]
  },
  {
   "cell_type": "markdown",
   "metadata": {
    "id": "gWr5F_OxJM04"
   },
   "source": [
    "様々な活動を記録したログデータにおいて、あるパターンの文字列が何回連続して登場したかをカウントすることが必要になる場合があります。これは集計処理とは異なるため、コーディングは多少ややこしくなります。\n",
    "ここでは例として、サッカーJリーグの歴代優勝チームのリストから、各年代毎に最多連勝のケースを求めます。"
   ]
  },
  {
   "cell_type": "code",
   "execution_count": 1,
   "metadata": {
    "executionInfo": {
     "elapsed": 16,
     "status": "ok",
     "timestamp": 1635988715308,
     "user": {
      "displayName": "Kenji Ono",
      "photoUrl": "https://lh3.googleusercontent.com/a-/AOh14GgzR9tGY8hf4Aw-59tuxUqKfEsdrSZVC-4fJjo8cA=s64",
      "userId": "14327041206082834894"
     },
     "user_tz": -540
    },
    "id": "A1tKsJ-fzIls"
   },
   "outputs": [],
   "source": [
    "# ライブラリのインポート\n",
    "import numpy as np\n",
    "import pandas as pd"
   ]
  },
  {
   "cell_type": "markdown",
   "metadata": {
    "id": "wSGtRT1wGK4H"
   },
   "source": [
    "まず、Jリーグの歴代優勝チームを記録したデータファイルを読み込みます。"
   ]
  },
  {
   "cell_type": "code",
   "execution_count": 2,
   "metadata": {
    "colab": {
     "base_uri": "https://localhost:8080/",
     "height": 202
    },
    "executionInfo": {
     "elapsed": 330,
     "status": "ok",
     "timestamp": 1635988715624,
     "user": {
      "displayName": "Kenji Ono",
      "photoUrl": "https://lh3.googleusercontent.com/a-/AOh14GgzR9tGY8hf4Aw-59tuxUqKfEsdrSZVC-4fJjo8cA=s64",
      "userId": "14327041206082834894"
     },
     "user_tz": -540
    },
    "id": "OdnSmRwcGCbF",
    "outputId": "5363cc9c-8d76-4f0d-df2c-a72341f1a0cd"
   },
   "outputs": [
    {
     "data": {
      "text/html": [
       "<div>\n",
       "<style scoped>\n",
       "    .dataframe tbody tr th:only-of-type {\n",
       "        vertical-align: middle;\n",
       "    }\n",
       "\n",
       "    .dataframe tbody tr th {\n",
       "        vertical-align: top;\n",
       "    }\n",
       "\n",
       "    .dataframe thead th {\n",
       "        text-align: right;\n",
       "    }\n",
       "</style>\n",
       "<table border=\"1\" class=\"dataframe\">\n",
       "  <thead>\n",
       "    <tr style=\"text-align: right;\">\n",
       "      <th></th>\n",
       "      <th>年代</th>\n",
       "      <th>年度</th>\n",
       "      <th>年間優勝</th>\n",
       "    </tr>\n",
       "  </thead>\n",
       "  <tbody>\n",
       "    <tr>\n",
       "      <th>0</th>\n",
       "      <td>1990年代</td>\n",
       "      <td>1993.0</td>\n",
       "      <td>ヴェルディ川崎</td>\n",
       "    </tr>\n",
       "    <tr>\n",
       "      <th>1</th>\n",
       "      <td>1990年代</td>\n",
       "      <td>1994.0</td>\n",
       "      <td>ヴェルディ川崎</td>\n",
       "    </tr>\n",
       "    <tr>\n",
       "      <th>2</th>\n",
       "      <td>1990年代</td>\n",
       "      <td>1995.0</td>\n",
       "      <td>横浜マリノス</td>\n",
       "    </tr>\n",
       "    <tr>\n",
       "      <th>3</th>\n",
       "      <td>1990年代</td>\n",
       "      <td>1996.0</td>\n",
       "      <td>鹿島アントラーズ</td>\n",
       "    </tr>\n",
       "    <tr>\n",
       "      <th>4</th>\n",
       "      <td>1990年代</td>\n",
       "      <td>1997.0</td>\n",
       "      <td>ジュビロ磐田</td>\n",
       "    </tr>\n",
       "  </tbody>\n",
       "</table>\n",
       "</div>"
      ],
      "text/plain": [
       "       年代      年度      年間優勝\n",
       "0  1990年代  1993.0   ヴェルディ川崎\n",
       "1  1990年代  1994.0   ヴェルディ川崎\n",
       "2  1990年代  1995.0    横浜マリノス\n",
       "3  1990年代  1996.0  鹿島アントラーズ\n",
       "4  1990年代  1997.0    ジュビロ磐田"
      ]
     },
     "execution_count": 2,
     "metadata": {},
     "output_type": "execute_result"
    }
   ],
   "source": [
    "df1 = pd.read_excel('サッカーJリーグ.xlsx',sheet_name='winner')\n",
    "df1.head()"
   ]
  },
  {
   "cell_type": "markdown",
   "metadata": {
    "id": "vJfh0ysuYXej"
   },
   "source": [
    "次に、年代ごとに年間優勝チームの連続累積出現回数を求めます。\n",
    "\n",
    "データフレームのあるカラムに対して、連続値の個数をカウントするには、値の変化点にフラグを立てて、cumsumで階段状の累積和を求めます。\n",
    "この累積和をグループ番号とすることで、ユニークなグループ化ができます。\n",
    "あとはgroupbyのcumcount()で各グループの個数をカウントします。"
   ]
  },
  {
   "cell_type": "code",
   "execution_count": 3,
   "metadata": {
    "colab": {
     "base_uri": "https://localhost:8080/",
     "height": 233
    },
    "executionInfo": {
     "elapsed": 18,
     "status": "ok",
     "timestamp": 1635988715961,
     "user": {
      "displayName": "Kenji Ono",
      "photoUrl": "https://lh3.googleusercontent.com/a-/AOh14GgzR9tGY8hf4Aw-59tuxUqKfEsdrSZVC-4fJjo8cA=s64",
      "userId": "14327041206082834894"
     },
     "user_tz": -540
    },
    "id": "WToqM5XTYvVV",
    "outputId": "0e1c27c5-5e0a-498c-fb4c-20a77ba5befb"
   },
   "outputs": [
    {
     "data": {
      "text/html": [
       "<div>\n",
       "<style scoped>\n",
       "    .dataframe tbody tr th:only-of-type {\n",
       "        vertical-align: middle;\n",
       "    }\n",
       "\n",
       "    .dataframe tbody tr th {\n",
       "        vertical-align: top;\n",
       "    }\n",
       "\n",
       "    .dataframe thead th {\n",
       "        text-align: right;\n",
       "    }\n",
       "</style>\n",
       "<table border=\"1\" class=\"dataframe\">\n",
       "  <thead>\n",
       "    <tr style=\"text-align: right;\">\n",
       "      <th></th>\n",
       "      <th>年度</th>\n",
       "      <th>年間優勝</th>\n",
       "      <th>win_cum</th>\n",
       "    </tr>\n",
       "    <tr>\n",
       "      <th>年代</th>\n",
       "      <th></th>\n",
       "      <th></th>\n",
       "      <th></th>\n",
       "    </tr>\n",
       "  </thead>\n",
       "  <tbody>\n",
       "    <tr>\n",
       "      <th>1990年代</th>\n",
       "      <td>1993.0</td>\n",
       "      <td>ヴェルディ川崎</td>\n",
       "      <td>1</td>\n",
       "    </tr>\n",
       "    <tr>\n",
       "      <th>1990年代</th>\n",
       "      <td>1994.0</td>\n",
       "      <td>ヴェルディ川崎</td>\n",
       "      <td>2</td>\n",
       "    </tr>\n",
       "    <tr>\n",
       "      <th>1990年代</th>\n",
       "      <td>1995.0</td>\n",
       "      <td>横浜マリノス</td>\n",
       "      <td>1</td>\n",
       "    </tr>\n",
       "    <tr>\n",
       "      <th>1990年代</th>\n",
       "      <td>1996.0</td>\n",
       "      <td>鹿島アントラーズ</td>\n",
       "      <td>1</td>\n",
       "    </tr>\n",
       "    <tr>\n",
       "      <th>1990年代</th>\n",
       "      <td>1997.0</td>\n",
       "      <td>ジュビロ磐田</td>\n",
       "      <td>1</td>\n",
       "    </tr>\n",
       "  </tbody>\n",
       "</table>\n",
       "</div>"
      ],
      "text/plain": [
       "            年度      年間優勝  win_cum\n",
       "年代                               \n",
       "1990年代  1993.0   ヴェルディ川崎        1\n",
       "1990年代  1994.0   ヴェルディ川崎        2\n",
       "1990年代  1995.0    横浜マリノス        1\n",
       "1990年代  1996.0  鹿島アントラーズ        1\n",
       "1990年代  1997.0    ジュビロ磐田        1"
      ]
     },
     "execution_count": 3,
     "metadata": {},
     "output_type": "execute_result"
    }
   ],
   "source": [
    "# 年代をインデックスに指定する\n",
    "df1.set_index('年代',inplace=True)\n",
    "df1['win_cum'] = df1.groupby(level=0)['年間優勝'].transform(lambda y:y.groupby((y != y.shift()).cumsum()).cumcount()+1)\n",
    "df1.head()"
   ]
  },
  {
   "cell_type": "markdown",
   "metadata": {
    "id": "q74pkF4lalGM"
   },
   "source": [
    "次に、年代毎に連続累積出現回数が最大の行を抽出します。\n",
    "最大値タイが複数ケースある場合は複数行抽出されます。"
   ]
  },
  {
   "cell_type": "code",
   "execution_count": 4,
   "metadata": {
    "colab": {
     "base_uri": "https://localhost:8080/",
     "height": 233
    },
    "executionInfo": {
     "elapsed": 18,
     "status": "ok",
     "timestamp": 1635988715964,
     "user": {
      "displayName": "Kenji Ono",
      "photoUrl": "https://lh3.googleusercontent.com/a-/AOh14GgzR9tGY8hf4Aw-59tuxUqKfEsdrSZVC-4fJjo8cA=s64",
      "userId": "14327041206082834894"
     },
     "user_tz": -540
    },
    "id": "_Djd_sVSbFRk",
    "outputId": "60103dc9-2648-4258-af90-935c2549999b"
   },
   "outputs": [
    {
     "data": {
      "text/html": [
       "<div>\n",
       "<style scoped>\n",
       "    .dataframe tbody tr th:only-of-type {\n",
       "        vertical-align: middle;\n",
       "    }\n",
       "\n",
       "    .dataframe tbody tr th {\n",
       "        vertical-align: top;\n",
       "    }\n",
       "\n",
       "    .dataframe thead th {\n",
       "        text-align: right;\n",
       "    }\n",
       "</style>\n",
       "<table border=\"1\" class=\"dataframe\">\n",
       "  <thead>\n",
       "    <tr style=\"text-align: right;\">\n",
       "      <th></th>\n",
       "      <th></th>\n",
       "      <th>年間優勝</th>\n",
       "      <th>win_cum</th>\n",
       "    </tr>\n",
       "    <tr>\n",
       "      <th>年代</th>\n",
       "      <th>年度</th>\n",
       "      <th></th>\n",
       "      <th></th>\n",
       "    </tr>\n",
       "  </thead>\n",
       "  <tbody>\n",
       "    <tr>\n",
       "      <th>1990年代</th>\n",
       "      <th>1994.0</th>\n",
       "      <td>ヴェルディ川崎</td>\n",
       "      <td>2</td>\n",
       "    </tr>\n",
       "    <tr>\n",
       "      <th>2000年代</th>\n",
       "      <th>2009.0</th>\n",
       "      <td>鹿島アントラーズ</td>\n",
       "      <td>3</td>\n",
       "    </tr>\n",
       "    <tr>\n",
       "      <th rowspan=\"2\" valign=\"top\">2010年代</th>\n",
       "      <th>2013.0</th>\n",
       "      <td>サンフレッチェ広島</td>\n",
       "      <td>2</td>\n",
       "    </tr>\n",
       "    <tr>\n",
       "      <th>2018.0</th>\n",
       "      <td>川崎フロンターレ</td>\n",
       "      <td>2</td>\n",
       "    </tr>\n",
       "    <tr>\n",
       "      <th>2020年代</th>\n",
       "      <th>2021.0</th>\n",
       "      <td>川崎フロンターレ</td>\n",
       "      <td>2</td>\n",
       "    </tr>\n",
       "  </tbody>\n",
       "</table>\n",
       "</div>"
      ],
      "text/plain": [
       "                    年間優勝  win_cum\n",
       "年代     年度                        \n",
       "1990年代 1994.0    ヴェルディ川崎        2\n",
       "2000年代 2009.0   鹿島アントラーズ        3\n",
       "2010年代 2013.0  サンフレッチェ広島        2\n",
       "       2018.0   川崎フロンターレ        2\n",
       "2020年代 2021.0   川崎フロンターレ        2"
      ]
     },
     "execution_count": 4,
     "metadata": {},
     "output_type": "execute_result"
    }
   ],
   "source": [
    "df2 = df1.set_index('年度',append=True)\n",
    "df3 = df2[df2.groupby(level=0)['win_cum'].apply(lambda x: x==x.max())]\n",
    "df3"
   ]
  }
 ],
 "metadata": {
  "colab": {
   "authorship_tag": "ABX9TyPYI89oq2WcSs9gw0V/vB9G",
   "collapsed_sections": [],
   "name": "cumulative_demo",
   "provenance": [
    {
     "file_id": "1haqZSaWrNM4dZ5u762_o7RXvz5GcaABl",
     "timestamp": 1635259803677
    }
   ]
  },
  "kernelspec": {
   "display_name": "Python 3 (ipykernel)",
   "language": "python",
   "name": "python3"
  },
  "language_info": {
   "codemirror_mode": {
    "name": "ipython",
    "version": 3
   },
   "file_extension": ".py",
   "mimetype": "text/x-python",
   "name": "python",
   "nbconvert_exporter": "python",
   "pygments_lexer": "ipython3",
   "version": "3.9.7"
  },
  "toc": {
   "base_numbering": 1,
   "nav_menu": {},
   "number_sections": true,
   "sideBar": true,
   "skip_h1_title": false,
   "title_cell": "Table of Contents",
   "title_sidebar": "Contents",
   "toc_cell": false,
   "toc_position": {},
   "toc_section_display": true,
   "toc_window_display": false
  },
  "varInspector": {
   "cols": {
    "lenName": 16,
    "lenType": 16,
    "lenVar": 40
   },
   "kernels_config": {
    "python": {
     "delete_cmd_postfix": "",
     "delete_cmd_prefix": "del ",
     "library": "var_list.py",
     "varRefreshCmd": "print(var_dic_list())"
    },
    "r": {
     "delete_cmd_postfix": ") ",
     "delete_cmd_prefix": "rm(",
     "library": "var_list.r",
     "varRefreshCmd": "cat(var_dic_list()) "
    }
   },
   "types_to_exclude": [
    "module",
    "function",
    "builtin_function_or_method",
    "instance",
    "_Feature"
   ],
   "window_display": false
  }
 },
 "nbformat": 4,
 "nbformat_minor": 1
}
