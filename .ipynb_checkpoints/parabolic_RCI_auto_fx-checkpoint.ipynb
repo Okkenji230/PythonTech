{
 "cells": [
  {
   "cell_type": "markdown",
   "id": "6fcd6eb9-924f-432c-82ee-03a29d35c7a0",
   "metadata": {
    "id": "6fcd6eb9-924f-432c-82ee-03a29d35c7a0"
   },
   "source": [
    "# パラボリックSARと順位相関指数(RCI)による自動シグナル判定 (FX)"
   ]
  },
  {
   "cell_type": "markdown",
   "id": "qGXyilAwN6cy",
   "metadata": {
    "id": "qGXyilAwN6cy"
   },
   "source": [
    "## 分析環境の構築"
   ]
  },
  {
   "cell_type": "code",
   "execution_count": 1,
   "id": "ec2659eb-9846-4d04-913a-5d9e9c86c75b",
   "metadata": {
    "executionInfo": {
     "elapsed": 3,
     "status": "ok",
     "timestamp": 1693203301964,
     "user": {
      "displayName": "Kenji Ono",
      "userId": "14327041206082834894"
     },
     "user_tz": -540
    },
    "id": "ec2659eb-9846-4d04-913a-5d9e9c86c75b"
   },
   "outputs": [],
   "source": [
    "import yfinance as yf\n",
    "from datetime import datetime, timedelta\n",
    "from datetime import date\n",
    "import pandas as pd\n",
    "import numpy as np\n",
    "from pandas_datareader import data as pdr\n",
    "import matplotlib.pyplot as plt\n",
    "import mplfinance as mpf\n",
    "import seaborn\n",
    "import mplfinance as mpf\n",
    "import talib as ta"
   ]
  },
  {
   "cell_type": "markdown",
   "id": "5d5c08aa-651a-4e93-a55c-07097766e9b0",
   "metadata": {
    "id": "5d5c08aa-651a-4e93-a55c-07097766e9b0"
   },
   "source": [
    "## 銘柄とデータ開始時期を指定して市場データを取得する"
   ]
  },
  {
   "cell_type": "raw",
   "id": "c085556f-d9e4-4620-9ce9-b98c0dd81625",
   "metadata": {},
   "source": [
    "\"USDJPY=X\", 英ポンドGBP, 豪ドルAUD, カナダドルCAD, NZドルNZD, メキシコペソMXN, ユーロEUR, スイスフランCHF, ノルウェークローネNOK,\n",
    "南アランドZAR, トルコリラTRY, イスラエルシュケルILS"
   ]
  },
  {
   "cell_type": "code",
   "execution_count": 2,
   "id": "e3022c95-6bf4-4bb3-9dc6-2cbe18b6e9a5",
   "metadata": {
    "tags": []
   },
   "outputs": [],
   "source": [
    "# シグナル判定する通貨ペアのリスト\n",
    "list_ticker = ['USDJPY=X', 'EURJPY=X', 'GBPJPY=X', 'AUDJPY=X', 'CADJPY=X', 'NZDJPY=X', 'MXNJPY=X', 'CHFJPY=X', 'NOKJPY=X',\\\n",
    "               'EURUSD=X', 'GBPUSD=X', 'AUDUSD=X', 'NZDUSD=X', 'AUDNZD=X', 'EURGBP=X', 'GBPAUD=X']"
   ]
  },
  {
   "cell_type": "markdown",
   "id": "0260ebaa-a79e-4564-a535-15c5650ee5f6",
   "metadata": {},
   "source": [
    "## パラボリックSARの計算関数"
   ]
  },
  {
   "cell_type": "code",
   "execution_count": 3,
   "id": "630a0c2a-858f-42da-ad13-01547794c4c7",
   "metadata": {
    "tags": []
   },
   "outputs": [],
   "source": [
    "# パラボリックSARの戦略関数\n",
    "def parabolic_sar_strategy(data):   \n",
    "   # パラボリックSARの計算\n",
    "   data['SAR'] = ta.SAR(data['High'], data['Low'], acceleration=0.02, maximum=0.2)\n",
    "   # シグナルの生成\n",
    "   data['Signal'] = 0  # 0 means no signal\n",
    "   data.loc[data['Close'] > data['SAR'], 'Signal'] = 1  # Buy signal\n",
    "   data.loc[data['Close'] < data['SAR'], 'Signal'] = -1  # Sell signal\n",
    "   # ポジションの生成\n",
    "   data['Position'] = data['Signal'].diff()\n",
    "   return data"
   ]
  },
  {
   "cell_type": "markdown",
   "id": "514a8fa3-758c-45b0-9415-0c3a42dc441e",
   "metadata": {},
   "source": [
    "## RCIの計算関数"
   ]
  },
  {
   "cell_type": "code",
   "execution_count": 4,
   "id": "0a2f4199-eba6-44a0-82b6-d9f5f4af77d0",
   "metadata": {
    "tags": []
   },
   "outputs": [],
   "source": [
    "# RCIの計算関数\n",
    "def rci(close, timeperiod=9):\n",
    "    rci = np.full_like(close, np.nan)\n",
    "    rank_period = np.arange(1, timeperiod + 1)\n",
    "    for i in range(timeperiod - 1, len(close)):\n",
    "        rank_price = close[i - timeperiod + 1:i + 1]\n",
    "        rank_price = np.argsort(np.argsort(rank_price)) + 1\n",
    "        aa = 6 * sum((rank_period - rank_price)**2)\n",
    "        bb = timeperiod * (timeperiod**2 - 1)\n",
    "        rci[i] = (1 - aa / bb) * 100\n",
    "    return rci"
   ]
  },
  {
   "cell_type": "markdown",
   "id": "955d7464-2b96-4a36-8de7-47b14121259e",
   "metadata": {},
   "source": [
    "## リスト内の銘柄毎の計算のループ"
   ]
  },
  {
   "cell_type": "code",
   "execution_count": 5,
   "id": "094a26f6-7d96-4989-8703-3b9afaf43f84",
   "metadata": {
    "tags": []
   },
   "outputs": [
    {
     "name": "stdout",
     "output_type": "stream",
     "text": [
      "[*********************100%%**********************]  1 of 1 completed\n",
      "[*********************100%%**********************]  1 of 1 completed\n",
      "[*********************100%%**********************]  1 of 1 completed\n",
      "[*********************100%%**********************]  1 of 1 completed\n",
      "[*********************100%%**********************]  1 of 1 completed\n",
      "[*********************100%%**********************]  1 of 1 completed\n",
      "[*********************100%%**********************]  1 of 1 completed\n",
      "[*********************100%%**********************]  1 of 1 completed\n",
      "[*********************100%%**********************]  1 of 1 completed\n",
      "[*********************100%%**********************]  1 of 1 completed\n",
      "[*********************100%%**********************]  1 of 1 completed\n",
      "[*********************100%%**********************]  1 of 1 completed\n",
      "[*********************100%%**********************]  1 of 1 completed\n",
      "[*********************100%%**********************]  1 of 1 completed\n",
      "[*********************100%%**********************]  1 of 1 completed\n",
      "[*********************100%%**********************]  1 of 1 completed\n",
      "[*********************100%%**********************]  1 of 1 completed\n",
      "[*********************100%%**********************]  1 of 1 completed\n",
      "[*********************100%%**********************]  1 of 1 completed\n"
     ]
    }
   ],
   "source": [
    "df_sar = pd.DataFrame()\n",
    "df_rci = pd.DataFrame()\n",
    "end = datetime.today()\n",
    "start = end - timedelta(days=180)  # 6 months before today\n",
    "for ticker in list_ticker:\n",
    "    end = datetime.today()\n",
    "    start = end - timedelta(days=182)  # 6 months before today\n",
    "    yf.pdr_override()\n",
    "    # yahooサイトからデータをダウンロード\n",
    "    data = pdr.get_data_yahoo(ticker, start, end) # パラボリック計算用\n",
    "    df = data.copy() # RCI計算用\n",
    "    # SAR諸指標の計算\n",
    "    df_parab = parabolic_sar_strategy(data)\n",
    "    # 順位相関指数(RCI)\n",
    "    df['RCI'] = rci(data['Close'])  \n",
    "    df['ticker'] = ticker\n",
    "    df_parab['ticker'] = ticker  \n",
    "    # 最終行を付け足す\n",
    "    df_sar = pd.concat([df_sar,df_parab.tail(1)],axis=0)\n",
    "    df_rci = pd.concat([df_rci,df.tail(1)],axis=0)"
   ]
  },
  {
   "cell_type": "markdown",
   "id": "f59d0921-00c1-4883-9447-189222534603",
   "metadata": {},
   "source": [
    "## SARのシグナルがある行に絞り込む"
   ]
  },
  {
   "cell_type": "code",
   "execution_count": 6,
   "id": "f546302f-82f3-4d1b-9939-1f90c3299d8a",
   "metadata": {
    "tags": []
   },
   "outputs": [
    {
     "data": {
      "text/html": [
       "<div>\n",
       "<style scoped>\n",
       "    .dataframe tbody tr th:only-of-type {\n",
       "        vertical-align: middle;\n",
       "    }\n",
       "\n",
       "    .dataframe tbody tr th {\n",
       "        vertical-align: top;\n",
       "    }\n",
       "\n",
       "    .dataframe thead th {\n",
       "        text-align: right;\n",
       "    }\n",
       "</style>\n",
       "<table border=\"1\" class=\"dataframe\">\n",
       "  <thead>\n",
       "    <tr style=\"text-align: right;\">\n",
       "      <th></th>\n",
       "      <th>SAR</th>\n",
       "      <th>Signal</th>\n",
       "      <th>Position</th>\n",
       "      <th>ticker</th>\n",
       "      <th>RCI</th>\n",
       "    </tr>\n",
       "  </thead>\n",
       "  <tbody>\n",
       "    <tr>\n",
       "      <th>0</th>\n",
       "      <td>153.312896</td>\n",
       "      <td>1</td>\n",
       "      <td>0.0</td>\n",
       "      <td>USDJPY=X</td>\n",
       "      <td>96.666667</td>\n",
       "    </tr>\n",
       "    <tr>\n",
       "      <th>1</th>\n",
       "      <td>190.188422</td>\n",
       "      <td>1</td>\n",
       "      <td>0.0</td>\n",
       "      <td>GBPJPY=X</td>\n",
       "      <td>NaN</td>\n",
       "    </tr>\n",
       "    <tr>\n",
       "      <th>2</th>\n",
       "      <td>110.945432</td>\n",
       "      <td>1</td>\n",
       "      <td>0.0</td>\n",
       "      <td>CADJPY=X</td>\n",
       "      <td>56.666667</td>\n",
       "    </tr>\n",
       "    <tr>\n",
       "      <th>3</th>\n",
       "      <td>90.517750</td>\n",
       "      <td>1</td>\n",
       "      <td>0.0</td>\n",
       "      <td>NZDJPY=X</td>\n",
       "      <td>NaN</td>\n",
       "    </tr>\n",
       "    <tr>\n",
       "      <th>4</th>\n",
       "      <td>166.766626</td>\n",
       "      <td>1</td>\n",
       "      <td>0.0</td>\n",
       "      <td>CHFJPY=X</td>\n",
       "      <td>66.666667</td>\n",
       "    </tr>\n",
       "    <tr>\n",
       "      <th>5</th>\n",
       "      <td>13.977109</td>\n",
       "      <td>1</td>\n",
       "      <td>0.0</td>\n",
       "      <td>NOKJPY=X</td>\n",
       "      <td>-80.000000</td>\n",
       "    </tr>\n",
       "    <tr>\n",
       "      <th>6</th>\n",
       "      <td>4.570078</td>\n",
       "      <td>1</td>\n",
       "      <td>0.0</td>\n",
       "      <td>TRYJPY=X</td>\n",
       "      <td>60.000000</td>\n",
       "    </tr>\n",
       "    <tr>\n",
       "      <th>7</th>\n",
       "      <td>1.914457</td>\n",
       "      <td>1</td>\n",
       "      <td>0.0</td>\n",
       "      <td>GBPAUD=X</td>\n",
       "      <td>76.666667</td>\n",
       "    </tr>\n",
       "    <tr>\n",
       "      <th>8</th>\n",
       "      <td>164.939745</td>\n",
       "      <td>-1</td>\n",
       "      <td>0.0</td>\n",
       "      <td>EURJPY=X</td>\n",
       "      <td>NaN</td>\n",
       "    </tr>\n",
       "    <tr>\n",
       "      <th>9</th>\n",
       "      <td>100.634630</td>\n",
       "      <td>-1</td>\n",
       "      <td>0.0</td>\n",
       "      <td>AUDJPY=X</td>\n",
       "      <td>-65.000000</td>\n",
       "    </tr>\n",
       "    <tr>\n",
       "      <th>10</th>\n",
       "      <td>9.320422</td>\n",
       "      <td>-1</td>\n",
       "      <td>0.0</td>\n",
       "      <td>MXNJPY=X</td>\n",
       "      <td>-50.000000</td>\n",
       "    </tr>\n",
       "    <tr>\n",
       "      <th>11</th>\n",
       "      <td>8.238000</td>\n",
       "      <td>-1</td>\n",
       "      <td>-2.0</td>\n",
       "      <td>ZARJPY=X</td>\n",
       "      <td>NaN</td>\n",
       "    </tr>\n",
       "    <tr>\n",
       "      <th>12</th>\n",
       "      <td>41.432817</td>\n",
       "      <td>-1</td>\n",
       "      <td>0.0</td>\n",
       "      <td>ILSJPY=X</td>\n",
       "      <td>NaN</td>\n",
       "    </tr>\n",
       "    <tr>\n",
       "      <th>13</th>\n",
       "      <td>1.080020</td>\n",
       "      <td>-1</td>\n",
       "      <td>0.0</td>\n",
       "      <td>EURUSD=X</td>\n",
       "      <td>-85.000000</td>\n",
       "    </tr>\n",
       "    <tr>\n",
       "      <th>14</th>\n",
       "      <td>1.263296</td>\n",
       "      <td>-1</td>\n",
       "      <td>0.0</td>\n",
       "      <td>GBPUSD=X</td>\n",
       "      <td>-81.666667</td>\n",
       "    </tr>\n",
       "    <tr>\n",
       "      <th>15</th>\n",
       "      <td>0.660537</td>\n",
       "      <td>-1</td>\n",
       "      <td>0.0</td>\n",
       "      <td>AUDUSD=X</td>\n",
       "      <td>-86.666667</td>\n",
       "    </tr>\n",
       "    <tr>\n",
       "      <th>16</th>\n",
       "      <td>0.604776</td>\n",
       "      <td>-1</td>\n",
       "      <td>0.0</td>\n",
       "      <td>NZDUSD=X</td>\n",
       "      <td>-86.666667</td>\n",
       "    </tr>\n",
       "    <tr>\n",
       "      <th>17</th>\n",
       "      <td>1.094477</td>\n",
       "      <td>-1</td>\n",
       "      <td>0.0</td>\n",
       "      <td>AUDNZD=X</td>\n",
       "      <td>-81.666667</td>\n",
       "    </tr>\n",
       "    <tr>\n",
       "      <th>18</th>\n",
       "      <td>0.857478</td>\n",
       "      <td>-1</td>\n",
       "      <td>0.0</td>\n",
       "      <td>EURGBP=X</td>\n",
       "      <td>-58.333333</td>\n",
       "    </tr>\n",
       "  </tbody>\n",
       "</table>\n",
       "</div>"
      ],
      "text/plain": [
       "           SAR  Signal  Position    ticker        RCI\n",
       "0   153.312896       1       0.0  USDJPY=X  96.666667\n",
       "1   190.188422       1       0.0  GBPJPY=X        NaN\n",
       "2   110.945432       1       0.0  CADJPY=X  56.666667\n",
       "3    90.517750       1       0.0  NZDJPY=X        NaN\n",
       "4   166.766626       1       0.0  CHFJPY=X  66.666667\n",
       "5    13.977109       1       0.0  NOKJPY=X -80.000000\n",
       "6     4.570078       1       0.0  TRYJPY=X  60.000000\n",
       "7     1.914457       1       0.0  GBPAUD=X  76.666667\n",
       "8   164.939745      -1       0.0  EURJPY=X        NaN\n",
       "9   100.634630      -1       0.0  AUDJPY=X -65.000000\n",
       "10    9.320422      -1       0.0  MXNJPY=X -50.000000\n",
       "11    8.238000      -1      -2.0  ZARJPY=X        NaN\n",
       "12   41.432817      -1       0.0  ILSJPY=X        NaN\n",
       "13    1.080020      -1       0.0  EURUSD=X -85.000000\n",
       "14    1.263296      -1       0.0  GBPUSD=X -81.666667\n",
       "15    0.660537      -1       0.0  AUDUSD=X -86.666667\n",
       "16    0.604776      -1       0.0  NZDUSD=X -86.666667\n",
       "17    1.094477      -1       0.0  AUDNZD=X -81.666667\n",
       "18    0.857478      -1       0.0  EURGBP=X -58.333333"
      ]
     },
     "execution_count": 6,
     "metadata": {},
     "output_type": "execute_result"
    }
   ],
   "source": [
    "# SARのシグナルがある行に絞り込む\n",
    "df1 = df_sar.loc[df_sar['Signal']==1]\n",
    "df2 = df_sar.loc[df_sar['Signal']==-1]\n",
    "df3 = pd.concat([df1, df2], axis=0)\n",
    "# RCIがLB以下かUB以上の行に絞り込む\n",
    "df11 = df_rci[df_rci['RCI'] <= -50]\n",
    "df12 = df_rci[df_rci['RCI'] >= 50]\n",
    "df13 = pd.concat([df11, df12], axis=0)\n",
    "# SARとRCIの結果を横連結する\n",
    "df4 = df3.reset_index()[['SAR','Signal','Position','ticker']]\n",
    "df14 = df13.reset_index()[['RCI','ticker']]\n",
    "df20 = pd.merge(df4, df14, on='ticker', how='outer')\n",
    "df20"
   ]
  }
 ],
 "metadata": {
  "colab": {
   "provenance": [
    {
     "file_id": "16MG8XuqAE9lUg4ggR-WTSVoUTW57yz2m",
     "timestamp": 1692768043092
    },
    {
     "file_id": "1huXuyf05gtW6F7kcaPlK4VnoUi4VrIbN",
     "timestamp": 1691627871630
    }
   ]
  },
  "kernelspec": {
   "display_name": "Python 3 (ipykernel)",
   "language": "python",
   "name": "python3"
  },
  "language_info": {
   "codemirror_mode": {
    "name": "ipython",
    "version": 3
   },
   "file_extension": ".py",
   "mimetype": "text/x-python",
   "name": "python",
   "nbconvert_exporter": "python",
   "pygments_lexer": "ipython3",
   "version": "3.11.5"
  }
 },
 "nbformat": 4,
 "nbformat_minor": 5
}
