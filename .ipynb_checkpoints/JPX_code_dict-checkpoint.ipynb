{
 "cells": [
  {
   "cell_type": "markdown",
   "metadata": {
    "id": "mrfEcTNz6mf1"
   },
   "source": [
    "# JPX銘柄コードのPython辞書化"
   ]
  },
  {
   "cell_type": "code",
   "execution_count": 1,
   "metadata": {
    "executionInfo": {
     "elapsed": 433,
     "status": "ok",
     "timestamp": 1693896214092,
     "user": {
      "displayName": "Kenji Ono",
      "userId": "14327041206082834894"
     },
     "user_tz": -540
    },
    "id": "5uocwFBztLct"
   },
   "outputs": [],
   "source": [
    "import pandas as pd\n",
    "import numpy as np\n",
    "import datetime\n",
    "import pprint\n",
    "from collections import OrderedDict\n",
    "import pickle"
   ]
  },
  {
   "cell_type": "markdown",
   "metadata": {
    "id": "cp19lsnO6mf5"
   },
   "source": [
    "## JPX銘柄コードファイルを読み込む"
   ]
  },
  {
   "cell_type": "code",
   "execution_count": 2,
   "metadata": {
    "colab": {
     "base_uri": "https://localhost:8080/",
     "height": 206
    },
    "executionInfo": {
     "elapsed": 1229,
     "status": "ok",
     "timestamp": 1693897890232,
     "user": {
      "displayName": "Kenji Ono",
      "userId": "14327041206082834894"
     },
     "user_tz": -540
    },
    "id": "Mqxq5s_u6mf6",
    "outputId": "7f3a56ff-ae7b-44bd-d66c-c1a5543eaa81"
   },
   "outputs": [
    {
     "data": {
      "text/html": [
       "<div>\n",
       "<style scoped>\n",
       "    .dataframe tbody tr th:only-of-type {\n",
       "        vertical-align: middle;\n",
       "    }\n",
       "\n",
       "    .dataframe tbody tr th {\n",
       "        vertical-align: top;\n",
       "    }\n",
       "\n",
       "    .dataframe thead th {\n",
       "        text-align: right;\n",
       "    }\n",
       "</style>\n",
       "<table border=\"1\" class=\"dataframe\">\n",
       "  <thead>\n",
       "    <tr style=\"text-align: right;\">\n",
       "      <th></th>\n",
       "      <th>日付</th>\n",
       "      <th>コード</th>\n",
       "      <th>銘柄名</th>\n",
       "      <th>市場・商品区分</th>\n",
       "      <th>33業種コード</th>\n",
       "      <th>33業種区分</th>\n",
       "      <th>17業種コード</th>\n",
       "      <th>17業種区分</th>\n",
       "      <th>規模コード</th>\n",
       "      <th>規模区分</th>\n",
       "      <th>code</th>\n",
       "    </tr>\n",
       "  </thead>\n",
       "  <tbody>\n",
       "    <tr>\n",
       "      <th>4275</th>\n",
       "      <td>20230731</td>\n",
       "      <td>9993</td>\n",
       "      <td>ヤマザワ</td>\n",
       "      <td>スタンダード（内国株式）</td>\n",
       "      <td>6100</td>\n",
       "      <td>小売業</td>\n",
       "      <td>14</td>\n",
       "      <td>小売</td>\n",
       "      <td>7</td>\n",
       "      <td>TOPIX Small 2</td>\n",
       "      <td>9993</td>\n",
       "    </tr>\n",
       "    <tr>\n",
       "      <th>4276</th>\n",
       "      <td>20230731</td>\n",
       "      <td>9994</td>\n",
       "      <td>やまや</td>\n",
       "      <td>スタンダード（内国株式）</td>\n",
       "      <td>6100</td>\n",
       "      <td>小売業</td>\n",
       "      <td>14</td>\n",
       "      <td>小売</td>\n",
       "      <td>7</td>\n",
       "      <td>TOPIX Small 2</td>\n",
       "      <td>9994</td>\n",
       "    </tr>\n",
       "    <tr>\n",
       "      <th>4277</th>\n",
       "      <td>20230731</td>\n",
       "      <td>9995</td>\n",
       "      <td>グローセル</td>\n",
       "      <td>プライム（内国株式）</td>\n",
       "      <td>6050</td>\n",
       "      <td>卸売業</td>\n",
       "      <td>13</td>\n",
       "      <td>商社・卸売</td>\n",
       "      <td>7</td>\n",
       "      <td>TOPIX Small 2</td>\n",
       "      <td>9995</td>\n",
       "    </tr>\n",
       "    <tr>\n",
       "      <th>4278</th>\n",
       "      <td>20230731</td>\n",
       "      <td>9996</td>\n",
       "      <td>サトー商会</td>\n",
       "      <td>スタンダード（内国株式）</td>\n",
       "      <td>6050</td>\n",
       "      <td>卸売業</td>\n",
       "      <td>13</td>\n",
       "      <td>商社・卸売</td>\n",
       "      <td>-</td>\n",
       "      <td>-</td>\n",
       "      <td>9996</td>\n",
       "    </tr>\n",
       "    <tr>\n",
       "      <th>4279</th>\n",
       "      <td>20230731</td>\n",
       "      <td>9997</td>\n",
       "      <td>ベルーナ</td>\n",
       "      <td>プライム（内国株式）</td>\n",
       "      <td>6100</td>\n",
       "      <td>小売業</td>\n",
       "      <td>14</td>\n",
       "      <td>小売</td>\n",
       "      <td>6</td>\n",
       "      <td>TOPIX Small 1</td>\n",
       "      <td>9997</td>\n",
       "    </tr>\n",
       "  </tbody>\n",
       "</table>\n",
       "</div>"
      ],
      "text/plain": [
       "            日付   コード    銘柄名       市場・商品区分 33業種コード 33業種区分 17業種コード  17業種区分  \\\n",
       "4275  20230731  9993   ヤマザワ  スタンダード（内国株式）    6100    小売業      14     小売    \n",
       "4276  20230731  9994    やまや  スタンダード（内国株式）    6100    小売業      14     小売    \n",
       "4277  20230731  9995  グローセル    プライム（内国株式）    6050    卸売業      13  商社・卸売    \n",
       "4278  20230731  9996  サトー商会  スタンダード（内国株式）    6050    卸売業      13  商社・卸売    \n",
       "4279  20230731  9997   ベルーナ    プライム（内国株式）    6100    小売業      14     小売    \n",
       "\n",
       "     規模コード           規模区分  code  \n",
       "4275     7  TOPIX Small 2  9993  \n",
       "4276     7  TOPIX Small 2  9994  \n",
       "4277     7  TOPIX Small 2  9995  \n",
       "4278     -              -  9996  \n",
       "4279     6  TOPIX Small 1  9997  "
      ]
     },
     "execution_count": 2,
     "metadata": {},
     "output_type": "execute_result"
    }
   ],
   "source": [
    "# JPXのホームページからダウンロードしたExcelファイル(.xlsxに変換)を読み込む\n",
    "df1 = pd.read_excel('JPX_code.xlsx')\n",
    "# 整数のコード番号から4ケタの文字列コードを作成する\n",
    "df1['code'] = df1['コード'].astype('str').str.zfill(4)\n",
    "df1.tail()"
   ]
  },
  {
   "cell_type": "code",
   "execution_count": 3,
   "metadata": {
    "colab": {
     "base_uri": "https://localhost:8080/"
    },
    "executionInfo": {
     "elapsed": 319,
     "status": "ok",
     "timestamp": 1693897894104,
     "user": {
      "displayName": "Kenji Ono",
      "userId": "14327041206082834894"
     },
     "user_tz": -540
    },
    "id": "9g9DJXltfIrP",
    "outputId": "386fc1da-db12-4a40-caac-8439d4529096"
   },
   "outputs": [
    {
     "name": "stdout",
     "output_type": "stream",
     "text": [
      "<class 'pandas.core.frame.DataFrame'>\n",
      "RangeIndex: 4280 entries, 0 to 4279\n",
      "Data columns (total 11 columns):\n",
      " #   Column   Non-Null Count  Dtype \n",
      "---  ------   --------------  ----- \n",
      " 0   日付       4280 non-null   int64 \n",
      " 1   コード      4280 non-null   int64 \n",
      " 2   銘柄名      4280 non-null   object\n",
      " 3   市場・商品区分  4280 non-null   object\n",
      " 4   33業種コード  4280 non-null   object\n",
      " 5   33業種区分   4280 non-null   object\n",
      " 6   17業種コード  4280 non-null   object\n",
      " 7   17業種区分   4280 non-null   object\n",
      " 8   規模コード    4280 non-null   object\n",
      " 9   規模区分     4280 non-null   object\n",
      " 10  code     4280 non-null   object\n",
      "dtypes: int64(2), object(9)\n",
      "memory usage: 367.9+ KB\n"
     ]
    }
   ],
   "source": [
    "df1.info()"
   ]
  },
  {
   "cell_type": "code",
   "execution_count": 4,
   "metadata": {
    "colab": {
     "base_uri": "https://localhost:8080/",
     "height": 289
    },
    "executionInfo": {
     "elapsed": 274,
     "status": "ok",
     "timestamp": 1693897902068,
     "user": {
      "displayName": "Kenji Ono",
      "userId": "14327041206082834894"
     },
     "user_tz": -540
    },
    "id": "rW6Kt10LgBXD",
    "outputId": "794f40a4-0db2-4088-acc9-f23ad1ed20ad"
   },
   "outputs": [
    {
     "data": {
      "text/html": [
       "<div>\n",
       "<style scoped>\n",
       "    .dataframe tbody tr th:only-of-type {\n",
       "        vertical-align: middle;\n",
       "    }\n",
       "\n",
       "    .dataframe tbody tr th {\n",
       "        vertical-align: top;\n",
       "    }\n",
       "\n",
       "    .dataframe thead th {\n",
       "        text-align: right;\n",
       "    }\n",
       "</style>\n",
       "<table border=\"1\" class=\"dataframe\">\n",
       "  <thead>\n",
       "    <tr style=\"text-align: right;\">\n",
       "      <th></th>\n",
       "      <th>日付</th>\n",
       "      <th>コード</th>\n",
       "      <th>銘柄名</th>\n",
       "      <th>市場・商品区分</th>\n",
       "      <th>33業種コード</th>\n",
       "      <th>33業種区分</th>\n",
       "      <th>17業種コード</th>\n",
       "      <th>17業種区分</th>\n",
       "      <th>規模コード</th>\n",
       "      <th>規模区分</th>\n",
       "    </tr>\n",
       "    <tr>\n",
       "      <th>code</th>\n",
       "      <th></th>\n",
       "      <th></th>\n",
       "      <th></th>\n",
       "      <th></th>\n",
       "      <th></th>\n",
       "      <th></th>\n",
       "      <th></th>\n",
       "      <th></th>\n",
       "      <th></th>\n",
       "      <th></th>\n",
       "    </tr>\n",
       "  </thead>\n",
       "  <tbody>\n",
       "    <tr>\n",
       "      <th>1301</th>\n",
       "      <td>20230731</td>\n",
       "      <td>1301</td>\n",
       "      <td>極洋</td>\n",
       "      <td>プライム（内国株式）</td>\n",
       "      <td>50</td>\n",
       "      <td>水産・農林業</td>\n",
       "      <td>1</td>\n",
       "      <td>食品</td>\n",
       "      <td>7</td>\n",
       "      <td>TOPIX Small 2</td>\n",
       "    </tr>\n",
       "    <tr>\n",
       "      <th>1305</th>\n",
       "      <td>20230731</td>\n",
       "      <td>1305</td>\n",
       "      <td>ｉＦｒｅｅＥＴＦ　ＴＯＰＩＸ（年１回決算型）</td>\n",
       "      <td>ETF・ETN</td>\n",
       "      <td>-</td>\n",
       "      <td>-</td>\n",
       "      <td>-</td>\n",
       "      <td>-</td>\n",
       "      <td>-</td>\n",
       "      <td>-</td>\n",
       "    </tr>\n",
       "    <tr>\n",
       "      <th>1306</th>\n",
       "      <td>20230731</td>\n",
       "      <td>1306</td>\n",
       "      <td>ＮＥＸＴ　ＦＵＮＤＳ　ＴＯＰＩＸ連動型上場投信</td>\n",
       "      <td>ETF・ETN</td>\n",
       "      <td>-</td>\n",
       "      <td>-</td>\n",
       "      <td>-</td>\n",
       "      <td>-</td>\n",
       "      <td>-</td>\n",
       "      <td>-</td>\n",
       "    </tr>\n",
       "    <tr>\n",
       "      <th>1308</th>\n",
       "      <td>20230731</td>\n",
       "      <td>1308</td>\n",
       "      <td>上場インデックスファンドＴＯＰＩＸ</td>\n",
       "      <td>ETF・ETN</td>\n",
       "      <td>-</td>\n",
       "      <td>-</td>\n",
       "      <td>-</td>\n",
       "      <td>-</td>\n",
       "      <td>-</td>\n",
       "      <td>-</td>\n",
       "    </tr>\n",
       "    <tr>\n",
       "      <th>1309</th>\n",
       "      <td>20230731</td>\n",
       "      <td>1309</td>\n",
       "      <td>ＮＥＸＴ　ＦＵＮＤＳ　ＣｈｉｎａＡＭＣ・中国株式・上証５０連動型上場投信</td>\n",
       "      <td>ETF・ETN</td>\n",
       "      <td>-</td>\n",
       "      <td>-</td>\n",
       "      <td>-</td>\n",
       "      <td>-</td>\n",
       "      <td>-</td>\n",
       "      <td>-</td>\n",
       "    </tr>\n",
       "  </tbody>\n",
       "</table>\n",
       "</div>"
      ],
      "text/plain": [
       "            日付   コード                                   銘柄名     市場・商品区分  \\\n",
       "code                                                                     \n",
       "1301  20230731  1301                                    極洋  プライム（内国株式）   \n",
       "1305  20230731  1305                ｉＦｒｅｅＥＴＦ　ＴＯＰＩＸ（年１回決算型）     ETF・ETN   \n",
       "1306  20230731  1306               ＮＥＸＴ　ＦＵＮＤＳ　ＴＯＰＩＸ連動型上場投信     ETF・ETN   \n",
       "1308  20230731  1308                     上場インデックスファンドＴＯＰＩＸ     ETF・ETN   \n",
       "1309  20230731  1309  ＮＥＸＴ　ＦＵＮＤＳ　ＣｈｉｎａＡＭＣ・中国株式・上証５０連動型上場投信     ETF・ETN   \n",
       "\n",
       "     33業種コード  33業種区分 17業種コード 17業種区分 規模コード           規模区分  \n",
       "code                                                      \n",
       "1301      50  水産・農林業       1    食品      7  TOPIX Small 2  \n",
       "1305       -       -       -      -     -              -  \n",
       "1306       -       -       -      -     -              -  \n",
       "1308       -       -       -      -     -              -  \n",
       "1309       -       -       -      -     -              -  "
      ]
     },
     "execution_count": 4,
     "metadata": {},
     "output_type": "execute_result"
    }
   ],
   "source": [
    "df2 = df1.set_index('code')\n",
    "df2.head()"
   ]
  },
  {
   "cell_type": "code",
   "execution_count": 5,
   "metadata": {
    "executionInfo": {
     "elapsed": 239,
     "status": "ok",
     "timestamp": 1693897911950,
     "user": {
      "displayName": "Kenji Ono",
      "userId": "14327041206082834894"
     },
     "user_tz": -540
    },
    "id": "wFxeQy-GhZep"
   },
   "outputs": [],
   "source": [
    "# pandas のto_dict()で作られるのは、｛列名：｛行名：値｝｝(デフォルト)\n",
    "jpx = df2.to_dict()['銘柄名']"
   ]
  },
  {
   "cell_type": "code",
   "execution_count": 9,
   "metadata": {
    "colab": {
     "base_uri": "https://localhost:8080/"
    },
    "executionInfo": {
     "elapsed": 241,
     "status": "ok",
     "timestamp": 1693897792445,
     "user": {
      "displayName": "Kenji Ono",
      "userId": "14327041206082834894"
     },
     "user_tz": -540
    },
    "id": "mVbMiLUqgO_f",
    "outputId": "41bbc27d-fd62-497c-c2b5-2a38c5833955"
   },
   "outputs": [
    {
     "name": "stdout",
     "output_type": "stream",
     "text": [
      "ナイス\n"
     ]
    }
   ],
   "source": [
    "# 辞書.get()でKeyErrorを回避できる\n",
    "print(jpx.get('8089'))"
   ]
  },
  {
   "cell_type": "code",
   "execution_count": 7,
   "metadata": {},
   "outputs": [],
   "source": [
    "# 辞書データをpickleファイルに保存する\n",
    "with open('JPX_code_dict.pickle', mode='wb') as f:\n",
    "    pickle.dump(jpx,f)"
   ]
  },
  {
   "cell_type": "code",
   "execution_count": 8,
   "metadata": {
    "id": "CH5p36cCMhwl"
   },
   "outputs": [],
   "source": [
    "# 辞書データをpickleファイルに保存する\n",
    "#import pickle\n",
    "\n",
    "#def pickle_dump(obj, path):\n",
    "#    with open(path, mode='wb') as f:\n",
    "#        pickle.dump(obj,f)\n",
    "\n",
    "#def pickle_load(path):\n",
    "#    with open(path, mode='rb') as f:\n",
    "#        data = pickle.load(f)\n",
    "#        return data"
   ]
  }
 ],
 "metadata": {
  "colab": {
   "provenance": [
    {
     "file_id": "1r1tZr5M3eWE1UpkduTdmQIqHEDvtzL_H",
     "timestamp": 1693801745461
    },
    {
     "file_id": "1LaAB3NZXLg7fYfN25XlWhdNXpI2166md",
     "timestamp": 1690636359212
    }
   ]
  },
  "kernelspec": {
   "display_name": "Python 3 (ipykernel)",
   "language": "python",
   "name": "python3"
  },
  "language_info": {
   "codemirror_mode": {
    "name": "ipython",
    "version": 3
   },
   "file_extension": ".py",
   "mimetype": "text/x-python",
   "name": "python",
   "nbconvert_exporter": "python",
   "pygments_lexer": "ipython3",
   "version": "3.9.13"
  },
  "toc": {
   "base_numbering": 1,
   "nav_menu": {},
   "number_sections": true,
   "sideBar": true,
   "skip_h1_title": false,
   "title_cell": "Table of Contents",
   "title_sidebar": "Contents",
   "toc_cell": false,
   "toc_position": {},
   "toc_section_display": true,
   "toc_window_display": false
  },
  "varInspector": {
   "cols": {
    "lenName": 16,
    "lenType": 16,
    "lenVar": 40
   },
   "kernels_config": {
    "python": {
     "delete_cmd_postfix": "",
     "delete_cmd_prefix": "del ",
     "library": "var_list.py",
     "varRefreshCmd": "print(var_dic_list())"
    },
    "r": {
     "delete_cmd_postfix": ") ",
     "delete_cmd_prefix": "rm(",
     "library": "var_list.r",
     "varRefreshCmd": "cat(var_dic_list()) "
    }
   },
   "types_to_exclude": [
    "module",
    "function",
    "builtin_function_or_method",
    "instance",
    "_Feature"
   ],
   "window_display": false
  }
 },
 "nbformat": 4,
 "nbformat_minor": 4
}
