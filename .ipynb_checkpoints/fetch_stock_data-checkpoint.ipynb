{
 "cells": [
  {
   "cell_type": "markdown",
   "id": "181bdfff-0cb2-4f95-9f89-00b6f5aacafe",
   "metadata": {},
   "source": [
    "# Stock Investment Strategies with Python"
   ]
  },
  {
   "cell_type": "markdown",
   "id": "5fef6d48-afb3-437d-b081-c2e755e1bcf4",
   "metadata": {},
   "source": [
    "## Fetching Stock Data Using Yahoo Finance API"
   ]
  },
  {
   "cell_type": "code",
   "execution_count": 1,
   "id": "fb31d666-9622-47f6-a344-ab5e27126b2a",
   "metadata": {},
   "outputs": [],
   "source": [
    "# Import libraries\n",
    "import yfinance as yf\n",
    "import pandas as pd\n",
    "from datetime import datetime, timedelta"
   ]
  },
  {
   "cell_type": "code",
   "execution_count": 2,
   "id": "a1b5e2b4-9097-4355-9597-cbc46e4f0646",
   "metadata": {},
   "outputs": [],
   "source": [
    "# Set output format\n",
    "pd.set_option('display.width',1000)\n",
    "pd.set_option('display.float_format','{:,.2f}'.format)"
   ]
  },
  {
   "cell_type": "raw",
   "id": "f24b3b31-4c39-490d-b127-b727f8d0a295",
   "metadata": {},
   "source": [
    "We use the Adjusted Close price to account for events such as stock splits, dividends, and issuance of new shares, ensuring the consistency of the time series data."
   ]
  },
  {
   "cell_type": "code",
   "execution_count": 3,
   "id": "5b0bc1b3-f530-44cc-9264-f496a960bdbc",
   "metadata": {},
   "outputs": [],
   "source": [
    "# 与えられたtickerシンボルの株価データを取得する\n",
    "def get_stock_data(ticker,start_date,end_date):\n",
    "    # Download stock data\n",
    "    data = yf.download(ticker,start=start_date,end=end_date)\n",
    "    # Calculate Trading Value\n",
    "    data['Trading Value'] = data['Volume']*data['Adj Close']\n",
    "    # Change column names for user convenience\n",
    "    data.columns = ['date','open','low','close','adj_close','volume','trading_value']\n",
    "    # Reset index and return data\n",
    "    return data.reset_index()"
   ]
  },
  {
   "cell_type": "raw",
   "id": "7a03879f-a22a-44cb-b2d0-bfdd7be86762",
   "metadata": {},
   "source": [
    "The Trading Value, calculated by multiplying the Volume by the Adjusted Close price, indicates the scale of stock trading. A higher Trading Value could signify a higher level of investor interest in the stock. This can help us select dates with high trading volume that also have a significant trading scale."
   ]
  },
  {
   "cell_type": "code",
   "execution_count": 4,
   "id": "fe58e1bb-81be-4425-add4-d83c565e0016",
   "metadata": {},
   "outputs": [
    {
     "name": "stdout",
     "output_type": "stream",
     "text": [
      "[*********************100%***********************]  1 of 1 completed\n",
      "        Date  date  open   low  close  adj_close    volume    trading_value\n",
      "0 2023-01-03 85.46 86.96 84.21  85.82      85.82  76706000 6,582,908,896.59\n",
      "1 2023-01-04 86.55 86.98 83.36  85.14      85.14  68885100 5,864,877,371.96\n",
      "2 2023-01-05 85.33 85.42 83.07  83.12      83.12  67930800 5,646,408,282.58\n",
      "3 2023-01-06 83.03 86.40 81.43  86.08      86.08  83303400 7,170,756,824.53\n",
      "4 2023-01-09 87.46 89.48 87.08  87.36      87.36  65266100 5,701,646,535.84\n"
     ]
    }
   ],
   "source": [
    "# Example: Fetching stock data\n",
    "ticker = 'AMZN'\n",
    "start_date = '2023-01-01'\n",
    "end_date = datetime.strftime(datetime.today(),\"%Y-%m-%d\")\n",
    "stock_data = get_stock_data(ticker,start_date,end_date)\n",
    "print(stock_data.head())"
   ]
  },
  {
   "cell_type": "markdown",
   "id": "af9d7765-ebe8-44f0-8675-321e57c5bbc0",
   "metadata": {},
   "source": [
    "## Finding Volume Spike Dates"
   ]
  },
  {
   "cell_type": "code",
   "execution_count": 5,
   "id": "1d759f59-2b97-430e-bc0a-49faf2f5081e",
   "metadata": {},
   "outputs": [],
   "source": [
    "def find_volume_spike_days(data, volume_multiplier):\n",
    "    # Calculate 20-day average volume\n",
    "    data['avg_volume'] = data['volume'].rolling(window=20,min_periods=1).mean()\n",
    "    # Find dates when volume is more than volume_multiplier times the 20-day average volume\n",
    "    volume_spike_days = data[data['volume'] > volume_multiplier*data['avg_volume']].index\n",
    "    # Return data from the most recent date of the found volume spikes\n",
    "    if len(volume_spike_days) > 0:\n",
    "        last_spike_day = volume_spike_days[-1]\n",
    "        return data[last_spike_day:]\n",
    "    else:\n",
    "        return data.iloc[0:0]"
   ]
  },
  {
   "cell_type": "markdown",
   "id": "a375ec8c-358e-4cf9-bc5b-1bb6a020e72e",
   "metadata": {},
   "source": [
    "## Finding High Trading Value Date"
   ]
  },
  {
   "cell_type": "code",
   "execution_count": 6,
   "id": "288e4d38-6ab1-43e6-832e-ce7fe16204b7",
   "metadata": {},
   "outputs": [],
   "source": [
    "def find_high_trading_value_days(data,top_n=5):\n",
    "    # Find the top n dates with the highest trading value\n",
    "    top_trading_value_days = data.nlargest(top_n,'trading_value').index\n",
    "    return top_trading_value_days"
   ]
  },
  {
   "cell_type": "code",
   "execution_count": 7,
   "id": "3fdc9b84-4ea4-4ce8-99b9-c88fad947919",
   "metadata": {},
   "outputs": [
    {
     "name": "stdout",
     "output_type": "stream",
     "text": [
      "         Date   date   open    low  close  adj_close    volume    trading_value    avg_volume\n",
      "88 2023-05-10 108.10 110.67 108.05 110.19     110.19  78627600 8,663,975,435.96 68,927,185.00\n",
      "89 2023-05-11 111.03 113.28 110.49 112.18     112.18  74924800 8,405,064,086.87 69,277,170.00\n",
      "90 2023-05-12 112.16 112.64 109.32 110.26     110.26  49810100 5,492,061,732.41 69,195,150.00\n",
      "91 2023-05-15 111.15 112.29 109.25 111.20     111.20  53011100 5,894,834,158.22 69,849,730.00\n",
      "92 2023-05-16 111.05 114.79 111.05 113.40     113.40  71472900 8,105,026,969.06 71,433,850.00\n",
      "93 2023-05-17 114.89 115.83 114.22 115.50     115.50  65655200 7,583,175,600.00 71,796,665.00\n",
      "94 2023-05-18 116.69 118.60 116.34 118.15     118.15  73174100 8,645,520,026.65 72,570,525.00\n",
      "95 2023-05-19 118.16 118.31 115.70 116.25     116.25  54990200 6,392,610,750.00 70,981,325.00\n",
      "96 2023-05-22 116.77 116.77 114.25 115.01     115.01  70741100 8,135,934,062.12 71,039,600.00\n",
      "97 2023-05-23 114.27 117.14 113.78 114.99     114.99  67494700 7,761,215,408.82 71,162,995.00\n",
      "Int64Index([21, 79, 22, 80, 24], dtype='int64')\n"
     ]
    }
   ],
   "source": [
    "# 関数のテスト\n",
    "print(find_volume_spike_days(stock_data, 1.1))\n",
    "print(find_high_trading_value_days(stock_data))"
   ]
  },
  {
   "cell_type": "markdown",
   "id": "2409999d-35e1-4a17-91d7-16f6a67cc977",
   "metadata": {},
   "source": [
    "## Checking Price Stability"
   ]
  },
  {
   "cell_type": "code",
   "execution_count": 8,
   "id": "ef8e42f4-478c-48af-bbaf-b27077711680",
   "metadata": {},
   "outputs": [],
   "source": [
    "def is_within_price_tolerance(data,price_tolerance):\n",
    "    # Check if the difference between the maximum and minimum prices is within the tolerance range by dividing it by the miimum price\n",
    "    return ((data['close'].max() - data['close'].min()) / data['close'].min()) <= price_tolerance"
   ]
  },
  {
   "cell_type": "code",
   "execution_count": 9,
   "id": "7a30c70f-5716-4de6-aa29-25e47f29ed50",
   "metadata": {},
   "outputs": [
    {
     "name": "stdout",
     "output_type": "stream",
     "text": [
      "True\n"
     ]
    }
   ],
   "source": [
    "# 関数のテスト\n",
    "print(is_within_price_tolerance(stock_data,1.5))"
   ]
  },
  {
   "cell_type": "markdown",
   "id": "dee4cf86-79e2-443f-9f68-98bbde53cef7",
   "metadata": {},
   "source": [
    "## Checking Support of the 5-day Simple Moving Average"
   ]
  },
  {
   "cell_type": "code",
   "execution_count": 10,
   "id": "ac6ba594-bee2-4e61-8bfe-d1e2a52da24f",
   "metadata": {},
   "outputs": [],
   "source": [
    "def is_supporting_5day_sma(data):\n",
    "    # Check if the stock price is supporting the 5-day moving average\n",
    "    return (data['close'] >= data['SMA_5']).all()"
   ]
  },
  {
   "cell_type": "markdown",
   "id": "857bce59-e4f7-4ae7-b74c-830200ee0d01",
   "metadata": {},
   "source": [
    "## Checking the Decline Ratio Against Peak Price Within a Period"
   ]
  },
  {
   "cell_type": "code",
   "execution_count": 11,
   "id": "ea03d6dd-18da-400e-a6a8-41d9b347c482",
   "metadata": {},
   "outputs": [],
   "source": [
    "def is_within_decline_threshold(data,decline_threshold):\n",
    "    # Calculate the decline rate between the peak price during the period and the current price\n",
    "    price_decline = (data['close'].max() - data['close'].iloc[-1]) / data['close'].max()\n",
    "    # Check if the decline rate is within the decline_threshold\n",
    "    return price_decline <= decline_threshold"
   ]
  },
  {
   "cell_type": "code",
   "execution_count": 12,
   "id": "c96114ff-9827-4511-a01c-2bd98484aec8",
   "metadata": {},
   "outputs": [
    {
     "name": "stdout",
     "output_type": "stream",
     "text": [
      "True\n"
     ]
    }
   ],
   "source": [
    "# 関数のテスト\n",
    "print(is_within_decline_threshold(stock_data,0.9))"
   ]
  },
  {
   "cell_type": "markdown",
   "id": "6cb6213c-2547-4c60-830e-aceef7bdbf4a",
   "metadata": {},
   "source": [
    "## Finding Stocks that Trade Sideways After a Volume Spike"
   ]
  },
  {
   "cell_type": "code",
   "execution_count": 13,
   "id": "e95d0749-e2a2-4ad2-a15a-8b178e5883ab",
   "metadata": {},
   "outputs": [],
   "source": [
    "def find_stable_stock(ticker,volume_multiplier=5,price_tolerance=0.03,top_n=5,decline_threshold=0.03):\n",
    "    # Get data for the past 5 weeks\n",
    "    today = datetime.strftime(datetime.today(),\"%Y-%m-%d\")\n",
    "    daysago = datetime.strftime(datetime.today()-timedelta(weeks=5),\"%Y-%m-%d\")\n",
    "    data = get_stock_data(ticker,daysago,today)\n",
    "    # Calculate the 5-day moving average\n",
    "    data['SMA_5'] = data['adj_close'].rolling(window=5,min_periods=1).mean()\n",
    "    # Find the dates of volume spikes\n",
    "    stable_period = find_volume_spike_days(data,volume_multiplier)\n",
    "    if stable_period is not None:\n",
    "        # Find the dates with high trading values\n",
    "        high_trading_value_days = find_high_trading_value_days(stable_period,top_n)\n",
    "    else:\n",
    "        high_trading_value_days = []\n",
    "    # Check if all conditions are met\n",
    "    if(len(set(high_trading_value_days) & set(stable_period.index)) >0 and\n",
    "       is_within_price_tolerance(stable_period,price_tolerance) and\n",
    "       is_supporting_5day_sma(stable_period) and\n",
    "       is_within_decline_threshold(stable_period,decline_threshold)):\n",
    "        return ticker\n",
    "    return None"
   ]
  },
  {
   "cell_type": "markdown",
   "id": "fcaaa1dc-4abc-43ed-b215-976cdca75bad",
   "metadata": {},
   "source": [
    "## Selecting Stocks from Multiple Tickers Based on the Strategy"
   ]
  },
  {
   "cell_type": "code",
   "execution_count": 14,
   "id": "22b01510-f5c1-4807-bb84-f5783c8f97d7",
   "metadata": {},
   "outputs": [],
   "source": [
    "from tqdm import tqdm\n",
    "def find_stable_stocks(tickers,volume_multiplier=5,price_tolerance=0.03,top_n=5,decline_threshold=0.03):\n",
    "    results=[]\n",
    "    for ticker in tickers:\n",
    "        # Call the find_stable_stock function for each ticker and get the result\n",
    "        result = find_stable_stock(ticker,volume_multiplier,price_tolerance)\n",
    "        if result:\n",
    "            results.append(result)\n",
    "    if not results:\n",
    "            results.append(\"No stable stocks found.\")\n",
    "    return results"
   ]
  },
  {
   "cell_type": "code",
   "execution_count": 15,
   "id": "53c4eb29-5555-424d-b277-2ab2f4e40ef9",
   "metadata": {},
   "outputs": [
    {
     "name": "stdout",
     "output_type": "stream",
     "text": [
      "[*********************100%***********************]  1 of 1 completed\n",
      "[*********************100%***********************]  1 of 1 completed\n",
      "[*********************100%***********************]  1 of 1 completed\n",
      "[*********************100%***********************]  1 of 1 completed\n",
      "[*********************100%***********************]  1 of 1 completed\n",
      "[*********************100%***********************]  1 of 1 completed\n",
      "['No stable stocks found.']\n"
     ]
    }
   ],
   "source": [
    "# 関数のテスト\n",
    "tickers = ['AAPL','AMZN','GOOG','META','MSFT','NFLX']\n",
    "print(find_stable_stocks(tickers))"
   ]
  },
  {
   "cell_type": "code",
   "execution_count": 16,
   "id": "3c1b11f1-598d-455d-b9d5-d2df291b0527",
   "metadata": {},
   "outputs": [
    {
     "data": {
      "text/html": [
       "<div>\n",
       "<style scoped>\n",
       "    .dataframe tbody tr th:only-of-type {\n",
       "        vertical-align: middle;\n",
       "    }\n",
       "\n",
       "    .dataframe tbody tr th {\n",
       "        vertical-align: top;\n",
       "    }\n",
       "\n",
       "    .dataframe thead th {\n",
       "        text-align: right;\n",
       "    }\n",
       "</style>\n",
       "<table border=\"1\" class=\"dataframe\">\n",
       "  <thead>\n",
       "    <tr style=\"text-align: right;\">\n",
       "      <th></th>\n",
       "      <th>company</th>\n",
       "      <th>ticker</th>\n",
       "      <th>value</th>\n",
       "    </tr>\n",
       "  </thead>\n",
       "  <tbody>\n",
       "    <tr>\n",
       "      <th>0</th>\n",
       "      <td>Exxon Mobil Corporation</td>\n",
       "      <td>XOM</td>\n",
       "      <td>$384,845.80</td>\n",
       "    </tr>\n",
       "    <tr>\n",
       "      <th>1</th>\n",
       "      <td>General Electric Company</td>\n",
       "      <td>GE</td>\n",
       "      <td>$346,042.10</td>\n",
       "    </tr>\n",
       "    <tr>\n",
       "      <th>2</th>\n",
       "      <td>Microsoft Corporation</td>\n",
       "      <td>MSFT</td>\n",
       "      <td>$299,647.60</td>\n",
       "    </tr>\n",
       "    <tr>\n",
       "      <th>3</th>\n",
       "      <td>BP p.l.c.</td>\n",
       "      <td>BP</td>\n",
       "      <td>$248,469.70</td>\n",
       "    </tr>\n",
       "    <tr>\n",
       "      <th>4</th>\n",
       "      <td>Citigroup, Inc.</td>\n",
       "      <td>C</td>\n",
       "      <td>$231,977.70</td>\n",
       "    </tr>\n",
       "  </tbody>\n",
       "</table>\n",
       "</div>"
      ],
      "text/plain": [
       "                    company ticker        value\n",
       "0   Exxon Mobil Corporation    XOM  $384,845.80\n",
       "1  General Electric Company     GE  $346,042.10\n",
       "2     Microsoft Corporation   MSFT  $299,647.60\n",
       "3                 BP p.l.c.     BP  $248,469.70\n",
       "4           Citigroup, Inc.      C  $231,977.70"
      ]
     },
     "execution_count": 16,
     "metadata": {},
     "output_type": "execute_result"
    }
   ],
   "source": [
    "#df_ustop = pd.read_table('us_top_ticker.tsv')\n",
    "#df_ustop.head()"
   ]
  },
  {
   "cell_type": "code",
   "execution_count": 18,
   "id": "829a25a8-1468-4867-94d8-354d96d146b9",
   "metadata": {},
   "outputs": [
    {
     "data": {
      "text/html": [
       "<div>\n",
       "<style scoped>\n",
       "    .dataframe tbody tr th:only-of-type {\n",
       "        vertical-align: middle;\n",
       "    }\n",
       "\n",
       "    .dataframe tbody tr th {\n",
       "        vertical-align: top;\n",
       "    }\n",
       "\n",
       "    .dataframe thead th {\n",
       "        text-align: right;\n",
       "    }\n",
       "</style>\n",
       "<table border=\"1\" class=\"dataframe\">\n",
       "  <thead>\n",
       "    <tr style=\"text-align: right;\">\n",
       "      <th></th>\n",
       "      <th>Symbol</th>\n",
       "      <th>Company Name</th>\n",
       "    </tr>\n",
       "  </thead>\n",
       "  <tbody>\n",
       "    <tr>\n",
       "      <th>0</th>\n",
       "      <td>AABA</td>\n",
       "      <td>Altaba Inc.</td>\n",
       "    </tr>\n",
       "    <tr>\n",
       "      <th>1</th>\n",
       "      <td>AAL</td>\n",
       "      <td>American Airlines Group, Inc.</td>\n",
       "    </tr>\n",
       "    <tr>\n",
       "      <th>2</th>\n",
       "      <td>AAME</td>\n",
       "      <td>Atlantic American Corporation</td>\n",
       "    </tr>\n",
       "    <tr>\n",
       "      <th>3</th>\n",
       "      <td>AAOI</td>\n",
       "      <td>Applied Optoelectronics, Inc.</td>\n",
       "    </tr>\n",
       "    <tr>\n",
       "      <th>4</th>\n",
       "      <td>AAON</td>\n",
       "      <td>AAON, Inc.</td>\n",
       "    </tr>\n",
       "  </tbody>\n",
       "</table>\n",
       "</div>"
      ],
      "text/plain": [
       "  Symbol                    Company Name\n",
       "0   AABA                    Altaba Inc. \n",
       "1    AAL  American Airlines Group, Inc. \n",
       "2   AAME  Atlantic American Corporation \n",
       "3   AAOI  Applied Optoelectronics, Inc. \n",
       "4   AAON                     AAON, Inc. "
      ]
     },
     "execution_count": 18,
     "metadata": {},
     "output_type": "execute_result"
    }
   ],
   "source": [
    "df_nas0 = pd.read_csv('nasdaq-listed-symbols.csv')\n",
    "df_nas0.head()"
   ]
  },
  {
   "cell_type": "code",
   "execution_count": 26,
   "id": "842c0320-461e-47ee-9538-b91390e25612",
   "metadata": {},
   "outputs": [
    {
     "name": "stdout",
     "output_type": "stream",
     "text": [
      "[*********************100%***********************]  1 of 1 completed\n",
      "[*********************100%***********************]  1 of 1 completed\n",
      "[*********************100%***********************]  1 of 1 completed\n",
      "[*********************100%***********************]  1 of 1 completed\n",
      "\n",
      "1 Failed download:\n",
      "- CPST: No timezone found, symbol may be delisted\n",
      "[*********************100%***********************]  1 of 1 completed\n",
      "\n",
      "1 Failed download:\n",
      "- CPTA: No timezone found, symbol may be delisted\n",
      "[*********************100%***********************]  1 of 1 completed\n",
      "\n",
      "1 Failed download:\n",
      "- CPTAG: No timezone found, symbol may be delisted\n",
      "[*********************100%***********************]  1 of 1 completed\n",
      "\n",
      "1 Failed download:\n",
      "- CPTAL: No timezone found, symbol may be delisted\n",
      "[*********************100%***********************]  1 of 1 completed\n",
      "[*********************100%***********************]  1 of 1 completed\n",
      "\n",
      "1 Failed download:\n",
      "- CRAY: No timezone found, symbol may be delisted\n",
      "[*********************100%***********************]  1 of 1 completed\n",
      "[*********************100%***********************]  1 of 1 completed\n",
      "\n",
      "1 Failed download:\n",
      "- CREE: No timezone found, symbol may be delisted\n",
      "[*********************100%***********************]  1 of 1 completed\n",
      "[*********************100%***********************]  1 of 1 completed\n",
      "[*********************100%***********************]  1 of 1 completed\n",
      "[*********************100%***********************]  1 of 1 completed\n",
      "[*********************100%***********************]  1 of 1 completed\n",
      "[*********************100%***********************]  1 of 1 completed\n",
      "[*********************100%***********************]  1 of 1 completed\n",
      "[*********************100%***********************]  1 of 1 completed\n",
      "[*********************100%***********************]  1 of 1 completed\n",
      "[*********************100%***********************]  1 of 1 completed\n",
      "[*********************100%***********************]  1 of 1 completed\n",
      "[*********************100%***********************]  1 of 1 completed\n",
      "\n",
      "1 Failed download:\n",
      "- CRUSC: No data found for this date range, symbol may be delisted\n",
      "[*********************100%***********************]  1 of 1 completed\n",
      "[*********************100%***********************]  1 of 1 completed\n",
      "[*********************100%***********************]  1 of 1 completed\n",
      "[*********************100%***********************]  1 of 1 completed\n",
      "\n",
      "1 Failed download:\n",
      "- CRZO: No timezone found, symbol may be delisted\n",
      "[*********************100%***********************]  1 of 1 completed\n",
      "[*********************100%***********************]  1 of 1 completed\n",
      "[*********************100%***********************]  1 of 1 completed\n",
      "[*********************100%***********************]  1 of 1 completed\n",
      "[*********************100%***********************]  1 of 1 completed\n",
      "[*********************100%***********************]  1 of 1 completed\n",
      "\n",
      "1 Failed download:\n",
      "- CSFL: No timezone found, symbol may be delisted\n",
      "[*********************100%***********************]  1 of 1 completed\n",
      "[*********************100%***********************]  1 of 1 completed\n",
      "[*********************100%***********************]  1 of 1 completed\n",
      "[*********************100%***********************]  1 of 1 completed\n",
      "[*********************100%***********************]  1 of 1 completed\n",
      "[*********************100%***********************]  1 of 1 completed\n",
      "\n",
      "1 Failed download:\n",
      "- CSOD: No timezone found, symbol may be delisted\n",
      "[*********************100%***********************]  1 of 1 completed\n",
      "[*********************100%***********************]  1 of 1 completed\n",
      "[*********************100%***********************]  1 of 1 completed\n",
      "[*********************100%***********************]  1 of 1 completed\n",
      "[*********************100%***********************]  1 of 1 completed\n",
      "[*********************100%***********************]  1 of 1 completed\n",
      "[*********************100%***********************]  1 of 1 completed\n",
      "[*********************100%***********************]  1 of 1 completed\n",
      "\n",
      "1 Failed download:\n",
      "- CSWCL: No timezone found, symbol may be delisted\n",
      "[*********************100%***********************]  1 of 1 completed\n",
      "[*********************100%***********************]  1 of 1 completed\n",
      "[*********************100%***********************]  1 of 1 completed\n",
      "[*********************100%***********************]  1 of 1 completed\n",
      "[*********************100%***********************]  1 of 1 completed\n",
      "[*********************100%***********************]  1 of 1 completed\n",
      "[*********************100%***********************]  1 of 1 completed\n",
      "[*********************100%***********************]  1 of 1 completed\n",
      "[*********************100%***********************]  1 of 1 completed\n",
      "[*********************100%***********************]  1 of 1 completed\n",
      "[*********************100%***********************]  1 of 1 completed\n",
      "\n",
      "1 Failed download:\n",
      "- CTRL: No timezone found, symbol may be delisted\n",
      "[*********************100%***********************]  1 of 1 completed\n",
      "[*********************100%***********************]  1 of 1 completed\n",
      "\n",
      "1 Failed download:\n",
      "- CTRP: No timezone found, symbol may be delisted\n",
      "[*********************100%***********************]  1 of 1 completed\n",
      "\n",
      "1 Failed download:\n",
      "- CTRV: No timezone found, symbol may be delisted\n",
      "[*********************100%***********************]  1 of 1 completed\n",
      "[*********************100%***********************]  1 of 1 completed\n",
      "[*********************100%***********************]  1 of 1 completed\n",
      "\n",
      "1 Failed download:\n",
      "- CTWS: No timezone found, symbol may be delisted\n",
      "[*********************100%***********************]  1 of 1 completed\n",
      "[*********************100%***********************]  1 of 1 completed\n",
      "\n",
      "1 Failed download:\n",
      "- CTXRW: No timezone found, symbol may be delisted\n",
      "[*********************100%***********************]  1 of 1 completed\n",
      "\n",
      "1 Failed download:\n",
      "- CTXS: No timezone found, symbol may be delisted\n",
      "[*********************100%***********************]  1 of 1 completed\n",
      "[*********************100%***********************]  1 of 1 completed\n",
      "[*********************100%***********************]  1 of 1 completed\n",
      "\n",
      "1 Failed download:\n",
      "- CUI: No timezone found, symbol may be delisted\n",
      "[*********************100%***********************]  1 of 1 completed\n",
      "\n",
      "1 Failed download:\n",
      "- CUR: No timezone found, symbol may be delisted\n",
      "[*********************100%***********************]  1 of 1 completed\n",
      "[*********************100%***********************]  1 of 1 completed\n",
      "[*********************100%***********************]  1 of 1 completed\n",
      "[*********************100%***********************]  1 of 1 completed\n",
      "[*********************100%***********************]  1 of 1 completed\n",
      "[*********************100%***********************]  1 of 1 completed\n",
      "[*********************100%***********************]  1 of 1 completed\n",
      "[*********************100%***********************]  1 of 1 completed\n",
      "[*********************100%***********************]  1 of 1 completed\n",
      "\n",
      "1 Failed download:\n",
      "- CVON: No data found for this date range, symbol may be delisted\n",
      "[*********************100%***********************]  1 of 1 completed\n",
      "\n",
      "1 Failed download:\n",
      "- CVTI: No timezone found, symbol may be delisted\n",
      "[*********************100%***********************]  1 of 1 completed\n",
      "[*********************100%***********************]  1 of 1 completed\n",
      "\n",
      "1 Failed download:\n",
      "- CWAY: No data found for this date range, symbol may be delisted\n",
      "[*********************100%***********************]  1 of 1 completed\n",
      "[*********************100%***********************]  1 of 1 completed\n",
      "[*********************100%***********************]  1 of 1 completed\n",
      "[*********************100%***********************]  1 of 1 completed\n",
      "[*********************100%***********************]  1 of 1 completed\n",
      "\n",
      "1 Failed download:\n",
      "- CXDC: No timezone found, symbol may be delisted\n",
      "[*********************100%***********************]  1 of 1 completed\n",
      "[*********************100%***********************]  1 of 1 completed\n",
      "\n",
      "1 Failed download:\n",
      "- CY: No timezone found, symbol may be delisted\n",
      "[*********************100%***********************]  1 of 1 completed\n",
      "[*********************100%***********************]  1 of 1 completed\n",
      "[*********************100%***********************]  1 of 1 completed\n",
      "\n",
      "1 Failed download:\n",
      "- CYBE: No timezone found, symbol may be delisted\n",
      "[*********************100%***********************]  1 of 1 completed\n",
      "[*********************100%***********************]  1 of 1 completed\n",
      "[*********************100%***********************]  1 of 1 completed\n",
      "[*********************100%***********************]  1 of 1 completed\n",
      "\n",
      "1 Failed download:\n",
      "- CYHHZ: No timezone found, symbol may be delisted\n",
      "[*********************100%***********************]  1 of 1 completed\n",
      "\n",
      "1 Failed download:\n",
      "- CYOU: No timezone found, symbol may be delisted\n",
      "[*********************100%***********************]  1 of 1 completed\n",
      "\n",
      "1 Failed download:\n",
      "- CYRN: No timezone found, symbol may be delisted\n",
      "[*********************100%***********************]  1 of 1 completed\n",
      "['CSML', 'CWBR']\n"
     ]
    }
   ],
   "source": [
    "#tickers = df_ustop['ticker'].tolist()\n",
    "tickers = df_nas0['Symbol'].tolist()[700:800]\n",
    "print(find_stable_stocks(tickers))"
   ]
  }
 ],
 "metadata": {
  "kernelspec": {
   "display_name": "Python 3 (ipykernel)",
   "language": "python",
   "name": "python3"
  },
  "language_info": {
   "codemirror_mode": {
    "name": "ipython",
    "version": 3
   },
   "file_extension": ".py",
   "mimetype": "text/x-python",
   "name": "python",
   "nbconvert_exporter": "python",
   "pygments_lexer": "ipython3",
   "version": "3.9.13"
  }
 },
 "nbformat": 4,
 "nbformat_minor": 5
}
