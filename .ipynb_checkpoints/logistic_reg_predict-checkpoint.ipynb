{
 "cells": [
  {
   "cell_type": "markdown",
   "id": "a19dd9f0-d3f5-4897-8bdf-e9c245419ee3",
   "metadata": {
    "id": "a19dd9f0-d3f5-4897-8bdf-e9c245419ee3"
   },
   "source": [
    "# ランダムフォレストによる値動きの予測"
   ]
  },
  {
   "cell_type": "raw",
   "id": "556c1571-fa29-4318-8d8d-1a3ca5c6d15c",
   "metadata": {},
   "source": [
    "Implementing a Machine Learning-Based Trading Strategy in Python: A Step-by-Step Guide\n",
    "https://wire.insiderfinance.io/implementing-a-machine-learning-based-trading-strategy-in-python-a-step-by-step-guide-bf8230124e92"
   ]
  },
  {
   "cell_type": "code",
   "execution_count": 3,
   "id": "YrjfmK4KXNKc",
   "metadata": {
    "executionInfo": {
     "elapsed": 14,
     "status": "ok",
     "timestamp": 1737716114752,
     "user": {
      "displayName": "Kenji Ono",
      "userId": "14327041206082834894"
     },
     "user_tz": -540
    },
    "id": "YrjfmK4KXNKc"
   },
   "outputs": [],
   "source": [
    "import yfinance as yf\n",
    "import pandas as pd\n",
    "import numpy as np\n",
    "import matplotlib.pyplot as plt\n",
    "import talib\n",
    "from datetime import date, datetime, timedelta\n",
    "from sklearn.model_selection import train_test_split\n",
    "from sklearn.ensemble import RandomForestClassifier\n",
    "from sklearn.metrics import accuracy_score\n",
    "import warnings\n",
    "warnings.simplefilter(action=\"ignore\", category=FutureWarning)"
   ]
  },
  {
   "cell_type": "markdown",
   "id": "5009ddc3-c776-44c1-8233-3d60adcc4228",
   "metadata": {},
   "source": [
    "## オシレーター指標関数の定義"
   ]
  },
  {
   "cell_type": "code",
   "execution_count": 5,
   "id": "c5c2e488-a321-42d8-86f2-ee9c9d0b117d",
   "metadata": {},
   "outputs": [],
   "source": [
    "# Elder's Force Index (EFI)\n",
    "def elder_force_index(df, period=2):\n",
    "    df['EFI'] = (df['Close'] - df['Close'].shift(1)) * df['Volume']\n",
    "    df['EFI_Smoothed'] = df['EFI'].rolling(window=period).mean()\n",
    "    return df['EFI_Smoothed']\n",
    "\n",
    "# true_strength_index (TSI)\n",
    "def true_strength_index(df, short_period=13, long_period=25):\n",
    "    df['Change'] = df['Close'] - df['Close'].shift(1)\n",
    "    df['Smoothed1'] = df['Change'].ewm(span=short_period, adjust=False).mean()\n",
    "    df['Smoothed2'] = df['Smoothed1'].ewm(span=long_period, adjust=False).mean()\n",
    "    df['AbsChange'] = abs(df['Change'])\n",
    "    df['AbsSmoothed1'] = df['AbsChange'].ewm(span=short_period, adjust=False).mean()\n",
    "    df['AbsSmoothed2'] = df['AbsSmoothed1'].ewm(span=long_period, adjust=False).mean()\n",
    "    df['TSI'] = (df['Smoothed2'] / df['AbsSmoothed2']) * 100\n",
    "    return df['TSI']\n",
    "\n",
    "# awesome oscillator (AO)\n",
    "def awesome_oscillator(df, wshort=5, wlong=34):\n",
    "  df['med'] = (df['High']+df['Low']) / 2\n",
    "  df['ao'] = df['med'].rolling(wshort).mean() - df['med'].rolling(wlong).mean()\n",
    "  df['ado'] = df['ao'] - df['ao'].rolling(wshort).mean()\n",
    "  return df['ao'], df['ado']"
   ]
  },
  {
   "cell_type": "markdown",
   "id": "d5ea186d-daca-4ffc-b8f5-d994a8e5c090",
   "metadata": {},
   "source": [
    "## パフォーマンス評価関数の定義"
   ]
  },
  {
   "cell_type": "code",
   "execution_count": 7,
   "id": "cxVeQ7WN3FbF",
   "metadata": {
    "executionInfo": {
     "elapsed": 11,
     "status": "ok",
     "timestamp": 1737716114752,
     "user": {
      "displayName": "Kenji Ono",
      "userId": "14327041206082834894"
     },
     "user_tz": -540
    },
    "id": "cxVeQ7WN3FbF"
   },
   "outputs": [],
   "source": [
    "def evaluate_performance(data):\n",
    "    cumulative_return = data['Portfolio_Value'].iloc[-1] / data['Portfolio_Value'].iloc[0] - 1\n",
    "    volatility = data['Strategy_Returns'].std() * (252**0.5)\n",
    "    sharpe_ratio = (data['Strategy_Returns'].mean() / data['Strategy_Returns'].std()) * (252**0.5)\n",
    "    return {\n",
    "        \"Cumulative Return\": cumulative_return,\n",
    "        \"Volatility\": volatility,\n",
    "        \"Sharpe Ratio\": sharpe_ratio\n",
    "    }"
   ]
  },
  {
   "cell_type": "markdown",
   "id": "fd37b0ac-fdb5-4949-ac2e-fcdb30e96c05",
   "metadata": {},
   "source": [
    "## 株価データの読み込み"
   ]
  },
  {
   "cell_type": "code",
   "execution_count": 9,
   "id": "44ce328d-d05f-4dda-96f2-2dca10c75484",
   "metadata": {},
   "outputs": [
    {
     "name": "stdout",
     "output_type": "stream",
     "text": [
      "[*********************100%***********************]  2 of 2 completed\n"
     ]
    }
   ],
   "source": [
    "# 特徴量に用いるためのインデックスデータも読み込む\n",
    "ticker = ['8801.T','^N225']\n",
    "end_date = datetime.today()\n",
    "start_date = end_date - timedelta(days=1095)\n",
    "data = yf.download(ticker, start_date, end_date)\n",
    "data['nk_close'] = data[('Close','^N225')]\n",
    "data.drop(columns=[('Open','^N225'),('Close','^N225'),('Adj Close','^N225'),\\\n",
    "                   ('High','^N225'),('Low','^N225'),('Volume','^N225')],inplace=True)\n",
    "data.columns = [col[0] if isinstance(col, tuple) else col for col in data.columns]\n",
    "data.index = pd.to_datetime(data.index)"
   ]
  },
  {
   "cell_type": "code",
   "execution_count": 10,
   "id": "8ba818a8-0337-4725-a72f-4fdc3daa5cb1",
   "metadata": {},
   "outputs": [
    {
     "data": {
      "text/html": [
       "<div>\n",
       "<style scoped>\n",
       "    .dataframe tbody tr th:only-of-type {\n",
       "        vertical-align: middle;\n",
       "    }\n",
       "\n",
       "    .dataframe tbody tr th {\n",
       "        vertical-align: top;\n",
       "    }\n",
       "\n",
       "    .dataframe thead th {\n",
       "        text-align: right;\n",
       "    }\n",
       "</style>\n",
       "<table border=\"1\" class=\"dataframe\">\n",
       "  <thead>\n",
       "    <tr style=\"text-align: right;\">\n",
       "      <th></th>\n",
       "      <th>Adj Close</th>\n",
       "      <th>Close</th>\n",
       "      <th>High</th>\n",
       "      <th>Low</th>\n",
       "      <th>Open</th>\n",
       "      <th>Volume</th>\n",
       "      <th>nk_close</th>\n",
       "    </tr>\n",
       "    <tr>\n",
       "      <th>Date</th>\n",
       "      <th></th>\n",
       "      <th></th>\n",
       "      <th></th>\n",
       "      <th></th>\n",
       "      <th></th>\n",
       "      <th></th>\n",
       "      <th></th>\n",
       "    </tr>\n",
       "  </thead>\n",
       "  <tbody>\n",
       "    <tr>\n",
       "      <th>2025-01-20</th>\n",
       "      <td>1292.5</td>\n",
       "      <td>1292.5</td>\n",
       "      <td>1301.5</td>\n",
       "      <td>1282.0</td>\n",
       "      <td>1288.0</td>\n",
       "      <td>8318100</td>\n",
       "      <td>38902.500000</td>\n",
       "    </tr>\n",
       "    <tr>\n",
       "      <th>2025-01-21</th>\n",
       "      <td>1283.0</td>\n",
       "      <td>1283.0</td>\n",
       "      <td>1294.5</td>\n",
       "      <td>1275.5</td>\n",
       "      <td>1290.5</td>\n",
       "      <td>5645100</td>\n",
       "      <td>39027.980469</td>\n",
       "    </tr>\n",
       "    <tr>\n",
       "      <th>2025-01-22</th>\n",
       "      <td>1290.5</td>\n",
       "      <td>1290.5</td>\n",
       "      <td>1298.0</td>\n",
       "      <td>1284.5</td>\n",
       "      <td>1290.0</td>\n",
       "      <td>6299000</td>\n",
       "      <td>39646.250000</td>\n",
       "    </tr>\n",
       "    <tr>\n",
       "      <th>2025-01-23</th>\n",
       "      <td>1313.5</td>\n",
       "      <td>1313.5</td>\n",
       "      <td>1316.0</td>\n",
       "      <td>1277.5</td>\n",
       "      <td>1286.5</td>\n",
       "      <td>10324200</td>\n",
       "      <td>39958.871094</td>\n",
       "    </tr>\n",
       "    <tr>\n",
       "      <th>2025-01-24</th>\n",
       "      <td>1326.0</td>\n",
       "      <td>1326.0</td>\n",
       "      <td>1372.0</td>\n",
       "      <td>1312.0</td>\n",
       "      <td>1320.0</td>\n",
       "      <td>19206000</td>\n",
       "      <td>39931.980469</td>\n",
       "    </tr>\n",
       "  </tbody>\n",
       "</table>\n",
       "</div>"
      ],
      "text/plain": [
       "            Adj Close   Close    High     Low    Open    Volume      nk_close\n",
       "Date                                                                         \n",
       "2025-01-20     1292.5  1292.5  1301.5  1282.0  1288.0   8318100  38902.500000\n",
       "2025-01-21     1283.0  1283.0  1294.5  1275.5  1290.5   5645100  39027.980469\n",
       "2025-01-22     1290.5  1290.5  1298.0  1284.5  1290.0   6299000  39646.250000\n",
       "2025-01-23     1313.5  1313.5  1316.0  1277.5  1286.5  10324200  39958.871094\n",
       "2025-01-24     1326.0  1326.0  1372.0  1312.0  1320.0  19206000  39931.980469"
      ]
     },
     "execution_count": 10,
     "metadata": {},
     "output_type": "execute_result"
    }
   ],
   "source": [
    "data.tail()"
   ]
  },
  {
   "cell_type": "markdown",
   "id": "bcc099cd-fa45-4920-bded-4de0e3419c7d",
   "metadata": {},
   "source": [
    "## 特徴量（説明変数）の生成"
   ]
  },
  {
   "cell_type": "code",
   "execution_count": 12,
   "id": "74c6a839-9df9-4aeb-ad62-f0ad9ffc4933",
   "metadata": {},
   "outputs": [],
   "source": [
    "# Create features based on prices \n",
    "data['SMA50'] = data['Close'].rolling(window=50).mean() \n",
    "data['SMA200'] = data['Close'].rolling(window=200).mean() \n",
    "data['Volatility'] = data['Close'].rolling(window=20).std() \n",
    "data['Daily_Return'] = data['Close'].pct_change() \n",
    "# calculate MACD\n",
    "data[\"macd\"], data[\"macdsignal\"], data[\"macdhist\"] = talib.MACD(data[\"Close\"],\\\n",
    "        fastperiod=12, slowperiod=26, signalperiod=9)\n",
    "data[\"nk_macd\"], data[\"nk_macdsignal\"], data[\"nk_macdhist\"] = talib.MACD(data[\"nk_close\"],\\\n",
    "        fastperiod=12, slowperiod=26, signalperiod=9)\n",
    "# calculate RSI\n",
    "data[\"RSI\"] = talib.RSI(data[\"Close\"], timeperiod=14)\n",
    "# calculate CMO\n",
    "data['CMO'] = talib.CMO(data['Close'], timeperiod=14)\n",
    "# calculate EFI\n",
    "data['EFI'] = elder_force_index(data)\n",
    "# calculate TSI\n",
    "data['TSI'] = true_strength_index(data)\n",
    "# calculate ARO\n",
    "data['ARO'] = talib.AROONOSC(data['High'], data['Low'], timeperiod=25)\n",
    "# calculate AO\n",
    "data['AO'], data['ADO'] = awesome_oscillator(data)\n",
    "# calculate TRIX\n",
    "data['TRIX'] = talib.TRIX(data['Close'], timeperiod=9)\n",
    "# calculate ADX\n",
    "data[\"ADX\"] = talib.ADX(data[\"High\"], data[\"Low\"], data[\"Close\"], timeperiod=14)\n",
    "# ボリューム系指標\n",
    "data[\"ADOSC\"] = talib.ADOSC(data[\"High\"], data[\"Low\"], data[\"Close\"], data[\"Volume\"], fastperiod=3, slowperiod=10)\n",
    "data[\"OBV\"] = talib.OBV(data[\"Close\"], data[\"Volume\"])"
   ]
  },
  {
   "cell_type": "markdown",
   "id": "f78d5abd-68f8-4946-8f9e-c077d48d292b",
   "metadata": {},
   "source": [
    "## 目的変数の生成"
   ]
  },
  {
   "cell_type": "code",
   "execution_count": 14,
   "id": "8b115a19-75a2-4f6f-8996-16f73cb3cfb1",
   "metadata": {},
   "outputs": [],
   "source": [
    "# Remove NaN rows \n",
    "data = data.dropna().reset_index()\n",
    "# Create binary target label for prediction\n",
    "data['Target'] = np.where(data['Close'].shift(-1) > data['Close'], 1, 0)"
   ]
  },
  {
   "cell_type": "markdown",
   "id": "c1b87147-e97e-418a-80d1-bf0e222b48fd",
   "metadata": {},
   "source": [
    "## 特徴量の指定とモデルの初期設定"
   ]
  },
  {
   "cell_type": "code",
   "execution_count": 16,
   "id": "5_VuP0zzYBkA",
   "metadata": {
    "executionInfo": {
     "elapsed": 5,
     "status": "ok",
     "timestamp": 1737716114979,
     "user": {
      "displayName": "Kenji Ono",
      "userId": "14327041206082834894"
     },
     "user_tz": -540
    },
    "id": "5_VuP0zzYBkA"
   },
   "outputs": [],
   "source": [
    "# Select features and target\n",
    "#features = ['macd','macdsignal','macdhist','RSI']\n",
    "#features = ['macd','macdsignal','macdhist','RSI','nk_macd','nk_macdsignal','nk_macdhist']\n",
    "features = ['SMA50','SMA200','Volatility','Daily_Return']\n",
    "X = data[features]\n",
    "y = data['Target']\n",
    "# Split the data into training and test sets\n",
    "X_train, X_test, y_train, y_test = train_test_split(X, y, test_size=0.2, shuffle=False)"
   ]
  },
  {
   "cell_type": "markdown",
   "id": "085020a6-b153-4cd4-9743-c16234203f93",
   "metadata": {},
   "source": [
    "## モデルの生成と学習"
   ]
  },
  {
   "cell_type": "code",
   "execution_count": 18,
   "id": "t6NjQK0gYWcj",
   "metadata": {
    "colab": {
     "base_uri": "https://localhost:8080/"
    },
    "executionInfo": {
     "elapsed": 240,
     "status": "ok",
     "timestamp": 1737716115215,
     "user": {
      "displayName": "Kenji Ono",
      "userId": "14327041206082834894"
     },
     "user_tz": -540
    },
    "id": "t6NjQK0gYWcj",
    "outputId": "f37e611a-185d-45cf-cac1-bbec22366311"
   },
   "outputs": [
    {
     "name": "stdout",
     "output_type": "stream",
     "text": [
      "Model accuracy: 0.52\n"
     ]
    }
   ],
   "source": [
    "# Create and train the model\n",
    "model = RandomForestClassifier(n_estimators=100, random_state=42)\n",
    "model.fit(X_train, y_train)\n",
    "# Evaluate the model\n",
    "predictions = model.predict(X_test)\n",
    "accuracy = accuracy_score(y_test, predictions)\n",
    "print(f\"Model accuracy: {accuracy:.2f}\")"
   ]
  },
  {
   "cell_type": "markdown",
   "id": "57a1775a-a6ab-4c2f-986f-69b20ba4fe0e",
   "metadata": {},
   "source": [
    "## ポジションとリターン"
   ]
  },
  {
   "cell_type": "code",
   "execution_count": 20,
   "id": "6YibID1KYbU9",
   "metadata": {
    "executionInfo": {
     "elapsed": 9,
     "status": "ok",
     "timestamp": 1737716115216,
     "user": {
      "displayName": "Kenji Ono",
      "userId": "14327041206082834894"
     },
     "user_tz": -540
    },
    "id": "6YibID1KYbU9"
   },
   "outputs": [],
   "source": [
    "# Add predictions to the test DataFrame\n",
    "data['Predicted_Signal'] = model.predict(X)\n",
    "# Create the trading position: 1 for buy, -1 for sell\n",
    "data['Position'] = data['Predicted_Signal'].shift()\n",
    "# Calculate strategy returns\n",
    "data['Strategy_Returns'] = data['Position'] * data['Daily_Return']\n",
    "data['Cumulative_Strategy_Returns'] = (1 + data['Strategy_Returns']).cumprod() - 1\n",
    "data['Cumulative_Market_Returns'] = (1 + data['Daily_Return']).cumprod() - 1"
   ]
  },
  {
   "cell_type": "markdown",
   "id": "c8e0e8cf-1924-4c21-889f-2080a29e9f86",
   "metadata": {},
   "source": [
    "## バックテスト"
   ]
  },
  {
   "cell_type": "code",
   "execution_count": 22,
   "id": "baAtlBfM2vR-",
   "metadata": {
    "colab": {
     "base_uri": "https://localhost:8080/"
    },
    "executionInfo": {
     "elapsed": 8,
     "status": "ok",
     "timestamp": 1737716115216,
     "user": {
      "displayName": "Kenji Ono",
      "userId": "14327041206082834894"
     },
     "user_tz": -540
    },
    "id": "baAtlBfM2vR-",
    "outputId": "1cd37992-e170-430d-ff93-1e9bdef3a5c1"
   },
   "outputs": [
    {
     "name": "stdout",
     "output_type": "stream",
     "text": [
      "8801.T  Performance\n",
      "{'Cumulative Return': 25.581009751101497, 'Volatility': 0.21465029002450367, 'Sharpe Ratio': 7.336605479420042}\n"
     ]
    }
   ],
   "source": [
    "initial_balance = 10000\n",
    "df = data.copy()\n",
    "df['Portfolio_Value'] = (1 + df['Strategy_Returns']).cumprod() * initial_balance\n",
    "df.at[df.index[0], 'Portfolio_Value'] = initial_balance\n",
    "performance = evaluate_performance(df)\n",
    "print(ticker[0]  + '  Performance')\n",
    "print(performance)"
   ]
  },
  {
   "cell_type": "markdown",
   "id": "aac0f853-1f8a-42c9-a637-45ccec6cf702",
   "metadata": {},
   "source": [
    "## パフォーマンスの図示"
   ]
  },
  {
   "cell_type": "code",
   "execution_count": 24,
   "id": "IvaZXYtGYfpN",
   "metadata": {
    "colab": {
     "base_uri": "https://localhost:8080/",
     "height": 622
    },
    "executionInfo": {
     "elapsed": 583,
     "status": "ok",
     "timestamp": 1737716115794,
     "user": {
      "displayName": "Kenji Ono",
      "userId": "14327041206082834894"
     },
     "user_tz": -540
    },
    "id": "IvaZXYtGYfpN",
    "outputId": "2b9f8b58-de37-4df2-fa61-0c5e22a71df8"
   },
   "outputs": [
    {
     "data": {
      "image/png": "[encoded data removed]",
      "text/plain": [
       "<Figure size 1400x700 with 1 Axes>"
      ]
     },
     "metadata": {},
     "output_type": "display_data"
    }
   ],
   "source": [
    "plt.figure(figsize=(14,7))\n",
    "plt.plot(data['Cumulative_Market_Returns'], label='Market Returns')\n",
    "plt.plot(data['Cumulative_Strategy_Returns'], label='Strategy Returns', alpha=0.7)\n",
    "plt.legend(loc='upper left')\n",
    "plt.title('Performance Comparison: ML Strategy vs. Market')\n",
    "plt.show()"
   ]
  }
 ],
 "metadata": {
  "colab": {
   "provenance": [
    {
     "file_id": "1dvRrTXHtvtC6bWW49k4CSa3X-aMje7y_",
     "timestamp": 1737605349446
    },
    {
     "file_id": "1v0B9_R3TmygaP5W-29meXHOLTpgQMAeD",
     "timestamp": 1736126579472
    },
    {
     "file_id": "1Oh5vBBqoiuiZBoXCOj2VfqCtKpnV8yi0",
     "timestamp": 1732195678253
    },
    {
     "file_id": "1k2wLOBwuIIkDmNQxoVM-sxf3tWU7PcUr",
     "timestamp": 1731224264132
    },
    {
     "file_id": "1ujuKktbkMW5WGW9ZqzCql-qOZEkYL0-6",
     "timestamp": 1730010626783
    },
    {
     "file_id": "1dKulbQ1mF-Q9DcbuBon-cCWvrqCZUjKj",
     "timestamp": 1728446204791
    },
    {
     "file_id": "181I-K8h3XFNjCa16kFfORO9uv8OYGt7Y",
     "timestamp": 1726907657742
    },
    {
     "file_id": "11DpMbWFDyGQY2NkMCMyWR6G-nNxwMPcY",
     "timestamp": 1724983889864
    },
    {
     "file_id": "1aVZmrOw2Ud_m7A3FP9L3AEiY_UiP6pIi",
     "timestamp": 1723620421965
    },
    {
     "file_id": "1MLr-3X3MubbIiF4LiU_HvMOTDc3OaDBP",
     "timestamp": 1718142112654
    },
    {
     "file_id": "1oFCfoIW54eNiyCdNbcD6JcLTqTYiHvXr",
     "timestamp": 1708478097999
    },
    {
     "file_id": "19D1YZJbs2YzpybNF3bA-Xt16VhP2Nd94",
     "timestamp": 1707283956897
    },
    {
     "file_id": "16b8qsauiGYqpE4UC1evXULtUil-iAPHE",
     "timestamp": 1694868054206
    }
   ]
  },
  "kernelspec": {
   "display_name": "Python 3 (ipykernel)",
   "language": "python",
   "name": "python3"
  },
  "language_info": {
   "codemirror_mode": {
    "name": "ipython",
    "version": 3
   },
   "file_extension": ".py",
   "mimetype": "text/x-python",
   "name": "python",
   "nbconvert_exporter": "python",
   "pygments_lexer": "ipython3",
   "version": "3.12.3"
  }
 },
 "nbformat": 4,
 "nbformat_minor": 5
}
