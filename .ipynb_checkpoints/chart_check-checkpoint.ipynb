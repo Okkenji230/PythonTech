{
 "cells": [
  {
   "cell_type": "markdown",
   "id": "6fcd6eb9-924f-432c-82ee-03a29d35c7a0",
   "metadata": {
    "id": "6fcd6eb9-924f-432c-82ee-03a29d35c7a0"
   },
   "source": [
    "# 長期・中期・短期の株価チャート"
   ]
  },
  {
   "cell_type": "raw",
   "id": "7d59ef68-4bf1-4f7e-bac4-e85e10176d28",
   "metadata": {},
   "source": [
    "MAは目先の上下、ボリンジャーバンドはタイミング、出来高は人気、RSIは過熱感をみる\n",
    "〔移動平均線〕日足：5日、25日; 週足：13週、26週; 月足：6カ月、12カ月\n",
    "〔RSI〕全て14に設定\n",
    "〔ボリンジャーバンド〕全て20に設定\n",
    "カラーコード一覧：https://itsakura.com/html-color-codes\n",
    "デフォルトの色順(matplotlib)：青・オレンジ・緑・赤・紫・茶色・ピンク・…"
   ]
  },
  {
   "cell_type": "markdown",
   "id": "qGXyilAwN6cy",
   "metadata": {
    "id": "qGXyilAwN6cy"
   },
   "source": [
    "## 分析環境の構築"
   ]
  },
  {
   "cell_type": "code",
   "execution_count": 1,
   "id": "ec2659eb-9846-4d04-913a-5d9e9c86c75b",
   "metadata": {
    "id": "ec2659eb-9846-4d04-913a-5d9e9c86c75b",
    "tags": []
   },
   "outputs": [
    {
     "ename": "ModuleNotFoundError",
     "evalue": "No module named 'pandas_datareader'",
     "output_type": "error",
     "traceback": [
      "\u001b[1;31m---------------------------------------------------------------------------\u001b[0m",
      "\u001b[1;31mModuleNotFoundError\u001b[0m                       Traceback (most recent call last)",
      "Cell \u001b[1;32mIn[1], line 2\u001b[0m\n\u001b[0;32m      1\u001b[0m \u001b[38;5;28;01mimport\u001b[39;00m \u001b[38;5;21;01mpandas\u001b[39;00m \u001b[38;5;28;01mas\u001b[39;00m \u001b[38;5;21;01mpd\u001b[39;00m\n\u001b[1;32m----> 2\u001b[0m \u001b[38;5;28;01mfrom\u001b[39;00m \u001b[38;5;21;01mpandas_datareader\u001b[39;00m \u001b[38;5;28;01mimport\u001b[39;00m data \u001b[38;5;28;01mas\u001b[39;00m pdr\n\u001b[0;32m      3\u001b[0m \u001b[38;5;28;01mimport\u001b[39;00m \u001b[38;5;21;01mmplfinance\u001b[39;00m \u001b[38;5;28;01mas\u001b[39;00m \u001b[38;5;21;01mmpf\u001b[39;00m\n\u001b[0;32m      4\u001b[0m \u001b[38;5;28;01mfrom\u001b[39;00m \u001b[38;5;21;01mdatetime\u001b[39;00m \u001b[38;5;28;01mimport\u001b[39;00m date, datetime, timedelta\n",
      "\u001b[1;31mModuleNotFoundError\u001b[0m: No module named 'pandas_datareader'"
     ]
    }
   ],
   "source": [
    "import pandas as pd\n",
    "import mplfinance as mpf\n",
    "from datetime import date, datetime, timedelta\n",
    "import yfinance as yf\n",
    "import pandas_ta as ta"
   ]
  },
  {
   "cell_type": "markdown",
   "id": "c3cc14ca-fecd-4af2-8ab9-abee533e34e3",
   "metadata": {},
   "source": [
    "## データ取得とチャート表示関数"
   ]
  },
  {
   "cell_type": "code",
   "execution_count": null,
   "id": "fc33202f-96fb-40e7-9a86-a21990522568",
   "metadata": {},
   "outputs": [],
   "source": [
    "def chart_check(ticker, dttype='d'):\n",
    "    # パラメータ設定\n",
    "    if dttype=='m':\n",
    "        dtdays=4000; dtterm='1mo'; sma=6; lma=12; stitle='MONTHLY'\n",
    "    elif dttype=='w':\n",
    "        dtdays=900; dtterm='1wk'; sma=13; lma=26; stitle='WEEKLY'\n",
    "    else:\n",
    "        dtdays=180; dtterm='1d'; sma=5; lma=25; stitle='DAILY'\n",
    "    # yahooサイトからデータをダウンロード\n",
    "    end_date = datetime.today()\n",
    "    start_date = end_date - timedelta(days=dtdays)\n",
    "    yf.pdr_override()\n",
    "    df = pdr.get_data_yahoo(ticker, start_date, end_date, interval=dtterm)\n",
    "    # 指標値の計算\n",
    "    df['RSI'] = ta.rsi(df['Adj Close'], length=14)\n",
    "    df.ta.bbands(close='Adj Close', length=20, std=2, append=True)\n",
    "    # mplfinanceのmake_addplotメソッドを用いてチャートに付け加えるプロットを作成する\n",
    "    idx_plot = [\n",
    "            mpf.make_addplot((df['RSI']), panel=2, ylabel='RSI', secondary_y=False),\n",
    "            mpf.make_addplot((df['BBU_20_2.0']), panel=3, ylabel='Bollinger', secondary_y=False),\n",
    "            mpf.make_addplot((df['Adj Close']), panel=3, secondary_y=False),\n",
    "            mpf.make_addplot((df['BBL_20_2.0']), panel=3, secondary_y=False),\n",
    "    ]\n",
    "    # 表題と凡例\n",
    "    ch_title = stitle+\" STOCK PRICE CHART FOR {0}\".format(ticker)\n",
    "    line_titles1 = ['RSI']\n",
    "    line_titles2 = ['Upper','Close','Lower']\n",
    "    # チャート描画\n",
    "    fig, axes = mpf.plot(df,type='candle',figsize =(16,8), style='yahoo',\n",
    "             addplot=idx_plot,volume=True,mav=(sma,lma), returnfig=True)\n",
    "    # 表題と凡例の指定\n",
    "    axes[0].set_title(ch_title)\n",
    "    axes[4].legend(line_titles1)\n",
    "    axes[6].legend(line_titles2)"
   ]
  },
  {
   "cell_type": "raw",
   "id": "ef8af8ad-e995-4fc9-8393-f053662c4859",
   "metadata": {},
   "source": [
    "'NEE': ネクステラ・エナジー, 'DUK': デューク・エナジー, 'SO': サザン, 'VYM': ＶＧハイディビデンドＥＴＦ"
   ]
  },
  {
   "cell_type": "code",
   "execution_count": null,
   "id": "f4518007-1902-47d5-b046-8116ed6408fe",
   "metadata": {
    "tags": []
   },
   "outputs": [],
   "source": [
    "ticker = 'TOPIX100.T'\n",
    "#ticker = 'ORCL'\n",
    "chart_check(ticker, dttype='m')  # 月足チャート\n",
    "chart_check(ticker, dttype='w')  # 週足チャート\n",
    "chart_check(ticker, dttype='d')  # 日足チャート"
   ]
  }
 ],
 "metadata": {
  "colab": {
   "provenance": []
  },
  "kernelspec": {
   "display_name": "Python 3 (ipykernel)",
   "language": "python",
   "name": "python3"
  },
  "language_info": {
   "codemirror_mode": {
    "name": "ipython",
    "version": 3
   },
   "file_extension": ".py",
   "mimetype": "text/x-python",
   "name": "python",
   "nbconvert_exporter": "python",
   "pygments_lexer": "ipython3",
   "version": "3.12.3"
  }
 },
 "nbformat": 4,
 "nbformat_minor": 5
}
