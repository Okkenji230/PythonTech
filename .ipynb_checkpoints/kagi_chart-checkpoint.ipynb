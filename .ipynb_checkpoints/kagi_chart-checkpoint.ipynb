{
 "cells": [
  {
   "cell_type": "markdown",
   "id": "a19dd9f0-d3f5-4897-8bdf-e9c245419ee3",
   "metadata": {
    "id": "a19dd9f0-d3f5-4897-8bdf-e9c245419ee3"
   },
   "source": [
    "# カギ足の描画"
   ]
  },
  {
   "cell_type": "markdown",
   "id": "Qx4biCOLhHsz",
   "metadata": {
    "id": "Qx4biCOLhHsz"
   },
   "source": [
    "出典1：plot a kagi chart using python not JavaScript or other code\n",
    "\n",
    "https://stackoverfLow.com/questions/75027757/plot-a-kagi-chart-using-python-not-javascript-or-other-code"
   ]
  },
  {
   "cell_type": "markdown",
   "id": "vfZg6vcWODTX",
   "metadata": {
    "id": "vfZg6vcWODTX"
   },
   "source": [
    "出典2：Matplotlib 時系列データの軸設定｜自由に時間軸を設定！\n",
    "\n",
    "https://www.yutaka-note.com/entry/matplotlib_time_axis"
   ]
  },
  {
   "cell_type": "code",
   "execution_count": 1,
   "id": "c7bc62b6-8109-439d-ace6-dd4569e18f71",
   "metadata": {
    "executionInfo": {
     "elapsed": 5,
     "status": "ok",
     "timestamp": 1701780839317,
     "user": {
      "displayName": "Kenji Ono",
      "userId": "14327041206082834894"
     },
     "user_tz": -540
    },
    "id": "c7bc62b6-8109-439d-ace6-dd4569e18f71",
    "tags": []
   },
   "outputs": [],
   "source": [
    "import matplotlib.pyplot as plt\n",
    "import pandas as pd\n",
    "import yfinance as yf\n",
    "import matplotlib.dates as mdates\n",
    "from datetime import datetime, timedelta\n",
    "import numpy as np\n",
    "from pandas_datareader import data as pdr\n",
    "import matplotlib.dates as mdates"
   ]
  },
  {
   "cell_type": "markdown",
   "id": "da8c9e4e-615e-4e35-8603-72991edb520d",
   "metadata": {
    "id": "da8c9e4e-615e-4e35-8603-72991edb520d"
   },
   "source": [
    "## 株価データの取得"
   ]
  },
  {
   "cell_type": "code",
   "execution_count": 2,
   "id": "64b1cfbd-6c6d-4fbf-917c-e8c30297f607",
   "metadata": {
    "colab": {
     "base_uri": "https://localhost:8080/",
     "height": 256
    },
    "executionInfo": {
     "elapsed": 384,
     "status": "ok",
     "timestamp": 1701780839696,
     "user": {
      "displayName": "Kenji Ono",
      "userId": "14327041206082834894"
     },
     "user_tz": -540
    },
    "id": "64b1cfbd-6c6d-4fbf-917c-e8c30297f607",
    "outputId": "8d0c1673-0aca-4313-83de-1f21fa65e92b",
    "tags": []
   },
   "outputs": [
    {
     "name": "stdout",
     "output_type": "stream",
     "text": [
      "[*********************100%%**********************]  1 of 1 completed\n"
     ]
    },
    {
     "data": {
      "text/html": [
       "<div>\n",
       "<style scoped>\n",
       "    .dataframe tbody tr th:only-of-type {\n",
       "        vertical-align: middle;\n",
       "    }\n",
       "\n",
       "    .dataframe tbody tr th {\n",
       "        vertical-align: top;\n",
       "    }\n",
       "\n",
       "    .dataframe thead th {\n",
       "        text-align: right;\n",
       "    }\n",
       "</style>\n",
       "<table border=\"1\" class=\"dataframe\">\n",
       "  <thead>\n",
       "    <tr style=\"text-align: right;\">\n",
       "      <th></th>\n",
       "      <th>Open</th>\n",
       "      <th>High</th>\n",
       "      <th>Low</th>\n",
       "      <th>Close</th>\n",
       "      <th>Adj Close</th>\n",
       "      <th>Volume</th>\n",
       "    </tr>\n",
       "    <tr>\n",
       "      <th>Date</th>\n",
       "      <th></th>\n",
       "      <th></th>\n",
       "      <th></th>\n",
       "      <th></th>\n",
       "      <th></th>\n",
       "      <th></th>\n",
       "    </tr>\n",
       "  </thead>\n",
       "  <tbody>\n",
       "    <tr>\n",
       "      <th>2023-06-09</th>\n",
       "      <td>1090.0</td>\n",
       "      <td>1106.0</td>\n",
       "      <td>1085.0</td>\n",
       "      <td>1099.0</td>\n",
       "      <td>1085.626343</td>\n",
       "      <td>462700</td>\n",
       "    </tr>\n",
       "    <tr>\n",
       "      <th>2023-06-12</th>\n",
       "      <td>1108.0</td>\n",
       "      <td>1112.0</td>\n",
       "      <td>1100.0</td>\n",
       "      <td>1108.0</td>\n",
       "      <td>1094.516846</td>\n",
       "      <td>338800</td>\n",
       "    </tr>\n",
       "    <tr>\n",
       "      <th>2023-06-13</th>\n",
       "      <td>1102.0</td>\n",
       "      <td>1129.0</td>\n",
       "      <td>1100.0</td>\n",
       "      <td>1126.0</td>\n",
       "      <td>1112.297729</td>\n",
       "      <td>614600</td>\n",
       "    </tr>\n",
       "    <tr>\n",
       "      <th>2023-06-14</th>\n",
       "      <td>1124.0</td>\n",
       "      <td>1127.0</td>\n",
       "      <td>1115.0</td>\n",
       "      <td>1120.0</td>\n",
       "      <td>1106.370728</td>\n",
       "      <td>493200</td>\n",
       "    </tr>\n",
       "    <tr>\n",
       "      <th>2023-06-15</th>\n",
       "      <td>1120.0</td>\n",
       "      <td>1122.0</td>\n",
       "      <td>1106.0</td>\n",
       "      <td>1110.0</td>\n",
       "      <td>1096.492432</td>\n",
       "      <td>353800</td>\n",
       "    </tr>\n",
       "  </tbody>\n",
       "</table>\n",
       "</div>"
      ],
      "text/plain": [
       "              Open    High     Low   Close    Adj Close  Volume\n",
       "Date                                                           \n",
       "2023-06-09  1090.0  1106.0  1085.0  1099.0  1085.626343  462700\n",
       "2023-06-12  1108.0  1112.0  1100.0  1108.0  1094.516846  338800\n",
       "2023-06-13  1102.0  1129.0  1100.0  1126.0  1112.297729  614600\n",
       "2023-06-14  1124.0  1127.0  1115.0  1120.0  1106.370728  493200\n",
       "2023-06-15  1120.0  1122.0  1106.0  1110.0  1096.492432  353800"
      ]
     },
     "execution_count": 2,
     "metadata": {},
     "output_type": "execute_result"
    }
   ],
   "source": [
    "# Define the stock symbol and timeframe\n",
    "symbol = '1942.T' \n",
    "end_date = datetime.today()\n",
    "start_date = end_date - timedelta(days=180)  # 6 months before today\n",
    "yf.pdr_override()\n",
    "# yahooサイトからデータをダウンロード\n",
    "stock_data = pdr.get_data_yahoo(symbol, start_date, end_date)\n",
    "stock_data.head()"
   ]
  },
  {
   "cell_type": "markdown",
   "id": "5RJTwmZTjyES",
   "metadata": {
    "id": "5RJTwmZTjyES"
   },
   "source": [
    "## カギ足のためのデータ準備の関数"
   ]
  },
  {
   "cell_type": "code",
   "execution_count": 3,
   "id": "_srfZBNmdva9",
   "metadata": {
    "executionInfo": {
     "elapsed": 14,
     "status": "ok",
     "timestamp": 1701780839697,
     "user": {
      "displayName": "Kenji Ono",
      "userId": "14327041206082834894"
     },
     "user_tz": -540
    },
    "id": "_srfZBNmdva9",
    "tags": []
   },
   "outputs": [],
   "source": [
    "def KagiChart(df,delta):\n",
    "    # カギ足描画のためのデータフレームの初期化\n",
    "    kagi_df = pd.DataFrame(columns=['Date', 'Open', 'High', 'Low', 'Close', 'Volume', 'Extreme', 'Direc'])\n",
    "\n",
    "    # データの出発点における設定\n",
    "    trend = 0\n",
    "    kagi = df.iloc[0]['Close']\n",
    "    kagi_df.loc[0] = [df.iloc[0]['Date'], df.iloc[0]['Open'], df.iloc[0]['High'], df.iloc[0]['Low'],\n",
    "                      df.iloc[0]['Close'], df.iloc[0]['Volume'], df.iloc[0]['Close'], 'Line']\n",
    "\n",
    "    # 2行目以降のデータの扱い\n",
    "    k = 1\n",
    "    for i in range(1, df.shape[0]):\n",
    "        # 下降トレンド中で価格変化が上昇反転ルールを満たした場合\n",
    "        if trend <= 0 and df.iloc[i]['Close'] > kagi+delta:\n",
    "            kagi_df.loc[k] = [df.iloc[i]['Date'], df.iloc[i]['Open'], df.iloc[i]['High'], df.iloc[i]['Low'],\n",
    "                              df.iloc[i]['Close'], df.iloc[i]['Volume'], kagi, 'up']\n",
    "            kagi = df.iloc[i]['Close']\n",
    "            trend = 1\n",
    "            k += 1\n",
    "        # 上昇トレンド中で価格変化が下降反転ルールを満たした場合\n",
    "        elif trend >= 0 and df.iloc[i]['Close'] < kagi-delta:\n",
    "            kagi_df.loc[k] = [df.iloc[i]['Date'], df.iloc[i]['Open'], df.iloc[i]['High'], df.iloc[i]['Low'], \n",
    "                              df.iloc[i]['Close'], df.iloc[i]['Volume'], kagi, 'down']\n",
    "            kagi = df.iloc[i]['Close']\n",
    "            trend = -1\n",
    "            k += 1\n",
    "        # 下降トレンド中で引き続き下降を示した場合\n",
    "        elif trend <= 0 and df.iloc[i]['Close'] <= kagi:\n",
    "            kagi = df.iloc[i]['Close']\n",
    "        # 上昇トレンド中で引き続き上昇を示した場合\n",
    "        elif trend >= 0 and df.iloc[i]['Close'] >= kagi:\n",
    "            kagi = df.iloc[i]['Close']\n",
    "        # 上記以外の場合は何もしない\n",
    "    return kagi_df"
   ]
  },
  {
   "cell_type": "markdown",
   "id": "JLeQZuaUj6hR",
   "metadata": {
    "id": "JLeQZuaUj6hR"
   },
   "source": [
    "## カギ足チャートの描画"
   ]
  },
  {
   "cell_type": "code",
   "execution_count": 4,
   "id": "9UebXZnXeJ1X",
   "metadata": {
    "colab": {
     "base_uri": "https://localhost:8080/",
     "height": 857
    },
    "executionInfo": {
     "elapsed": 721,
     "status": "ok",
     "timestamp": 1701780840404,
     "user": {
      "displayName": "Kenji Ono",
      "userId": "14327041206082834894"
     },
     "user_tz": -540
    },
    "id": "9UebXZnXeJ1X",
    "outputId": "30b584f6-7c2a-415e-890e-0cd246c4a973",
    "tags": []
   },
   "outputs": [
    {
     "name": "stdout",
     "output_type": "stream",
     "text": [
      "         Date    Open    High     Low   Close  Volume  Extreme Direc\n",
      "4  2023-10-03  1375.0  1377.0  1334.0  1336.0  535800   1397.0  down\n",
      "5  2023-10-05  1289.0  1320.0  1285.0  1320.0  414300   1281.0    up\n",
      "6  2023-10-13  1317.0  1331.0  1304.0  1310.0  534600   1347.0  down\n",
      "7  2023-10-24  1313.0  1323.0  1295.0  1321.0  548300   1290.0    up\n",
      "8  2023-11-08  1375.0  1381.0  1351.0  1361.0  349100   1414.0  down\n",
      "9  2023-11-10  1371.0  1406.0  1367.0  1405.0  322700   1361.0    up\n",
      "10 2023-11-14  1390.0  1395.0  1370.0  1373.0  185800   1405.0  down\n",
      "11 2023-11-17  1326.0  1356.0  1326.0  1353.0  320900   1321.0    up\n",
      "12 2023-11-20  1340.0  1349.0  1309.0  1314.0  308900   1353.0  down\n",
      "13 2023-11-24  1340.0  1342.0  1329.0  1337.0  315400   1291.0  Line\n"
     ]
    },
    {
     "data": {
      "image/png": "[encoded data removed]",
      "text/plain": [
       "<Figure size 1000x600 with 1 Axes>"
      ]
     },
     "metadata": {},
     "output_type": "display_data"
    }
   ],
   "source": [
    "# 株価データの準備\n",
    "df = stock_data.copy().reset_index()\n",
    "delta = 30 # 反転基準価格差の設定\n",
    "df_kagi = KagiChart(df,delta)\n",
    "# 最終データ行の処理\n",
    "df_kagi.loc[df_kagi.shape[0]-1,'Direc'] = 'Line'\n",
    "print(df_kagi.tail(10))\n",
    "Date = df_kagi['Date']\n",
    "Close = df_kagi['Close']\n",
    "extreme = df_kagi['Extreme']\n",
    "direction = df_kagi['Direc']\n",
    "# X軸変数として用いるインデックスの生成\n",
    "indices = range(len(Date))\n",
    "fig, ax = plt.subplots(figsize =(10,6))\n",
    "# 軸目盛には日付を対応させる\n",
    "plt.xticks(indices, [date.strftime('%Y-%m-%d') for date in Date])\n",
    "fig.autofmt_xdate()\n",
    "# 上又は下方向の垂直線を描画し、同じくその起点から左方向へ水平線を描画し、一つ前の時点で垂直線を付け足す\n",
    "for i in range(1,len(Date)):\n",
    "    if direction[i] == 'Line':\n",
    "        ax.plot([indices[i], indices[i]], [extreme[i], Close[i]], color='b')\n",
    "    if direction[i] == 'up':\n",
    "        ax.plot([indices[i], indices[i]], [extreme[i], Close[i]], color='b')\n",
    "        ax.plot([indices[i-1], indices[i-1]], [extreme[i], Close[i-1]], color='b')\n",
    "        plt.hlines(extreme[i], xmin=indices[i-1], xmax=indices[i], color='b')\n",
    "    else:\n",
    "        ax.plot([indices[i], indices[i]], [extreme[i], Close[i]], color='b')\n",
    "        ax.plot([indices[i-1], indices[i-1]], [extreme[i], Close[i-1]], color='b')\n",
    "        plt.hlines(extreme[i], xmin=indices[i-1], xmax=indices[i],color='b')\n",
    "# グラフタイトルと軸ラベルを設定する\n",
    "ax.set_title('Kagi Chart for '+symbol+' (delta='+str(delta)+')')\n",
    "ax.set_xlabel('Date')\n",
    "ax.set_ylabel('Close')\n",
    "plt.show()"
   ]
  }
 ],
 "metadata": {
  "colab": {
   "provenance": [
    {
     "file_id": "19D1YZJbs2YzpybNF3bA-Xt16VhP2Nd94",
     "timestamp": 1701738333468
    },
    {
     "file_id": "16b8qsauiGYqpE4UC1evXULtUil-iAPHE",
     "timestamp": 1694868054206
    }
   ]
  },
  "kernelspec": {
   "display_name": "Python 3 (ipykernel)",
   "language": "python",
   "name": "python3"
  },
  "language_info": {
   "codemirror_mode": {
    "name": "ipython",
    "version": 3
   },
   "file_extension": ".py",
   "mimetype": "text/x-python",
   "name": "python",
   "nbconvert_exporter": "python",
   "pygments_lexer": "ipython3",
   "version": "3.11.5"
  }
 },
 "nbformat": 4,
 "nbformat_minor": 5
}
