{
 "cells": [
  {
   "cell_type": "markdown",
   "id": "bf9df84e-eb98-45d7-bcc9-1e1b5b31d9e1",
   "metadata": {},
   "source": [
    "# バックテストとパラメータチューニングのデモ"
   ]
  },
  {
   "cell_type": "raw",
   "id": "64c56b26-bdb8-44d0-8870-5cfe9c5b4f41",
   "metadata": {},
   "source": [
    "Optimizing Trading Strategies with FOX Corporation: Backtesting and Performance Analysis\n",
    "https://medium.com/@kridtapon/optimizing-trading-strategies-with-fox-corporation-backtesting-and-performance-analysis-5d4228d7172d"
   ]
  },
  {
   "cell_type": "code",
   "execution_count": 1,
   "id": "673ea3a8-16d7-4899-952e-54db6ce4d1a5",
   "metadata": {},
   "outputs": [],
   "source": [
    "import numpy as np\n",
    "import pandas as pd\n",
    "import yfinance as yf\n",
    "import vectorbt as vbt\n",
    "import seaborn as sns\n",
    "import matplotlib.pyplot as plt\n",
    "from datetime import date, datetime, timedelta\n",
    "import talib\n",
    "import warnings\n",
    "warnings.simplefilter(action=\"ignore\", category=FutureWarning)"
   ]
  },
  {
   "cell_type": "code",
   "execution_count": 2,
   "id": "7d24009a-1b27-4e43-9feb-ca669bf89a27",
   "metadata": {},
   "outputs": [],
   "source": [
    "# Chande Momentum Oscillator (CMO)\n",
    "def chande_momentum_oscillator(df, period=14):\n",
    "    df['CMO'] = ((df['Close'] - df['Close'].shift(period)).rolling(window=period).sum()) / \\\n",
    "                ((df['Close'] - df['Close'].shift(1)).abs().rolling(window=period).sum()) * 100\n",
    "    return df['CMO']\n",
    "\n",
    "# Trix Indicator\n",
    "def trix(df, period=14):\n",
    "    df['Trix'] = df['Close'].ewm(span=period, min_periods=period).mean()\n",
    "    df['Trix_Signal'] = df['Trix'].ewm(span=period, min_periods=period).mean()\n",
    "    return df['Trix'], df['Trix_Signal']"
   ]
  },
  {
   "cell_type": "code",
   "execution_count": 3,
   "id": "437ee7fd-4663-4c5f-aca8-4590c064dc2f",
   "metadata": {},
   "outputs": [
    {
     "name": "stderr",
     "output_type": "stream",
     "text": [
      "[*********************100%***********************]  1 of 1 completed\n"
     ]
    }
   ],
   "source": [
    "ticker = 'FOX'\n",
    "end_date = datetime.today()\n",
    "start_date = end_date - timedelta(days=2190)\n",
    "df = yf.download(ticker, start_date, end_date)\n",
    "df.columns = [col[0] if isinstance(col, tuple) else col for col in df.columns]"
   ]
  },
  {
   "cell_type": "code",
   "execution_count": 4,
   "id": "1f9a1be7-43b7-4467-9dd1-710101914bb4",
   "metadata": {},
   "outputs": [
    {
     "data": {
      "text/html": [
       "<div>\n",
       "<style scoped>\n",
       "    .dataframe tbody tr th:only-of-type {\n",
       "        vertical-align: middle;\n",
       "    }\n",
       "\n",
       "    .dataframe tbody tr th {\n",
       "        vertical-align: top;\n",
       "    }\n",
       "\n",
       "    .dataframe thead th {\n",
       "        text-align: right;\n",
       "    }\n",
       "</style>\n",
       "<table border=\"1\" class=\"dataframe\">\n",
       "  <thead>\n",
       "    <tr style=\"text-align: right;\">\n",
       "      <th></th>\n",
       "      <th>Close</th>\n",
       "      <th>High</th>\n",
       "      <th>Low</th>\n",
       "      <th>Open</th>\n",
       "      <th>Volume</th>\n",
       "    </tr>\n",
       "    <tr>\n",
       "      <th>Date</th>\n",
       "      <th></th>\n",
       "      <th></th>\n",
       "      <th></th>\n",
       "      <th></th>\n",
       "      <th></th>\n",
       "    </tr>\n",
       "  </thead>\n",
       "  <tbody>\n",
       "    <tr>\n",
       "      <th>2025-02-06</th>\n",
       "      <td>50.459999</td>\n",
       "      <td>51.540001</td>\n",
       "      <td>50.349998</td>\n",
       "      <td>51.500000</td>\n",
       "      <td>854000</td>\n",
       "    </tr>\n",
       "    <tr>\n",
       "      <th>2025-02-07</th>\n",
       "      <td>50.099998</td>\n",
       "      <td>50.849998</td>\n",
       "      <td>49.942001</td>\n",
       "      <td>50.580002</td>\n",
       "      <td>1145100</td>\n",
       "    </tr>\n",
       "    <tr>\n",
       "      <th>2025-02-10</th>\n",
       "      <td>50.349998</td>\n",
       "      <td>50.459999</td>\n",
       "      <td>49.330002</td>\n",
       "      <td>50.400002</td>\n",
       "      <td>935800</td>\n",
       "    </tr>\n",
       "    <tr>\n",
       "      <th>2025-02-11</th>\n",
       "      <td>50.549999</td>\n",
       "      <td>50.720001</td>\n",
       "      <td>50.139999</td>\n",
       "      <td>50.160000</td>\n",
       "      <td>524400</td>\n",
       "    </tr>\n",
       "    <tr>\n",
       "      <th>2025-02-12</th>\n",
       "      <td>51.450001</td>\n",
       "      <td>51.689999</td>\n",
       "      <td>50.150002</td>\n",
       "      <td>50.330002</td>\n",
       "      <td>3343200</td>\n",
       "    </tr>\n",
       "  </tbody>\n",
       "</table>\n",
       "</div>"
      ],
      "text/plain": [
       "                Close       High        Low       Open   Volume\n",
       "Date                                                           \n",
       "2025-02-06  50.459999  51.540001  50.349998  51.500000   854000\n",
       "2025-02-07  50.099998  50.849998  49.942001  50.580002  1145100\n",
       "2025-02-10  50.349998  50.459999  49.330002  50.400002   935800\n",
       "2025-02-11  50.549999  50.720001  50.139999  50.160000   524400\n",
       "2025-02-12  51.450001  51.689999  50.150002  50.330002  3343200"
      ]
     },
     "execution_count": 4,
     "metadata": {},
     "output_type": "execute_result"
    }
   ],
   "source": [
    "df.tail()"
   ]
  },
  {
   "cell_type": "code",
   "execution_count": 5,
   "id": "954d1b2b-0b8c-4e18-86be-38ed7efcf24e",
   "metadata": {},
   "outputs": [],
   "source": [
    "# Function to calculate portfolio performance\n",
    "def calculate_performance(cmo_period, trix_period):\n",
    "    # Calculate CMO and Trix for each period\n",
    "    df['CMO'] = chande_momentum_oscillator(df, cmo_period)\n",
    "    df['Trix'], df['Trix_Signal'] = trix(df, trix_period)\n",
    "\n",
    "    # Define entry and exit signals based on CMO and Trix\n",
    "    df['Entry'] = (\n",
    "        (df['CMO'] > 0) &  # CMO crosses above 0\n",
    "        (df['Trix'] > df['Trix_Signal'])   # Trix crosses above Trix Signal line\n",
    "    )\n",
    "\n",
    "    df['Exit'] = (\n",
    "        (df['CMO'] < 0) &  # CMO crosses below 0\n",
    "        (df['Trix'] < df['Trix_Signal'])   # Trix crosses below Trix Signal line\n",
    "    )\n",
    "\n",
    "    # Filter data for test only\n",
    "    df_filtered = df[(df.index.year >= 2020) & (df.index.year <= 2025)]\n",
    "\n",
    "    # Convert signals to boolean arrays\n",
    "    entries = df_filtered['Entry'].to_numpy()\n",
    "    exits = df_filtered['Exit'].to_numpy()\n",
    "\n",
    "    # Backtest using vectorbt\n",
    "    portfolio = vbt.Portfolio.from_signals(\n",
    "        close=df_filtered['Close'],\n",
    "        entries=entries,\n",
    "        exits=exits,\n",
    "        init_cash=100_000,\n",
    "        fees=0.001\n",
    "    )\n",
    "\n",
    "    # Return total return as performance metric\n",
    "    return portfolio.total_return()"
   ]
  },
  {
   "cell_type": "code",
   "execution_count": 6,
   "id": "e2dfd928-87f7-4f77-8166-6b62512f1853",
   "metadata": {},
   "outputs": [],
   "source": [
    "# Define the range of periods for optimization\n",
    "cmo_period_range = range(1, 21)  # Example range for CMO period\n",
    "trix_period_range = range(1, 21)  # Example range for Trix period\n",
    "\n",
    "# Create an empty matrix to store the total returns for each combination of periods\n",
    "total_returns_matrix = np.zeros((len(cmo_period_range), len(trix_period_range)))\n",
    "\n",
    "# Loop over all combinations of periods and store the total returns\n",
    "for i, cmo_period in enumerate(cmo_period_range):\n",
    "    for j, trix_period in enumerate(trix_period_range):\n",
    "        total_returns_matrix[i, j] = calculate_performance(cmo_period, trix_period)"
   ]
  },
  {
   "cell_type": "code",
   "execution_count": null,
   "id": "005cafed-e907-475b-a8b0-f66eabd33058",
   "metadata": {},
   "outputs": [],
   "source": []
  }
 ],
 "metadata": {
  "kernelspec": {
   "display_name": "Python 3 (ipykernel)",
   "language": "python",
   "name": "python3"
  },
  "language_info": {
   "codemirror_mode": {
    "name": "ipython",
    "version": 3
   },
   "file_extension": ".py",
   "mimetype": "text/x-python",
   "name": "python",
   "nbconvert_exporter": "python",
   "pygments_lexer": "ipython3",
   "version": "3.12.3"
  }
 },
 "nbformat": 4,
 "nbformat_minor": 5
}
