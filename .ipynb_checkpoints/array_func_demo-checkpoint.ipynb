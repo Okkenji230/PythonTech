{
 "cells": [
  {
   "cell_type": "code",
   "execution_count": 1,
   "id": "78e0e26b-07a9-4694-af52-c161927be23a",
   "metadata": {
    "tags": []
   },
   "outputs": [],
   "source": [
    "import numpy as np\n",
    "import pandas as pd"
   ]
  },
  {
   "cell_type": "code",
   "execution_count": 2,
   "id": "7687dd76-3ef4-45d4-b527-319a620a921f",
   "metadata": {
    "tags": []
   },
   "outputs": [],
   "source": [
    "min_distances = [(float('inf'), -1) for _ in range(5)]"
   ]
  },
  {
   "cell_type": "code",
   "execution_count": 3,
   "id": "919257f0-6423-4acc-8e52-976efa18c73d",
   "metadata": {
    "tags": []
   },
   "outputs": [
    {
     "name": "stdout",
     "output_type": "stream",
     "text": [
      "[(inf, -1), (inf, -1), (inf, -1), (inf, -1), (inf, -1)]\n"
     ]
    }
   ],
   "source": [
    "print(min_distances)"
   ]
  }
 ],
 "metadata": {
  "kernelspec": {
   "display_name": "Python 3 (ipykernel)",
   "language": "python",
   "name": "python3"
  },
  "language_info": {
   "codemirror_mode": {
    "name": "ipython",
    "version": 3
   },
   "file_extension": ".py",
   "mimetype": "text/x-python",
   "name": "python",
   "nbconvert_exporter": "python",
   "pygments_lexer": "ipython3",
   "version": "3.11.5"
  }
 },
 "nbformat": 4,
 "nbformat_minor": 5
}
