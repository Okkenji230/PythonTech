{
 "cells": [
  {
   "cell_type": "markdown",
   "id": "701c1c83-e6f6-4551-a908-93a92647e43c",
   "metadata": {},
   "source": [
    "# ドンチャンチャンネルを用いたスウィングトレードのデモ"
   ]
  },
  {
   "cell_type": "raw",
   "id": "b5425591-80ef-410a-8489-479dc09affde",
   "metadata": {},
   "source": [
    "Generating Swing Trading Signals using Donchian Strategy in Python\n",
    "https://python.plainenglish.io/generating-swing-trading-signals-using-donchian-strategy-in-python-7aff3c9ce0a8"
   ]
  },
  {
   "cell_type": "markdown",
   "id": "f4b81fb9-0186-4f79-a58a-559752173e42",
   "metadata": {},
   "source": [
    "## ライブラリのインポート"
   ]
  },
  {
   "cell_type": "code",
   "execution_count": 1,
   "id": "1a22e4b2-6037-4e05-afa5-5f380a544311",
   "metadata": {
    "tags": []
   },
   "outputs": [],
   "source": [
    "import yfinance as yf\n",
    "import numpy as np\n",
    "import pandas as pd\n",
    "from datetime import datetime, timedelta\n",
    "from pandas_datareader import data as pdr\n",
    "import pandas_ta as ta"
   ]
  },
  {
   "cell_type": "markdown",
   "id": "5faaebf5-e9ef-4027-9de6-cbdd553fd000",
   "metadata": {},
   "source": [
    "## データ獲得関数の定義"
   ]
  },
  {
   "cell_type": "code",
   "execution_count": 2,
   "id": "0d609481-2427-4a68-8304-055e0df54389",
   "metadata": {
    "tags": []
   },
   "outputs": [],
   "source": [
    "def yf_obtain(symbol, ndays):\n",
    "    end_date = datetime.today()\n",
    "    start_date = end_date - timedelta(days=ndays)\n",
    "    yf.pdr_override()\n",
    "    data = pdr.get_data_yahoo(symbol, start_date, end_date)\n",
    "    return data"
   ]
  },
  {
   "cell_type": "markdown",
   "id": "247fd4a3-3014-4b1c-b579-2d2badce16f5",
   "metadata": {},
   "source": [
    "## トレード関数の定義"
   ]
  },
  {
   "cell_type": "code",
   "execution_count": 3,
   "id": "99045c5f-8784-474a-b782-c93131c7ef91",
   "metadata": {
    "tags": []
   },
   "outputs": [],
   "source": [
    "def trade_donchian(row):\n",
    "    global trades, trade_open\n",
    "    row = row.to_dict()\n",
    "\n",
    "    if((trade_open==True) and (row['long'] == 1)): pass\n",
    "\n",
    "    elif((trade_open==False) and (row['short'] == 1)): pass\n",
    "\n",
    "    elif((trade_open==False) and (row['long'] == 1)):\n",
    "        # open trade\n",
    "        trade_open = True\n",
    "        _trade = {\n",
    "            'buy_date': row['next_date'],\n",
    "            'buy_price': round(row['next_day_open_price']*1.005,2),\n",
    "            'sell_price': None,\n",
    "            'sell_date': None,\n",
    "        }\n",
    "        trades.append(_trade)\n",
    "        del _trade\n",
    "\n",
    "    elif((trade_open==True) and (row['short'] == 1)):\n",
    "        # close trade\n",
    "        trade_open = False\n",
    "        _trade = trades[-1]\n",
    "        _trade['sell_date'] = row['next_date']\n",
    "        _trade['sell_price'] = round(row['next_day_open_price']*0.995,2)\n",
    "        trades[-1] = _trade\n",
    "        del _trade\n"
   ]
  },
  {
   "cell_type": "markdown",
   "id": "7a9326e0-caca-498a-a56a-77ce3e0034ac",
   "metadata": {},
   "source": [
    "## バックテスト関数の定義"
   ]
  },
  {
   "cell_type": "code",
   "execution_count": 4,
   "id": "0bc86d34-d5e8-4354-90d2-8d5d9f981941",
   "metadata": {},
   "outputs": [],
   "source": [
    "def backtest(symbol, ndays, low=20, high=20):\n",
    "    global trades, trade_open\n",
    "    \n",
    "    # get the stock prices\n",
    "    data = yf_obtain(symbol, ndays)\n",
    "    \n",
    "    data = data.reset_index()\n",
    "    \n",
    "    # calculate donchian channels\n",
    "    data[['low', 'mid', 'high']] = data.ta.donchian(lower_length=low, upper_length=high)\n",
    "    \n",
    "    # implement the trading strategy\n",
    "    data['long'] = ((data['Close']==data['low'])|(data['Low']==data['low'])).astype('int')\n",
    "    data['short'] = ((data['Close']==data['high'])|(data['High']==data['high'])).astype('int')\n",
    "     \n",
    "    # get the next day open price and date\n",
    "    data['next_day_open_price'] = data['Open'].shift(-1)\n",
    "    data['next_date'] = data['Date'].shift(-1).astype('string')\n",
    "    \n",
    "    trade_open = False\n",
    "    trades = []\n",
    "    data.dropna(inplace=True)\n",
    "    \n",
    "    cols = ['Date', 'Open', 'Close', 'Adj Close', 'Low', 'High', \n",
    "            'low', 'mid', 'high', 'long', 'short', 'next_day_open_price', \n",
    "            'next_date']\n",
    "\n",
    "    data = data[cols]\n",
    "\n",
    "    data.apply(trade_donchian, axis=1)\n",
    "\n",
    "    if(len(trades)==0): return None\n",
    "\n",
    "    x = pd.DataFrame(trades)\n",
    "    \n",
    "    # calculate the returns and holding period\n",
    "    x['buy_date'] = pd.to_datetime(x['buy_date'], format=\"%Y-%m-%d\", dayfirst=True)\n",
    "    x['sell_date'] = pd.to_datetime(x['sell_date'], format=\"%Y-%m-%d\", dayfirst=True)\n",
    "    x['returns'] = round(100*(x['sell_price']-x['buy_price'])/x['buy_price'],2)\n",
    "    x['holding_period'] = (x['sell_date'] - x['buy_date']).dt.days\n",
    "    x['stock'] = stock\n",
    "    return x\n"
   ]
  },
  {
   "cell_type": "markdown",
   "id": "f4960b5e-3cc0-4d28-a3da-12486f4ade16",
   "metadata": {},
   "source": [
    "## 株価データによる評価"
   ]
  },
  {
   "cell_type": "code",
   "execution_count": 5,
   "id": "5ed5fce2-5308-42bc-bf71-ba659e32c4ab",
   "metadata": {
    "tags": []
   },
   "outputs": [
    {
     "name": "stdout",
     "output_type": "stream",
     "text": [
      "[*********************100%%**********************]  1 of 1 completed\n",
      "[*********************100%%**********************]  1 of 1 completed\n",
      "[*********************100%%**********************]  1 of 1 completed\n",
      "[*********************100%%**********************]  1 of 1 completed\n",
      "[*********************100%%**********************]  1 of 1 completed\n",
      "[*********************100%%**********************]  1 of 1 completed\n",
      "[*********************100%%**********************]  1 of 1 completed\n",
      "[*********************100%%**********************]  1 of 1 completed\n",
      "[*********************100%%**********************]  1 of 1 completed\n",
      "[*********************100%%**********************]  1 of 1 completed\n",
      "[*********************100%%**********************]  1 of 1 completed\n",
      "[*********************100%%**********************]  1 of 1 completed\n",
      "[*********************100%%**********************]  1 of 1 completed\n",
      "[*********************100%%**********************]  1 of 1 completed\n",
      "[*********************100%%**********************]  1 of 1 completed\n",
      "[*********************100%%**********************]  1 of 1 completed\n",
      "[*********************100%%**********************]  1 of 1 completed\n",
      "[*********************100%%**********************]  1 of 1 completed\n",
      "[*********************100%%**********************]  1 of 1 completed\n",
      "[*********************100%%**********************]  1 of 1 completed\n",
      "[*********************100%%**********************]  1 of 1 completed\n",
      "[*********************100%%**********************]  1 of 1 completed\n",
      "[*********************100%%**********************]  1 of 1 completed\n",
      "[*********************100%%**********************]  1 of 1 completed\n",
      "[*********************100%%**********************]  1 of 1 completed\n",
      "[*********************100%%**********************]  1 of 1 completed\n",
      "[*********************100%%**********************]  1 of 1 completed\n",
      "[*********************100%%**********************]  1 of 1 completed\n",
      "[*********************100%%**********************]  1 of 1 completed\n",
      "[*********************100%%**********************]  1 of 1 completed\n",
      "[*********************100%%**********************]  1 of 1 completed\n",
      "[*********************100%%**********************]  1 of 1 completed\n",
      "[*********************100%%**********************]  1 of 1 completed\n",
      "[*********************100%%**********************]  1 of 1 completed\n",
      "[*********************100%%**********************]  1 of 1 completed\n",
      "[*********************100%%**********************]  1 of 1 completed\n",
      "[*********************100%%**********************]  1 of 1 completed\n",
      "[*********************100%%**********************]  1 of 1 completed\n",
      "[*********************100%%**********************]  1 of 1 completed\n",
      "[*********************100%%**********************]  1 of 1 completed\n",
      "[*********************100%%**********************]  1 of 1 completed\n",
      "[*********************100%%**********************]  1 of 1 completed\n",
      "[*********************100%%**********************]  1 of 1 completed\n",
      "[*********************100%%**********************]  1 of 1 completed\n",
      "[*********************100%%**********************]  1 of 1 completed\n",
      "[*********************100%%**********************]  1 of 1 completed\n",
      "[*********************100%%**********************]  1 of 1 completed\n",
      "[*********************100%%**********************]  1 of 1 completed\n",
      "[*********************100%%**********************]  1 of 1 completed\n",
      "[*********************100%%**********************]  1 of 1 completed\n"
     ]
    }
   ],
   "source": [
    "TRADES = pd.DataFrame()\n",
    "trades = []\n",
    "trade_open = False\n",
    "\n",
    "# 日本の時価総額上位銘柄\n",
    "Japanese_stocks = ['7203.T','6758.T','9432.T','6861.T','8306.T',\n",
    "                   '8035.T','4063.T','9983.T','9433.T','6098.T',\n",
    "                   '8058.T','4661.T','6501.T','9984.T','7974.T',\n",
    "                   '8001.T','8316.T','4519.T','9434.T','8031.T',\n",
    "                   '7267.T','4568.T','2914.T','8766.T','6367.T',\n",
    "                   '6902.T','4502.T','7741.T','8411.T','6981.T',\n",
    "                   '7182.T','6273.T','6723.T','3382.T','7751.T',\n",
    "                   '6702.T','6178.T','6503.T','6954.T','5108.T',\n",
    "                   '4689.T','8053.T','8002.T','6146.T','6201.T',\n",
    "                   '6857.T','9022.T','6301.T','6920.T','4901.T']\n",
    "                   \n",
    "\n",
    "for stock in Japanese_stocks:\n",
    "    _tr = backtest(stock, 1800, 20, 20)\n",
    "    if(len(TRADES)==0): TRADES = _tr\n",
    "    else: TRADES = pd.concat([TRADES, _tr], ignore_index=True)"
   ]
  },
  {
   "cell_type": "code",
   "execution_count": 6,
   "id": "6f561477-d304-4294-bff8-13e14b47dd8d",
   "metadata": {
    "tags": []
   },
   "outputs": [
    {
     "data": {
      "text/html": [
       "<div>\n",
       "<style scoped>\n",
       "    .dataframe tbody tr th:only-of-type {\n",
       "        vertical-align: middle;\n",
       "    }\n",
       "\n",
       "    .dataframe tbody tr th {\n",
       "        vertical-align: top;\n",
       "    }\n",
       "\n",
       "    .dataframe thead th {\n",
       "        text-align: right;\n",
       "    }\n",
       "</style>\n",
       "<table border=\"1\" class=\"dataframe\">\n",
       "  <thead>\n",
       "    <tr style=\"text-align: right;\">\n",
       "      <th></th>\n",
       "      <th>buy_date</th>\n",
       "      <th>buy_price</th>\n",
       "      <th>sell_price</th>\n",
       "      <th>sell_date</th>\n",
       "      <th>returns</th>\n",
       "      <th>holding_period</th>\n",
       "      <th>stock</th>\n",
       "    </tr>\n",
       "  </thead>\n",
       "  <tbody>\n",
       "    <tr>\n",
       "      <th>0</th>\n",
       "      <td>2019-03-29</td>\n",
       "      <td>1319.36</td>\n",
       "      <td>1349.02</td>\n",
       "      <td>2019-04-05</td>\n",
       "      <td>2.25</td>\n",
       "      <td>7.0</td>\n",
       "      <td>7203.T</td>\n",
       "    </tr>\n",
       "    <tr>\n",
       "      <th>1</th>\n",
       "      <td>2019-05-10</td>\n",
       "      <td>1320.97</td>\n",
       "      <td>1336.29</td>\n",
       "      <td>2019-06-11</td>\n",
       "      <td>1.16</td>\n",
       "      <td>32.0</td>\n",
       "      <td>7203.T</td>\n",
       "    </tr>\n",
       "    <tr>\n",
       "      <th>2</th>\n",
       "      <td>2019-08-06</td>\n",
       "      <td>1333.63</td>\n",
       "      <td>1387.63</td>\n",
       "      <td>2019-09-03</td>\n",
       "      <td>4.05</td>\n",
       "      <td>28.0</td>\n",
       "      <td>7203.T</td>\n",
       "    </tr>\n",
       "    <tr>\n",
       "      <th>3</th>\n",
       "      <td>2020-01-07</td>\n",
       "      <td>1538.45</td>\n",
       "      <td>1562.15</td>\n",
       "      <td>2020-01-22</td>\n",
       "      <td>1.54</td>\n",
       "      <td>15.0</td>\n",
       "      <td>7203.T</td>\n",
       "    </tr>\n",
       "    <tr>\n",
       "      <th>4</th>\n",
       "      <td>2020-02-05</td>\n",
       "      <td>1549.71</td>\n",
       "      <td>1583.84</td>\n",
       "      <td>2020-02-07</td>\n",
       "      <td>2.20</td>\n",
       "      <td>2.0</td>\n",
       "      <td>7203.T</td>\n",
       "    </tr>\n",
       "  </tbody>\n",
       "</table>\n",
       "</div>"
      ],
      "text/plain": [
       "    buy_date  buy_price  sell_price  sell_date  returns  holding_period  \\\n",
       "0 2019-03-29    1319.36     1349.02 2019-04-05     2.25             7.0   \n",
       "1 2019-05-10    1320.97     1336.29 2019-06-11     1.16            32.0   \n",
       "2 2019-08-06    1333.63     1387.63 2019-09-03     4.05            28.0   \n",
       "3 2020-01-07    1538.45     1562.15 2020-01-22     1.54            15.0   \n",
       "4 2020-02-05    1549.71     1583.84 2020-02-07     2.20             2.0   \n",
       "\n",
       "    stock  \n",
       "0  7203.T  \n",
       "1  7203.T  \n",
       "2  7203.T  \n",
       "3  7203.T  \n",
       "4  7203.T  "
      ]
     },
     "execution_count": 6,
     "metadata": {},
     "output_type": "execute_result"
    }
   ],
   "source": [
    "TRADES.head()"
   ]
  }
 ],
 "metadata": {
  "kernelspec": {
   "display_name": "Python 3 (ipykernel)",
   "language": "python",
   "name": "python3"
  },
  "language_info": {
   "codemirror_mode": {
    "name": "ipython",
    "version": 3
   },
   "file_extension": ".py",
   "mimetype": "text/x-python",
   "name": "python",
   "nbconvert_exporter": "python",
   "pygments_lexer": "ipython3",
   "version": "3.11.5"
  }
 },
 "nbformat": 4,
 "nbformat_minor": 5
}
