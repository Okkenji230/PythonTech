{
 "cells": [
  {
   "cell_type": "markdown",
   "id": "6fcd6eb9-924f-432c-82ee-03a29d35c7a0",
   "metadata": {
    "id": "6fcd6eb9-924f-432c-82ee-03a29d35c7a0"
   },
   "source": [
    "# 株価データのcsvファイルへの出力（ChatGPT用）"
   ]
  },
  {
   "cell_type": "markdown",
   "id": "qGXyilAwN6cy",
   "metadata": {
    "id": "qGXyilAwN6cy"
   },
   "source": [
    "## 分析環境の構築"
   ]
  },
  {
   "cell_type": "code",
   "execution_count": 1,
   "id": "ec2659eb-9846-4d04-913a-5d9e9c86c75b",
   "metadata": {
    "executionInfo": {
     "elapsed": 3,
     "status": "ok",
     "timestamp": 1693185004945,
     "user": {
      "displayName": "Kenji Ono",
      "userId": "14327041206082834894"
     },
     "user_tz": -540
    },
    "id": "ec2659eb-9846-4d04-913a-5d9e9c86c75b"
   },
   "outputs": [],
   "source": [
    "import pandas as pd\n",
    "from pandas_datareader import data as pdr\n",
    "import mplfinance as mpf\n",
    "import datetime\n",
    "import yfinance as yf\n",
    "import numpy as np\n",
    "import pickle"
   ]
  },
  {
   "cell_type": "markdown",
   "id": "9c389c82-bd74-40bc-b42b-23cdf0782af2",
   "metadata": {},
   "source": [
    "## 銘柄コード辞書を読み込む"
   ]
  },
  {
   "cell_type": "code",
   "execution_count": 2,
   "id": "a678ffba-b447-4f66-9dc8-e30144abdc97",
   "metadata": {},
   "outputs": [],
   "source": [
    "with open('JPX_code_dict.pickle', mode='rb') as f:\n",
    "    jpx = pickle.load(f)"
   ]
  },
  {
   "cell_type": "markdown",
   "id": "5d5c08aa-651a-4e93-a55c-07097766e9b0",
   "metadata": {
    "id": "5d5c08aa-651a-4e93-a55c-07097766e9b0"
   },
   "source": [
    "## 銘柄とデータ開始時期を指定して株価データを取得する"
   ]
  },
  {
   "cell_type": "code",
   "execution_count": 3,
   "id": "n4pNhe076eV3",
   "metadata": {
    "colab": {
     "base_uri": "https://localhost:8080/"
    },
    "executionInfo": {
     "elapsed": 393,
     "status": "ok",
     "timestamp": 1693185005335,
     "user": {
      "displayName": "Kenji Ono",
      "userId": "14327041206082834894"
     },
     "user_tz": -540
    },
    "id": "n4pNhe076eV3",
    "outputId": "2fffb0f9-0f6c-4239-c8dc-8046444c1cdc"
   },
   "outputs": [
    {
     "name": "stdout",
     "output_type": "stream",
     "text": [
      "[*********************100%%**********************]  1 of 1 completed\n"
     ]
    }
   ],
   "source": [
    "start = \"2024-01-01\"\n",
    "end = datetime.date.today()\n",
    "ticker = \"4755.T\"\n",
    "# 銘柄名\n",
    "cname = jpx.get(ticker[:-2])\n",
    "# yahooサイトからデータをダウンロード\n",
    "yf.pdr_override()\n",
    "df = pdr.get_data_yahoo(ticker, start, end, interval='1d')"
   ]
  },
  {
   "cell_type": "code",
   "execution_count": 4,
   "id": "243cd6ba-c2c2-4d34-972a-90932c0fbc5c",
   "metadata": {},
   "outputs": [
    {
     "name": "stdout",
     "output_type": "stream",
     "text": [
      "楽天グループ\n"
     ]
    }
   ],
   "source": [
    "print(cname)"
   ]
  },
  {
   "cell_type": "code",
   "execution_count": 5,
   "id": "c074edc8-babd-4bf6-8754-de63d168acd9",
   "metadata": {
    "tags": []
   },
   "outputs": [],
   "source": [
    "df.to_csv(ticker[:-2]+'_stock.csv')"
   ]
  }
 ],
 "metadata": {
  "colab": {
   "provenance": [
    {
     "file_id": "1huXuyf05gtW6F7kcaPlK4VnoUi4VrIbN",
     "timestamp": 1691627871630
    }
   ]
  },
  "kernelspec": {
   "display_name": "Python 3 (ipykernel)",
   "language": "python",
   "name": "python3"
  },
  "language_info": {
   "codemirror_mode": {
    "name": "ipython",
    "version": 3
   },
   "file_extension": ".py",
   "mimetype": "text/x-python",
   "name": "python",
   "nbconvert_exporter": "python",
   "pygments_lexer": "ipython3",
   "version": "3.11.5"
  }
 },
 "nbformat": 4,
 "nbformat_minor": 5
}
