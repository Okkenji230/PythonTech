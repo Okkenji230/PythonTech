{
 "cells": [
  {
   "cell_type": "markdown",
   "id": "14d30e5b",
   "metadata": {},
   "source": [
    "# 単純パーセプトロンで論理ゲートを実現する"
   ]
  },
  {
   "cell_type": "markdown",
   "id": "2e782b64",
   "metadata": {},
   "source": [
    "「物体・画像認識と時系列データ処理入門」p.148"
   ]
  },
  {
   "cell_type": "code",
   "execution_count": 1,
   "id": "e9ad72d0",
   "metadata": {},
   "outputs": [],
   "source": [
    "import numpy as np"
   ]
  },
  {
   "cell_type": "markdown",
   "id": "e0fe67ec",
   "metadata": {},
   "source": [
    "## 単純パーセプトロンで二値分類を行う"
   ]
  },
  {
   "cell_type": "code",
   "execution_count": 2,
   "id": "7bea3ec1",
   "metadata": {},
   "outputs": [],
   "source": [
    "def create_matrix(x):\n",
    "    '''\n",
    "    データx1, x2にバイアスに対応するx0(=1)を加えた行列を作成\n",
    "    ---\n",
    "    Parameters:\n",
    "      x(ndarray): x1, x2を格納した2階テンソル\n",
    "    '''\n",
    "    x0 = np.ones([x.shape[0], 1])  # バイアスに対応する1の項(x0)を生成\n",
    "                                    # 形状は(4,1)の2階テンソル\n",
    "    return np.hstack([x0, x])  # x0の(4,1)の2階テンソルにx1,x2の2階テンソルを\n",
    "                                # 水平方向に連結して(4,3)の2階テンソルを返す"
   ]
  },
  {
   "cell_type": "code",
   "execution_count": 3,
   "id": "cbf6ade9",
   "metadata": {},
   "outputs": [
    {
     "name": "stdout",
     "output_type": "stream",
     "text": [
      "[[ 1. 10. 20.]\n",
      " [ 1. 15. 30.]\n",
      " [ 1. 20. 40.]\n",
      " [ 1. 25. 50.]\n",
      " [ 1. 30. 60.]]\n"
     ]
    }
   ],
   "source": [
    "a0 = np.array([[10, 15, 20, 25, 30],\n",
    "              [20, 30, 40, 50, 60]])\n",
    "a = np.transpose(a0)\n",
    "b = create_matrix(a)\n",
    "print(b)"
   ]
  },
  {
   "cell_type": "code",
   "execution_count": 4,
   "id": "6160f6a5",
   "metadata": {},
   "outputs": [],
   "source": [
    "def sigmoid(X, parameter):\n",
    "    '''\n",
    "    シグモイド関数\n",
    "    ---\n",
    "    Parameters:\n",
    "      X(ndarray): x0, x1, x2を格納した2階テンソル\n",
    "      parameter(ndarray): バイアス, w1, w2を格納した1階テンソル\n",
    "    Returns:\n",
    "      シグモイド関数適用後のX\n",
    "    '''\n",
    "    return 1 / (1 + np.exp(-np.dot(X, parameter)))"
   ]
  },
  {
   "cell_type": "code",
   "execution_count": 5,
   "id": "3d1e2352",
   "metadata": {},
   "outputs": [
    {
     "name": "stdout",
     "output_type": "stream",
     "text": [
      "[2.93122308e-02 4.07013772e-03 5.52778637e-04 7.48462275e-05\n",
      " 1.01299910e-05]\n"
     ]
    }
   ],
   "source": [
    "c = np.array([0.5, -0.8, 0.2])\n",
    "d = sigmoid(b, c)\n",
    "print(d)"
   ]
  },
  {
   "cell_type": "code",
   "execution_count": 6,
   "id": "392ea878",
   "metadata": {},
   "outputs": [],
   "source": [
    "def logistic_regression(X, t):\n",
    "    '''\n",
    "    二値分類を行う単純パーセプトロン\n",
    "    ---\n",
    "    Parameters:\n",
    "        X(ndarray): x0, x1, x2を格納した2階テンソル\n",
    "        t(ndarray): 正解ラベルが格納された1階テンソル\n",
    "    '''\n",
    "    LNR = 1e-1    # 学習率を0.1に設定\n",
    "    loop = 50    # 学習回数\n",
    "    count = 1    # 学習回数をカウントする変数\n",
    "    parameter = np.random.rand(3)    # バイアス, w1, w2 を0-1の一様乱数で初期化\n",
    "    for i in range(loop):    # 学習をloop回繰り返す\n",
    "        # バイアス, w1, w2を勾配降下法で更新\n",
    "        parameter = parameter - LNR * np.dot(\n",
    "            sigmoid(X, parameter) - t, X)\n",
    "        # 最初の1回と以降10回ごとにパラメータの値を出力\n",
    "        if (count == 1 or count % 10 == 0):\n",
    "            print('{}回: parameter = {}'.format(count, parameter))\n",
    "        count += 1    # カウンターの変数の値を1増やす\n",
    "    return parameter    # 学習後のバイアス, w1, w2を返す"
   ]
  },
  {
   "cell_type": "markdown",
   "id": "0f1efc30",
   "metadata": {},
   "source": [
    "## ANDゲートの学習を行う"
   ]
  },
  {
   "cell_type": "code",
   "execution_count": 7,
   "id": "f00c33fd",
   "metadata": {},
   "outputs": [
    {
     "name": "stdout",
     "output_type": "stream",
     "text": [
      "1回: parameter = [0.61372905 0.14289703 0.273271  ]\n",
      "10回: parameter = [-0.43874012  0.05437389  0.15905937]\n",
      "20回: parameter = [-0.94880279  0.26659202  0.34917806]\n",
      "30回: parameter = [-1.2931791   0.51165027  0.57763002]\n",
      "40回: parameter = [-1.5817941   0.7377159   0.79078305]\n",
      "50回: parameter = [-1.83981988  0.93995247  0.98286484]\n"
     ]
    }
   ],
   "source": [
    "# ANDゲート\n",
    "# x1, x2の4セットを行列x(ndarray)に代入\n",
    "x = np.array([[0, 0], [0, 1], [1, 0], [1, 1]])\n",
    "# 正解ラベルをtに記入\n",
    "t = np.array([0, 0, 0, 1])\n",
    "# xにバイアス対応の1の値を追加した2階テンソルを作成\n",
    "X = create_matrix(x)\n",
    "# バイアス、重みの値を学習する\n",
    "parameter = logistic_regression(X, t)"
   ]
  },
  {
   "cell_type": "markdown",
   "id": "2f4e01f3",
   "metadata": {},
   "source": [
    "## 学習した重み・バイアスを使ってANDゲートの出力を表示してみる"
   ]
  },
  {
   "cell_type": "code",
   "execution_count": 8,
   "id": "5c5fd51c",
   "metadata": {},
   "outputs": [
    {
     "name": "stderr",
     "output_type": "stream",
     "text": [
      "C:\\Users\\nicjp\\AppData\\Local\\Temp\\ipykernel_7484\\2725429307.py:4: DeprecationWarning: `np.int` is a deprecated alias for the builtin `int`. To silence this warning, use `int` by itself. Doing this will not modify any behavior and is safe. When replacing `np.int`, you may wish to use e.g. `np.int64` or `np.int32` to specify the precision. If you wish to review your current use, check the release note link for additional information.\n",
      "Deprecated in NumPy 1.20; for more details and guidance: https://numpy.org/devdocs/release/1.20.0-notes.html#deprecations\n",
      "  ) >= 0.5).astype(np.int)\n"
     ]
    },
    {
     "data": {
      "text/plain": [
       "array([0, 0, 0, 1])"
      ]
     },
     "execution_count": 8,
     "metadata": {},
     "output_type": "execute_result"
    }
   ],
   "source": [
    "# sigmoid()の戻り値が0.5以上であれば1、そうでなければ0を返す\n",
    "(sigmoid(create_matrix(np.array([[0, 0], [0, 1], [1, 0], [1, 1]])),\n",
    "    parameter # 学習後のバイアスと重み\n",
    ") >= 0.5).astype(np.int)"
   ]
  },
  {
   "cell_type": "markdown",
   "id": "d6bcb5d8",
   "metadata": {},
   "source": [
    "## NANDゲートの学習を行う"
   ]
  },
  {
   "cell_type": "code",
   "execution_count": 9,
   "id": "c0aca20f",
   "metadata": {},
   "outputs": [
    {
     "name": "stdout",
     "output_type": "stream",
     "text": [
      "1回: parameter = [0.83490958 0.35577719 0.16458402]\n",
      "10回: parameter = [ 0.95231006 -0.06284732 -0.22194347]\n",
      "20回: parameter = [ 1.21737255 -0.38413248 -0.51208634]\n",
      "30回: parameter = [ 1.4965326  -0.6383857  -0.74132209]\n",
      "40回: parameter = [ 1.75851197 -0.85592755 -0.93906361]\n",
      "50回: parameter = [ 1.99995102 -1.04807314 -1.11554316]\n"
     ]
    }
   ],
   "source": [
    "# NANDゲート\n",
    "# x1, x2の4セットを行列x(ndarray)に代入\n",
    "x = np.array([[0, 0], [0, 1], [1, 0], [1, 1]])\n",
    "# 正解ラベルをtに記入\n",
    "t = np.array([1, 1, 1, 0])\n",
    "# xにバイアス対応の1の値を追加した2階テンソルを作成\n",
    "X = create_matrix(x)\n",
    "# バイアス、重みの値を学習する\n",
    "parameter = logistic_regression(X, t)"
   ]
  },
  {
   "cell_type": "markdown",
   "id": "34dff543",
   "metadata": {},
   "source": [
    "## 学習した重み・バイアスを使ってNANDゲートの出力を表示してみる"
   ]
  },
  {
   "cell_type": "code",
   "execution_count": 10,
   "id": "3b41043d",
   "metadata": {},
   "outputs": [
    {
     "name": "stderr",
     "output_type": "stream",
     "text": [
      "C:\\Users\\nicjp\\AppData\\Local\\Temp\\ipykernel_7484\\2725429307.py:4: DeprecationWarning: `np.int` is a deprecated alias for the builtin `int`. To silence this warning, use `int` by itself. Doing this will not modify any behavior and is safe. When replacing `np.int`, you may wish to use e.g. `np.int64` or `np.int32` to specify the precision. If you wish to review your current use, check the release note link for additional information.\n",
      "Deprecated in NumPy 1.20; for more details and guidance: https://numpy.org/devdocs/release/1.20.0-notes.html#deprecations\n",
      "  ) >= 0.5).astype(np.int)\n"
     ]
    },
    {
     "data": {
      "text/plain": [
       "array([1, 1, 1, 0])"
      ]
     },
     "execution_count": 10,
     "metadata": {},
     "output_type": "execute_result"
    }
   ],
   "source": [
    "# sigmoid()の戻り値が0.5以上であれば1、そうでなければ0を返す\n",
    "(sigmoid(create_matrix(np.array([[0, 0], [0, 1], [1, 0], [1, 1]])),\n",
    "    parameter # 学習後のバイアスと重み\n",
    ") >= 0.5).astype(np.int)"
   ]
  },
  {
   "cell_type": "markdown",
   "id": "fca0ffa8",
   "metadata": {},
   "source": [
    "## ORゲートの学習を行う"
   ]
  },
  {
   "cell_type": "code",
   "execution_count": 11,
   "id": "9131cc2c",
   "metadata": {},
   "outputs": [
    {
     "name": "stdout",
     "output_type": "stream",
     "text": [
      "1回: parameter = [0.1210523  0.46729899 0.64204278]\n",
      "10回: parameter = [0.2652323  0.87349773 1.01924358]\n",
      "20回: parameter = [0.20527951 1.17678095 1.30015252]\n",
      "30回: parameter = [0.08644364 1.42260673 1.5287848 ]\n",
      "40回: parameter = [-0.0437148   1.63819448  1.73042508]\n",
      "50回: parameter = [-0.17021128  1.83366305  1.91430636]\n"
     ]
    }
   ],
   "source": [
    "# ORゲート\n",
    "# x1, x2の4セットを行列x(ndarray)に代入\n",
    "x = np.array([[0, 0], [0, 1], [1, 0], [1, 1]])\n",
    "# 正解ラベルをtに記入\n",
    "t = np.array([0, 1, 1, 1])\n",
    "# xにバイアス対応の1の値を追加した2階テンソルを作成\n",
    "X = create_matrix(x)\n",
    "# バイアス、重みの値を学習する\n",
    "parameter = logistic_regression(X, t)"
   ]
  },
  {
   "cell_type": "markdown",
   "id": "b45a831d",
   "metadata": {},
   "source": [
    "## 学習した重み・バイアスを使ってORゲートの出力を表示してみる"
   ]
  },
  {
   "cell_type": "code",
   "execution_count": 13,
   "id": "dcc1a347",
   "metadata": {},
   "outputs": [
    {
     "name": "stderr",
     "output_type": "stream",
     "text": [
      "C:\\Users\\nicjp\\AppData\\Local\\Temp\\ipykernel_7484\\2725429307.py:4: DeprecationWarning: `np.int` is a deprecated alias for the builtin `int`. To silence this warning, use `int` by itself. Doing this will not modify any behavior and is safe. When replacing `np.int`, you may wish to use e.g. `np.int64` or `np.int32` to specify the precision. If you wish to review your current use, check the release note link for additional information.\n",
      "Deprecated in NumPy 1.20; for more details and guidance: https://numpy.org/devdocs/release/1.20.0-notes.html#deprecations\n",
      "  ) >= 0.5).astype(np.int)\n"
     ]
    },
    {
     "data": {
      "text/plain": [
       "array([0, 1, 1, 1])"
      ]
     },
     "execution_count": 13,
     "metadata": {},
     "output_type": "execute_result"
    }
   ],
   "source": [
    "# sigmoid()の戻り値が0.5以上であれば1、そうでなければ0を返す\n",
    "(sigmoid(create_matrix(np.array([[0, 0], [0, 1], [1, 0], [1, 1]])),\n",
    "    parameter # 学習後のバイアスと重み\n",
    ") >= 0.5).astype(np.int)"
   ]
  }
 ],
 "metadata": {
  "kernelspec": {
   "display_name": "Python 3 (ipykernel)",
   "language": "python",
   "name": "python3"
  },
  "language_info": {
   "codemirror_mode": {
    "name": "ipython",
    "version": 3
   },
   "file_extension": ".py",
   "mimetype": "text/x-python",
   "name": "python",
   "nbconvert_exporter": "python",
   "pygments_lexer": "ipython3",
   "version": "3.9.13"
  }
 },
 "nbformat": 4,
 "nbformat_minor": 5
}
